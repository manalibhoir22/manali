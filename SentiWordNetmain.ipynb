{
  "nbformat": 4,
  "nbformat_minor": 0,
  "metadata": {
    "kernelspec": {
      "display_name": "Python 3",
      "language": "python",
      "name": "python3"
    },
    "language_info": {
      "codemirror_mode": {
        "name": "ipython",
        "version": 3
      },
      "file_extension": ".py",
      "mimetype": "text/x-python",
      "name": "python",
      "nbconvert_exporter": "python",
      "pygments_lexer": "ipython3",
      "version": "3.8.5"
    },
    "colab": {
      "name": "SentiWordNet.ipynb",
      "provenance": [],
      "collapsed_sections": [],
      "toc_visible": true,
      "include_colab_link": true
    }
  },
  "cells": [
    {
      "cell_type": "markdown",
      "metadata": {
        "id": "view-in-github",
        "colab_type": "text"
      },
      "source": [
        "<a href=\"https://colab.research.google.com/github/manalibhoir22/manali/blob/master/SentiWordNetmain.ipynb\" target=\"_parent\"><img src=\"https://colab.research.google.com/assets/colab-badge.svg\" alt=\"Open In Colab\"/></a>"
      ]
    },
    {
      "cell_type": "code",
      "metadata": {
        "colab": {
          "base_uri": "https://localhost:8080/"
        },
        "id": "5yGncHlXOkl0",
        "outputId": "1fcfb370-495d-4634-e371-494726624b82"
      },
      "source": [
        "import numpy as np\n",
        "import pandas as pd\n",
        "import string\n",
        "import nltk \n",
        "from nltk.corpus import stopwords\n",
        "from nltk import PorterStemmer\n",
        "import re\n",
        "from sklearn.metrics import accuracy_score,classification_report,confusion_matrix\n",
        "from sklearn import metrics\n",
        "\n",
        "nltk.download('sentiwordnet')\n",
        "from nltk.tokenize import word_tokenize\n",
        "df = pd.read_excel('data.xlsx')\n",
        "df.drop(df.columns[[0,1,3,4,7,8,9]],axis=1,inplace=True)\n",
        "df.head()\n",
        "df.isnull().sum()"
      ],
      "execution_count": 13,
      "outputs": [
        {
          "output_type": "stream",
          "text": [
            "[nltk_data] Downloading package sentiwordnet to /root/nltk_data...\n",
            "[nltk_data]   Package sentiwordnet is already up-to-date!\n"
          ],
          "name": "stdout"
        },
        {
          "output_type": "execute_result",
          "data": {
            "text/plain": [
              "asin           0\n",
              "reviewText    99\n",
              "overall        0\n",
              "dtype: int64"
            ]
          },
          "metadata": {
            "tags": []
          },
          "execution_count": 13
        }
      ]
    },
    {
      "cell_type": "code",
      "metadata": {
        "colab": {
          "base_uri": "https://localhost:8080/"
        },
        "id": "wPRba3zKOkmA",
        "outputId": "de76d95c-9581-4209-9f91-1a128b17fe64"
      },
      "source": [
        "# Check for whitespace strings (it's OK if there aren't any!):\n",
        "blanks = []  # start with an empty list\n",
        "\n",
        "for i,asin,rv,ov in df.itertuples():  # iterate over the DataFrame\n",
        "    if type(rv)==str:            # avoid NaN values\n",
        "        if rv.isspace():         # test 'review' for whitespace\n",
        "            blanks.append(i)     # add matching index numbers to the list\n",
        "        \n",
        "len(blanks)"
      ],
      "execution_count": 14,
      "outputs": [
        {
          "output_type": "execute_result",
          "data": {
            "text/plain": [
              "0"
            ]
          },
          "metadata": {
            "tags": []
          },
          "execution_count": 14
        }
      ]
    },
    {
      "cell_type": "code",
      "metadata": {
        "id": "GPJhtI8tOkmC"
      },
      "source": [
        "df.dropna(inplace=True)"
      ],
      "execution_count": 15,
      "outputs": []
    },
    {
      "cell_type": "code",
      "metadata": {
        "colab": {
          "base_uri": "https://localhost:8080/",
          "height": 194
        },
        "id": "BqSZ5HLqOkmD",
        "outputId": "617d8e45-b9cc-458b-c619-e6fce66f4140"
      },
      "source": [
        "df['reviewText']=df['reviewText'].apply(str)\n",
        "df.head()"
      ],
      "execution_count": 16,
      "outputs": [
        {
          "output_type": "execute_result",
          "data": {
            "text/html": [
              "<div>\n",
              "<style scoped>\n",
              "    .dataframe tbody tr th:only-of-type {\n",
              "        vertical-align: middle;\n",
              "    }\n",
              "\n",
              "    .dataframe tbody tr th {\n",
              "        vertical-align: top;\n",
              "    }\n",
              "\n",
              "    .dataframe thead th {\n",
              "        text-align: right;\n",
              "    }\n",
              "</style>\n",
              "<table border=\"1\" class=\"dataframe\">\n",
              "  <thead>\n",
              "    <tr style=\"text-align: right;\">\n",
              "      <th></th>\n",
              "      <th>asin</th>\n",
              "      <th>reviewText</th>\n",
              "      <th>overall</th>\n",
              "    </tr>\n",
              "  </thead>\n",
              "  <tbody>\n",
              "    <tr>\n",
              "      <th>0</th>\n",
              "      <td>120401325X</td>\n",
              "      <td>They look good and stick good! I just don't li...</td>\n",
              "      <td>4</td>\n",
              "    </tr>\n",
              "    <tr>\n",
              "      <th>1</th>\n",
              "      <td>120401325X</td>\n",
              "      <td>These stickers work like the review says they ...</td>\n",
              "      <td>5</td>\n",
              "    </tr>\n",
              "    <tr>\n",
              "      <th>2</th>\n",
              "      <td>120401325X</td>\n",
              "      <td>These are awesome and make my phone look so st...</td>\n",
              "      <td>5</td>\n",
              "    </tr>\n",
              "    <tr>\n",
              "      <th>3</th>\n",
              "      <td>120401325X</td>\n",
              "      <td>Item arrived in great time and was in perfect ...</td>\n",
              "      <td>4</td>\n",
              "    </tr>\n",
              "    <tr>\n",
              "      <th>4</th>\n",
              "      <td>120401325X</td>\n",
              "      <td>awesome! stays on, and looks great. can be use...</td>\n",
              "      <td>5</td>\n",
              "    </tr>\n",
              "  </tbody>\n",
              "</table>\n",
              "</div>"
            ],
            "text/plain": [
              "         asin                                         reviewText  overall\n",
              "0  120401325X  They look good and stick good! I just don't li...        4\n",
              "1  120401325X  These stickers work like the review says they ...        5\n",
              "2  120401325X  These are awesome and make my phone look so st...        5\n",
              "3  120401325X  Item arrived in great time and was in perfect ...        4\n",
              "4  120401325X  awesome! stays on, and looks great. can be use...        5"
            ]
          },
          "metadata": {
            "tags": []
          },
          "execution_count": 16
        }
      ]
    },
    {
      "cell_type": "code",
      "metadata": {
        "id": "Blq2DTopOkmD"
      },
      "source": [
        "def deEmojify(text):\n",
        "    regrex_pattern = re.compile(pattern = \"[\"\n",
        "        u\"\\U0001F600-\\U0001F64F\"  # emoticons\n",
        "        u\"\\U0001F300-\\U0001F5FF\"  # symbols & pictographs\n",
        "        u\"\\U0001F680-\\U0001F6FF\"  # transport & map symbols\n",
        "        u\"\\U0001F1E0-\\U0001F1FF\"  # flags (iOS)\n",
        "                           \"]+\", flags = re.UNICODE)\n",
        "    return regrex_pattern.sub(r'',text)\n",
        "\n",
        "stop_words = ['in','of','at','a','the','and','is','on','an','they','was','it','i','them','to','these','this']\n",
        "\n",
        "def decontracted(phrase):\n",
        "    phrase=re.sub(r\"won't\",\"will not\",phrase)\n",
        "    phrase=re.sub(r\"can't\",\"can not\",phrase)\n",
        "    phrase=re.sub(r\"n\\'t\",\" not\",phrase)\n",
        "    phrase=re.sub(r\"\\'re\",\" are\",phrase)\n",
        "    phrase=re.sub(r\"\\'s\",\" is\",phrase)\n",
        "    phrase=re.sub(r\"\\'d\",\" would\",phrase)\n",
        "    phrase=re.sub(r\"\\'ll\",\" will\",phrase)    \n",
        "    phrase=re.sub(r\"\\'t\",\" not\",phrase)\n",
        "    phrase=re.sub(r\"\\'ve\",\" have\",phrase)\n",
        "    phrase=re.sub(r\"\\'m\",\" am\",phrase)\n",
        "    return phrase"
      ],
      "execution_count": 17,
      "outputs": []
    },
    {
      "cell_type": "code",
      "metadata": {
        "colab": {
          "base_uri": "https://localhost:8080/"
        },
        "id": "TEFl71xHOkmE",
        "outputId": "d2c2e7d7-47e9-4cc8-df31-ae716a63526f"
      },
      "source": [
        "import nltk\n",
        "nltk.download('averaged_perceptron_tagger')\n",
        "from nltk.stem.snowball import SnowballStemmer\n",
        "from nltk.stem import WordNetLemmatizer \n",
        "\n",
        "##STEMMING USING SNOWBALL\n",
        "snow_stemmer = SnowballStemmer(language='english')\n",
        "\n",
        "#LEMMATIZATION\n",
        "lemmatizer = WordNetLemmatizer()"
      ],
      "execution_count": 18,
      "outputs": [
        {
          "output_type": "stream",
          "text": [
            "[nltk_data] Downloading package averaged_perceptron_tagger to\n",
            "[nltk_data]     /root/nltk_data...\n",
            "[nltk_data]   Package averaged_perceptron_tagger is already up-to-\n",
            "[nltk_data]       date!\n"
          ],
          "name": "stdout"
        }
      ]
    },
    {
      "cell_type": "code",
      "metadata": {
        "colab": {
          "base_uri": "https://localhost:8080/",
          "height": 194
        },
        "id": "3UI6OGF-OkmF",
        "outputId": "dfa6ef76-8bea-41cb-adb5-d3520897ac43"
      },
      "source": [
        "def sentiment(n):\n",
        "    return 1 if n >= 4 else 0\n",
        "df['sentiment'] = df['overall'].apply(sentiment)\n",
        "df.head()"
      ],
      "execution_count": 19,
      "outputs": [
        {
          "output_type": "execute_result",
          "data": {
            "text/html": [
              "<div>\n",
              "<style scoped>\n",
              "    .dataframe tbody tr th:only-of-type {\n",
              "        vertical-align: middle;\n",
              "    }\n",
              "\n",
              "    .dataframe tbody tr th {\n",
              "        vertical-align: top;\n",
              "    }\n",
              "\n",
              "    .dataframe thead th {\n",
              "        text-align: right;\n",
              "    }\n",
              "</style>\n",
              "<table border=\"1\" class=\"dataframe\">\n",
              "  <thead>\n",
              "    <tr style=\"text-align: right;\">\n",
              "      <th></th>\n",
              "      <th>asin</th>\n",
              "      <th>reviewText</th>\n",
              "      <th>overall</th>\n",
              "      <th>sentiment</th>\n",
              "    </tr>\n",
              "  </thead>\n",
              "  <tbody>\n",
              "    <tr>\n",
              "      <th>0</th>\n",
              "      <td>120401325X</td>\n",
              "      <td>They look good and stick good! I just don't li...</td>\n",
              "      <td>4</td>\n",
              "      <td>1</td>\n",
              "    </tr>\n",
              "    <tr>\n",
              "      <th>1</th>\n",
              "      <td>120401325X</td>\n",
              "      <td>These stickers work like the review says they ...</td>\n",
              "      <td>5</td>\n",
              "      <td>1</td>\n",
              "    </tr>\n",
              "    <tr>\n",
              "      <th>2</th>\n",
              "      <td>120401325X</td>\n",
              "      <td>These are awesome and make my phone look so st...</td>\n",
              "      <td>5</td>\n",
              "      <td>1</td>\n",
              "    </tr>\n",
              "    <tr>\n",
              "      <th>3</th>\n",
              "      <td>120401325X</td>\n",
              "      <td>Item arrived in great time and was in perfect ...</td>\n",
              "      <td>4</td>\n",
              "      <td>1</td>\n",
              "    </tr>\n",
              "    <tr>\n",
              "      <th>4</th>\n",
              "      <td>120401325X</td>\n",
              "      <td>awesome! stays on, and looks great. can be use...</td>\n",
              "      <td>5</td>\n",
              "      <td>1</td>\n",
              "    </tr>\n",
              "  </tbody>\n",
              "</table>\n",
              "</div>"
            ],
            "text/plain": [
              "         asin  ... sentiment\n",
              "0  120401325X  ...         1\n",
              "1  120401325X  ...         1\n",
              "2  120401325X  ...         1\n",
              "3  120401325X  ...         1\n",
              "4  120401325X  ...         1\n",
              "\n",
              "[5 rows x 4 columns]"
            ]
          },
          "metadata": {
            "tags": []
          },
          "execution_count": 19
        }
      ]
    },
    {
      "cell_type": "code",
      "metadata": {
        "colab": {
          "base_uri": "https://localhost:8080/"
        },
        "id": "QwI70MxNOkmF",
        "outputId": "a80d409e-5682-4004-87a8-71a4213b9bb5"
      },
      "source": [
        "from sklearn.model_selection import train_test_split\n",
        "\n",
        "X = df['reviewText']  # this time we want to look at the text\n",
        "y = df['sentiment']\n",
        "\n",
        "X_train, X_test, y_train, y_test = train_test_split(X, y, test_size=0.33, random_state=42)\n",
        "print('Training Data Shape:', X_train.shape)\n",
        "print('Testing Data Shape: ', X_test.shape)"
      ],
      "execution_count": 20,
      "outputs": [
        {
          "output_type": "stream",
          "text": [
            "Training Data Shape: (130207,)\n",
            "Testing Data Shape:  (64133,)\n"
          ],
          "name": "stdout"
        }
      ]
    },
    {
      "cell_type": "code",
      "metadata": {
        "id": "rNk4vc2KOkmG"
      },
      "source": [
        "from nltk.stem import WordNetLemmatizer\n",
        "from nltk.corpus import wordnet as wn\n",
        "from nltk.corpus import sentiwordnet as swn\n",
        "from nltk import sent_tokenize, word_tokenize, pos_tag"
      ],
      "execution_count": 21,
      "outputs": []
    },
    {
      "cell_type": "code",
      "metadata": {
        "id": "3v9CKcHSOkmG"
      },
      "source": [
        "from nltk.stem import WordNetLemmatizer\n",
        "from nltk.corpus import wordnet as wn\n",
        "from nltk.corpus import sentiwordnet as swn\n",
        "from nltk import sent_tokenize, word_tokenize, pos_tag\n",
        " \n",
        "lemmatizer = WordNetLemmatizer()\n",
        " \n",
        "def penn_to_wn(tag):\n",
        "    \"\"\"\n",
        "    Convert between the PennTreebank tags to simple Wordnet tags\n",
        "    \"\"\"\n",
        "    if tag.startswith('J'):\n",
        "        return wn.ADJ\n",
        "    elif tag.startswith('N'):\n",
        "        return wn.NOUN\n",
        "    elif tag.startswith('R'):\n",
        "        return wn.ADV\n",
        "    elif tag.startswith('V'):\n",
        "        return wn.VERB\n",
        "    return None\n",
        "\n",
        "def clean_text(text):\n",
        "    \n",
        "    text = text.replace(\"<br />\", \" \")\n",
        "    \n",
        "    return text\n",
        " \n",
        "def swn_polarity(text):\n",
        "    \"\"\"\n",
        "    Return a sentiment polarity: 0 = negative, 1 = positive\n",
        "    \"\"\"\n",
        " \n",
        "    sentiment = 0.0\n",
        "    tokens_count = 0\n",
        " \n",
        "    text = clean_text(text)\n",
        " \n",
        " \n",
        "    raw_sentences = sent_tokenize(text)\n",
        "    for raw_sentence in raw_sentences:\n",
        "        tagged_sentence = pos_tag(word_tokenize(raw_sentence))\n",
        " \n",
        "        for word, tag in tagged_sentence:\n",
        "            wn_tag = penn_to_wn(tag)\n",
        "            if wn_tag not in (wn.NOUN, wn.ADJ, wn.ADV):\n",
        "                continue\n",
        " \n",
        "            lemma = lemmatizer.lemmatize(word, pos=wn_tag)\n",
        "            if not lemma:\n",
        "                continue\n",
        " \n",
        "            synsets = wn.synsets(lemma, pos=wn_tag)\n",
        "            if not synsets:\n",
        "                continue\n",
        " \n",
        "            # Take the first sense, the most common\n",
        "            synset = synsets[0]\n",
        "            swn_synset = swn.senti_synset(synset.name())\n",
        " \n",
        "            sentiment += swn_synset.pos_score() - swn_synset.neg_score()\n",
        "            tokens_count += 1\n",
        " \n",
        "    # judgment call ? Default to positive or negative\n",
        "    if not tokens_count:\n",
        "        return 0\n",
        " \n",
        "    # sum greater than 0 => positive sentiment\n",
        "    if sentiment >= 0:\n",
        "        return 1\n",
        " \n",
        "    # negative sentiment\n",
        "    return 0"
      ],
      "execution_count": 22,
      "outputs": []
    },
    {
      "cell_type": "markdown",
      "metadata": {
        "id": "azNN8WYkOkmH"
      },
      "source": [
        "#Since we're shuffling, you'll get diffrent results\n",
        "print swn_polarity(train_X[0]), train_y[0] # 1 1\n",
        "print swn_polarity(train_X[1]), train_y[1] # 0 0\n",
        "print swn_polarity(train_X[2]), train_y[2] # 0 1\n",
        "print swn_polarity(train_X[3]), train_y[3] # 1 1\n",
        "print swn_polarity(train_X[4]), train_y[4] # 1 1`"
      ]
    },
    {
      "cell_type": "code",
      "metadata": {
        "colab": {
          "base_uri": "https://localhost:8080/"
        },
        "id": "zixW9-dTOkmI",
        "outputId": "5caa377c-bf66-43ef-ea9c-ceb0bac7f85a"
      },
      "source": [
        "nltk.download('punkt')\n",
        "nltk.download('averaged_perceptron_tagger')\n",
        "nltk.download('wordnet')\n",
        "swn_polarity('Hello i am not happy')"
      ],
      "execution_count": 23,
      "outputs": [
        {
          "output_type": "stream",
          "text": [
            "[nltk_data] Downloading package punkt to /root/nltk_data...\n",
            "[nltk_data]   Package punkt is already up-to-date!\n",
            "[nltk_data] Downloading package averaged_perceptron_tagger to\n",
            "[nltk_data]     /root/nltk_data...\n",
            "[nltk_data]   Package averaged_perceptron_tagger is already up-to-\n",
            "[nltk_data]       date!\n",
            "[nltk_data] Downloading package wordnet to /root/nltk_data...\n",
            "[nltk_data]   Package wordnet is already up-to-date!\n"
          ],
          "name": "stdout"
        },
        {
          "output_type": "execute_result",
          "data": {
            "text/plain": [
              "1"
            ]
          },
          "metadata": {
            "tags": []
          },
          "execution_count": 23
        }
      ]
    },
    {
      "cell_type": "code",
      "metadata": {
        "colab": {
          "base_uri": "https://localhost:8080/"
        },
        "id": "cLoZNpYnOkmK",
        "outputId": "184999d5-e2a2-406c-8fd5-960bc90d6962"
      },
      "source": [
        "y_pred = [swn_polarity(text) for text in X_test]\n",
        " \n",
        "print(metrics.accuracy_score(y_test,y_pred))"
      ],
      "execution_count": 47,
      "outputs": [
        {
          "output_type": "stream",
          "text": [
            "0.664010727706485\n"
          ],
          "name": "stdout"
        }
      ]
    },
    {
      "cell_type": "code",
      "metadata": {
        "id": "4kaEUF_0OkmL"
      },
      "source": [
        "def plot_confusion_matrix(cm, classes,\n",
        "                          normalize=False,\n",
        "                          title = 'Confusion matrix',\n",
        "                          cmap = plt.cm.ocean):\n",
        "    \"\"\"\n",
        "    Create a confusion matrix plot for 'good' and 'bad' rating values \n",
        "    \"\"\"\n",
        "    if normalize:\n",
        "        cm = cm.astype('float') / cm.sum(axis = 1)[:, np.newaxis]\n",
        "    plt.imshow(cm, interpolation = 'nearest', cmap = cmap)\n",
        "    plt.title(title, fontsize = 20)\n",
        "    plt.colorbar()\n",
        "    tick_marks = np.arange(len(classes))\n",
        "    plt.xticks(tick_marks, classes, fontsize = 20)\n",
        "    plt.yticks(tick_marks, classes, fontsize = 20)\n",
        "    \n",
        "    fmt = '.2f' if normalize else 'd'\n",
        "    thresh = cm.max() / 2.\n",
        "\n",
        "    for i in range (cm.shape[0]):\n",
        "        for j in range (cm.shape[1]):\n",
        "            plt.text(j, i, format(cm[i, j], fmt), horizontalalignment = \"center\", \n",
        "                 color = \"white\" if cm[i, j] < thresh else \"black\", fontsize = 40)\n",
        "    \n",
        "    plt.tight_layout()\n",
        "    plt.ylabel('True Label', fontsize = 30)\n",
        "    plt.xlabel('Predicted Label', fontsize = 30)\n",
        "\n",
        "    return plt\n",
        "\n",
        "def disp_confusion_matrix(y_pred, model_name):\n",
        "    \"\"\"\n",
        "    Display confusion matrix for selected model with TF-IDF Vectorizer\n",
        "    \"\"\"\n",
        "    cm = confusion_matrix(y_test, y_pred)\n",
        "    fig = plt.figure(figsize=(10, 10))\n",
        "    plot = plot_confusion_matrix(cm, classes=['Negative','Positive'], normalize=False, \n",
        "                                 title = model_name + \" \"+ '\\nConfusion Matrix')\n",
        "    plt.show()"
      ],
      "execution_count": 48,
      "outputs": []
    },
    {
      "cell_type": "code",
      "metadata": {
        "colab": {
          "base_uri": "https://localhost:8080/",
          "height": 729
        },
        "id": "uGirx0ETPki3",
        "outputId": "79b52106-c719-4670-98ec-90d8e015beed"
      },
      "source": [
        "disp_confusion_matrix(y_pred, \"SentiWordNet\")"
      ],
      "execution_count": 49,
      "outputs": [
        {
          "output_type": "display_data",
          "data": {
            "image/png": "[encoded data removed]",
            "text/plain": [
              "<Figure size 720x720 with 2 Axes>"
            ]
          },
          "metadata": {
            "tags": [],
            "needs_background": "light"
          }
        }
      ]
    },
    {
      "cell_type": "code",
      "metadata": {
        "colab": {
          "base_uri": "https://localhost:8080/"
        },
        "id": "rG5kuh4rY-pl",
        "outputId": "e9be31fe-2217-4bad-800d-493768488067"
      },
      "source": [
        "import numpy as np\n",
        "import pandas as pd\n",
        "import string\n",
        "import nltk \n",
        "from nltk.corpus import stopwords\n",
        "from nltk import PorterStemmer\n",
        "import re\n",
        "from nltk.tokenize import word_tokenize\n",
        "import nltk\n",
        "from nltk.stem.snowball import SnowballStemmer\n",
        "from nltk.stem import WordNetLemmatizer \n",
        "\n",
        "import nltk\n",
        "nltk.download('wordnet')\n",
        "from nltk.corpus import wordnet\n",
        "from sklearn.pipeline import Pipeline\n",
        "from sklearn.naive_bayes import MultinomialNB\n",
        "from sklearn.svm import LinearSVC\n",
        "from sklearn.linear_model import LogisticRegression\n",
        "from sklearn.feature_extraction.text import TfidfVectorizer\n",
        "from sklearn.feature_extraction.text import CountVectorizer\n",
        "\n",
        "# Visualizations\n",
        "import matplotlib.pyplot as plt\n",
        "from matplotlib.colors import ListedColormap\n",
        "import seaborn as sns\n",
        "import matplotlib.colors as colors\n",
        "%matplotlib inline\n",
        "from wordcloud import WordCloud, STOPWORDS\n",
        "\n",
        "## Modeling\n",
        "from sklearn.model_selection import cross_validate\n",
        "from sklearn.model_selection import train_test_split\n",
        "from sklearn.model_selection import StratifiedKFold\n",
        "from sklearn.model_selection import GridSearchCV\n",
        "from sklearn.model_selection import cross_val_predict\n",
        "from sklearn.model_selection import cross_val_score\n",
        "from sklearn.linear_model import LogisticRegression\n",
        "from sklearn.model_selection import learning_curve\n",
        "from sklearn.ensemble import ExtraTreesClassifier\n",
        "from sklearn.decomposition import TruncatedSVD\n",
        "from sklearn.feature_extraction.text import TfidfVectorizer, CountVectorizer, HashingVectorizer\n",
        "from sklearn.pipeline import Pipeline\n",
        "from sklearn.naive_bayes import MultinomialNB\n",
        "from sklearn.svm import SVC\n",
        "from sklearn import metrics\n",
        "from sklearn.metrics import classification_report\n",
        "from sklearn.metrics import confusion_matrix\n",
        "from  sklearn.metrics import precision_recall_fscore_support\n",
        "from sklearn.ensemble import RandomForestClassifier\n",
        "from sklearn.tree import DecisionTreeClassifier\n",
        "from sklearn.metrics import f1_score\n",
        "from sklearn.metrics import recall_score\n",
        "from gensim.models import Word2Vec\n",
        "from tqdm import tqdm\n",
        "import xgboost as xgb\n",
        "from xgboost import XGBClassifier\n",
        "from sklearn.dummy import DummyClassifier\n",
        "from sklearn.pipeline import Pipeline\n",
        "from sklearn.naive_bayes import MultinomialNB\n",
        "from sklearn.svm import LinearSVC\n",
        "from sklearn.linear_model import LogisticRegression\n",
        "from sklearn.feature_extraction.text import TfidfVectorizer\n",
        "from sklearn.feature_extraction.text import CountVectorizer\n",
        "\n",
        "\n",
        "\n",
        "## Modeling\n",
        "from sklearn.model_selection import cross_validate\n",
        "from sklearn.model_selection import train_test_split\n",
        "from sklearn.model_selection import StratifiedKFold\n",
        "from sklearn.model_selection import GridSearchCV\n",
        "from sklearn.model_selection import cross_val_predict\n",
        "from sklearn.model_selection import cross_val_score\n",
        "from sklearn.linear_model import LogisticRegression\n",
        "from sklearn.model_selection import learning_curve\n",
        "from sklearn.ensemble import ExtraTreesClassifier\n",
        "from sklearn.decomposition import TruncatedSVD\n",
        "from sklearn.feature_extraction.text import TfidfVectorizer, CountVectorizer, HashingVectorizer\n",
        "from sklearn.pipeline import Pipeline\n",
        "from sklearn.naive_bayes import MultinomialNB\n",
        "from sklearn.svm import SVC\n",
        "from sklearn import metrics\n",
        "from sklearn.metrics import classification_report\n",
        "from sklearn.metrics import confusion_matrix\n",
        "from  sklearn.metrics import precision_recall_fscore_support\n",
        "from sklearn.ensemble import RandomForestClassifier\n",
        "from sklearn.tree import DecisionTreeClassifier\n",
        "from sklearn.metrics import f1_score\n",
        "from sklearn.metrics import recall_score\n",
        "from gensim.models import Word2Vec\n",
        "from tqdm import tqdm\n",
        "import xgboost as xgb\n",
        "from xgboost import XGBClassifier\n",
        "from sklearn.dummy import DummyClassifier\n",
        "\n",
        "from sklearn.metrics import accuracy_score,classification_report,confusion_matrix\n",
        "from sklearn import metrics\n",
        "from sklearn.datasets import make_hastie_10_2\n",
        "from sklearn.ensemble import GradientBoostingClassifier\n",
        "#XGB and TFIDF VECTORIZER:\n",
        "\n",
        "from sklearn.model_selection import cross_validate\n",
        "from sklearn.model_selection import train_test_split\n",
        "from sklearn.model_selection import StratifiedKFold\n",
        "from sklearn.model_selection import GridSearchCV\n",
        "from sklearn.model_selection import cross_val_predict\n",
        "from sklearn.model_selection import cross_val_score\n",
        "from sklearn.linear_model import LogisticRegression\n",
        "from sklearn.model_selection import learning_curve\n",
        "from sklearn.ensemble import ExtraTreesClassifier\n",
        "from sklearn.decomposition import TruncatedSVD\n",
        "from sklearn.feature_extraction.text import TfidfVectorizer, CountVectorizer, HashingVectorizer\n",
        "from sklearn.pipeline import Pipeline\n",
        "from sklearn.naive_bayes import MultinomialNB\n",
        "from sklearn.naive_bayes import GaussianNB \n",
        "from sklearn.svm import SVC\n",
        "from sklearn import metrics\n",
        "from sklearn.metrics import classification_report\n",
        "from sklearn.metrics import confusion_matrix\n",
        "from  sklearn.metrics import precision_recall_fscore_support\n",
        "from sklearn.ensemble import RandomForestClassifier\n",
        "from sklearn.tree import DecisionTreeClassifier\n",
        "from sklearn.metrics import f1_score\n",
        "from sklearn.metrics import recall_score\n",
        "from gensim.models import Word2Vec\n",
        "from sklearn.dummy import DummyClassifier\n",
        "import numpy as np\n",
        "import pandas as pd"
      ],
      "execution_count": 53,
      "outputs": [
        {
          "output_type": "stream",
          "text": [
            "[nltk_data] Downloading package wordnet to /root/nltk_data...\n",
            "[nltk_data]   Package wordnet is already up-to-date!\n"
          ],
          "name": "stdout"
        }
      ]
    },
    {
      "cell_type": "code",
      "metadata": {
        "id": "Y9LdfnhnWtFq"
      },
      "source": [
        "# Function for converting the \"classification report\" results to a dataframe\n",
        "def pandas_classification_report(y_true, y_pred):\n",
        "    metrics_summary = precision_recall_fscore_support(\n",
        "            y_true=y_true, \n",
        "            y_pred=y_pred)\n",
        "\n",
        "    avg = list(precision_recall_fscore_support(\n",
        "            y_true=y_true, \n",
        "            y_pred=y_pred,\n",
        "            average='weighted'))\n",
        "\n",
        "    metrics_sum_index = ['precision', 'recall', 'f1-score', 'support']\n",
        "    class_report_df = pd.DataFrame(\n",
        "        list(metrics_summary),\n",
        "        index=metrics_sum_index)\n",
        "\n",
        "    support = class_report_df.loc['support']\n",
        "    total = support.sum() \n",
        "    avg[-1] = total\n",
        "\n",
        "    class_report_df['weighted avg'] = avg\n",
        "\n",
        "    return class_report_df.T\n",
        "\n",
        "# Function for adding explanatory columns and organizing all dataframe\n",
        "def comparison_matrix(y_test, y_pred, label):\n",
        "    df = pandas_classification_report(y_test, y_pred)\n",
        "    df['class']=['Negative or \"0\"', 'Positive or \"1\"', 'average']\n",
        "    df['accuracy']= metrics.accuracy_score(y_test, y_pred)\n",
        "    df['model'] = label\n",
        "    df = df[[ 'model', 'accuracy', 'class', 'precision', 'recall', 'f1-score', 'support']]\n",
        "    return df"
      ],
      "execution_count": 54,
      "outputs": []
    },
    {
      "cell_type": "code",
      "metadata": {
        "id": "EMKY4qb8XodX"
      },
      "source": [
        "#For loop for using \"comparison functions\" \n",
        "\n",
        "def comparison_table(y_preds, labels):\n",
        "    \n",
        "    # empty list for collecting dataframes\n",
        "    frames_tv = [] \n",
        "    \n",
        "    # list for y_preds\n",
        "    y_preds_tv = y_preds\n",
        "    \n",
        "    # list for labels\n",
        "    labels_tv = labels  \n",
        "    \n",
        "    \n",
        "    for y_pred, label in zip(y_preds_tv, labels_tv):\n",
        "        df = comparison_matrix(y_test, y_pred, label)\n",
        "        frames_tv.append(df)\n",
        "\n",
        "    # concatenating all dataframes\n",
        "    global df_tv\n",
        "    df_tv = pd.concat(frames_tv)\n",
        "    \n",
        "    global df_tv2\n",
        "    df_tv2 = df_tv.set_index([ 'model', 'accuracy', 'class'])"
      ],
      "execution_count": 55,
      "outputs": []
    },
    {
      "cell_type": "code",
      "metadata": {
        "id": "EcVFsOWvP0Jt"
      },
      "source": [
        "comparison_table(y_preds = [y_pred], \n",
        "                labels = ['SentiWordNet'])"
      ],
      "execution_count": 56,
      "outputs": []
    },
    {
      "cell_type": "code",
      "metadata": {
        "colab": {
          "base_uri": "https://localhost:8080/",
          "height": 164
        },
        "id": "K5Sf7Ft8Pr3K",
        "outputId": "798292b9-67b5-4c99-ef95-73e7d008b07e"
      },
      "source": [
        "df_tv2"
      ],
      "execution_count": 57,
      "outputs": [
        {
          "output_type": "execute_result",
          "data": {
            "text/html": [
              "<div>\n",
              "<style scoped>\n",
              "    .dataframe tbody tr th:only-of-type {\n",
              "        vertical-align: middle;\n",
              "    }\n",
              "\n",
              "    .dataframe tbody tr th {\n",
              "        vertical-align: top;\n",
              "    }\n",
              "\n",
              "    .dataframe thead th {\n",
              "        text-align: right;\n",
              "    }\n",
              "</style>\n",
              "<table border=\"1\" class=\"dataframe\">\n",
              "  <thead>\n",
              "    <tr style=\"text-align: right;\">\n",
              "      <th></th>\n",
              "      <th></th>\n",
              "      <th></th>\n",
              "      <th>precision</th>\n",
              "      <th>recall</th>\n",
              "      <th>f1-score</th>\n",
              "      <th>support</th>\n",
              "    </tr>\n",
              "    <tr>\n",
              "      <th>model</th>\n",
              "      <th>accuracy</th>\n",
              "      <th>class</th>\n",
              "      <th></th>\n",
              "      <th></th>\n",
              "      <th></th>\n",
              "      <th></th>\n",
              "    </tr>\n",
              "  </thead>\n",
              "  <tbody>\n",
              "    <tr>\n",
              "      <th rowspan=\"3\" valign=\"top\">SentiWordNet</th>\n",
              "      <th rowspan=\"3\" valign=\"top\">0.664011</th>\n",
              "      <th>Negative or \"0\"</th>\n",
              "      <td>0.357499</td>\n",
              "      <td>0.550103</td>\n",
              "      <td>0.433365</td>\n",
              "      <td>14979.0</td>\n",
              "    </tr>\n",
              "    <tr>\n",
              "      <th>Positive or \"1\"</th>\n",
              "      <td>0.835970</td>\n",
              "      <td>0.698722</td>\n",
              "      <td>0.761209</td>\n",
              "      <td>49154.0</td>\n",
              "    </tr>\n",
              "    <tr>\n",
              "      <th>average</th>\n",
              "      <td>0.724218</td>\n",
              "      <td>0.664011</td>\n",
              "      <td>0.684637</td>\n",
              "      <td>64133.0</td>\n",
              "    </tr>\n",
              "  </tbody>\n",
              "</table>\n",
              "</div>"
            ],
            "text/plain": [
              "                                       precision    recall  f1-score  support\n",
              "model        accuracy class                                                  \n",
              "SentiWordNet 0.664011 Negative or \"0\"   0.357499  0.550103  0.433365  14979.0\n",
              "                      Positive or \"1\"   0.835970  0.698722  0.761209  49154.0\n",
              "                      average           0.724218  0.664011  0.684637  64133.0"
            ]
          },
          "metadata": {
            "tags": []
          },
          "execution_count": 57
        }
      ]
    },
    {
      "cell_type": "code",
      "metadata": {
        "colab": {
          "base_uri": "https://localhost:8080/",
          "height": 585
        },
        "id": "JaUdxrIuPr_Z",
        "outputId": "33d1bf1f-df90-41a9-9457-a9f19dc0af42"
      },
      "source": [
        "import numpy as np\n",
        "import matplotlib.pyplot as plt\n",
        "from matplotlib.ticker import MaxNLocator\n",
        "from collections import namedtuple\n",
        "n_groups = 4\n",
        "score_vader = (79.79,77.75,79.79,77.57)\n",
        "score_sentiwordnet = (66.40,72.42,66.40,68.46)\n",
        "\n",
        "fig, ax = plt.subplots()\n",
        "index = np.arange(n_groups)\n",
        "bar_width = 0.1\n",
        "opacity = 0.7\n",
        "error_config = {'ecolor': '0.3'}\n",
        "\n",
        "rects1 = ax.bar(index,score_vader, bar_width,\n",
        " alpha=opacity, color='blue',\n",
        " error_kw = error_config,\n",
        " label='VADER')\n",
        "\n",
        "z=index + bar_width\n",
        "rects2 = ax.bar(z, score_sentiwordnet, bar_width,\n",
        " alpha=opacity, color='gold',\n",
        " error_kw=error_config,\n",
        " label='SentiWordNet')\n",
        "\n",
        "\n",
        "\n",
        "\n",
        "ax.set_xlabel('\\n Evaluating Measures',fontsize = 17)\n",
        "ax.set_ylabel('Performance (in %) \\n',fontsize = 17)\n",
        "ax.set_title('Performance of Lexicon Classifiers',fontsize=20)\n",
        "ax.set_xticks(index + bar_width / 2)\n",
        "ax.set_xticklabels(('Accuracy', 'Precision', 'Recall','F1-Score'),fontsize = 14)\n",
        "ax.set_yticklabels((0,10,20,30,40,50,60,70,80),fontsize = 14)\n",
        "ax.legend(bbox_to_anchor=(1.3, 1.0), borderaxespad=0,fontsize=15)\n",
        "fig.set_size_inches(12,8)\n",
        "fig.tight_layout()\n",
        "plt.show()"
      ],
      "execution_count": 75,
      "outputs": [
        {
          "output_type": "display_data",
          "data": {
            "image/png": "[encoded data removed]",
            "text/plain": [
              "<Figure size 864x576 with 1 Axes>"
            ]
          },
          "metadata": {
            "tags": [],
            "needs_background": "light"
          }
        }
      ]
    },
    {
      "cell_type": "code",
      "metadata": {
        "colab": {
          "base_uri": "https://localhost:8080/",
          "height": 585
        },
        "id": "wEoSWmBlQ0oX",
        "outputId": "00a460e5-a3fb-4a78-a12f-e1c222138dd5"
      },
      "source": [
        "import numpy as np\n",
        "import matplotlib.pyplot as plt\n",
        "from matplotlib.ticker import MaxNLocator\n",
        "from collections import namedtuple\n",
        "n_groups = 4\n",
        "score_MNB = (84.62,84.43,84.62,82.72)\n",
        "score_LSVC = (88.92,88.57,88.92,88.53)\n",
        "score_LR=(87.93,87.59,87.93,87.21)\n",
        "score_RF=(80.52,83.22,80.51,74.95)\n",
        "score_XGB=(87.87,87.42,87.87,87.41)\n",
        "score_vader = (79.79,77.75,79.79,77.57)\n",
        "score_sentiwordnet = (66.40,72.42,66.40,68.46)\n",
        "\n",
        "#n1=(score_MNB[0], score_LR[0], score_LSVC[0], score_RF[0],score_XGB[0])\n",
        "#n2=(score_MNB[1], score_LR[1], score_LSVC[1], score_RF[1],score_XGB[1])\n",
        "#n3=(score_MNB[2], score_LR[2], score_LSVC[2], score_RF[2],score_XGB[2])\n",
        "#n4=(score_MNB[3], score_LR[3], score_LSVC[3], score_RF[3],score_XGB[3])\n",
        "\n",
        "fig, ax = plt.subplots()\n",
        "index = np.arange(n_groups)\n",
        "bar_width = 0.1\n",
        "opacity = 0.9\n",
        "error_config = {'ecolor': '0.3'}\n",
        "\n",
        "rects1 = ax.bar(index,score_MNB, bar_width,\n",
        " alpha=opacity, color='red',\n",
        " error_kw=error_config,label='Multinomial Naive Bayes')\n",
        "\n",
        "z=index + bar_width\n",
        "rects2 = ax.bar(z, score_LSVC, bar_width,\n",
        " alpha=opacity, color='darkviolet',\n",
        " error_kw=error_config,\n",
        " label='Linear SVC')\n",
        "\n",
        "z=z+ bar_width\n",
        "rects3 = ax.bar(z, score_LR, bar_width,\n",
        " alpha=opacity, color='yellow',\n",
        " error_kw=error_config,\n",
        " label='Logistic Regression')\n",
        "\n",
        "z=z+ bar_width\n",
        "rects4 = ax.bar(z, score_RF, bar_width,\n",
        " alpha=opacity, color='blue',\n",
        " error_kw=error_config,label='Random Forest')\n",
        "\n",
        "z=z+ bar_width\n",
        "rects5 = ax.bar(z, score_XGB, bar_width,\n",
        " alpha=opacity, color='lawngreen',\n",
        " error_kw=error_config,\n",
        " label='eXtreme gradient Boosting')\n",
        "\n",
        "z=z + bar_width\n",
        "rects6 = ax.bar(z, score_vader, bar_width,\n",
        " alpha=opacity, color='deeppink',\n",
        " error_kw=error_config,\n",
        " label='VADER')\n",
        "\n",
        "z=z + bar_width\n",
        "rects7 = ax.bar(z, score_sentiwordnet, bar_width,\n",
        " alpha=opacity, color='black',\n",
        " error_kw=error_config,\n",
        " label='SentiWordNet')\n",
        "\n",
        "ax.set_xlabel('\\n Evaluating Measures',fontsize = 17)\n",
        "ax.set_ylabel('Performance (in %) \\n',fontsize = 17)\n",
        "ax.set_title('Performance of all Classifiers',fontsize=20)\n",
        "ax.set_xticks(index + bar_width / 2)\n",
        "ax.set_xticklabels(('Accuracy', 'Precision', 'Recall','F1-Score'),fontsize = 15)\n",
        "ax.set_yticklabels((0,20,40,60,80),fontsize = 15)\n",
        "ax.legend(bbox_to_anchor=(1.03, 1.0), borderaxespad=0)\n",
        "fig.set_size_inches(12,8)\n",
        "fig.tight_layout()\n",
        "plt.show()\n",
        "\n"
      ],
      "execution_count": 94,
      "outputs": [
        {
          "output_type": "display_data",
          "data": {
            "image/png": "[encoded data removed]",
            "text/plain": [
              "<Figure size 864x576 with 1 Axes>"
            ]
          },
          "metadata": {
            "tags": [],
            "needs_background": "light"
          }
        }
      ]
    },
    {
      "cell_type": "code",
      "metadata": {
        "id": "CaHKDGbIhMdJ"
      },
      "source": [
        ""
      ],
      "execution_count": null,
      "outputs": []
    }
  ]
}