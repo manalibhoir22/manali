{
  "nbformat": 4,
  "nbformat_minor": 0,
  "metadata": {
    "kernelspec": {
      "display_name": "Python 3",
      "language": "python",
      "name": "python3"
    },
    "language_info": {
      "codemirror_mode": {
        "name": "ipython",
        "version": 3
      },
      "file_extension": ".py",
      "mimetype": "text/x-python",
      "name": "python",
      "nbconvert_exporter": "python",
      "pygments_lexer": "ipython3",
      "version": "3.8.5"
    },
    "colab": {
      "name": "TFIDF VECTORIZER AND CLASSIFIERS",
      "provenance": [],
      "collapsed_sections": [
        "nLwkFvDvr4Fq",
        "8n9lBLo3r4F0",
        "SJFhOP5Hr4F4",
        "nwJqIqb4r4F4",
        "TLuzzhLer4F5",
        "_rzPpFYnr4F6",
        "Px5mio00r4F7",
        "-hafZ-IYr4F_",
        "SAHyHDJqr4GD",
        "XO7MbCGRr4GE",
        "IJkWUukar4GG"
      ],
      "toc_visible": true,
      "include_colab_link": true
    }
  },
  "cells": [
    {
      "cell_type": "markdown",
      "metadata": {
        "id": "view-in-github",
        "colab_type": "text"
      },
      "source": [
        "<a href=\"https://colab.research.google.com/github/manalibhoir22/manali/blob/master/TFIDF_VECTORIZER_AND_CLASSIFIERS.ipynb\" target=\"_parent\"><img src=\"https://colab.research.google.com/assets/colab-badge.svg\" alt=\"Open In Colab\"/></a>"
      ]
    },
    {
      "cell_type": "markdown",
      "metadata": {
        "id": "CNslKQPKr4FY"
      },
      "source": [
        "# Load the data"
      ]
    },
    {
      "cell_type": "code",
      "metadata": {
        "colab": {
          "base_uri": "https://localhost:8080/"
        },
        "id": "wgnwmijO6Lf4",
        "outputId": "8bcb3fe0-ce76-4727-8b55-256f5c98ed0f"
      },
      "source": [
        "import string\n",
        "import nltk \n",
        "from nltk.corpus import stopwords\n",
        "from nltk import PorterStemmer\n",
        "import re\n",
        "from nltk.tokenize import word_tokenize\n",
        "import nltk\n",
        "from nltk.stem.snowball import SnowballStemmer\n",
        "from nltk.stem import WordNetLemmatizer \n",
        "\n",
        "import nltk\n",
        "nltk.download('wordnet')\n",
        "from nltk.corpus import wordnet\n",
        "from sklearn.pipeline import Pipeline\n",
        "from sklearn.naive_bayes import MultinomialNB\n",
        "from sklearn.svm import LinearSVC\n",
        "from sklearn.linear_model import LogisticRegression\n",
        "from sklearn.feature_extraction.text import TfidfVectorizer\n",
        "from sklearn.feature_extraction.text import CountVectorizer\n",
        "\n",
        "# Visualizations\n",
        "import matplotlib.pyplot as plt\n",
        "from matplotlib.colors import ListedColormap\n",
        "import seaborn as sns\n",
        "import matplotlib.colors as colors\n",
        "%matplotlib inline\n",
        "from wordcloud import WordCloud, STOPWORDS\n",
        "\n",
        "## Modeling\n",
        "from sklearn.model_selection import cross_validate\n",
        "from sklearn.model_selection import train_test_split\n",
        "from sklearn.model_selection import StratifiedKFold\n",
        "from sklearn.model_selection import GridSearchCV\n",
        "from sklearn.model_selection import cross_val_predict\n",
        "from sklearn.model_selection import cross_val_score\n",
        "from sklearn.linear_model import LogisticRegression\n",
        "from sklearn.model_selection import learning_curve\n",
        "from sklearn.ensemble import ExtraTreesClassifier\n",
        "from sklearn.decomposition import TruncatedSVD\n",
        "from sklearn.feature_extraction.text import TfidfVectorizer, CountVectorizer, HashingVectorizer\n",
        "from sklearn.pipeline import Pipeline\n",
        "from sklearn.naive_bayes import MultinomialNB\n",
        "from sklearn.svm import SVC\n",
        "from sklearn import metrics\n",
        "from sklearn.metrics import classification_report\n",
        "from sklearn.metrics import confusion_matrix\n",
        "from  sklearn.metrics import precision_recall_fscore_support\n",
        "from sklearn.ensemble import RandomForestClassifier\n",
        "from sklearn.tree import DecisionTreeClassifier\n",
        "from sklearn.metrics import f1_score\n",
        "from sklearn.metrics import recall_score\n",
        "from gensim.models import Word2Vec\n",
        "from tqdm import tqdm\n",
        "import xgboost as xgb\n",
        "from xgboost import XGBClassifier\n",
        "from sklearn.dummy import DummyClassifier\n",
        "from sklearn.pipeline import Pipeline\n",
        "from sklearn.naive_bayes import MultinomialNB\n",
        "from sklearn.svm import LinearSVC\n",
        "from sklearn.linear_model import LogisticRegression\n",
        "from sklearn.feature_extraction.text import TfidfVectorizer\n",
        "from sklearn.feature_extraction.text import CountVectorizer\n",
        "\n",
        "\n",
        "\n",
        "## Modeling\n",
        "from sklearn.model_selection import cross_validate\n",
        "from sklearn.model_selection import train_test_split\n",
        "from sklearn.model_selection import StratifiedKFold\n",
        "from sklearn.model_selection import GridSearchCV\n",
        "from sklearn.model_selection import cross_val_predict\n",
        "from sklearn.model_selection import cross_val_score\n",
        "from sklearn.linear_model import LogisticRegression\n",
        "from sklearn.model_selection import learning_curve\n",
        "from sklearn.ensemble import ExtraTreesClassifier\n",
        "from sklearn.decomposition import TruncatedSVD\n",
        "from sklearn.feature_extraction.text import TfidfVectorizer, CountVectorizer, HashingVectorizer\n",
        "from sklearn.pipeline import Pipeline\n",
        "from sklearn.naive_bayes import MultinomialNB\n",
        "from sklearn.svm import SVC\n",
        "from sklearn import metrics\n",
        "from sklearn.metrics import classification_report\n",
        "from sklearn.metrics import confusion_matrix\n",
        "from  sklearn.metrics import precision_recall_fscore_support\n",
        "from sklearn.ensemble import RandomForestClassifier\n",
        "from sklearn.tree import DecisionTreeClassifier\n",
        "from sklearn.metrics import f1_score\n",
        "from sklearn.metrics import recall_score\n",
        "from gensim.models import Word2Vec\n",
        "from tqdm import tqdm\n",
        "import xgboost as xgb\n",
        "from xgboost import XGBClassifier\n",
        "from sklearn.dummy import DummyClassifier\n",
        "\n",
        "from sklearn.metrics import accuracy_score,classification_report,confusion_matrix\n",
        "from sklearn import metrics\n",
        "from sklearn.datasets import make_hastie_10_2\n",
        "from sklearn.ensemble import GradientBoostingClassifier\n",
        "#XGB and TFIDF VECTORIZER:\n",
        "\n",
        "from sklearn.model_selection import cross_validate\n",
        "from sklearn.model_selection import train_test_split\n",
        "from sklearn.model_selection import StratifiedKFold\n",
        "from sklearn.model_selection import GridSearchCV\n",
        "from sklearn.model_selection import cross_val_predict\n",
        "from sklearn.model_selection import cross_val_score\n",
        "from sklearn.linear_model import LogisticRegression\n",
        "from sklearn.model_selection import learning_curve\n",
        "from sklearn.ensemble import ExtraTreesClassifier\n",
        "from sklearn.decomposition import TruncatedSVD\n",
        "from sklearn.feature_extraction.text import TfidfVectorizer, CountVectorizer, HashingVectorizer\n",
        "from sklearn.pipeline import Pipeline\n",
        "from sklearn.naive_bayes import MultinomialNB\n",
        "from sklearn.naive_bayes import GaussianNB \n",
        "from sklearn.svm import SVC\n",
        "from sklearn import metrics\n",
        "from sklearn.metrics import classification_report\n",
        "from sklearn.metrics import confusion_matrix\n",
        "from  sklearn.metrics import precision_recall_fscore_support\n",
        "from sklearn.ensemble import RandomForestClassifier\n",
        "from sklearn.tree import DecisionTreeClassifier\n",
        "from sklearn.metrics import f1_score\n",
        "from sklearn.metrics import recall_score\n",
        "from gensim.models import Word2Vec\n",
        "from sklearn.dummy import DummyClassifier\n",
        "import numpy as np\n",
        "import pandas as pd"
      ],
      "execution_count": 2,
      "outputs": [
        {
          "output_type": "stream",
          "text": [
            "[nltk_data] Downloading package wordnet to /root/nltk_data...\n",
            "[nltk_data]   Unzipping corpora/wordnet.zip.\n"
          ],
          "name": "stdout"
        }
      ]
    },
    {
      "cell_type": "code",
      "metadata": {
        "colab": {
          "base_uri": "https://localhost:8080/",
          "height": 295
        },
        "id": "5GbuD1lVr4Fh",
        "outputId": "10fda370-2b1e-4446-cef2-f666ec826c57"
      },
      "source": [
        "df = pd.read_excel('data.xlsx')\n",
        "df.head()"
      ],
      "execution_count": 3,
      "outputs": [
        {
          "output_type": "execute_result",
          "data": {
            "text/html": [
              "<div>\n",
              "<style scoped>\n",
              "    .dataframe tbody tr th:only-of-type {\n",
              "        vertical-align: middle;\n",
              "    }\n",
              "\n",
              "    .dataframe tbody tr th {\n",
              "        vertical-align: top;\n",
              "    }\n",
              "\n",
              "    .dataframe thead th {\n",
              "        text-align: right;\n",
              "    }\n",
              "</style>\n",
              "<table border=\"1\" class=\"dataframe\">\n",
              "  <thead>\n",
              "    <tr style=\"text-align: right;\">\n",
              "      <th></th>\n",
              "      <th>Unnamed: 0</th>\n",
              "      <th>reviewerID</th>\n",
              "      <th>asin</th>\n",
              "      <th>reviewerName</th>\n",
              "      <th>helpful</th>\n",
              "      <th>reviewText</th>\n",
              "      <th>overall</th>\n",
              "      <th>summary</th>\n",
              "      <th>unixReviewTime</th>\n",
              "      <th>reviewTime</th>\n",
              "    </tr>\n",
              "  </thead>\n",
              "  <tbody>\n",
              "    <tr>\n",
              "      <th>0</th>\n",
              "      <td>1</td>\n",
              "      <td>A30TL5EWN6DFXT</td>\n",
              "      <td>120401325X</td>\n",
              "      <td>christina</td>\n",
              "      <td>[0, 0]</td>\n",
              "      <td>They look good and stick good! I just don't li...</td>\n",
              "      <td>4</td>\n",
              "      <td>Looks Good</td>\n",
              "      <td>1400630400</td>\n",
              "      <td>05 21, 2014</td>\n",
              "    </tr>\n",
              "    <tr>\n",
              "      <th>1</th>\n",
              "      <td>2</td>\n",
              "      <td>ASY55RVNIL0UD</td>\n",
              "      <td>120401325X</td>\n",
              "      <td>emily l.</td>\n",
              "      <td>[0, 0]</td>\n",
              "      <td>These stickers work like the review says they ...</td>\n",
              "      <td>5</td>\n",
              "      <td>Really great product.</td>\n",
              "      <td>1389657600</td>\n",
              "      <td>01 14, 2014</td>\n",
              "    </tr>\n",
              "    <tr>\n",
              "      <th>2</th>\n",
              "      <td>3</td>\n",
              "      <td>A2TMXE2AFO7ONB</td>\n",
              "      <td>120401325X</td>\n",
              "      <td>Erica</td>\n",
              "      <td>[0, 0]</td>\n",
              "      <td>These are awesome and make my phone look so st...</td>\n",
              "      <td>5</td>\n",
              "      <td>LOVE LOVE LOVE</td>\n",
              "      <td>1403740800</td>\n",
              "      <td>06 26, 2014</td>\n",
              "    </tr>\n",
              "    <tr>\n",
              "      <th>3</th>\n",
              "      <td>4</td>\n",
              "      <td>AWJ0WZQYMYFQ4</td>\n",
              "      <td>120401325X</td>\n",
              "      <td>JM</td>\n",
              "      <td>[4, 4]</td>\n",
              "      <td>Item arrived in great time and was in perfect ...</td>\n",
              "      <td>4</td>\n",
              "      <td>Cute!</td>\n",
              "      <td>1382313600</td>\n",
              "      <td>10 21, 2013</td>\n",
              "    </tr>\n",
              "    <tr>\n",
              "      <th>4</th>\n",
              "      <td>5</td>\n",
              "      <td>ATX7CZYFXI1KW</td>\n",
              "      <td>120401325X</td>\n",
              "      <td>patrice m rogoza</td>\n",
              "      <td>[2, 3]</td>\n",
              "      <td>awesome! stays on, and looks great. can be use...</td>\n",
              "      <td>5</td>\n",
              "      <td>leopard home button sticker for iphone 4s</td>\n",
              "      <td>1359849600</td>\n",
              "      <td>02 3, 2013</td>\n",
              "    </tr>\n",
              "  </tbody>\n",
              "</table>\n",
              "</div>"
            ],
            "text/plain": [
              "   Unnamed: 0      reviewerID  ... unixReviewTime   reviewTime\n",
              "0           1  A30TL5EWN6DFXT  ...     1400630400  05 21, 2014\n",
              "1           2   ASY55RVNIL0UD  ...     1389657600  01 14, 2014\n",
              "2           3  A2TMXE2AFO7ONB  ...     1403740800  06 26, 2014\n",
              "3           4   AWJ0WZQYMYFQ4  ...     1382313600  10 21, 2013\n",
              "4           5   ATX7CZYFXI1KW  ...     1359849600   02 3, 2013\n",
              "\n",
              "[5 rows x 10 columns]"
            ]
          },
          "metadata": {
            "tags": []
          },
          "execution_count": 3
        }
      ]
    },
    {
      "cell_type": "markdown",
      "metadata": {
        "id": "ZyezgPBkr4Fj"
      },
      "source": [
        "# Dropping unnecessary columns"
      ]
    },
    {
      "cell_type": "code",
      "metadata": {
        "colab": {
          "base_uri": "https://localhost:8080/",
          "height": 194
        },
        "id": "lUu-F0Wer4Fk",
        "outputId": "1e85ec6e-02db-4bf3-d662-d5f4e85b86d5"
      },
      "source": [
        "df.drop(df.columns[[0,1,3,4,8,9]],axis=1,inplace=True)\n",
        "df.head()"
      ],
      "execution_count": 4,
      "outputs": [
        {
          "output_type": "execute_result",
          "data": {
            "text/html": [
              "<div>\n",
              "<style scoped>\n",
              "    .dataframe tbody tr th:only-of-type {\n",
              "        vertical-align: middle;\n",
              "    }\n",
              "\n",
              "    .dataframe tbody tr th {\n",
              "        vertical-align: top;\n",
              "    }\n",
              "\n",
              "    .dataframe thead th {\n",
              "        text-align: right;\n",
              "    }\n",
              "</style>\n",
              "<table border=\"1\" class=\"dataframe\">\n",
              "  <thead>\n",
              "    <tr style=\"text-align: right;\">\n",
              "      <th></th>\n",
              "      <th>asin</th>\n",
              "      <th>reviewText</th>\n",
              "      <th>overall</th>\n",
              "      <th>summary</th>\n",
              "    </tr>\n",
              "  </thead>\n",
              "  <tbody>\n",
              "    <tr>\n",
              "      <th>0</th>\n",
              "      <td>120401325X</td>\n",
              "      <td>They look good and stick good! I just don't li...</td>\n",
              "      <td>4</td>\n",
              "      <td>Looks Good</td>\n",
              "    </tr>\n",
              "    <tr>\n",
              "      <th>1</th>\n",
              "      <td>120401325X</td>\n",
              "      <td>These stickers work like the review says they ...</td>\n",
              "      <td>5</td>\n",
              "      <td>Really great product.</td>\n",
              "    </tr>\n",
              "    <tr>\n",
              "      <th>2</th>\n",
              "      <td>120401325X</td>\n",
              "      <td>These are awesome and make my phone look so st...</td>\n",
              "      <td>5</td>\n",
              "      <td>LOVE LOVE LOVE</td>\n",
              "    </tr>\n",
              "    <tr>\n",
              "      <th>3</th>\n",
              "      <td>120401325X</td>\n",
              "      <td>Item arrived in great time and was in perfect ...</td>\n",
              "      <td>4</td>\n",
              "      <td>Cute!</td>\n",
              "    </tr>\n",
              "    <tr>\n",
              "      <th>4</th>\n",
              "      <td>120401325X</td>\n",
              "      <td>awesome! stays on, and looks great. can be use...</td>\n",
              "      <td>5</td>\n",
              "      <td>leopard home button sticker for iphone 4s</td>\n",
              "    </tr>\n",
              "  </tbody>\n",
              "</table>\n",
              "</div>"
            ],
            "text/plain": [
              "         asin  ...                                    summary\n",
              "0  120401325X  ...                                 Looks Good\n",
              "1  120401325X  ...                      Really great product.\n",
              "2  120401325X  ...                             LOVE LOVE LOVE\n",
              "3  120401325X  ...                                      Cute!\n",
              "4  120401325X  ...  leopard home button sticker for iphone 4s\n",
              "\n",
              "[5 rows x 4 columns]"
            ]
          },
          "metadata": {
            "tags": []
          },
          "execution_count": 4
        }
      ]
    },
    {
      "cell_type": "markdown",
      "metadata": {
        "id": "57oHfRnNr4Fk"
      },
      "source": [
        "# Remove Blank Records and null values"
      ]
    },
    {
      "cell_type": "code",
      "metadata": {
        "colab": {
          "base_uri": "https://localhost:8080/"
        },
        "id": "wy3Bev2Jr4Fl",
        "outputId": "fbac1e83-4a33-4ac9-f26d-9b764506a4e8"
      },
      "source": [
        "df.isnull().sum()"
      ],
      "execution_count": 5,
      "outputs": [
        {
          "output_type": "execute_result",
          "data": {
            "text/plain": [
              "asin           0\n",
              "reviewText    99\n",
              "overall        0\n",
              "summary        1\n",
              "dtype: int64"
            ]
          },
          "metadata": {
            "tags": []
          },
          "execution_count": 5
        }
      ]
    },
    {
      "cell_type": "code",
      "metadata": {
        "colab": {
          "base_uri": "https://localhost:8080/"
        },
        "id": "vxnqzcIcr4Fl",
        "outputId": "9882033f-2104-47ab-9160-a3c90e739d74"
      },
      "source": [
        "# Check for whitespace strings (it's OK if there aren't any!):\n",
        "blanks = []  # start with an empty list\n",
        "\n",
        "for i,asin,rv,ov,summ in df.itertuples():  # iterate over the DataFrame\n",
        "    if type(rv)==str:            # avoid NaN values\n",
        "        if rv.isspace():         # test 'review' for whitespace\n",
        "            blanks.append(i)     # add matching index numbers to the list\n",
        "\n",
        "    if type(summ)==str:            # avoid NaN values\n",
        "        if summ.isspace():         # test 'review' for whitespace\n",
        "            blanks.append(i)     # add matching index numbers to the list   \n",
        "    \n",
        "  \n",
        "len(blanks)"
      ],
      "execution_count": 6,
      "outputs": [
        {
          "output_type": "execute_result",
          "data": {
            "text/plain": [
              "0"
            ]
          },
          "metadata": {
            "tags": []
          },
          "execution_count": 6
        }
      ]
    },
    {
      "cell_type": "code",
      "metadata": {
        "id": "5BTQzzqfr4Fm"
      },
      "source": [
        "df.dropna(inplace=True)"
      ],
      "execution_count": 7,
      "outputs": []
    },
    {
      "cell_type": "markdown",
      "metadata": {
        "id": "TRKLZBSFr4Fm"
      },
      "source": [
        "#Convert reviewText to the string "
      ]
    },
    {
      "cell_type": "code",
      "metadata": {
        "colab": {
          "base_uri": "https://localhost:8080/",
          "height": 194
        },
        "id": "boe3UpZfr4Fm",
        "outputId": "962b25d1-88fc-46e5-d464-0540f5eea756"
      },
      "source": [
        "df['reviewText']=df['reviewText'].apply(str)\n",
        "df.head()"
      ],
      "execution_count": 8,
      "outputs": [
        {
          "output_type": "execute_result",
          "data": {
            "text/html": [
              "<div>\n",
              "<style scoped>\n",
              "    .dataframe tbody tr th:only-of-type {\n",
              "        vertical-align: middle;\n",
              "    }\n",
              "\n",
              "    .dataframe tbody tr th {\n",
              "        vertical-align: top;\n",
              "    }\n",
              "\n",
              "    .dataframe thead th {\n",
              "        text-align: right;\n",
              "    }\n",
              "</style>\n",
              "<table border=\"1\" class=\"dataframe\">\n",
              "  <thead>\n",
              "    <tr style=\"text-align: right;\">\n",
              "      <th></th>\n",
              "      <th>asin</th>\n",
              "      <th>reviewText</th>\n",
              "      <th>overall</th>\n",
              "      <th>summary</th>\n",
              "    </tr>\n",
              "  </thead>\n",
              "  <tbody>\n",
              "    <tr>\n",
              "      <th>0</th>\n",
              "      <td>120401325X</td>\n",
              "      <td>They look good and stick good! I just don't li...</td>\n",
              "      <td>4</td>\n",
              "      <td>Looks Good</td>\n",
              "    </tr>\n",
              "    <tr>\n",
              "      <th>1</th>\n",
              "      <td>120401325X</td>\n",
              "      <td>These stickers work like the review says they ...</td>\n",
              "      <td>5</td>\n",
              "      <td>Really great product.</td>\n",
              "    </tr>\n",
              "    <tr>\n",
              "      <th>2</th>\n",
              "      <td>120401325X</td>\n",
              "      <td>These are awesome and make my phone look so st...</td>\n",
              "      <td>5</td>\n",
              "      <td>LOVE LOVE LOVE</td>\n",
              "    </tr>\n",
              "    <tr>\n",
              "      <th>3</th>\n",
              "      <td>120401325X</td>\n",
              "      <td>Item arrived in great time and was in perfect ...</td>\n",
              "      <td>4</td>\n",
              "      <td>Cute!</td>\n",
              "    </tr>\n",
              "    <tr>\n",
              "      <th>4</th>\n",
              "      <td>120401325X</td>\n",
              "      <td>awesome! stays on, and looks great. can be use...</td>\n",
              "      <td>5</td>\n",
              "      <td>leopard home button sticker for iphone 4s</td>\n",
              "    </tr>\n",
              "  </tbody>\n",
              "</table>\n",
              "</div>"
            ],
            "text/plain": [
              "         asin  ...                                    summary\n",
              "0  120401325X  ...                                 Looks Good\n",
              "1  120401325X  ...                      Really great product.\n",
              "2  120401325X  ...                             LOVE LOVE LOVE\n",
              "3  120401325X  ...                                      Cute!\n",
              "4  120401325X  ...  leopard home button sticker for iphone 4s\n",
              "\n",
              "[5 rows x 4 columns]"
            ]
          },
          "metadata": {
            "tags": []
          },
          "execution_count": 8
        }
      ]
    },
    {
      "cell_type": "code",
      "metadata": {
        "colab": {
          "base_uri": "https://localhost:8080/"
        },
        "id": "FzWWXYB8r4Fn",
        "outputId": "898e8bf0-e497-4e8b-9133-731cbfa6c61f"
      },
      "source": [
        "len(df['reviewText'])"
      ],
      "execution_count": 9,
      "outputs": [
        {
          "output_type": "execute_result",
          "data": {
            "text/plain": [
              "194339"
            ]
          },
          "metadata": {
            "tags": []
          },
          "execution_count": 9
        }
      ]
    },
    {
      "cell_type": "markdown",
      "metadata": {
        "id": "Mq1Oudg4r4Fo"
      },
      "source": [
        "# Cleaning the data \n",
        "Remove ‘\\n’\n",
        "\n",
        "Remove emojis if any\n",
        "\n",
        "Remove punctuation marks\n",
        "\n",
        "Remove extra spaces\n",
        "\n",
        "Remove stopwords — Stopwords are those words which occur very frequently but are not required for analysis as they provide no insights. Removing them will reduce computational load. They include words like I, me, myself, that, him, etc."
      ]
    },
    {
      "cell_type": "code",
      "metadata": {
        "id": "hUo4xlmMr4Fp"
      },
      "source": [
        "def deEmojify(text):\n",
        "    regrex_pattern = re.compile(pattern = \"[\"\n",
        "        u\"\\U0001F600-\\U0001F64F\"  # emoticons\n",
        "        u\"\\U0001F300-\\U0001F5FF\"  # symbols & pictographs\n",
        "        u\"\\U0001F680-\\U0001F6FF\"  # transport & map symbols\n",
        "        u\"\\U0001F1E0-\\U0001F1FF\"  # flags (iOS)\n",
        "                           \"]+\", flags = re.UNICODE)\n",
        "    return regrex_pattern.sub(r'',text)\n",
        "\n",
        "#STOPWORDS\n",
        "stop_words = ['in','of','at','a','the','and','is','on','an','they','was','it','i','them','to','these','this']\n",
        "\n",
        "#EXPANDING CONTRACTIONS\n",
        "def decontracted(phrase):\n",
        "    phrase=re.sub(r\"won't\",\"will not\",phrase)\n",
        "    phrase=re.sub(r\"can't\",\"can not\",phrase)\n",
        "    phrase=re.sub(r\"n\\'t\",\" not\",phrase)\n",
        "    phrase=re.sub(r\"\\'re\",\" are\",phrase)\n",
        "    phrase=re.sub(r\"\\'s\",\" is\",phrase)\n",
        "    phrase=re.sub(r\"\\'d\",\" would\",phrase)\n",
        "    phrase=re.sub(r\"\\'ll\",\" will\",phrase)    \n",
        "    phrase=re.sub(r\"\\'t\",\" not\",phrase)\n",
        "    phrase=re.sub(r\"\\'ve\",\" have\",phrase)\n",
        "    phrase=re.sub(r\"\\'m\",\" am\",phrase)\n",
        "    return phrase\n",
        "\n",
        "\n",
        "##STEMMING USING SNOWBALL\n",
        "snow_stemmer = SnowballStemmer(language='english')\n",
        "\n",
        "#LEMMATIZATION\n",
        "lemmatizer = WordNetLemmatizer()"
      ],
      "execution_count": 10,
      "outputs": []
    },
    {
      "cell_type": "code",
      "metadata": {
        "id": "MulAmUCVr4Fs"
      },
      "source": [
        "def clean_text(text):\n",
        "    \n",
        "    snow_stemmer = SnowballStemmer(language='english')\n",
        "    \n",
        "    lemmatizer = WordNetLemmatizer()\n",
        "    \n",
        "    text = decontracted(text)\n",
        "    \n",
        "    text = deEmojify(text) #remove Emojis\n",
        "    \n",
        "    text_cleaned = \"\".join([x for x in text if x not in string.punctuation]) #remove punctuation\n",
        "    \n",
        "    text_cleaned = re.sub(' +', ' ',text_cleaned) #remove extra spaces\n",
        "    \n",
        "    text_cleaned = text_cleaned.lower() #converting into lower case\n",
        "    \n",
        "    tokens = text_cleaned.split(\" \")\n",
        "    \n",
        "    tokens = [token for token in tokens if token not in stop_words] #taking only those words which are not stop words \n",
        "    \n",
        "    text_cleaned = \" \".join([snow_stemmer.stem(token) for token in tokens])\n",
        "    \n",
        "    text_cleaned = \" \".join([lemmatizer.lemmatize(token) for token in tokens])\n",
        "    \n",
        "    return text_cleaned"
      ],
      "execution_count": 11,
      "outputs": []
    },
    {
      "cell_type": "markdown",
      "metadata": {
        "id": "_iah90okr4Fu"
      },
      "source": [
        "## Apply this on reviews column"
      ]
    },
    {
      "cell_type": "code",
      "metadata": {
        "scrolled": true,
        "colab": {
          "base_uri": "https://localhost:8080/",
          "height": 194
        },
        "id": "73AkU9lYr4Fv",
        "outputId": "794b089c-9e10-4b34-d544-d783d49cc828"
      },
      "source": [
        "df['cleaned_reviews']=df['reviewText'].apply(lambda x:clean_text(x))\n",
        "df.head()"
      ],
      "execution_count": 12,
      "outputs": [
        {
          "output_type": "execute_result",
          "data": {
            "text/html": [
              "<div>\n",
              "<style scoped>\n",
              "    .dataframe tbody tr th:only-of-type {\n",
              "        vertical-align: middle;\n",
              "    }\n",
              "\n",
              "    .dataframe tbody tr th {\n",
              "        vertical-align: top;\n",
              "    }\n",
              "\n",
              "    .dataframe thead th {\n",
              "        text-align: right;\n",
              "    }\n",
              "</style>\n",
              "<table border=\"1\" class=\"dataframe\">\n",
              "  <thead>\n",
              "    <tr style=\"text-align: right;\">\n",
              "      <th></th>\n",
              "      <th>asin</th>\n",
              "      <th>reviewText</th>\n",
              "      <th>overall</th>\n",
              "      <th>summary</th>\n",
              "      <th>cleaned_reviews</th>\n",
              "    </tr>\n",
              "  </thead>\n",
              "  <tbody>\n",
              "    <tr>\n",
              "      <th>0</th>\n",
              "      <td>120401325X</td>\n",
              "      <td>They look good and stick good! I just don't li...</td>\n",
              "      <td>4</td>\n",
              "      <td>Looks Good</td>\n",
              "      <td>look good stick good just do not like rounded ...</td>\n",
              "    </tr>\n",
              "    <tr>\n",
              "      <th>1</th>\n",
              "      <td>120401325X</td>\n",
              "      <td>These stickers work like the review says they ...</td>\n",
              "      <td>5</td>\n",
              "      <td>Really great product.</td>\n",
              "      <td>sticker work like review say do stick great st...</td>\n",
              "    </tr>\n",
              "    <tr>\n",
              "      <th>2</th>\n",
              "      <td>120401325X</td>\n",
              "      <td>These are awesome and make my phone look so st...</td>\n",
              "      <td>5</td>\n",
              "      <td>LOVE LOVE LOVE</td>\n",
              "      <td>are awesome make my phone look so stylish have...</td>\n",
              "    </tr>\n",
              "    <tr>\n",
              "      <th>3</th>\n",
              "      <td>120401325X</td>\n",
              "      <td>Item arrived in great time and was in perfect ...</td>\n",
              "      <td>4</td>\n",
              "      <td>Cute!</td>\n",
              "      <td>item arrived great time perfect condition howe...</td>\n",
              "    </tr>\n",
              "    <tr>\n",
              "      <th>4</th>\n",
              "      <td>120401325X</td>\n",
              "      <td>awesome! stays on, and looks great. can be use...</td>\n",
              "      <td>5</td>\n",
              "      <td>leopard home button sticker for iphone 4s</td>\n",
              "      <td>awesome stay look great can be used multiple a...</td>\n",
              "    </tr>\n",
              "  </tbody>\n",
              "</table>\n",
              "</div>"
            ],
            "text/plain": [
              "         asin  ...                                    cleaned_reviews\n",
              "0  120401325X  ...  look good stick good just do not like rounded ...\n",
              "1  120401325X  ...  sticker work like review say do stick great st...\n",
              "2  120401325X  ...  are awesome make my phone look so stylish have...\n",
              "3  120401325X  ...  item arrived great time perfect condition howe...\n",
              "4  120401325X  ...  awesome stay look great can be used multiple a...\n",
              "\n",
              "[5 rows x 5 columns]"
            ]
          },
          "metadata": {
            "tags": []
          },
          "execution_count": 12
        }
      ]
    },
    {
      "cell_type": "markdown",
      "metadata": {
        "id": "gNqS2zNIAGXq"
      },
      "source": [
        "## CREATING A SENTIMENT COLUMN"
      ]
    },
    {
      "cell_type": "code",
      "metadata": {
        "colab": {
          "base_uri": "https://localhost:8080/",
          "height": 194
        },
        "id": "mup7sx6zr4Fy",
        "outputId": "7da0ff16-53e4-4aca-e394-17b90f083871"
      },
      "source": [
        "def sentiment(n):\n",
        "    return 1 if n >= 4 else 0\n",
        "df['sentiment'] = df['overall'].apply(sentiment)\n",
        "df.head()"
      ],
      "execution_count": 13,
      "outputs": [
        {
          "output_type": "execute_result",
          "data": {
            "text/html": [
              "<div>\n",
              "<style scoped>\n",
              "    .dataframe tbody tr th:only-of-type {\n",
              "        vertical-align: middle;\n",
              "    }\n",
              "\n",
              "    .dataframe tbody tr th {\n",
              "        vertical-align: top;\n",
              "    }\n",
              "\n",
              "    .dataframe thead th {\n",
              "        text-align: right;\n",
              "    }\n",
              "</style>\n",
              "<table border=\"1\" class=\"dataframe\">\n",
              "  <thead>\n",
              "    <tr style=\"text-align: right;\">\n",
              "      <th></th>\n",
              "      <th>asin</th>\n",
              "      <th>reviewText</th>\n",
              "      <th>overall</th>\n",
              "      <th>summary</th>\n",
              "      <th>cleaned_reviews</th>\n",
              "      <th>sentiment</th>\n",
              "    </tr>\n",
              "  </thead>\n",
              "  <tbody>\n",
              "    <tr>\n",
              "      <th>0</th>\n",
              "      <td>120401325X</td>\n",
              "      <td>They look good and stick good! I just don't li...</td>\n",
              "      <td>4</td>\n",
              "      <td>Looks Good</td>\n",
              "      <td>look good stick good just do not like rounded ...</td>\n",
              "      <td>1</td>\n",
              "    </tr>\n",
              "    <tr>\n",
              "      <th>1</th>\n",
              "      <td>120401325X</td>\n",
              "      <td>These stickers work like the review says they ...</td>\n",
              "      <td>5</td>\n",
              "      <td>Really great product.</td>\n",
              "      <td>sticker work like review say do stick great st...</td>\n",
              "      <td>1</td>\n",
              "    </tr>\n",
              "    <tr>\n",
              "      <th>2</th>\n",
              "      <td>120401325X</td>\n",
              "      <td>These are awesome and make my phone look so st...</td>\n",
              "      <td>5</td>\n",
              "      <td>LOVE LOVE LOVE</td>\n",
              "      <td>are awesome make my phone look so stylish have...</td>\n",
              "      <td>1</td>\n",
              "    </tr>\n",
              "    <tr>\n",
              "      <th>3</th>\n",
              "      <td>120401325X</td>\n",
              "      <td>Item arrived in great time and was in perfect ...</td>\n",
              "      <td>4</td>\n",
              "      <td>Cute!</td>\n",
              "      <td>item arrived great time perfect condition howe...</td>\n",
              "      <td>1</td>\n",
              "    </tr>\n",
              "    <tr>\n",
              "      <th>4</th>\n",
              "      <td>120401325X</td>\n",
              "      <td>awesome! stays on, and looks great. can be use...</td>\n",
              "      <td>5</td>\n",
              "      <td>leopard home button sticker for iphone 4s</td>\n",
              "      <td>awesome stay look great can be used multiple a...</td>\n",
              "      <td>1</td>\n",
              "    </tr>\n",
              "  </tbody>\n",
              "</table>\n",
              "</div>"
            ],
            "text/plain": [
              "         asin  ... sentiment\n",
              "0  120401325X  ...         1\n",
              "1  120401325X  ...         1\n",
              "2  120401325X  ...         1\n",
              "3  120401325X  ...         1\n",
              "4  120401325X  ...         1\n",
              "\n",
              "[5 rows x 6 columns]"
            ]
          },
          "metadata": {
            "tags": []
          },
          "execution_count": 13
        }
      ]
    },
    {
      "cell_type": "code",
      "metadata": {
        "colab": {
          "base_uri": "https://localhost:8080/"
        },
        "id": "NQ6wNV6-r4Fz",
        "outputId": "89f6a372-1e4d-4441-9632-8d431dcf8a72"
      },
      "source": [
        "df['sentiment'].value_counts()"
      ],
      "execution_count": 14,
      "outputs": [
        {
          "output_type": "execute_result",
          "data": {
            "text/plain": [
              "1    148575\n",
              "0     45764\n",
              "Name: sentiment, dtype: int64"
            ]
          },
          "metadata": {
            "tags": []
          },
          "execution_count": 14
        }
      ]
    },
    {
      "cell_type": "markdown",
      "metadata": {
        "id": "VpmDHdG3r4F0"
      },
      "source": [
        "<font color=green>148575 out of 194339 messages, or 76.45%, are positive reviews. This means that any text classification model we create has to perform **better than 76.45%** to beat random chance.</font>"
      ]
    },
    {
      "cell_type": "markdown",
      "metadata": {
        "id": "8n9lBLo3r4F0"
      },
      "source": [
        "# Splitting into train and test"
      ]
    },
    {
      "cell_type": "code",
      "metadata": {
        "colab": {
          "base_uri": "https://localhost:8080/"
        },
        "id": "HqS94BE6r4F1",
        "outputId": "a0765873-21bf-4ba3-c06a-255c6aaa79b5"
      },
      "source": [
        "from sklearn.model_selection import train_test_split\n",
        "\n",
        "X = df['cleaned_reviews']  # this time we want to look at the text\n",
        "y = df['sentiment']\n",
        "\n",
        "X_train, X_test, y_train, y_test = train_test_split(X, y, test_size=0.33, random_state=42)\n",
        "print('Training Data Shape:', X_train.shape)\n",
        "print('Testing Data Shape: ', X_test.shape)"
      ],
      "execution_count": 15,
      "outputs": [
        {
          "output_type": "stream",
          "text": [
            "Training Data Shape: (130207,)\n",
            "Testing Data Shape:  (64132,)\n"
          ],
          "name": "stdout"
        }
      ]
    },
    {
      "cell_type": "markdown",
      "metadata": {
        "id": "SJFhOP5Hr4F4"
      },
      "source": [
        "# TRAIN DIFFERENT CLASSIFIERS"
      ]
    },
    {
      "cell_type": "markdown",
      "metadata": {
        "id": "nwJqIqb4r4F4"
      },
      "source": [
        "# Build pipelines to vectorize the data, then train and fit a model\n",
        "Now that we have sets to train and test, we'll develop a selection of pipelines, each with a different model."
      ]
    },
    {
      "cell_type": "markdown",
      "metadata": {
        "id": "TLuzzhLer4F5"
      },
      "source": [
        "# USING TFIDF VECTORIZER"
      ]
    },
    {
      "cell_type": "code",
      "metadata": {
        "id": "qStxnCDRr4F5"
      },
      "source": [
        "# Naïve Bayes:\n",
        "text_clf_nb_tfidf = Pipeline([('tfidf', TfidfVectorizer(binary = True, ngram_range=(1,2))),\n",
        "                     ('clf', MultinomialNB(alpha = 0.01)),\n",
        "])\n",
        "\n",
        "# Linear SVC:\n",
        "text_clf_lsvc_tfidf = Pipeline([('tfidf', TfidfVectorizer(binary = True, ngram_range=(1,2))),\n",
        "                     ('clf', LinearSVC(C = 0.5,max_iter = 1000)),\n",
        "])\n",
        "\n",
        "# Logistic Regression:\n",
        "text_clf_lr_tfidf = Pipeline([('tfidf',TfidfVectorizer(binary = True, ngram_range=(1,2))),\n",
        "                     ('clf', LogisticRegression(C=1,max_iter = 1000)),\n",
        "])\n"
      ],
      "execution_count": 16,
      "outputs": []
    },
    {
      "cell_type": "code",
      "metadata": {
        "id": "SuYBbX2s6i4G"
      },
      "source": [
        "#Random Forest:\n",
        "text_clf_rf_tfidf = Pipeline([('tfidf',TfidfVectorizer(binary = True, ngram_range=(1,2))),\n",
        "                              ('clf',RandomForestClassifier()),\n",
        "])"
      ],
      "execution_count": 18,
      "outputs": []
    },
    {
      "cell_type": "code",
      "metadata": {
        "id": "IQ1Lxngb6i68"
      },
      "source": [
        "#XGB\n",
        "text_clf_xgb_tfidf = Pipeline([('xgb',TfidfVectorizer(binary=True,ngram_range=(1,2))),\n",
        "                    ('clf',XGBClassifier(learning_rate=0.3,n_estimators=2000)),\n",
        "])"
      ],
      "execution_count": 19,
      "outputs": []
    },
    {
      "cell_type": "markdown",
      "metadata": {
        "id": "_rzPpFYnr4F6"
      },
      "source": [
        "# Feed the training data through the pipeline"
      ]
    },
    {
      "cell_type": "code",
      "metadata": {
        "colab": {
          "base_uri": "https://localhost:8080/"
        },
        "id": "faIenLfgr4F6",
        "outputId": "8e33703d-4594-4888-cc59-57f4f02c1989"
      },
      "source": [
        "## Naïve Bayes:\n",
        "text_clf_nb_tfidf.fit(X_train, y_train) \n",
        "\n",
        "# Linear SVC:\n",
        "text_clf_lsvc_tfidf.fit(X_train, y_train) \n",
        "\n",
        "#Logistic Regression\n",
        "text_clf_lr_tfidf.fit(X_train, y_train) "
      ],
      "execution_count": 20,
      "outputs": [
        {
          "output_type": "execute_result",
          "data": {
            "text/plain": [
              "Pipeline(memory=None,\n",
              "         steps=[('tfidf',\n",
              "                 TfidfVectorizer(analyzer='word', binary=True,\n",
              "                                 decode_error='strict',\n",
              "                                 dtype=<class 'numpy.float64'>,\n",
              "                                 encoding='utf-8', input='content',\n",
              "                                 lowercase=True, max_df=1.0, max_features=None,\n",
              "                                 min_df=1, ngram_range=(1, 2), norm='l2',\n",
              "                                 preprocessor=None, smooth_idf=True,\n",
              "                                 stop_words=None, strip_accents=None,\n",
              "                                 sublinear_tf=False,\n",
              "                                 token_pattern='(?u)\\\\b\\\\w\\\\w+\\\\b',\n",
              "                                 tokenizer=None, use_idf=True,\n",
              "                                 vocabulary=None)),\n",
              "                ('clf',\n",
              "                 LogisticRegression(C=1, class_weight=None, dual=False,\n",
              "                                    fit_intercept=True, intercept_scaling=1,\n",
              "                                    l1_ratio=None, max_iter=1000,\n",
              "                                    multi_class='auto', n_jobs=None,\n",
              "                                    penalty='l2', random_state=None,\n",
              "                                    solver='lbfgs', tol=0.0001, verbose=0,\n",
              "                                    warm_start=False))],\n",
              "         verbose=False)"
            ]
          },
          "metadata": {
            "tags": []
          },
          "execution_count": 20
        }
      ]
    },
    {
      "cell_type": "code",
      "metadata": {
        "colab": {
          "base_uri": "https://localhost:8080/"
        },
        "id": "exywqaxe7oL0",
        "outputId": "69983ecb-e3c3-4ba4-eac9-42e2e2461261"
      },
      "source": [
        "#Random Forest\n",
        "text_clf_rf_tfidf.fit(X_train, y_train) "
      ],
      "execution_count": 22,
      "outputs": [
        {
          "output_type": "execute_result",
          "data": {
            "text/plain": [
              "Pipeline(memory=None,\n",
              "         steps=[('tfidf',\n",
              "                 TfidfVectorizer(analyzer='word', binary=True,\n",
              "                                 decode_error='strict',\n",
              "                                 dtype=<class 'numpy.float64'>,\n",
              "                                 encoding='utf-8', input='content',\n",
              "                                 lowercase=True, max_df=1.0, max_features=None,\n",
              "                                 min_df=1, ngram_range=(1, 2), norm='l2',\n",
              "                                 preprocessor=None, smooth_idf=True,\n",
              "                                 stop_words=None, strip_accents=None,\n",
              "                                 sublinear_tf=False,\n",
              "                                 token_pattern='(...\n",
              "                 RandomForestClassifier(bootstrap=True, ccp_alpha=0.0,\n",
              "                                        class_weight=None, criterion='gini',\n",
              "                                        max_depth=None, max_features='auto',\n",
              "                                        max_leaf_nodes=None, max_samples=None,\n",
              "                                        min_impurity_decrease=0.0,\n",
              "                                        min_impurity_split=None,\n",
              "                                        min_samples_leaf=1, min_samples_split=2,\n",
              "                                        min_weight_fraction_leaf=0.0,\n",
              "                                        n_estimators=100, n_jobs=None,\n",
              "                                        oob_score=False, random_state=None,\n",
              "                                        verbose=0, warm_start=False))],\n",
              "         verbose=False)"
            ]
          },
          "metadata": {
            "tags": []
          },
          "execution_count": 22
        }
      ]
    },
    {
      "cell_type": "code",
      "metadata": {
        "colab": {
          "base_uri": "https://localhost:8080/"
        },
        "id": "7BBVH5Ja86t2",
        "outputId": "bee4dcde-3b17-4314-960b-fd1c454da060"
      },
      "source": [
        "#XGB\n",
        "text_clf_xgb_tfidf.fit(X_train, y_train) "
      ],
      "execution_count": 24,
      "outputs": [
        {
          "output_type": "execute_result",
          "data": {
            "text/plain": [
              "Pipeline(memory=None,\n",
              "         steps=[('xgb',\n",
              "                 TfidfVectorizer(analyzer='word', binary=True,\n",
              "                                 decode_error='strict',\n",
              "                                 dtype=<class 'numpy.float64'>,\n",
              "                                 encoding='utf-8', input='content',\n",
              "                                 lowercase=True, max_df=1.0, max_features=None,\n",
              "                                 min_df=1, ngram_range=(1, 2), norm='l2',\n",
              "                                 preprocessor=None, smooth_idf=True,\n",
              "                                 stop_words=None, strip_accents=None,\n",
              "                                 sublinear_tf=False,\n",
              "                                 token_pattern='(?u...\n",
              "                 XGBClassifier(base_score=0.5, booster='gbtree',\n",
              "                               colsample_bylevel=1, colsample_bynode=1,\n",
              "                               colsample_bytree=1, gamma=0, learning_rate=0.3,\n",
              "                               max_delta_step=0, max_depth=3,\n",
              "                               min_child_weight=1, missing=None,\n",
              "                               n_estimators=2000, n_jobs=1, nthread=None,\n",
              "                               objective='binary:logistic', random_state=0,\n",
              "                               reg_alpha=0, reg_lambda=1, scale_pos_weight=1,\n",
              "                               seed=None, silent=None, subsample=1,\n",
              "                               verbosity=1))],\n",
              "         verbose=False)"
            ]
          },
          "metadata": {
            "tags": []
          },
          "execution_count": 24
        }
      ]
    },
    {
      "cell_type": "markdown",
      "metadata": {
        "id": "Px5mio00r4F7"
      },
      "source": [
        "# Test the classifier and display results"
      ]
    },
    {
      "cell_type": "code",
      "metadata": {
        "id": "wsot4WWHr4F7"
      },
      "source": [
        "# Form a prediction set\n",
        "\n",
        "# Naïve Bayes:\n",
        "predictions_nb_tfidf = text_clf_nb_tfidf.predict(X_test)\n",
        "\n",
        "#Linear SVC\n",
        "predictions_lsvc_tfidf = text_clf_lsvc_tfidf.predict(X_test)\n",
        "\n",
        "#logistics Regression\n",
        "predictions_lr_tfidf = text_clf_lr_tfidf.predict(X_test)\n",
        "\n",
        "##RANDOM FOREST\n",
        "predictions_rf_tfidf = text_clf_rf_tfidf.predict(X_test)\n",
        "\n",
        "#XGB\n",
        "predictions_xgb_tfidf = text_clf_xgb_tfidf.predict(X_test)"
      ],
      "execution_count": 25,
      "outputs": []
    },
    {
      "cell_type": "markdown",
      "metadata": {
        "id": "iJ8_wpyb-UVv"
      },
      "source": [
        "# Report Confusion Matrix"
      ]
    },
    {
      "cell_type": "code",
      "metadata": {
        "colab": {
          "base_uri": "https://localhost:8080/",
          "height": 106
        },
        "id": "EhT2ZUt7r4F8",
        "outputId": "5abab4fd-fd3d-4969-defe-2271cac6cd9d"
      },
      "source": [
        "# Report the confusion matrix\n",
        "\n",
        "# Naïve Bayes:\n",
        "pd.DataFrame(metrics.confusion_matrix(y_test,predictions_nb_tfidf),index=['neg','pos'], columns=['neg','pos'])"
      ],
      "execution_count": 26,
      "outputs": [
        {
          "output_type": "execute_result",
          "data": {
            "text/html": [
              "<div>\n",
              "<style scoped>\n",
              "    .dataframe tbody tr th:only-of-type {\n",
              "        vertical-align: middle;\n",
              "    }\n",
              "\n",
              "    .dataframe tbody tr th {\n",
              "        vertical-align: top;\n",
              "    }\n",
              "\n",
              "    .dataframe thead th {\n",
              "        text-align: right;\n",
              "    }\n",
              "</style>\n",
              "<table border=\"1\" class=\"dataframe\">\n",
              "  <thead>\n",
              "    <tr style=\"text-align: right;\">\n",
              "      <th></th>\n",
              "      <th>neg</th>\n",
              "      <th>pos</th>\n",
              "    </tr>\n",
              "  </thead>\n",
              "  <tbody>\n",
              "    <tr>\n",
              "      <th>neg</th>\n",
              "      <td>6460</td>\n",
              "      <td>8544</td>\n",
              "    </tr>\n",
              "    <tr>\n",
              "      <th>pos</th>\n",
              "      <td>1314</td>\n",
              "      <td>47814</td>\n",
              "    </tr>\n",
              "  </tbody>\n",
              "</table>\n",
              "</div>"
            ],
            "text/plain": [
              "      neg    pos\n",
              "neg  6460   8544\n",
              "pos  1314  47814"
            ]
          },
          "metadata": {
            "tags": []
          },
          "execution_count": 26
        }
      ]
    },
    {
      "cell_type": "code",
      "metadata": {
        "colab": {
          "base_uri": "https://localhost:8080/",
          "height": 106
        },
        "id": "bL3iElozr4F8",
        "outputId": "6e5e20f4-b14a-49ce-b17c-3228a97eb74f"
      },
      "source": [
        "#Linear SVC\n",
        "pd.DataFrame(metrics.confusion_matrix(y_test,predictions_lsvc_tfidf),index=['neg','pos'], columns=['neg','pos'])"
      ],
      "execution_count": 27,
      "outputs": [
        {
          "output_type": "execute_result",
          "data": {
            "text/html": [
              "<div>\n",
              "<style scoped>\n",
              "    .dataframe tbody tr th:only-of-type {\n",
              "        vertical-align: middle;\n",
              "    }\n",
              "\n",
              "    .dataframe tbody tr th {\n",
              "        vertical-align: top;\n",
              "    }\n",
              "\n",
              "    .dataframe thead th {\n",
              "        text-align: right;\n",
              "    }\n",
              "</style>\n",
              "<table border=\"1\" class=\"dataframe\">\n",
              "  <thead>\n",
              "    <tr style=\"text-align: right;\">\n",
              "      <th></th>\n",
              "      <th>neg</th>\n",
              "      <th>pos</th>\n",
              "    </tr>\n",
              "  </thead>\n",
              "  <tbody>\n",
              "    <tr>\n",
              "      <th>neg</th>\n",
              "      <td>10115</td>\n",
              "      <td>4889</td>\n",
              "    </tr>\n",
              "    <tr>\n",
              "      <th>pos</th>\n",
              "      <td>2215</td>\n",
              "      <td>46913</td>\n",
              "    </tr>\n",
              "  </tbody>\n",
              "</table>\n",
              "</div>"
            ],
            "text/plain": [
              "       neg    pos\n",
              "neg  10115   4889\n",
              "pos   2215  46913"
            ]
          },
          "metadata": {
            "tags": []
          },
          "execution_count": 27
        }
      ]
    },
    {
      "cell_type": "code",
      "metadata": {
        "colab": {
          "base_uri": "https://localhost:8080/",
          "height": 106
        },
        "id": "SWQCjLjcr4F9",
        "outputId": "539bd0bd-a134-4fc7-8ef2-630872bce728"
      },
      "source": [
        "#logistic Regression \n",
        "pd.DataFrame(metrics.confusion_matrix(y_test,predictions_lr_tfidf),index=['neg','pos'], columns=['neg','pos'])"
      ],
      "execution_count": 28,
      "outputs": [
        {
          "output_type": "execute_result",
          "data": {
            "text/html": [
              "<div>\n",
              "<style scoped>\n",
              "    .dataframe tbody tr th:only-of-type {\n",
              "        vertical-align: middle;\n",
              "    }\n",
              "\n",
              "    .dataframe tbody tr th {\n",
              "        vertical-align: top;\n",
              "    }\n",
              "\n",
              "    .dataframe thead th {\n",
              "        text-align: right;\n",
              "    }\n",
              "</style>\n",
              "<table border=\"1\" class=\"dataframe\">\n",
              "  <thead>\n",
              "    <tr style=\"text-align: right;\">\n",
              "      <th></th>\n",
              "      <th>neg</th>\n",
              "      <th>pos</th>\n",
              "    </tr>\n",
              "  </thead>\n",
              "  <tbody>\n",
              "    <tr>\n",
              "      <th>neg</th>\n",
              "      <td>9048</td>\n",
              "      <td>5956</td>\n",
              "    </tr>\n",
              "    <tr>\n",
              "      <th>pos</th>\n",
              "      <td>1782</td>\n",
              "      <td>47346</td>\n",
              "    </tr>\n",
              "  </tbody>\n",
              "</table>\n",
              "</div>"
            ],
            "text/plain": [
              "      neg    pos\n",
              "neg  9048   5956\n",
              "pos  1782  47346"
            ]
          },
          "metadata": {
            "tags": []
          },
          "execution_count": 28
        }
      ]
    },
    {
      "cell_type": "code",
      "metadata": {
        "colab": {
          "base_uri": "https://localhost:8080/",
          "height": 106
        },
        "id": "r7BXSU1f-Gg5",
        "outputId": "cfc3904f-8886-4494-bd48-6a2fff2cca9e"
      },
      "source": [
        "#Random Forest\n",
        "pd.DataFrame(metrics.confusion_matrix(y_test,predictions_rf_tfidf),index=['neg','pos'], columns=['neg','pos'])"
      ],
      "execution_count": 29,
      "outputs": [
        {
          "output_type": "execute_result",
          "data": {
            "text/html": [
              "<div>\n",
              "<style scoped>\n",
              "    .dataframe tbody tr th:only-of-type {\n",
              "        vertical-align: middle;\n",
              "    }\n",
              "\n",
              "    .dataframe tbody tr th {\n",
              "        vertical-align: top;\n",
              "    }\n",
              "\n",
              "    .dataframe thead th {\n",
              "        text-align: right;\n",
              "    }\n",
              "</style>\n",
              "<table border=\"1\" class=\"dataframe\">\n",
              "  <thead>\n",
              "    <tr style=\"text-align: right;\">\n",
              "      <th></th>\n",
              "      <th>neg</th>\n",
              "      <th>pos</th>\n",
              "    </tr>\n",
              "  </thead>\n",
              "  <tbody>\n",
              "    <tr>\n",
              "      <th>neg</th>\n",
              "      <td>2675</td>\n",
              "      <td>12329</td>\n",
              "    </tr>\n",
              "    <tr>\n",
              "      <th>pos</th>\n",
              "      <td>166</td>\n",
              "      <td>48962</td>\n",
              "    </tr>\n",
              "  </tbody>\n",
              "</table>\n",
              "</div>"
            ],
            "text/plain": [
              "      neg    pos\n",
              "neg  2675  12329\n",
              "pos   166  48962"
            ]
          },
          "metadata": {
            "tags": []
          },
          "execution_count": 29
        }
      ]
    },
    {
      "cell_type": "code",
      "metadata": {
        "colab": {
          "base_uri": "https://localhost:8080/",
          "height": 106
        },
        "id": "2DVjhKsU-Gq4",
        "outputId": "ae990201-beec-40a0-e507-25f3affd96e8"
      },
      "source": [
        "#XGB\n",
        "pd.DataFrame(metrics.confusion_matrix(y_test,predictions_xgb_tfidf),index=['neg','pos'], columns=['neg','pos'])"
      ],
      "execution_count": 30,
      "outputs": [
        {
          "output_type": "execute_result",
          "data": {
            "text/html": [
              "<div>\n",
              "<style scoped>\n",
              "    .dataframe tbody tr th:only-of-type {\n",
              "        vertical-align: middle;\n",
              "    }\n",
              "\n",
              "    .dataframe tbody tr th {\n",
              "        vertical-align: top;\n",
              "    }\n",
              "\n",
              "    .dataframe thead th {\n",
              "        text-align: right;\n",
              "    }\n",
              "</style>\n",
              "<table border=\"1\" class=\"dataframe\">\n",
              "  <thead>\n",
              "    <tr style=\"text-align: right;\">\n",
              "      <th></th>\n",
              "      <th>neg</th>\n",
              "      <th>pos</th>\n",
              "    </tr>\n",
              "  </thead>\n",
              "  <tbody>\n",
              "    <tr>\n",
              "      <th>neg</th>\n",
              "      <td>9720</td>\n",
              "      <td>5284</td>\n",
              "    </tr>\n",
              "    <tr>\n",
              "      <th>pos</th>\n",
              "      <td>2495</td>\n",
              "      <td>46633</td>\n",
              "    </tr>\n",
              "  </tbody>\n",
              "</table>\n",
              "</div>"
            ],
            "text/plain": [
              "      neg    pos\n",
              "neg  9720   5284\n",
              "pos  2495  46633"
            ]
          },
          "metadata": {
            "tags": []
          },
          "execution_count": 30
        }
      ]
    },
    {
      "cell_type": "markdown",
      "metadata": {
        "id": "RBubFTms-ZhM"
      },
      "source": [
        "## CLASSIFICATION REPORT"
      ]
    },
    {
      "cell_type": "code",
      "metadata": {
        "colab": {
          "base_uri": "https://localhost:8080/"
        },
        "id": "L4PqF1mWr4F-",
        "outputId": "658966af-1f0e-41b6-f11d-7c775eab78a3"
      },
      "source": [
        "print('===================a classification report with TFIDF======================') #a classification report\n",
        "#NAIVE BAYES\n",
        "print('========================NAIVE BAYES====================')\n",
        "\n",
        "print(metrics.classification_report(y_test,predictions_nb_tfidf))\n",
        "\n",
        "#Linear SVC\n",
        "print('=====================LINEAR SVC=========================')\n",
        "\n",
        "print(metrics.classification_report(y_test,predictions_lsvc_tfidf))\n",
        "\n",
        "#logiatic Regression \n",
        "print('===================LOGISTIC REGRESSION=====================')\n",
        "print(metrics.classification_report(y_test,predictions_lr_tfidf))\n",
        "\n",
        "##Random FOrest\n",
        "print('======================RANDOM FOREST WITH TFIDF====================')\n",
        "\n",
        "print(metrics.classification_report(y_test,predictions_rf_tfidf))\n",
        "\n",
        "##XGB\n",
        "print('=======================XGB WITH TFIDF==============================')\n",
        "\n",
        "print(metrics.classification_report(y_test,predictions_xgb_tfidf))"
      ],
      "execution_count": 32,
      "outputs": [
        {
          "output_type": "stream",
          "text": [
            "===================a classification report with TFIDF======================\n",
            "========================NAIVE BAYES====================\n",
            "              precision    recall  f1-score   support\n",
            "\n",
            "           0       0.83      0.43      0.57     15004\n",
            "           1       0.85      0.97      0.91     49128\n",
            "\n",
            "    accuracy                           0.85     64132\n",
            "   macro avg       0.84      0.70      0.74     64132\n",
            "weighted avg       0.84      0.85      0.83     64132\n",
            "\n",
            "=====================LINEAR SVC=========================\n",
            "              precision    recall  f1-score   support\n",
            "\n",
            "           0       0.82      0.67      0.74     15004\n",
            "           1       0.91      0.95      0.93     49128\n",
            "\n",
            "    accuracy                           0.89     64132\n",
            "   macro avg       0.86      0.81      0.83     64132\n",
            "weighted avg       0.89      0.89      0.89     64132\n",
            "\n",
            "===================LOGISTIC REGRESSION=====================\n",
            "              precision    recall  f1-score   support\n",
            "\n",
            "           0       0.84      0.60      0.70     15004\n",
            "           1       0.89      0.96      0.92     49128\n",
            "\n",
            "    accuracy                           0.88     64132\n",
            "   macro avg       0.86      0.78      0.81     64132\n",
            "weighted avg       0.88      0.88      0.87     64132\n",
            "\n",
            "======================RANDOM FOREST WITH TFIDF====================\n",
            "              precision    recall  f1-score   support\n",
            "\n",
            "           0       0.94      0.18      0.30     15004\n",
            "           1       0.80      1.00      0.89     49128\n",
            "\n",
            "    accuracy                           0.81     64132\n",
            "   macro avg       0.87      0.59      0.59     64132\n",
            "weighted avg       0.83      0.81      0.75     64132\n",
            "\n",
            "=======================XGB WITH TFIDF==============================\n",
            "              precision    recall  f1-score   support\n",
            "\n",
            "           0       0.80      0.65      0.71     15004\n",
            "           1       0.90      0.95      0.92     49128\n",
            "\n",
            "    accuracy                           0.88     64132\n",
            "   macro avg       0.85      0.80      0.82     64132\n",
            "weighted avg       0.87      0.88      0.87     64132\n",
            "\n"
          ],
          "name": "stdout"
        }
      ]
    },
    {
      "cell_type": "code",
      "metadata": {
        "colab": {
          "base_uri": "https://localhost:8080/"
        },
        "id": "GUdmdw2ur4F-",
        "outputId": "eece1561-3bd8-4b7f-e089-62f089003141"
      },
      "source": [
        "# Print the overall accuracy (Binary = True)\n",
        "print(f\"The overall accuracy using naive bayes is : {metrics.accuracy_score(y_test,predictions_nb_tfidf)}\")\n",
        "\n",
        "print(f\"The overall accuracy using linear SVC is : {metrics.accuracy_score(y_test,predictions_lsvc_tfidf)}\")\n",
        "\n",
        "print(f\"The Final accuracy using Logistic Regression is : {metrics.accuracy_score(y_test,predictions_lr_tfidf)}\")\n",
        "\n",
        "print(f\"The Final accuracy using Random Forest is : {metrics.accuracy_score(y_test,predictions_rf_tfidf)}\")\n",
        "\n",
        "print(f\"The Final accuracy using XGB is : {metrics.accuracy_score(y_test,predictions_xgb_tfidf)}\")"
      ],
      "execution_count": 33,
      "outputs": [
        {
          "output_type": "stream",
          "text": [
            "The overall accuracy using naive bayes is : 0.8462857855672675\n",
            "The overall accuracy using linear SVC is : 0.8892284662882805\n",
            "The Final accuracy using Logistic Regression is : 0.879342605875382\n",
            "The Final accuracy using Random Forest is : 0.8051674670991081\n",
            "The Final accuracy using XGB is : 0.8787032994448949\n"
          ],
          "name": "stdout"
        }
      ]
    },
    {
      "cell_type": "code",
      "metadata": {
        "id": "pcDlMfwNr4F-"
      },
      "source": [
        "myreview = \"The product is reallyyy horrible waste of money!!\""
      ],
      "execution_count": 34,
      "outputs": []
    },
    {
      "cell_type": "code",
      "metadata": {
        "colab": {
          "base_uri": "https://localhost:8080/"
        },
        "id": "uvntrJw6r4F-",
        "outputId": "7e190b70-79e1-48ce-9535-0ba3bd6d1fe6"
      },
      "source": [
        "\n",
        "print(text_clf_lsvc_tfidf.predict([myreview])) \n",
        "\n",
        "print(text_clf_nb_tfidf.predict([myreview])) \n",
        "\n",
        "print(text_clf_lr_tfidf.predict([myreview]))\n",
        "\n",
        "print(text_clf_rf_tfidf.predict([myreview]))\n",
        "\n",
        "print(text_clf_xgb_tfidf.predict([myreview]))"
      ],
      "execution_count": 35,
      "outputs": [
        {
          "output_type": "stream",
          "text": [
            "[0]\n",
            "[0]\n",
            "[0]\n",
            "[0]\n",
            "[0]\n"
          ],
          "name": "stdout"
        }
      ]
    },
    {
      "cell_type": "markdown",
      "metadata": {
        "id": "NghkZb5hr4GD"
      },
      "source": [
        "ngram_vectorizer = CountVectorizer(ngram_range=(1,2))\n",
        "X_train_ngram= ngram_vectorizer.fit_transform(X_train)\n",
        "X_test_ngram = ngram_vectorizer.transform(X_test)\n",
        "\n",
        "for c in [0.01, 0.05, 0.25, 0.5, 0.7,1]:\n",
        "    \n",
        "    lr = LogisticRegression(C=c,max_iter = 1000)\n",
        "    lr.fit(X_train_ngram, y_train)\n",
        "    print (\"Accuracy for C=%s: %s\" \n",
        "           % (c, accuracy_score(y_test, lr.predict(X_test_ngram))))"
      ]
    },
    {
      "cell_type": "markdown",
      "metadata": {
        "id": "La4-NpXwr4GD"
      },
      "source": [
        "ngram_vectorizer = TfidfVectorizer(binary = True,ngram_range = (1,2))\n",
        "X_train_ngram= ngram_vectorizer.fit_transform(X_train)\n",
        "X_test_ngram = ngram_vectorizer.transform(X_test)\n",
        "\n",
        "for c in [0.01, 0.05,0.1, 0.15, 0.20, 0.25, 0.30,0.4,0.5, 0.75, 1]:\n",
        "    \n",
        "    lr = MultinomialNB(alpha=c)\n",
        "    lr.fit(X_train_ngram, y_train)\n",
        "    print (\"Accuracy for C=%s: %s\" \n",
        "           % (c, accuracy_score(y_test, lr.predict(X_test_ngram))))"
      ]
    },
    {
      "cell_type": "markdown",
      "metadata": {
        "id": "SAHyHDJqr4GD"
      },
      "source": [
        "#Logistic Regression and Count Vectorizer:\n",
        "text_clf_lr = Pipeline([('ngram', CountVectorizer(binary = True,ngram_range = (1,2))),\n",
        "                     ('clf', LogisticRegression(C=0.25,max_iter = 1000)),\n",
        "])\n",
        "\n",
        "text_clf_lr.fit(X_train, y_train) \n",
        "predictions_lr = text_clf_lr.predict(X_test)\n",
        "print(f\"The Final accuracy using Logistic Regression and Count vectorizer is : {metrics.accuracy_score(y_test,predictions_lr)}\")"
      ]
    },
    {
      "cell_type": "markdown",
      "metadata": {
        "id": "XO7MbCGRr4GE"
      },
      "source": [
        "# Confusion Matrix Plot Function"
      ]
    },
    {
      "cell_type": "code",
      "metadata": {
        "id": "Y7eNwF4dr4GF"
      },
      "source": [
        "def plot_confusion_matrix(cm, classes,\n",
        "                          normalize=False,\n",
        "                          title = 'Confusion matrix',\n",
        "                          cmap = plt.cm.tab20):\n",
        "    \"\"\"\n",
        "    Create a confusion matrix plot for 'good' and 'bad' rating values \n",
        "    \"\"\"\n",
        "    if normalize:\n",
        "        cm = cm.astype('float') / cm.sum(axis = 1)[:, np.newaxis]\n",
        "    plt.imshow(cm, interpolation = 'nearest', cmap = cmap)\n",
        "    plt.title(title, fontsize = 20)\n",
        "    plt.colorbar()\n",
        "    tick_marks = np.arange(len(classes))\n",
        "    plt.xticks(tick_marks, classes, fontsize = 20)\n",
        "    plt.yticks(tick_marks, classes, fontsize = 20)\n",
        "    \n",
        "    fmt = '.2f' if normalize else 'd'\n",
        "    thresh = cm.max() / 2.\n",
        "\n",
        "    for i in range (cm.shape[0]):\n",
        "        for j in range (cm.shape[1]):\n",
        "            plt.text(j, i, format(cm[i, j], fmt), horizontalalignment = \"center\", \n",
        "                 color = \"white\" if cm[i, j] < thresh else \"black\", fontsize = 40)\n",
        "    \n",
        "    plt.tight_layout()\n",
        "    plt.ylabel('True Label', fontsize = 30)\n",
        "    plt.xlabel('Predicted Label', fontsize = 30)\n",
        "\n",
        "    return plt"
      ],
      "execution_count": 63,
      "outputs": []
    },
    {
      "cell_type": "code",
      "metadata": {
        "id": "-56mwQXPr4GF"
      },
      "source": [
        "def disp_confusion_matrix(y_pred, model_name, vector = 'TF-IDF Vectorizer'):\n",
        "    \"\"\"\n",
        "    Display confusion matrix for selected model with TF-IDF Vectorizer\n",
        "    \"\"\"\n",
        "    cm = confusion_matrix(y_test, y_pred)\n",
        "    fig = plt.figure(figsize=(10, 10))\n",
        "    plot = plot_confusion_matrix(cm, classes=['Negative','Positive'], normalize=False, \n",
        "                                 title = model_name + \" \" + 'with' + \" \" + vector + \" \"+ '\\nConfusion Matrix')\n",
        "    plt.show()"
      ],
      "execution_count": 64,
      "outputs": []
    },
    {
      "cell_type": "code",
      "metadata": {
        "colab": {
          "base_uri": "https://localhost:8080/",
          "height": 1000
        },
        "id": "WaFYzbl9r4GF",
        "outputId": "4091c62a-d9b8-4919-858c-df0fb9b075e3"
      },
      "source": [
        "disp_confusion_matrix(predictions_nb_tfidf, \"Multinomial Naive Bayes\")\n",
        "disp_confusion_matrix(predictions_lsvc_tfidf, \"Linear SVC\")\n",
        "disp_confusion_matrix(predictions_lr_tfidf, \"Logistic Regression\")\n",
        "disp_confusion_matrix(predictions_rf_tfidf, \"Random Forest\")\n",
        "disp_confusion_matrix(predictions_rf_tfidf, \"eXtreme Gradient Boosting\")"
      ],
      "execution_count": 65,
      "outputs": [
        {
          "output_type": "display_data",
          "data": {
            "image/png": "[encoded data removed]",
            "text/plain": [
              "<Figure size 720x720 with 2 Axes>"
            ]
          },
          "metadata": {
            "tags": [],
            "needs_background": "light"
          }
        },
        {
          "output_type": "display_data",
          "data": {
            "image/png": "[encoded data removed]",
            "text/plain": [
              "<Figure size 720x720 with 2 Axes>"
            ]
          },
          "metadata": {
            "tags": [],
            "needs_background": "light"
          }
        },
        {
          "output_type": "display_data",
          "data": {
            "image/png": "[encoded data removed]",
            "text/plain": [
              "<Figure size 720x720 with 2 Axes>"
            ]
          },
          "metadata": {
            "tags": [],
            "needs_background": "light"
          }
        },
        {
          "output_type": "display_data",
          "data": {
            "image/png": "[encoded data removed]",
            "text/plain": [
              "<Figure size 720x720 with 2 Axes>"
            ]
          },
          "metadata": {
            "tags": [],
            "needs_background": "light"
          }
        },
        {
          "output_type": "display_data",
          "data": {
            "image/png": "[encoded data removed]",
            "text/plain": [
              "<Figure size 720x720 with 2 Axes>"
            ]
          },
          "metadata": {
            "tags": [],
            "needs_background": "light"
          }
        }
      ]
    },
    {
      "cell_type": "markdown",
      "metadata": {
        "id": "IJkWUukar4GG"
      },
      "source": [
        "# CLASSIFICATION REPORT IN DATAFRAME"
      ]
    },
    {
      "cell_type": "code",
      "metadata": {
        "id": "p-Ltv8xWr4GS"
      },
      "source": [
        "\n",
        "# Function for converting the \"classification report\" results to a dataframe\n",
        "def pandas_classification_report(y_true, y_pred):\n",
        "    metrics_summary = precision_recall_fscore_support(\n",
        "            y_true=y_true, \n",
        "            y_pred=y_pred)\n",
        "\n",
        "    avg = list(precision_recall_fscore_support(\n",
        "            y_true=y_true, \n",
        "            y_pred=y_pred,\n",
        "            average='weighted'))\n",
        "\n",
        "    metrics_sum_index = ['precision', 'recall', 'f1-score', 'support']\n",
        "    class_report_df = pd.DataFrame(\n",
        "        list(metrics_summary),\n",
        "        index=metrics_sum_index)\n",
        "\n",
        "    support = class_report_df.loc['support']\n",
        "    total = support.sum() \n",
        "    avg[-1] = total\n",
        "\n",
        "    class_report_df['weighted avg'] = avg\n",
        "\n",
        "    return class_report_df.T\n",
        "\n",
        "# Function for adding explanatory columns and organizing all dataframe\n",
        "def comparison_matrix(y_test, y_pred, label, vector):\n",
        "    df = pandas_classification_report(y_test, y_pred)\n",
        "    df['class']=['Negative or \"0\"', 'Positive or \"1\"', 'average']\n",
        "    df['accuracy']= metrics.accuracy_score(y_test, y_pred)\n",
        "    df['model'] = label\n",
        "    df['vectorizer'] = vector\n",
        "    df = df[['vectorizer', 'model', 'accuracy', 'class', 'precision', 'recall', 'f1-score', 'support']]\n",
        "    return df"
      ],
      "execution_count": 80,
      "outputs": []
    },
    {
      "cell_type": "code",
      "metadata": {
        "id": "_Sg78BvZ_Vzc"
      },
      "source": [
        "#For loop for using \"comparison functions\" \n",
        "\n",
        "def comparison_table(y_preds, labels):\n",
        "    \n",
        "    # empty list for collecting dataframes\n",
        "    frames_tv = [] \n",
        "    \n",
        "    # list for y_preds\n",
        "    y_preds_tv = y_preds\n",
        "    \n",
        "    # list for labels\n",
        "    labels_tv = labels  \n",
        "    \n",
        "    vector_tv = 'TFIDF'\n",
        "    \n",
        "    for y_pred, label in zip(y_preds_tv, labels_tv):\n",
        "        df = comparison_matrix(y_test, y_pred, label, vector_tv)\n",
        "        frames_tv.append(df)\n",
        "\n",
        "    # concatenating all dataframes\n",
        "    global df_tv\n",
        "    df_tv = pd.concat(frames_tv)\n",
        "    \n",
        "    global df_tv2\n",
        "    df_tv2 = df_tv.set_index(['vectorizer', 'model', 'accuracy', 'class'])"
      ],
      "execution_count": 81,
      "outputs": []
    },
    {
      "cell_type": "code",
      "metadata": {
        "id": "YksXqpIv_Wnh"
      },
      "source": [
        "comparison_table(y_preds = [predictions_nb_tfidf,predictions_lsvc_tfidf,predictions_lr_tfidf,predictions_rf_tfidf,predictions_xgb_tfidf], \n",
        "                labels = ['Multinomial NB', 'LinearSVC','LogReg','RandomForest','XGB'])"
      ],
      "execution_count": 82,
      "outputs": []
    },
    {
      "cell_type": "code",
      "metadata": {
        "id": "eRWfhrX6_aI8",
        "colab": {
          "base_uri": "https://localhost:8080/",
          "height": 516
        },
        "outputId": "b5d39bdf-b37f-47d8-daa8-34ca40e2e1f2"
      },
      "source": [
        "df_tv2"
      ],
      "execution_count": 83,
      "outputs": [
        {
          "output_type": "execute_result",
          "data": {
            "text/html": [
              "<div>\n",
              "<style scoped>\n",
              "    .dataframe tbody tr th:only-of-type {\n",
              "        vertical-align: middle;\n",
              "    }\n",
              "\n",
              "    .dataframe tbody tr th {\n",
              "        vertical-align: top;\n",
              "    }\n",
              "\n",
              "    .dataframe thead th {\n",
              "        text-align: right;\n",
              "    }\n",
              "</style>\n",
              "<table border=\"1\" class=\"dataframe\">\n",
              "  <thead>\n",
              "    <tr style=\"text-align: right;\">\n",
              "      <th></th>\n",
              "      <th></th>\n",
              "      <th></th>\n",
              "      <th></th>\n",
              "      <th>precision</th>\n",
              "      <th>recall</th>\n",
              "      <th>f1-score</th>\n",
              "      <th>support</th>\n",
              "    </tr>\n",
              "    <tr>\n",
              "      <th>vectorizer</th>\n",
              "      <th>model</th>\n",
              "      <th>accuracy</th>\n",
              "      <th>class</th>\n",
              "      <th></th>\n",
              "      <th></th>\n",
              "      <th></th>\n",
              "      <th></th>\n",
              "    </tr>\n",
              "  </thead>\n",
              "  <tbody>\n",
              "    <tr>\n",
              "      <th rowspan=\"15\" valign=\"top\">TFIDF</th>\n",
              "      <th rowspan=\"3\" valign=\"top\">Multinomial NB</th>\n",
              "      <th rowspan=\"3\" valign=\"top\">0.846286</th>\n",
              "      <th>Negative or \"0\"</th>\n",
              "      <td>0.830975</td>\n",
              "      <td>0.430552</td>\n",
              "      <td>0.567214</td>\n",
              "      <td>15004.0</td>\n",
              "    </tr>\n",
              "    <tr>\n",
              "      <th>Positive or \"1\"</th>\n",
              "      <td>0.848398</td>\n",
              "      <td>0.973254</td>\n",
              "      <td>0.906547</td>\n",
              "      <td>49128.0</td>\n",
              "    </tr>\n",
              "    <tr>\n",
              "      <th>average</th>\n",
              "      <td>0.844322</td>\n",
              "      <td>0.846286</td>\n",
              "      <td>0.827158</td>\n",
              "      <td>64132.0</td>\n",
              "    </tr>\n",
              "    <tr>\n",
              "      <th rowspan=\"3\" valign=\"top\">LinearSVC</th>\n",
              "      <th rowspan=\"3\" valign=\"top\">0.889228</th>\n",
              "      <th>Negative or \"0\"</th>\n",
              "      <td>0.820357</td>\n",
              "      <td>0.674154</td>\n",
              "      <td>0.740104</td>\n",
              "      <td>15004.0</td>\n",
              "    </tr>\n",
              "    <tr>\n",
              "      <th>Positive or \"1\"</th>\n",
              "      <td>0.905621</td>\n",
              "      <td>0.954914</td>\n",
              "      <td>0.929615</td>\n",
              "      <td>49128.0</td>\n",
              "    </tr>\n",
              "    <tr>\n",
              "      <th>average</th>\n",
              "      <td>0.885673</td>\n",
              "      <td>0.889228</td>\n",
              "      <td>0.885278</td>\n",
              "      <td>64132.0</td>\n",
              "    </tr>\n",
              "    <tr>\n",
              "      <th rowspan=\"3\" valign=\"top\">LogReg</th>\n",
              "      <th rowspan=\"3\" valign=\"top\">0.879343</th>\n",
              "      <th>Negative or \"0\"</th>\n",
              "      <td>0.835457</td>\n",
              "      <td>0.603039</td>\n",
              "      <td>0.700472</td>\n",
              "      <td>15004.0</td>\n",
              "    </tr>\n",
              "    <tr>\n",
              "      <th>Positive or \"1\"</th>\n",
              "      <td>0.888259</td>\n",
              "      <td>0.963727</td>\n",
              "      <td>0.924456</td>\n",
              "      <td>49128.0</td>\n",
              "    </tr>\n",
              "    <tr>\n",
              "      <th>average</th>\n",
              "      <td>0.875906</td>\n",
              "      <td>0.879343</td>\n",
              "      <td>0.872054</td>\n",
              "      <td>64132.0</td>\n",
              "    </tr>\n",
              "    <tr>\n",
              "      <th rowspan=\"3\" valign=\"top\">RandomForest</th>\n",
              "      <th rowspan=\"3\" valign=\"top\">0.805167</th>\n",
              "      <th>Negative or \"0\"</th>\n",
              "      <td>0.941570</td>\n",
              "      <td>0.178286</td>\n",
              "      <td>0.299804</td>\n",
              "      <td>15004.0</td>\n",
              "    </tr>\n",
              "    <tr>\n",
              "      <th>Positive or \"1\"</th>\n",
              "      <td>0.798845</td>\n",
              "      <td>0.996621</td>\n",
              "      <td>0.886840</td>\n",
              "      <td>49128.0</td>\n",
              "    </tr>\n",
              "    <tr>\n",
              "      <th>average</th>\n",
              "      <td>0.832236</td>\n",
              "      <td>0.805167</td>\n",
              "      <td>0.749500</td>\n",
              "      <td>64132.0</td>\n",
              "    </tr>\n",
              "    <tr>\n",
              "      <th rowspan=\"3\" valign=\"top\">XGB</th>\n",
              "      <th rowspan=\"3\" valign=\"top\">0.878703</th>\n",
              "      <th>Negative or \"0\"</th>\n",
              "      <td>0.795743</td>\n",
              "      <td>0.647827</td>\n",
              "      <td>0.714207</td>\n",
              "      <td>15004.0</td>\n",
              "    </tr>\n",
              "    <tr>\n",
              "      <th>Positive or \"1\"</th>\n",
              "      <td>0.898222</td>\n",
              "      <td>0.949214</td>\n",
              "      <td>0.923014</td>\n",
              "      <td>49128.0</td>\n",
              "    </tr>\n",
              "    <tr>\n",
              "      <th>average</th>\n",
              "      <td>0.874247</td>\n",
              "      <td>0.878703</td>\n",
              "      <td>0.874163</td>\n",
              "      <td>64132.0</td>\n",
              "    </tr>\n",
              "  </tbody>\n",
              "</table>\n",
              "</div>"
            ],
            "text/plain": [
              "                                                    precision  ...  support\n",
              "vectorizer model          accuracy class                       ...         \n",
              "TFIDF      Multinomial NB 0.846286 Negative or \"0\"   0.830975  ...  15004.0\n",
              "                                   Positive or \"1\"   0.848398  ...  49128.0\n",
              "                                   average           0.844322  ...  64132.0\n",
              "           LinearSVC      0.889228 Negative or \"0\"   0.820357  ...  15004.0\n",
              "                                   Positive or \"1\"   0.905621  ...  49128.0\n",
              "                                   average           0.885673  ...  64132.0\n",
              "           LogReg         0.879343 Negative or \"0\"   0.835457  ...  15004.0\n",
              "                                   Positive or \"1\"   0.888259  ...  49128.0\n",
              "                                   average           0.875906  ...  64132.0\n",
              "           RandomForest   0.805167 Negative or \"0\"   0.941570  ...  15004.0\n",
              "                                   Positive or \"1\"   0.798845  ...  49128.0\n",
              "                                   average           0.832236  ...  64132.0\n",
              "           XGB            0.878703 Negative or \"0\"   0.795743  ...  15004.0\n",
              "                                   Positive or \"1\"   0.898222  ...  49128.0\n",
              "                                   average           0.874247  ...  64132.0\n",
              "\n",
              "[15 rows x 4 columns]"
            ]
          },
          "metadata": {
            "tags": []
          },
          "execution_count": 83
        }
      ]
    },
    {
      "cell_type": "markdown",
      "metadata": {
        "id": "ds0Qj46UBnyT"
      },
      "source": [
        "## PERFORMANCE GRAPH "
      ]
    },
    {
      "cell_type": "code",
      "metadata": {
        "id": "WrVbPihzMbZu",
        "colab": {
          "base_uri": "https://localhost:8080/",
          "height": 585
        },
        "outputId": "42df3e72-b144-4899-8d63-707a46fcf286"
      },
      "source": [
        "#Graph Plotting Code:\n",
        "import numpy as np\n",
        "import matplotlib.pyplot as plt\n",
        "from matplotlib.ticker import MaxNLocator\n",
        "from collections import namedtuple\n",
        "n_groups = 4\n",
        "score_MNB = (84.62,84.43,84.62,82.72)\n",
        "score_LSVC = (88.92,88.57,88.92,88.53)\n",
        "score_LR=(87.93,87.59,87.93,87.21)\n",
        "score_RF=(80.52,83.22,80.51,74.95)\n",
        "score_XGB=(87.87,87.42,87.87,87.41)\n",
        "\n",
        "#n1=(score_MNB[0], score_LR[0], score_LSVC[0], score_RF[0],score_XGB[0])\n",
        "#n2=(score_MNB[1], score_LR[1], score_LSVC[1], score_RF[1],score_XGB[1])\n",
        "#n3=(score_MNB[2], score_LR[2], score_LSVC[2], score_RF[2],score_XGB[2])\n",
        "#n4=(score_MNB[3], score_LR[3], score_LSVC[3], score_RF[3],score_XGB[3])\n",
        "\n",
        "fig, ax = plt.subplots()\n",
        "index = np.arange(n_groups)\n",
        "bar_width = 0.1\n",
        "opacity = 0.7\n",
        "error_config = {'ecolor': '0.3'}\n",
        "\n",
        "rects1 = ax.bar(index,score_MNB, bar_width,\n",
        " alpha=opacity, color='blue',\n",
        " error_kw=error_config,label='Multinomial Naive Bayes')\n",
        "\n",
        "z=index + bar_width\n",
        "rects2 = ax.bar(z, score_LSVC, bar_width,\n",
        " alpha=opacity, color='gold',\n",
        " error_kw=error_config,\n",
        " label='Linear SVC')\n",
        "\n",
        "z=z+ bar_width\n",
        "rects3 = ax.bar(z, score_LR, bar_width,\n",
        " alpha=opacity, color='maroon',\n",
        " error_kw=error_config,\n",
        " label='Logistic Regression')\n",
        "\n",
        "z=z+ bar_width\n",
        "rects4 = ax.bar(z, score_RF, bar_width,\n",
        " alpha=opacity, color='lawngreen',\n",
        " error_kw=error_config,label='Random Forest')\n",
        "\n",
        "z=z+ bar_width\n",
        "rects5 = ax.bar(z, score_XGB, bar_width,\n",
        " alpha=opacity, color='deeppink',\n",
        " error_kw=error_config,\n",
        " label='eXtreme gradient Boosting')\n",
        "\n",
        "ax.set_xlabel('\\n Evaluating Measures',fontsize = 17)\n",
        "ax.set_ylabel('Performance (in %) \\n',fontsize = 17)\n",
        "ax.set_title('Scores of Classifiers using TFIDFVectorizer',fontsize=20)\n",
        "ax.set_xticks(index + bar_width / 2)\n",
        "ax.set_xticklabels(('Accuracy', 'Precision', 'Recall','F1-Score'),fontsize = 14)\n",
        "ax.legend(bbox_to_anchor=(1.03, 1.0), borderaxespad=0)\n",
        "fig.set_size_inches(12,8)\n",
        "fig.tight_layout()\n",
        "plt.show()"
      ],
      "execution_count": 85,
      "outputs": [
        {
          "output_type": "display_data",
          "data": {
            "image/png": "[encoded data removed]",
            "text/plain": [
              "<Figure size 864x576 with 1 Axes>"
            ]
          },
          "metadata": {
            "tags": [],
            "needs_background": "light"
          }
        }
      ]
    },
    {
      "cell_type": "code",
      "metadata": {
        "id": "4i6LFPyNMbft"
      },
      "source": [
        ""
      ],
      "execution_count": null,
      "outputs": []
    }
  ]
}