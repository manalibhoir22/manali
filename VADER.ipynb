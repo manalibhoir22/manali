{
  "nbformat": 4,
  "nbformat_minor": 0,
  "metadata": {
    "kernelspec": {
      "display_name": "Python 3",
      "language": "python",
      "name": "python3"
    },
    "language_info": {
      "codemirror_mode": {
        "name": "ipython",
        "version": 3
      },
      "file_extension": ".py",
      "mimetype": "text/x-python",
      "name": "python",
      "nbconvert_exporter": "python",
      "pygments_lexer": "ipython3",
      "version": "3.8.5"
    },
    "colab": {
      "name": "VADER.ipynb",
      "provenance": [],
      "toc_visible": true,
      "include_colab_link": true
    }
  },
  "cells": [
    {
      "cell_type": "markdown",
      "metadata": {
        "id": "view-in-github",
        "colab_type": "text"
      },
      "source": [
        "<a href=\"https://colab.research.google.com/github/manalibhoir22/manali/blob/master/VADER.ipynb\" target=\"_parent\"><img src=\"https://colab.research.google.com/assets/colab-badge.svg\" alt=\"Open In Colab\"/></a>"
      ]
    },
    {
      "cell_type": "code",
      "metadata": {
        "id": "rGqOIJME-0mf",
        "outputId": "b9dd8111-ce8c-4aae-d3f6-9244839cabd7"
      },
      "source": [
        "import numpy as np\n",
        "import pandas as pd\n",
        "df = pd.read_excel(r'C:\\\\Users\\\\SAGAR BHOIR\\\\Desktop\\\\Msc\\\\FINAL YEAR PROJECT\\\\data.xlsx')\n",
        "df.head()"
      ],
      "execution_count": null,
      "outputs": [
        {
          "output_type": "execute_result",
          "data": {
            "text/html": [
              "<div>\n",
              "<style scoped>\n",
              "    .dataframe tbody tr th:only-of-type {\n",
              "        vertical-align: middle;\n",
              "    }\n",
              "\n",
              "    .dataframe tbody tr th {\n",
              "        vertical-align: top;\n",
              "    }\n",
              "\n",
              "    .dataframe thead th {\n",
              "        text-align: right;\n",
              "    }\n",
              "</style>\n",
              "<table border=\"1\" class=\"dataframe\">\n",
              "  <thead>\n",
              "    <tr style=\"text-align: right;\">\n",
              "      <th></th>\n",
              "      <th>Unnamed: 0</th>\n",
              "      <th>reviewerID</th>\n",
              "      <th>asin</th>\n",
              "      <th>reviewerName</th>\n",
              "      <th>helpful</th>\n",
              "      <th>reviewText</th>\n",
              "      <th>overall</th>\n",
              "      <th>summary</th>\n",
              "      <th>unixReviewTime</th>\n",
              "      <th>reviewTime</th>\n",
              "    </tr>\n",
              "  </thead>\n",
              "  <tbody>\n",
              "    <tr>\n",
              "      <th>0</th>\n",
              "      <td>1</td>\n",
              "      <td>A30TL5EWN6DFXT</td>\n",
              "      <td>120401325X</td>\n",
              "      <td>christina</td>\n",
              "      <td>[0, 0]</td>\n",
              "      <td>They look good and stick good! I just don't li...</td>\n",
              "      <td>4</td>\n",
              "      <td>Looks Good</td>\n",
              "      <td>1400630400</td>\n",
              "      <td>05 21, 2014</td>\n",
              "    </tr>\n",
              "    <tr>\n",
              "      <th>1</th>\n",
              "      <td>2</td>\n",
              "      <td>ASY55RVNIL0UD</td>\n",
              "      <td>120401325X</td>\n",
              "      <td>emily l.</td>\n",
              "      <td>[0, 0]</td>\n",
              "      <td>These stickers work like the review says they ...</td>\n",
              "      <td>5</td>\n",
              "      <td>Really great product.</td>\n",
              "      <td>1389657600</td>\n",
              "      <td>01 14, 2014</td>\n",
              "    </tr>\n",
              "    <tr>\n",
              "      <th>2</th>\n",
              "      <td>3</td>\n",
              "      <td>A2TMXE2AFO7ONB</td>\n",
              "      <td>120401325X</td>\n",
              "      <td>Erica</td>\n",
              "      <td>[0, 0]</td>\n",
              "      <td>These are awesome and make my phone look so st...</td>\n",
              "      <td>5</td>\n",
              "      <td>LOVE LOVE LOVE</td>\n",
              "      <td>1403740800</td>\n",
              "      <td>06 26, 2014</td>\n",
              "    </tr>\n",
              "    <tr>\n",
              "      <th>3</th>\n",
              "      <td>4</td>\n",
              "      <td>AWJ0WZQYMYFQ4</td>\n",
              "      <td>120401325X</td>\n",
              "      <td>JM</td>\n",
              "      <td>[4, 4]</td>\n",
              "      <td>Item arrived in great time and was in perfect ...</td>\n",
              "      <td>4</td>\n",
              "      <td>Cute!</td>\n",
              "      <td>1382313600</td>\n",
              "      <td>10 21, 2013</td>\n",
              "    </tr>\n",
              "    <tr>\n",
              "      <th>4</th>\n",
              "      <td>5</td>\n",
              "      <td>ATX7CZYFXI1KW</td>\n",
              "      <td>120401325X</td>\n",
              "      <td>patrice m rogoza</td>\n",
              "      <td>[2, 3]</td>\n",
              "      <td>awesome! stays on, and looks great. can be use...</td>\n",
              "      <td>5</td>\n",
              "      <td>leopard home button sticker for iphone 4s</td>\n",
              "      <td>1359849600</td>\n",
              "      <td>02 3, 2013</td>\n",
              "    </tr>\n",
              "  </tbody>\n",
              "</table>\n",
              "</div>"
            ],
            "text/plain": [
              "   Unnamed: 0      reviewerID        asin      reviewerName helpful  \\\n",
              "0           1  A30TL5EWN6DFXT  120401325X         christina  [0, 0]   \n",
              "1           2   ASY55RVNIL0UD  120401325X          emily l.  [0, 0]   \n",
              "2           3  A2TMXE2AFO7ONB  120401325X             Erica  [0, 0]   \n",
              "3           4   AWJ0WZQYMYFQ4  120401325X                JM  [4, 4]   \n",
              "4           5   ATX7CZYFXI1KW  120401325X  patrice m rogoza  [2, 3]   \n",
              "\n",
              "                                          reviewText  overall  \\\n",
              "0  They look good and stick good! I just don't li...        4   \n",
              "1  These stickers work like the review says they ...        5   \n",
              "2  These are awesome and make my phone look so st...        5   \n",
              "3  Item arrived in great time and was in perfect ...        4   \n",
              "4  awesome! stays on, and looks great. can be use...        5   \n",
              "\n",
              "                                     summary  unixReviewTime   reviewTime  \n",
              "0                                 Looks Good      1400630400  05 21, 2014  \n",
              "1                      Really great product.      1389657600  01 14, 2014  \n",
              "2                             LOVE LOVE LOVE      1403740800  06 26, 2014  \n",
              "3                                      Cute!      1382313600  10 21, 2013  \n",
              "4  leopard home button sticker for iphone 4s      1359849600   02 3, 2013  "
            ]
          },
          "metadata": {
            "tags": []
          },
          "execution_count": 44
        }
      ]
    },
    {
      "cell_type": "code",
      "metadata": {
        "id": "cA0VbBag-0mr",
        "outputId": "c2ee62d6-21b4-4b80-bdc1-cc1e6e1d01b5"
      },
      "source": [
        "df.drop(df.columns[[0,1,3,4,8,9]],axis=1,inplace=True)\n",
        "df.head()"
      ],
      "execution_count": null,
      "outputs": [
        {
          "output_type": "execute_result",
          "data": {
            "text/html": [
              "<div>\n",
              "<style scoped>\n",
              "    .dataframe tbody tr th:only-of-type {\n",
              "        vertical-align: middle;\n",
              "    }\n",
              "\n",
              "    .dataframe tbody tr th {\n",
              "        vertical-align: top;\n",
              "    }\n",
              "\n",
              "    .dataframe thead th {\n",
              "        text-align: right;\n",
              "    }\n",
              "</style>\n",
              "<table border=\"1\" class=\"dataframe\">\n",
              "  <thead>\n",
              "    <tr style=\"text-align: right;\">\n",
              "      <th></th>\n",
              "      <th>asin</th>\n",
              "      <th>reviewText</th>\n",
              "      <th>overall</th>\n",
              "      <th>summary</th>\n",
              "    </tr>\n",
              "  </thead>\n",
              "  <tbody>\n",
              "    <tr>\n",
              "      <th>0</th>\n",
              "      <td>120401325X</td>\n",
              "      <td>They look good and stick good! I just don't li...</td>\n",
              "      <td>4</td>\n",
              "      <td>Looks Good</td>\n",
              "    </tr>\n",
              "    <tr>\n",
              "      <th>1</th>\n",
              "      <td>120401325X</td>\n",
              "      <td>These stickers work like the review says they ...</td>\n",
              "      <td>5</td>\n",
              "      <td>Really great product.</td>\n",
              "    </tr>\n",
              "    <tr>\n",
              "      <th>2</th>\n",
              "      <td>120401325X</td>\n",
              "      <td>These are awesome and make my phone look so st...</td>\n",
              "      <td>5</td>\n",
              "      <td>LOVE LOVE LOVE</td>\n",
              "    </tr>\n",
              "    <tr>\n",
              "      <th>3</th>\n",
              "      <td>120401325X</td>\n",
              "      <td>Item arrived in great time and was in perfect ...</td>\n",
              "      <td>4</td>\n",
              "      <td>Cute!</td>\n",
              "    </tr>\n",
              "    <tr>\n",
              "      <th>4</th>\n",
              "      <td>120401325X</td>\n",
              "      <td>awesome! stays on, and looks great. can be use...</td>\n",
              "      <td>5</td>\n",
              "      <td>leopard home button sticker for iphone 4s</td>\n",
              "    </tr>\n",
              "  </tbody>\n",
              "</table>\n",
              "</div>"
            ],
            "text/plain": [
              "         asin                                         reviewText  overall  \\\n",
              "0  120401325X  They look good and stick good! I just don't li...        4   \n",
              "1  120401325X  These stickers work like the review says they ...        5   \n",
              "2  120401325X  These are awesome and make my phone look so st...        5   \n",
              "3  120401325X  Item arrived in great time and was in perfect ...        4   \n",
              "4  120401325X  awesome! stays on, and looks great. can be use...        5   \n",
              "\n",
              "                                     summary  \n",
              "0                                 Looks Good  \n",
              "1                      Really great product.  \n",
              "2                             LOVE LOVE LOVE  \n",
              "3                                      Cute!  \n",
              "4  leopard home button sticker for iphone 4s  "
            ]
          },
          "metadata": {
            "tags": []
          },
          "execution_count": 45
        }
      ]
    },
    {
      "cell_type": "code",
      "metadata": {
        "id": "3eLWjpzS-0ms",
        "outputId": "4b0baddc-4f75-4236-a439-adcf4448f27f"
      },
      "source": [
        "df.isnull().sum()"
      ],
      "execution_count": null,
      "outputs": [
        {
          "output_type": "execute_result",
          "data": {
            "text/plain": [
              "asin           0\n",
              "reviewText    99\n",
              "overall        0\n",
              "summary        1\n",
              "dtype: int64"
            ]
          },
          "metadata": {
            "tags": []
          },
          "execution_count": 46
        }
      ]
    },
    {
      "cell_type": "code",
      "metadata": {
        "id": "uJTA2Pae-0mt",
        "outputId": "203fd20b-85ed-4693-f51c-62e1bf360e9f"
      },
      "source": [
        "# Check for whitespace strings (it's OK if there aren't any!):\n",
        "blanks = []  # start with an empty list\n",
        "\n",
        "for i,asin,rv,ov,summ in df.itertuples():  # iterate over the DataFrame\n",
        "    if type(rv)==str:            # avoid NaN values\n",
        "        if rv.isspace():         # test 'review' for whitespace\n",
        "            blanks.append(i)     # add matching index numbers to the list\n",
        "    \n",
        "    if type(summ)==str:\n",
        "        if summ.isspace():\n",
        "            blanks.append(i)\n",
        "        \n",
        "len(blanks)"
      ],
      "execution_count": null,
      "outputs": [
        {
          "output_type": "execute_result",
          "data": {
            "text/plain": [
              "0"
            ]
          },
          "metadata": {
            "tags": []
          },
          "execution_count": 47
        }
      ]
    },
    {
      "cell_type": "code",
      "metadata": {
        "id": "d5EtPwCO-0mu"
      },
      "source": [
        "df.dropna(inplace=True)"
      ],
      "execution_count": null,
      "outputs": []
    },
    {
      "cell_type": "code",
      "metadata": {
        "id": "F1GkzCxm-0mv",
        "outputId": "a784b2c4-db5a-4a46-d1dd-62d0979eb60a"
      },
      "source": [
        "df['reviewText']=df['reviewText'].apply(str)\n",
        "df.head()"
      ],
      "execution_count": null,
      "outputs": [
        {
          "output_type": "execute_result",
          "data": {
            "text/html": [
              "<div>\n",
              "<style scoped>\n",
              "    .dataframe tbody tr th:only-of-type {\n",
              "        vertical-align: middle;\n",
              "    }\n",
              "\n",
              "    .dataframe tbody tr th {\n",
              "        vertical-align: top;\n",
              "    }\n",
              "\n",
              "    .dataframe thead th {\n",
              "        text-align: right;\n",
              "    }\n",
              "</style>\n",
              "<table border=\"1\" class=\"dataframe\">\n",
              "  <thead>\n",
              "    <tr style=\"text-align: right;\">\n",
              "      <th></th>\n",
              "      <th>asin</th>\n",
              "      <th>reviewText</th>\n",
              "      <th>overall</th>\n",
              "      <th>summary</th>\n",
              "    </tr>\n",
              "  </thead>\n",
              "  <tbody>\n",
              "    <tr>\n",
              "      <th>0</th>\n",
              "      <td>120401325X</td>\n",
              "      <td>They look good and stick good! I just don't li...</td>\n",
              "      <td>4</td>\n",
              "      <td>Looks Good</td>\n",
              "    </tr>\n",
              "    <tr>\n",
              "      <th>1</th>\n",
              "      <td>120401325X</td>\n",
              "      <td>These stickers work like the review says they ...</td>\n",
              "      <td>5</td>\n",
              "      <td>Really great product.</td>\n",
              "    </tr>\n",
              "    <tr>\n",
              "      <th>2</th>\n",
              "      <td>120401325X</td>\n",
              "      <td>These are awesome and make my phone look so st...</td>\n",
              "      <td>5</td>\n",
              "      <td>LOVE LOVE LOVE</td>\n",
              "    </tr>\n",
              "    <tr>\n",
              "      <th>3</th>\n",
              "      <td>120401325X</td>\n",
              "      <td>Item arrived in great time and was in perfect ...</td>\n",
              "      <td>4</td>\n",
              "      <td>Cute!</td>\n",
              "    </tr>\n",
              "    <tr>\n",
              "      <th>4</th>\n",
              "      <td>120401325X</td>\n",
              "      <td>awesome! stays on, and looks great. can be use...</td>\n",
              "      <td>5</td>\n",
              "      <td>leopard home button sticker for iphone 4s</td>\n",
              "    </tr>\n",
              "  </tbody>\n",
              "</table>\n",
              "</div>"
            ],
            "text/plain": [
              "         asin                                         reviewText  overall  \\\n",
              "0  120401325X  They look good and stick good! I just don't li...        4   \n",
              "1  120401325X  These stickers work like the review says they ...        5   \n",
              "2  120401325X  These are awesome and make my phone look so st...        5   \n",
              "3  120401325X  Item arrived in great time and was in perfect ...        4   \n",
              "4  120401325X  awesome! stays on, and looks great. can be use...        5   \n",
              "\n",
              "                                     summary  \n",
              "0                                 Looks Good  \n",
              "1                      Really great product.  \n",
              "2                             LOVE LOVE LOVE  \n",
              "3                                      Cute!  \n",
              "4  leopard home button sticker for iphone 4s  "
            ]
          },
          "metadata": {
            "tags": []
          },
          "execution_count": 49
        }
      ]
    },
    {
      "cell_type": "code",
      "metadata": {
        "id": "3UsrF_h--0mw"
      },
      "source": [
        "#df.isnull().sum()"
      ],
      "execution_count": null,
      "outputs": []
    },
    {
      "cell_type": "code",
      "metadata": {
        "id": "3SPz-o66-0mw"
      },
      "source": [
        "import string\n",
        "import nltk \n",
        "from nltk.corpus import stopwords\n",
        "from nltk import PorterStemmer\n",
        "import re\n",
        "from nltk.tokenize import word_tokenize"
      ],
      "execution_count": null,
      "outputs": []
    },
    {
      "cell_type": "code",
      "metadata": {
        "id": "Vxyu-2W3-0mx"
      },
      "source": [
        "def deEmojify(text):\n",
        "    regrex_pattern = re.compile(pattern = \"[\"\n",
        "        u\"\\U0001F600-\\U0001F64F\"  # emoticons\n",
        "        u\"\\U0001F300-\\U0001F5FF\"  # symbols & pictographs\n",
        "        u\"\\U0001F680-\\U0001F6FF\"  # transport & map symbols\n",
        "        u\"\\U0001F1E0-\\U0001F1FF\"  # flags (iOS)\n",
        "                           \"]+\", flags = re.UNICODE)\n",
        "    return regrex_pattern.sub(r'',text)\n",
        "\n",
        "stop_words = ['in','of','at','a','the','and','is','on','an','they','was','it','i','them','to','these','this']\n",
        "\n",
        "def decontracted(phrase):\n",
        "    phrase=re.sub(r\"won't\",\"will not\",phrase)\n",
        "    phrase=re.sub(r\"can't\",\"can not\",phrase)\n",
        "    phrase=re.sub(r\"n\\'t\",\" not\",phrase)\n",
        "    phrase=re.sub(r\"\\'re\",\" are\",phrase)\n",
        "    phrase=re.sub(r\"\\'s\",\" is\",phrase)\n",
        "    phrase=re.sub(r\"\\'d\",\" would\",phrase)\n",
        "    phrase=re.sub(r\"\\'ll\",\" will\",phrase)    \n",
        "    phrase=re.sub(r\"\\'t\",\" not\",phrase)\n",
        "    phrase=re.sub(r\"\\'ve\",\" have\",phrase)\n",
        "    phrase=re.sub(r\"\\'m\",\" am\",phrase)\n",
        "    return phrase"
      ],
      "execution_count": null,
      "outputs": []
    },
    {
      "cell_type": "code",
      "metadata": {
        "id": "VxO9bYIh-0my"
      },
      "source": [
        "import nltk\n",
        "from nltk.stem.snowball import SnowballStemmer\n",
        "from nltk.stem import WordNetLemmatizer \n",
        "\n",
        "##STEMMING USING SNOWBALL\n",
        "snow_stemmer = SnowballStemmer(language='english')\n",
        "\n",
        "#LEMMATIZATION\n",
        "lemmatizer = WordNetLemmatizer()"
      ],
      "execution_count": null,
      "outputs": []
    },
    {
      "cell_type": "code",
      "metadata": {
        "id": "KX-i9lNr-0my"
      },
      "source": [
        "def clean_text(text):\n",
        "    \n",
        "    snow_stemmer = SnowballStemmer(language='english')\n",
        "    \n",
        "    lemmatizer = WordNetLemmatizer()\n",
        "    \n",
        "    text = decontracted(text)\n",
        "    \n",
        "    text = deEmojify(text) #remove Emojis\n",
        "    \n",
        "    text_cleaned = \"\".join([x for x in text if x not in string.punctuation]) #remove punctuation\n",
        "    \n",
        "    text_cleaned = re.sub(' +', ' ',text_cleaned) #remove extra spaces\n",
        "    \n",
        "    text_cleaned = text_cleaned.lower() #converting into lower case\n",
        "    \n",
        "    tokens = text_cleaned.split(\" \")\n",
        "    \n",
        "    tokens = [token for token in tokens if token not in stop_words] #taking only those words which are not stop words \n",
        "    \n",
        "    text_cleaned = \" \".join([snow_stemmer.stem(token) for token in tokens])\n",
        "    \n",
        "    text_cleaned = \" \".join([lemmatizer.lemmatize(token) for token in tokens])\n",
        "    \n",
        "    return text_cleaned"
      ],
      "execution_count": null,
      "outputs": []
    },
    {
      "cell_type": "code",
      "metadata": {
        "id": "Jy91au5V-0mz",
        "outputId": "e47c2db8-82d7-4e71-a1bd-e3520d25b2f0"
      },
      "source": [
        "df['cleaned_reviews']=df['reviewText'].apply(lambda x:clean_text(x))\n",
        "df.head()"
      ],
      "execution_count": null,
      "outputs": [
        {
          "output_type": "execute_result",
          "data": {
            "text/html": [
              "<div>\n",
              "<style scoped>\n",
              "    .dataframe tbody tr th:only-of-type {\n",
              "        vertical-align: middle;\n",
              "    }\n",
              "\n",
              "    .dataframe tbody tr th {\n",
              "        vertical-align: top;\n",
              "    }\n",
              "\n",
              "    .dataframe thead th {\n",
              "        text-align: right;\n",
              "    }\n",
              "</style>\n",
              "<table border=\"1\" class=\"dataframe\">\n",
              "  <thead>\n",
              "    <tr style=\"text-align: right;\">\n",
              "      <th></th>\n",
              "      <th>asin</th>\n",
              "      <th>reviewText</th>\n",
              "      <th>overall</th>\n",
              "      <th>summary</th>\n",
              "      <th>cleaned_reviews</th>\n",
              "    </tr>\n",
              "  </thead>\n",
              "  <tbody>\n",
              "    <tr>\n",
              "      <th>0</th>\n",
              "      <td>120401325X</td>\n",
              "      <td>They look good and stick good! I just don't li...</td>\n",
              "      <td>4</td>\n",
              "      <td>Looks Good</td>\n",
              "      <td>look good stick good just do not like rounded ...</td>\n",
              "    </tr>\n",
              "    <tr>\n",
              "      <th>1</th>\n",
              "      <td>120401325X</td>\n",
              "      <td>These stickers work like the review says they ...</td>\n",
              "      <td>5</td>\n",
              "      <td>Really great product.</td>\n",
              "      <td>sticker work like review say do stick great st...</td>\n",
              "    </tr>\n",
              "    <tr>\n",
              "      <th>2</th>\n",
              "      <td>120401325X</td>\n",
              "      <td>These are awesome and make my phone look so st...</td>\n",
              "      <td>5</td>\n",
              "      <td>LOVE LOVE LOVE</td>\n",
              "      <td>are awesome make my phone look so stylish have...</td>\n",
              "    </tr>\n",
              "    <tr>\n",
              "      <th>3</th>\n",
              "      <td>120401325X</td>\n",
              "      <td>Item arrived in great time and was in perfect ...</td>\n",
              "      <td>4</td>\n",
              "      <td>Cute!</td>\n",
              "      <td>item arrived great time perfect condition howe...</td>\n",
              "    </tr>\n",
              "    <tr>\n",
              "      <th>4</th>\n",
              "      <td>120401325X</td>\n",
              "      <td>awesome! stays on, and looks great. can be use...</td>\n",
              "      <td>5</td>\n",
              "      <td>leopard home button sticker for iphone 4s</td>\n",
              "      <td>awesome stay look great can be used multiple a...</td>\n",
              "    </tr>\n",
              "  </tbody>\n",
              "</table>\n",
              "</div>"
            ],
            "text/plain": [
              "         asin                                         reviewText  overall  \\\n",
              "0  120401325X  They look good and stick good! I just don't li...        4   \n",
              "1  120401325X  These stickers work like the review says they ...        5   \n",
              "2  120401325X  These are awesome and make my phone look so st...        5   \n",
              "3  120401325X  Item arrived in great time and was in perfect ...        4   \n",
              "4  120401325X  awesome! stays on, and looks great. can be use...        5   \n",
              "\n",
              "                                     summary  \\\n",
              "0                                 Looks Good   \n",
              "1                      Really great product.   \n",
              "2                             LOVE LOVE LOVE   \n",
              "3                                      Cute!   \n",
              "4  leopard home button sticker for iphone 4s   \n",
              "\n",
              "                                     cleaned_reviews  \n",
              "0  look good stick good just do not like rounded ...  \n",
              "1  sticker work like review say do stick great st...  \n",
              "2  are awesome make my phone look so stylish have...  \n",
              "3  item arrived great time perfect condition howe...  \n",
              "4  awesome stay look great can be used multiple a...  "
            ]
          },
          "metadata": {
            "tags": []
          },
          "execution_count": 55
        }
      ]
    },
    {
      "cell_type": "code",
      "metadata": {
        "id": "3P_NFQQ1-0mz",
        "outputId": "5daa34aa-fa31-40be-98dc-ecc13ffe317b"
      },
      "source": [
        "def sentiment(n):\n",
        "    return 1 if n >= 4 else 0\n",
        "df['sentiment'] = df['overall'].apply(sentiment)\n",
        "df.head()"
      ],
      "execution_count": null,
      "outputs": [
        {
          "output_type": "execute_result",
          "data": {
            "text/html": [
              "<div>\n",
              "<style scoped>\n",
              "    .dataframe tbody tr th:only-of-type {\n",
              "        vertical-align: middle;\n",
              "    }\n",
              "\n",
              "    .dataframe tbody tr th {\n",
              "        vertical-align: top;\n",
              "    }\n",
              "\n",
              "    .dataframe thead th {\n",
              "        text-align: right;\n",
              "    }\n",
              "</style>\n",
              "<table border=\"1\" class=\"dataframe\">\n",
              "  <thead>\n",
              "    <tr style=\"text-align: right;\">\n",
              "      <th></th>\n",
              "      <th>asin</th>\n",
              "      <th>reviewText</th>\n",
              "      <th>overall</th>\n",
              "      <th>summary</th>\n",
              "      <th>cleaned_reviews</th>\n",
              "      <th>sentiment</th>\n",
              "    </tr>\n",
              "  </thead>\n",
              "  <tbody>\n",
              "    <tr>\n",
              "      <th>0</th>\n",
              "      <td>120401325X</td>\n",
              "      <td>They look good and stick good! I just don't li...</td>\n",
              "      <td>4</td>\n",
              "      <td>Looks Good</td>\n",
              "      <td>look good stick good just do not like rounded ...</td>\n",
              "      <td>1</td>\n",
              "    </tr>\n",
              "    <tr>\n",
              "      <th>1</th>\n",
              "      <td>120401325X</td>\n",
              "      <td>These stickers work like the review says they ...</td>\n",
              "      <td>5</td>\n",
              "      <td>Really great product.</td>\n",
              "      <td>sticker work like review say do stick great st...</td>\n",
              "      <td>1</td>\n",
              "    </tr>\n",
              "    <tr>\n",
              "      <th>2</th>\n",
              "      <td>120401325X</td>\n",
              "      <td>These are awesome and make my phone look so st...</td>\n",
              "      <td>5</td>\n",
              "      <td>LOVE LOVE LOVE</td>\n",
              "      <td>are awesome make my phone look so stylish have...</td>\n",
              "      <td>1</td>\n",
              "    </tr>\n",
              "    <tr>\n",
              "      <th>3</th>\n",
              "      <td>120401325X</td>\n",
              "      <td>Item arrived in great time and was in perfect ...</td>\n",
              "      <td>4</td>\n",
              "      <td>Cute!</td>\n",
              "      <td>item arrived great time perfect condition howe...</td>\n",
              "      <td>1</td>\n",
              "    </tr>\n",
              "    <tr>\n",
              "      <th>4</th>\n",
              "      <td>120401325X</td>\n",
              "      <td>awesome! stays on, and looks great. can be use...</td>\n",
              "      <td>5</td>\n",
              "      <td>leopard home button sticker for iphone 4s</td>\n",
              "      <td>awesome stay look great can be used multiple a...</td>\n",
              "      <td>1</td>\n",
              "    </tr>\n",
              "  </tbody>\n",
              "</table>\n",
              "</div>"
            ],
            "text/plain": [
              "         asin                                         reviewText  overall  \\\n",
              "0  120401325X  They look good and stick good! I just don't li...        4   \n",
              "1  120401325X  These stickers work like the review says they ...        5   \n",
              "2  120401325X  These are awesome and make my phone look so st...        5   \n",
              "3  120401325X  Item arrived in great time and was in perfect ...        4   \n",
              "4  120401325X  awesome! stays on, and looks great. can be use...        5   \n",
              "\n",
              "                                     summary  \\\n",
              "0                                 Looks Good   \n",
              "1                      Really great product.   \n",
              "2                             LOVE LOVE LOVE   \n",
              "3                                      Cute!   \n",
              "4  leopard home button sticker for iphone 4s   \n",
              "\n",
              "                                     cleaned_reviews  sentiment  \n",
              "0  look good stick good just do not like rounded ...          1  \n",
              "1  sticker work like review say do stick great st...          1  \n",
              "2  are awesome make my phone look so stylish have...          1  \n",
              "3  item arrived great time perfect condition howe...          1  \n",
              "4  awesome stay look great can be used multiple a...          1  "
            ]
          },
          "metadata": {
            "tags": []
          },
          "execution_count": 56
        }
      ]
    },
    {
      "cell_type": "code",
      "metadata": {
        "id": "Dko0ZfWs-0m0",
        "outputId": "102be6a3-3591-489d-a5ba-5873dae6136a"
      },
      "source": [
        "import nltk\n",
        "nltk.download('vader_lexicon')"
      ],
      "execution_count": null,
      "outputs": [
        {
          "output_type": "stream",
          "text": [
            "[nltk_data] Downloading package vader_lexicon to C:\\Users\\SAGAR\n",
            "[nltk_data]     BHOIR\\AppData\\Roaming\\nltk_data...\n",
            "[nltk_data]   Package vader_lexicon is already up-to-date!\n"
          ],
          "name": "stderr"
        },
        {
          "output_type": "execute_result",
          "data": {
            "text/plain": [
              "True"
            ]
          },
          "metadata": {
            "tags": []
          },
          "execution_count": 57
        }
      ]
    },
    {
      "cell_type": "code",
      "metadata": {
        "id": "6hdW8tAo-0m0"
      },
      "source": [
        "from nltk.sentiment.vader import SentimentIntensityAnalyzer\n",
        "\n",
        "sid = SentimentIntensityAnalyzer()"
      ],
      "execution_count": null,
      "outputs": []
    },
    {
      "cell_type": "code",
      "metadata": {
        "id": "6sJtH6w1-0m0",
        "outputId": "df1626a0-b0bc-4ce0-9d91-1418b4747df0"
      },
      "source": [
        "df['sentiment'].value_counts()"
      ],
      "execution_count": null,
      "outputs": [
        {
          "output_type": "execute_result",
          "data": {
            "text/plain": [
              "1    148575\n",
              "0     45764\n",
              "Name: sentiment, dtype: int64"
            ]
          },
          "metadata": {
            "tags": []
          },
          "execution_count": 16
        }
      ]
    },
    {
      "cell_type": "code",
      "metadata": {
        "id": "l82tEgGb-0m1",
        "outputId": "1e3cfb63-1d58-4358-8dd5-f6ad1c25ac5a"
      },
      "source": [
        "sid.polarity_scores(df.loc[0]['cleaned_reviews'])"
      ],
      "execution_count": null,
      "outputs": [
        {
          "output_type": "execute_result",
          "data": {
            "text/plain": [
              "{'neg': 0.219, 'neu': 0.606, 'pos': 0.176, 'compound': -0.1078}"
            ]
          },
          "metadata": {
            "tags": []
          },
          "execution_count": 26
        }
      ]
    },
    {
      "cell_type": "code",
      "metadata": {
        "id": "eZZAqZNw-0m1",
        "outputId": "cda46706-73ca-453a-e96f-28d14b2f7ab9"
      },
      "source": [
        "df.loc[0]['sentiment']"
      ],
      "execution_count": null,
      "outputs": [
        {
          "output_type": "execute_result",
          "data": {
            "text/plain": [
              "1"
            ]
          },
          "metadata": {
            "tags": []
          },
          "execution_count": 18
        }
      ]
    },
    {
      "cell_type": "code",
      "metadata": {
        "id": "qJq3NZfg-0m1",
        "outputId": "5b526042-0ee3-4c1b-a66d-1b62a0a675cc"
      },
      "source": [
        "df['scores'] = df['cleaned_reviews'].apply(lambda review: sid.polarity_scores(review))\n",
        "\n",
        "df.head()"
      ],
      "execution_count": null,
      "outputs": [
        {
          "output_type": "execute_result",
          "data": {
            "text/html": [
              "<div>\n",
              "<style scoped>\n",
              "    .dataframe tbody tr th:only-of-type {\n",
              "        vertical-align: middle;\n",
              "    }\n",
              "\n",
              "    .dataframe tbody tr th {\n",
              "        vertical-align: top;\n",
              "    }\n",
              "\n",
              "    .dataframe thead th {\n",
              "        text-align: right;\n",
              "    }\n",
              "</style>\n",
              "<table border=\"1\" class=\"dataframe\">\n",
              "  <thead>\n",
              "    <tr style=\"text-align: right;\">\n",
              "      <th></th>\n",
              "      <th>asin</th>\n",
              "      <th>reviewText</th>\n",
              "      <th>overall</th>\n",
              "      <th>summary</th>\n",
              "      <th>cleaned_reviews</th>\n",
              "      <th>sentiment</th>\n",
              "      <th>scores</th>\n",
              "      <th>compound</th>\n",
              "      <th>comp_score</th>\n",
              "    </tr>\n",
              "  </thead>\n",
              "  <tbody>\n",
              "    <tr>\n",
              "      <th>0</th>\n",
              "      <td>120401325X</td>\n",
              "      <td>They look good and stick good! I just don't li...</td>\n",
              "      <td>4</td>\n",
              "      <td>Looks Good</td>\n",
              "      <td>look good stick good just do not like rounded ...</td>\n",
              "      <td>1</td>\n",
              "      <td>{'neg': 0.219, 'neu': 0.606, 'pos': 0.176, 'co...</td>\n",
              "      <td>-0.1808</td>\n",
              "      <td>0</td>\n",
              "    </tr>\n",
              "    <tr>\n",
              "      <th>1</th>\n",
              "      <td>120401325X</td>\n",
              "      <td>These stickers work like the review says they ...</td>\n",
              "      <td>5</td>\n",
              "      <td>Really great product.</td>\n",
              "      <td>sticker work like review say do stick great st...</td>\n",
              "      <td>1</td>\n",
              "      <td>{'neg': 0.0, 'neu': 0.524, 'pos': 0.476, 'comp...</td>\n",
              "      <td>0.9403</td>\n",
              "      <td>1</td>\n",
              "    </tr>\n",
              "    <tr>\n",
              "      <th>2</th>\n",
              "      <td>120401325X</td>\n",
              "      <td>These are awesome and make my phone look so st...</td>\n",
              "      <td>5</td>\n",
              "      <td>LOVE LOVE LOVE</td>\n",
              "      <td>are awesome make my phone look so stylish have...</td>\n",
              "      <td>1</td>\n",
              "      <td>{'neg': 0.0, 'neu': 0.753, 'pos': 0.247, 'comp...</td>\n",
              "      <td>0.8852</td>\n",
              "      <td>1</td>\n",
              "    </tr>\n",
              "    <tr>\n",
              "      <th>3</th>\n",
              "      <td>120401325X</td>\n",
              "      <td>Item arrived in great time and was in perfect ...</td>\n",
              "      <td>4</td>\n",
              "      <td>Cute!</td>\n",
              "      <td>item arrived great time perfect condition howe...</td>\n",
              "      <td>1</td>\n",
              "      <td>{'neg': 0.0, 'neu': 0.625, 'pos': 0.375, 'comp...</td>\n",
              "      <td>0.9625</td>\n",
              "      <td>1</td>\n",
              "    </tr>\n",
              "    <tr>\n",
              "      <th>4</th>\n",
              "      <td>120401325X</td>\n",
              "      <td>awesome! stays on, and looks great. can be use...</td>\n",
              "      <td>5</td>\n",
              "      <td>leopard home button sticker for iphone 4s</td>\n",
              "      <td>awesome stay look great can be used multiple a...</td>\n",
              "      <td>1</td>\n",
              "      <td>{'neg': 0.0, 'neu': 0.556, 'pos': 0.444, 'comp...</td>\n",
              "      <td>0.9020</td>\n",
              "      <td>1</td>\n",
              "    </tr>\n",
              "  </tbody>\n",
              "</table>\n",
              "</div>"
            ],
            "text/plain": [
              "         asin                                         reviewText  overall  \\\n",
              "0  120401325X  They look good and stick good! I just don't li...        4   \n",
              "1  120401325X  These stickers work like the review says they ...        5   \n",
              "2  120401325X  These are awesome and make my phone look so st...        5   \n",
              "3  120401325X  Item arrived in great time and was in perfect ...        4   \n",
              "4  120401325X  awesome! stays on, and looks great. can be use...        5   \n",
              "\n",
              "                                     summary  \\\n",
              "0                                 Looks Good   \n",
              "1                      Really great product.   \n",
              "2                             LOVE LOVE LOVE   \n",
              "3                                      Cute!   \n",
              "4  leopard home button sticker for iphone 4s   \n",
              "\n",
              "                                     cleaned_reviews  sentiment  \\\n",
              "0  look good stick good just do not like rounded ...          1   \n",
              "1  sticker work like review say do stick great st...          1   \n",
              "2  are awesome make my phone look so stylish have...          1   \n",
              "3  item arrived great time perfect condition howe...          1   \n",
              "4  awesome stay look great can be used multiple a...          1   \n",
              "\n",
              "                                              scores  compound  comp_score  \n",
              "0  {'neg': 0.219, 'neu': 0.606, 'pos': 0.176, 'co...   -0.1808           0  \n",
              "1  {'neg': 0.0, 'neu': 0.524, 'pos': 0.476, 'comp...    0.9403           1  \n",
              "2  {'neg': 0.0, 'neu': 0.753, 'pos': 0.247, 'comp...    0.8852           1  \n",
              "3  {'neg': 0.0, 'neu': 0.625, 'pos': 0.375, 'comp...    0.9625           1  \n",
              "4  {'neg': 0.0, 'neu': 0.556, 'pos': 0.444, 'comp...    0.9020           1  "
            ]
          },
          "metadata": {
            "tags": []
          },
          "execution_count": 27
        }
      ]
    },
    {
      "cell_type": "code",
      "metadata": {
        "id": "b2RtDBcv-0m2",
        "outputId": "3baec4aa-d735-48dc-8d8d-bccae50f1961"
      },
      "source": [
        "df['compound']  = df['scores'].apply(lambda score_dict: score_dict['compound'])\n",
        "\n",
        "df.head()"
      ],
      "execution_count": null,
      "outputs": [
        {
          "output_type": "execute_result",
          "data": {
            "text/html": [
              "<div>\n",
              "<style scoped>\n",
              "    .dataframe tbody tr th:only-of-type {\n",
              "        vertical-align: middle;\n",
              "    }\n",
              "\n",
              "    .dataframe tbody tr th {\n",
              "        vertical-align: top;\n",
              "    }\n",
              "\n",
              "    .dataframe thead th {\n",
              "        text-align: right;\n",
              "    }\n",
              "</style>\n",
              "<table border=\"1\" class=\"dataframe\">\n",
              "  <thead>\n",
              "    <tr style=\"text-align: right;\">\n",
              "      <th></th>\n",
              "      <th>asin</th>\n",
              "      <th>reviewText</th>\n",
              "      <th>overall</th>\n",
              "      <th>summary</th>\n",
              "      <th>cleaned_reviews</th>\n",
              "      <th>sentiment</th>\n",
              "      <th>scores</th>\n",
              "      <th>compound</th>\n",
              "      <th>comp_score</th>\n",
              "    </tr>\n",
              "  </thead>\n",
              "  <tbody>\n",
              "    <tr>\n",
              "      <th>0</th>\n",
              "      <td>120401325X</td>\n",
              "      <td>They look good and stick good! I just don't li...</td>\n",
              "      <td>4</td>\n",
              "      <td>Looks Good</td>\n",
              "      <td>look good stick good just do not like rounded ...</td>\n",
              "      <td>1</td>\n",
              "      <td>{'neg': 0.219, 'neu': 0.606, 'pos': 0.176, 'co...</td>\n",
              "      <td>-0.1078</td>\n",
              "      <td>0</td>\n",
              "    </tr>\n",
              "    <tr>\n",
              "      <th>1</th>\n",
              "      <td>120401325X</td>\n",
              "      <td>These stickers work like the review says they ...</td>\n",
              "      <td>5</td>\n",
              "      <td>Really great product.</td>\n",
              "      <td>sticker work like review say do stick great st...</td>\n",
              "      <td>1</td>\n",
              "      <td>{'neg': 0.0, 'neu': 0.524, 'pos': 0.476, 'comp...</td>\n",
              "      <td>0.9136</td>\n",
              "      <td>1</td>\n",
              "    </tr>\n",
              "    <tr>\n",
              "      <th>2</th>\n",
              "      <td>120401325X</td>\n",
              "      <td>These are awesome and make my phone look so st...</td>\n",
              "      <td>5</td>\n",
              "      <td>LOVE LOVE LOVE</td>\n",
              "      <td>are awesome make my phone look so stylish have...</td>\n",
              "      <td>1</td>\n",
              "      <td>{'neg': 0.0, 'neu': 0.753, 'pos': 0.247, 'comp...</td>\n",
              "      <td>0.8481</td>\n",
              "      <td>1</td>\n",
              "    </tr>\n",
              "    <tr>\n",
              "      <th>3</th>\n",
              "      <td>120401325X</td>\n",
              "      <td>Item arrived in great time and was in perfect ...</td>\n",
              "      <td>4</td>\n",
              "      <td>Cute!</td>\n",
              "      <td>item arrived great time perfect condition howe...</td>\n",
              "      <td>1</td>\n",
              "      <td>{'neg': 0.0, 'neu': 0.625, 'pos': 0.375, 'comp...</td>\n",
              "      <td>0.9584</td>\n",
              "      <td>1</td>\n",
              "    </tr>\n",
              "    <tr>\n",
              "      <th>4</th>\n",
              "      <td>120401325X</td>\n",
              "      <td>awesome! stays on, and looks great. can be use...</td>\n",
              "      <td>5</td>\n",
              "      <td>leopard home button sticker for iphone 4s</td>\n",
              "      <td>awesome stay look great can be used multiple a...</td>\n",
              "      <td>1</td>\n",
              "      <td>{'neg': 0.0, 'neu': 0.556, 'pos': 0.444, 'comp...</td>\n",
              "      <td>0.9035</td>\n",
              "      <td>1</td>\n",
              "    </tr>\n",
              "  </tbody>\n",
              "</table>\n",
              "</div>"
            ],
            "text/plain": [
              "         asin                                         reviewText  overall  \\\n",
              "0  120401325X  They look good and stick good! I just don't li...        4   \n",
              "1  120401325X  These stickers work like the review says they ...        5   \n",
              "2  120401325X  These are awesome and make my phone look so st...        5   \n",
              "3  120401325X  Item arrived in great time and was in perfect ...        4   \n",
              "4  120401325X  awesome! stays on, and looks great. can be use...        5   \n",
              "\n",
              "                                     summary  \\\n",
              "0                                 Looks Good   \n",
              "1                      Really great product.   \n",
              "2                             LOVE LOVE LOVE   \n",
              "3                                      Cute!   \n",
              "4  leopard home button sticker for iphone 4s   \n",
              "\n",
              "                                     cleaned_reviews  sentiment  \\\n",
              "0  look good stick good just do not like rounded ...          1   \n",
              "1  sticker work like review say do stick great st...          1   \n",
              "2  are awesome make my phone look so stylish have...          1   \n",
              "3  item arrived great time perfect condition howe...          1   \n",
              "4  awesome stay look great can be used multiple a...          1   \n",
              "\n",
              "                                              scores  compound  comp_score  \n",
              "0  {'neg': 0.219, 'neu': 0.606, 'pos': 0.176, 'co...   -0.1078           0  \n",
              "1  {'neg': 0.0, 'neu': 0.524, 'pos': 0.476, 'comp...    0.9136           1  \n",
              "2  {'neg': 0.0, 'neu': 0.753, 'pos': 0.247, 'comp...    0.8481           1  \n",
              "3  {'neg': 0.0, 'neu': 0.625, 'pos': 0.375, 'comp...    0.9584           1  \n",
              "4  {'neg': 0.0, 'neu': 0.556, 'pos': 0.444, 'comp...    0.9035           1  "
            ]
          },
          "metadata": {
            "tags": []
          },
          "execution_count": 28
        }
      ]
    },
    {
      "cell_type": "code",
      "metadata": {
        "id": "8fp_FVZK-0m2",
        "outputId": "26edaf23-8b9e-4389-8c79-1232860f0e6d"
      },
      "source": [
        "df['comp_score'] = df['compound'].apply(lambda c: 1 if c >=0 else 0)\n",
        "\n",
        "df.head()"
      ],
      "execution_count": null,
      "outputs": [
        {
          "output_type": "execute_result",
          "data": {
            "text/html": [
              "<div>\n",
              "<style scoped>\n",
              "    .dataframe tbody tr th:only-of-type {\n",
              "        vertical-align: middle;\n",
              "    }\n",
              "\n",
              "    .dataframe tbody tr th {\n",
              "        vertical-align: top;\n",
              "    }\n",
              "\n",
              "    .dataframe thead th {\n",
              "        text-align: right;\n",
              "    }\n",
              "</style>\n",
              "<table border=\"1\" class=\"dataframe\">\n",
              "  <thead>\n",
              "    <tr style=\"text-align: right;\">\n",
              "      <th></th>\n",
              "      <th>asin</th>\n",
              "      <th>reviewText</th>\n",
              "      <th>overall</th>\n",
              "      <th>summary</th>\n",
              "      <th>cleaned_reviews</th>\n",
              "      <th>sentiment</th>\n",
              "      <th>scores</th>\n",
              "      <th>compound</th>\n",
              "      <th>comp_score</th>\n",
              "    </tr>\n",
              "  </thead>\n",
              "  <tbody>\n",
              "    <tr>\n",
              "      <th>0</th>\n",
              "      <td>120401325X</td>\n",
              "      <td>They look good and stick good! I just don't li...</td>\n",
              "      <td>4</td>\n",
              "      <td>Looks Good</td>\n",
              "      <td>look good stick good just do not like rounded ...</td>\n",
              "      <td>1</td>\n",
              "      <td>{'neg': 0.219, 'neu': 0.606, 'pos': 0.176, 'co...</td>\n",
              "      <td>-0.1078</td>\n",
              "      <td>0</td>\n",
              "    </tr>\n",
              "    <tr>\n",
              "      <th>1</th>\n",
              "      <td>120401325X</td>\n",
              "      <td>These stickers work like the review says they ...</td>\n",
              "      <td>5</td>\n",
              "      <td>Really great product.</td>\n",
              "      <td>sticker work like review say do stick great st...</td>\n",
              "      <td>1</td>\n",
              "      <td>{'neg': 0.0, 'neu': 0.524, 'pos': 0.476, 'comp...</td>\n",
              "      <td>0.9136</td>\n",
              "      <td>1</td>\n",
              "    </tr>\n",
              "    <tr>\n",
              "      <th>2</th>\n",
              "      <td>120401325X</td>\n",
              "      <td>These are awesome and make my phone look so st...</td>\n",
              "      <td>5</td>\n",
              "      <td>LOVE LOVE LOVE</td>\n",
              "      <td>are awesome make my phone look so stylish have...</td>\n",
              "      <td>1</td>\n",
              "      <td>{'neg': 0.0, 'neu': 0.753, 'pos': 0.247, 'comp...</td>\n",
              "      <td>0.8481</td>\n",
              "      <td>1</td>\n",
              "    </tr>\n",
              "    <tr>\n",
              "      <th>3</th>\n",
              "      <td>120401325X</td>\n",
              "      <td>Item arrived in great time and was in perfect ...</td>\n",
              "      <td>4</td>\n",
              "      <td>Cute!</td>\n",
              "      <td>item arrived great time perfect condition howe...</td>\n",
              "      <td>1</td>\n",
              "      <td>{'neg': 0.0, 'neu': 0.625, 'pos': 0.375, 'comp...</td>\n",
              "      <td>0.9584</td>\n",
              "      <td>1</td>\n",
              "    </tr>\n",
              "    <tr>\n",
              "      <th>4</th>\n",
              "      <td>120401325X</td>\n",
              "      <td>awesome! stays on, and looks great. can be use...</td>\n",
              "      <td>5</td>\n",
              "      <td>leopard home button sticker for iphone 4s</td>\n",
              "      <td>awesome stay look great can be used multiple a...</td>\n",
              "      <td>1</td>\n",
              "      <td>{'neg': 0.0, 'neu': 0.556, 'pos': 0.444, 'comp...</td>\n",
              "      <td>0.9035</td>\n",
              "      <td>1</td>\n",
              "    </tr>\n",
              "  </tbody>\n",
              "</table>\n",
              "</div>"
            ],
            "text/plain": [
              "         asin                                         reviewText  overall  \\\n",
              "0  120401325X  They look good and stick good! I just don't li...        4   \n",
              "1  120401325X  These stickers work like the review says they ...        5   \n",
              "2  120401325X  These are awesome and make my phone look so st...        5   \n",
              "3  120401325X  Item arrived in great time and was in perfect ...        4   \n",
              "4  120401325X  awesome! stays on, and looks great. can be use...        5   \n",
              "\n",
              "                                     summary  \\\n",
              "0                                 Looks Good   \n",
              "1                      Really great product.   \n",
              "2                             LOVE LOVE LOVE   \n",
              "3                                      Cute!   \n",
              "4  leopard home button sticker for iphone 4s   \n",
              "\n",
              "                                     cleaned_reviews  sentiment  \\\n",
              "0  look good stick good just do not like rounded ...          1   \n",
              "1  sticker work like review say do stick great st...          1   \n",
              "2  are awesome make my phone look so stylish have...          1   \n",
              "3  item arrived great time perfect condition howe...          1   \n",
              "4  awesome stay look great can be used multiple a...          1   \n",
              "\n",
              "                                              scores  compound  comp_score  \n",
              "0  {'neg': 0.219, 'neu': 0.606, 'pos': 0.176, 'co...   -0.1078           0  \n",
              "1  {'neg': 0.0, 'neu': 0.524, 'pos': 0.476, 'comp...    0.9136           1  \n",
              "2  {'neg': 0.0, 'neu': 0.753, 'pos': 0.247, 'comp...    0.8481           1  \n",
              "3  {'neg': 0.0, 'neu': 0.625, 'pos': 0.375, 'comp...    0.9584           1  \n",
              "4  {'neg': 0.0, 'neu': 0.556, 'pos': 0.444, 'comp...    0.9035           1  "
            ]
          },
          "metadata": {
            "tags": []
          },
          "execution_count": 29
        }
      ]
    },
    {
      "cell_type": "code",
      "metadata": {
        "id": "1rJfUnwv-0m2"
      },
      "source": [
        "from sklearn.metrics import accuracy_score,classification_report,confusion_matrix\n",
        "from sklearn import metrics\n",
        "\n",
        "ytest = df['sentiment']\n",
        "ypred = df['comp_score']"
      ],
      "execution_count": null,
      "outputs": []
    },
    {
      "cell_type": "code",
      "metadata": {
        "id": "nUQKRwoV-0m3",
        "outputId": "e092e211-6d95-4a35-fdd2-9034cb960def"
      },
      "source": [
        "accuracy_score(df['sentiment'],df['comp_score'])"
      ],
      "execution_count": null,
      "outputs": [
        {
          "output_type": "execute_result",
          "data": {
            "text/plain": [
              "0.7979252749062206"
            ]
          },
          "metadata": {
            "tags": []
          },
          "execution_count": 31
        }
      ]
    },
    {
      "cell_type": "code",
      "metadata": {
        "id": "HXfSPIBO-0m3",
        "outputId": "bc8504ea-e4c0-47aa-f35a-17d4b832d183"
      },
      "source": [
        "print(classification_report(df['sentiment'],df['comp_score']))"
      ],
      "execution_count": null,
      "outputs": [
        {
          "output_type": "stream",
          "text": [
            "              precision    recall  f1-score   support\n",
            "\n",
            "           0       0.63      0.35      0.45     45764\n",
            "           1       0.82      0.94      0.88    148575\n",
            "\n",
            "    accuracy                           0.80    194339\n",
            "   macro avg       0.73      0.64      0.66    194339\n",
            "weighted avg       0.78      0.80      0.78    194339\n",
            "\n"
          ],
          "name": "stdout"
        }
      ]
    },
    {
      "cell_type": "code",
      "metadata": {
        "id": "7jB1_gTD-0m4",
        "outputId": "da558a72-6c44-4508-e40c-0fa2a62f68e7"
      },
      "source": [
        "pd.DataFrame(metrics.confusion_matrix(df['sentiment'],df['comp_score']),index = ['neg','pos'],columns= ['neg','pos'])"
      ],
      "execution_count": null,
      "outputs": [
        {
          "output_type": "execute_result",
          "data": {
            "text/html": [
              "<div>\n",
              "<style scoped>\n",
              "    .dataframe tbody tr th:only-of-type {\n",
              "        vertical-align: middle;\n",
              "    }\n",
              "\n",
              "    .dataframe tbody tr th {\n",
              "        vertical-align: top;\n",
              "    }\n",
              "\n",
              "    .dataframe thead th {\n",
              "        text-align: right;\n",
              "    }\n",
              "</style>\n",
              "<table border=\"1\" class=\"dataframe\">\n",
              "  <thead>\n",
              "    <tr style=\"text-align: right;\">\n",
              "      <th></th>\n",
              "      <th>neg</th>\n",
              "      <th>pos</th>\n",
              "    </tr>\n",
              "  </thead>\n",
              "  <tbody>\n",
              "    <tr>\n",
              "      <th>neg</th>\n",
              "      <td>16009</td>\n",
              "      <td>29755</td>\n",
              "    </tr>\n",
              "    <tr>\n",
              "      <th>pos</th>\n",
              "      <td>9516</td>\n",
              "      <td>139059</td>\n",
              "    </tr>\n",
              "  </tbody>\n",
              "</table>\n",
              "</div>"
            ],
            "text/plain": [
              "       neg     pos\n",
              "neg  16009   29755\n",
              "pos   9516  139059"
            ]
          },
          "metadata": {
            "tags": []
          },
          "execution_count": 33
        }
      ]
    },
    {
      "cell_type": "code",
      "metadata": {
        "id": "3LncVpVW-0m4",
        "outputId": "d7d63fb4-4390-43f6-be02-5d97abe83eff"
      },
      "source": [
        "df.head()"
      ],
      "execution_count": null,
      "outputs": [
        {
          "output_type": "execute_result",
          "data": {
            "text/html": [
              "<div>\n",
              "<style scoped>\n",
              "    .dataframe tbody tr th:only-of-type {\n",
              "        vertical-align: middle;\n",
              "    }\n",
              "\n",
              "    .dataframe tbody tr th {\n",
              "        vertical-align: top;\n",
              "    }\n",
              "\n",
              "    .dataframe thead th {\n",
              "        text-align: right;\n",
              "    }\n",
              "</style>\n",
              "<table border=\"1\" class=\"dataframe\">\n",
              "  <thead>\n",
              "    <tr style=\"text-align: right;\">\n",
              "      <th></th>\n",
              "      <th>asin</th>\n",
              "      <th>cleaned_reviews</th>\n",
              "      <th>sentiment</th>\n",
              "    </tr>\n",
              "  </thead>\n",
              "  <tbody>\n",
              "    <tr>\n",
              "      <th>0</th>\n",
              "      <td>120401325X</td>\n",
              "      <td>look good stick good just do not like rounded ...</td>\n",
              "      <td>1</td>\n",
              "    </tr>\n",
              "    <tr>\n",
              "      <th>1</th>\n",
              "      <td>120401325X</td>\n",
              "      <td>sticker work like review say do stick great st...</td>\n",
              "      <td>1</td>\n",
              "    </tr>\n",
              "    <tr>\n",
              "      <th>2</th>\n",
              "      <td>120401325X</td>\n",
              "      <td>are awesome make my phone look so stylish have...</td>\n",
              "      <td>1</td>\n",
              "    </tr>\n",
              "    <tr>\n",
              "      <th>3</th>\n",
              "      <td>120401325X</td>\n",
              "      <td>item arrived great time perfect condition howe...</td>\n",
              "      <td>1</td>\n",
              "    </tr>\n",
              "    <tr>\n",
              "      <th>4</th>\n",
              "      <td>120401325X</td>\n",
              "      <td>awesome stay look great can be used multiple a...</td>\n",
              "      <td>1</td>\n",
              "    </tr>\n",
              "  </tbody>\n",
              "</table>\n",
              "</div>"
            ],
            "text/plain": [
              "         asin                                    cleaned_reviews  sentiment\n",
              "0  120401325X  look good stick good just do not like rounded ...          1\n",
              "1  120401325X  sticker work like review say do stick great st...          1\n",
              "2  120401325X  are awesome make my phone look so stylish have...          1\n",
              "3  120401325X  item arrived great time perfect condition howe...          1\n",
              "4  120401325X  awesome stay look great can be used multiple a...          1"
            ]
          },
          "metadata": {
            "tags": []
          },
          "execution_count": 74
        }
      ]
    },
    {
      "cell_type": "code",
      "metadata": {
        "id": "sWVh2K3I-0m5"
      },
      "source": [
        "def plot_confusion_matrix(cm, classes,\n",
        "                          normalize=False,\n",
        "                          title = 'Confusion matrix',\n",
        "                          cmap = plt.cm.tab20):\n",
        "    \"\"\"\n",
        "    Create a confusion matrix plot for 'good' and 'bad' rating values \n",
        "    \"\"\"\n",
        "    if normalize:\n",
        "        cm = cm.astype('float') / cm.sum(axis = 1)[:, np.newaxis]\n",
        "    plt.imshow(cm, interpolation = 'nearest', cmap = cmap)\n",
        "    plt.title(title, fontsize = 20)\n",
        "    plt.colorbar()\n",
        "    tick_marks = np.arange(len(classes))\n",
        "    plt.xticks(tick_marks, classes, fontsize = 20)\n",
        "    plt.yticks(tick_marks, classes, fontsize = 20)\n",
        "    \n",
        "    fmt = '.2f' if normalize else 'd'\n",
        "    thresh = cm.max() / 2.\n",
        "\n",
        "    for i in range (cm.shape[0]):\n",
        "        for j in range (cm.shape[1]):\n",
        "            plt.text(j, i, format(cm[i, j], fmt), horizontalalignment = \"center\", \n",
        "                 color = \"white\" if cm[i, j] < thresh else \"black\", fontsize = 40)\n",
        "    \n",
        "    plt.tight_layout()\n",
        "    plt.ylabel('True Label', fontsize = 30)\n",
        "    plt.xlabel('Predicted Label', fontsize = 30)\n",
        "\n",
        "    return plt\n",
        "\n",
        "def disp_confusion_matrix(y_pred, model_name):\n",
        "    \"\"\"\n",
        "    Display confusion matrix for selected model with TF-IDF Vectorizer\n",
        "    \"\"\"\n",
        "    cm = confusion_matrix(y_test, y_pred)\n",
        "    fig = plt.figure(figsize=(10, 10))\n",
        "    plot = plot_confusion_matrix(cm, classes=['Negative','Positive'], normalize=False, \n",
        "                                 title = model_name + \" \"+ '\\nConfusion Matrix')\n",
        "    plt.show()"
      ],
      "execution_count": null,
      "outputs": []
    },
    {
      "cell_type": "code",
      "metadata": {
        "id": "XX0CMAqB_Vbe"
      },
      "source": [
        "disp_confusion_matrix(ypred, \"VADER\")"
      ],
      "execution_count": null,
      "outputs": []
    },
    {
      "cell_type": "code",
      "metadata": {
        "id": "EVboU3MkAN-t"
      },
      "source": [
        "# Function for converting the \"classification report\" results to a dataframe\n",
        "def pandas_classification_report(y_true, y_pred):\n",
        "    metrics_summary = precision_recall_fscore_support(\n",
        "            y_true=y_true, \n",
        "            y_pred=y_pred)\n",
        "\n",
        "    avg = list(precision_recall_fscore_support(\n",
        "            y_true=y_true, \n",
        "            y_pred=y_pred,\n",
        "            average='weighted'))\n",
        "\n",
        "    metrics_sum_index = ['precision', 'recall', 'f1-score', 'support']\n",
        "    class_report_df = pd.DataFrame(\n",
        "        list(metrics_summary),\n",
        "        index=metrics_sum_index)\n",
        "\n",
        "    support = class_report_df.loc['support']\n",
        "    total = support.sum() \n",
        "    avg[-1] = total\n",
        "\n",
        "    class_report_df['weighted avg'] = avg\n",
        "\n",
        "    return class_report_df.T\n",
        "\n",
        "# Function for adding explanatory columns and organizing all dataframe\n",
        "def comparison_matrix(y_test, y_pred, label):\n",
        "    df = pandas_classification_report(y_test, y_pred)\n",
        "    df['class']=['Negative or \"0\"', 'Positive or \"1\"', 'average']\n",
        "    df['accuracy']= metrics.accuracy_score(y_test, y_pred)\n",
        "    df['model'] = label\n",
        "    df = df[[ 'model', 'accuracy', 'class', 'precision', 'recall', 'f1-score', 'support']]\n",
        "    return df"
      ],
      "execution_count": null,
      "outputs": []
    },
    {
      "cell_type": "code",
      "metadata": {
        "id": "rrDrZCZBAYMl"
      },
      "source": [
        "#For loop for using \"comparison functions\" \n",
        "\n",
        "def comparison_table(y_preds, labels):\n",
        "    \n",
        "    # empty list for collecting dataframes\n",
        "    frames_tv = [] \n",
        "    \n",
        "    # list for y_preds\n",
        "    y_preds_tv = y_preds\n",
        "    \n",
        "    # list for labels\n",
        "    labels_tv = labels  \n",
        "    \n",
        "    vector_tv = 'TFIDF'\n",
        "    \n",
        "    for y_pred, label in zip(y_preds_tv, labels_tv):\n",
        "        df = comparison_matrix(y_test, y_pred, label, vector_tv)\n",
        "        frames_tv.append(df)\n",
        "\n",
        "    # concatenating all dataframes\n",
        "    global df_tv\n",
        "    df_tv = pd.concat(frames_tv)\n",
        "    \n",
        "    global df_tv2\n",
        "    df_tv2 = df_tv.set_index(['vectorizer', 'model', 'accuracy', 'class'])"
      ],
      "execution_count": null,
      "outputs": []
    },
    {
      "cell_type": "code",
      "metadata": {
        "id": "YoZvlCN9ArR2"
      },
      "source": [
        "comparison_table(y_preds = [ypred], \n",
        "                labels = ['VADER'])"
      ],
      "execution_count": null,
      "outputs": []
    }
  ]
}