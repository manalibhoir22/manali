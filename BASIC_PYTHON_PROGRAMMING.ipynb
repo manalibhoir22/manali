{
  "nbformat": 4,
  "nbformat_minor": 0,
  "metadata": {
    "colab": {
      "name": "BASIC PYTHON PROGRAMMING",
      "provenance": [],
      "authorship_tag": "ABX9TyOszUMaBE91WC2fpHoZ/XZ5",
      "include_colab_link": true
    },
    "kernelspec": {
      "name": "python3",
      "display_name": "Python 3"
    },
    "language_info": {
      "name": "python"
    }
  },
  "cells": [
    {
      "cell_type": "markdown",
      "metadata": {
        "id": "view-in-github",
        "colab_type": "text"
      },
      "source": [
        "<a href=\"https://colab.research.google.com/github/manalibhoir22/manali/blob/master/BASIC_PYTHON_PROGRAMMING.ipynb\" target=\"_parent\"><img src=\"https://colab.research.google.com/assets/colab-badge.svg\" alt=\"Open In Colab\"/></a>"
      ]
    },
    {
      "cell_type": "code",
      "metadata": {
        "colab": {
          "base_uri": "https://localhost:8080/"
        },
        "id": "fuIOq1rKqRWP",
        "outputId": "fce0a49e-0862-4e93-e39f-c105fa026788"
      },
      "source": [
        "temp = 1632\n",
        "temp % 10"
      ],
      "execution_count": 4,
      "outputs": [
        {
          "output_type": "execute_result",
          "data": {
            "text/plain": [
              "2"
            ]
          },
          "metadata": {
            "tags": []
          },
          "execution_count": 4
        }
      ]
    },
    {
      "cell_type": "code",
      "metadata": {
        "colab": {
          "base_uri": "https://localhost:8080/"
        },
        "id": "1wnIkOYPtaAP",
        "outputId": "1acafa70-ff85-4a9b-c033-08dcef8e64d4"
      },
      "source": [
        "temp //= 10;temp"
      ],
      "execution_count": 8,
      "outputs": [
        {
          "output_type": "execute_result",
          "data": {
            "text/plain": [
              "0"
            ]
          },
          "metadata": {
            "tags": []
          },
          "execution_count": 8
        }
      ]
    },
    {
      "cell_type": "code",
      "metadata": {
        "colab": {
          "base_uri": "https://localhost:8080/"
        },
        "id": "9mYDbUAJt95U",
        "outputId": "2f76eaeb-f79d-4610-decc-2985fc5532ad"
      },
      "source": [
        "num = int(input(\"Enter a number: \"))"
      ],
      "execution_count": null,
      "outputs": [
        {
          "output_type": "stream",
          "text": [
            "Enter a number: 1634\n"
          ],
          "name": "stdout"
        }
      ]
    },
    {
      "cell_type": "code",
      "metadata": {
        "colab": {
          "base_uri": "https://localhost:8080/"
        },
        "id": "nvFdPUfpv4UO",
        "outputId": "8f72a698-713f-4b1a-d76a-df12cb2a33db"
      },
      "source": [
        "order = len(str(num));order"
      ],
      "execution_count": null,
      "outputs": [
        {
          "output_type": "execute_result",
          "data": {
            "text/plain": [
              "4"
            ]
          },
          "metadata": {
            "tags": []
          },
          "execution_count": 6
        }
      ]
    },
    {
      "cell_type": "code",
      "metadata": {
        "colab": {
          "base_uri": "https://localhost:8080/"
        },
        "id": "Hlep1ZTFwApe",
        "outputId": "9fa0be64-609b-429a-da26-13be56021258"
      },
      "source": [
        "#Check Armstrong number for n digits\n",
        "# Enter the number \n",
        "\n",
        "num = int(input(\"Enter the number: \"))\n",
        "\n",
        "#Calculate the len of the digit\n",
        "order = len(str(num))\n",
        "\n",
        "#calculate the sum of cube for each digit\n",
        "\n",
        "sum = 0 \n",
        "temp = num\n",
        "\n",
        "while temp > 0:\n",
        "  digit = temp % 10\n",
        "  sum += digit ** order\n",
        "  temp //= 10\n",
        "\n",
        "#Display the results\n",
        "\n",
        "if sum == num:\n",
        "  print(f\"{num} is an Armstrong Number\")\n",
        "else:\n",
        "  print(f\"{num} is not an Armstrong number\")"
      ],
      "execution_count": 10,
      "outputs": [
        {
          "output_type": "stream",
          "text": [
            "Enter the number: 1643\n",
            "1643 is not an armstrong number\n"
          ],
          "name": "stdout"
        }
      ]
    },
    {
      "cell_type": "code",
      "metadata": {
        "id": "p3Lq19i2wYPu",
        "colab": {
          "base_uri": "https://localhost:8080/"
        },
        "outputId": "f0bd9446-170e-4df4-a930-956ed9b83074"
      },
      "source": [
        "#Check if the number is positive/negative\n",
        "\n",
        "num = float(input(\"Enter a number: \"))\n",
        "\n",
        "if num > 0:\n",
        "  print(f\"{num} is a Positive Number\")\n",
        "\n",
        "elif num == 0:\n",
        "  print(f\"{num} is Zero\")\n",
        "\n",
        "else:\n",
        "  print(f\"{num} is a Negative Number\")"
      ],
      "execution_count": 12,
      "outputs": [
        {
          "output_type": "stream",
          "text": [
            "Enter a number: -5\n",
            "-5.0 is a Negative Number\n"
          ],
          "name": "stdout"
        }
      ]
    },
    {
      "cell_type": "code",
      "metadata": {
        "colab": {
          "base_uri": "https://localhost:8080/"
        },
        "id": "iz1vK-Fg26fr",
        "outputId": "3fa4ed0d-8823-42d6-bfe9-aee52e478607"
      },
      "source": [
        "## Check if the number is Even of odd\n",
        "\n",
        "num = float(input(\"Enter a number: \"))\n",
        "\n",
        "if (num % 2)==0:\n",
        "  print(f\"{num} is an Even Number\")\n",
        "else:\n",
        "  print(f\"{num} is an Odd Number\")"
      ],
      "execution_count": 13,
      "outputs": [
        {
          "output_type": "stream",
          "text": [
            "Enter a number: -2\n",
            "-2.0 is an Even Number\n"
          ],
          "name": "stdout"
        }
      ]
    },
    {
      "cell_type": "code",
      "metadata": {
        "colab": {
          "base_uri": "https://localhost:8080/"
        },
        "id": "WQNSX2-C6gMd",
        "outputId": "cae13277-c615-4289-9189-44e2d0dcc3a2"
      },
      "source": [
        "#Check if the year is a leap year\n",
        "year = int(input(\"Enter a number: \"))\n",
        "\n",
        "if (year % 4) == 0:\n",
        "  if (year % 100) ==0:\n",
        "    if (year % 400)==0:\n",
        "      print(f\"{year} is a leap year\")\n",
        "    else:\n",
        "      print(f\"{year} is not a leap year\")\n",
        "  else:\n",
        "    print(f\"{year} is a Leap Year\")\n",
        "else:\n",
        "  print(f\"{year} is not a Leap Year\")"
      ],
      "execution_count": 17,
      "outputs": [
        {
          "output_type": "stream",
          "text": [
            "Enter a number: 1900\n",
            "1900 is not a leap year\n"
          ],
          "name": "stdout"
        }
      ]
    },
    {
      "cell_type": "code",
      "metadata": {
        "colab": {
          "base_uri": "https://localhost:8080/"
        },
        "id": "T3TGfL4F8NWg",
        "outputId": "454cff25-5274-41d3-a549-3b8395236333"
      },
      "source": [
        "#check which number is the largest among the three numbers\n",
        "\n",
        "num1 = float(input(\"Enter a 1st number: \"))\n",
        "num2 = float(input(\"Enter a 2nd number: \"))\n",
        "num3 = float(input(\"Enter a 3rd number: \"))\n",
        "\n",
        "if (num1 >= num2) and (num1 >= num3):\n",
        "  largest = num1\n",
        "if (num2 >= num1) and (num2 >= num3):\n",
        "  largest = num2\n",
        "else:\n",
        "  largest = num3\n",
        "\n",
        "print(f\"The largest number is {largest}\")"
      ],
      "execution_count": 22,
      "outputs": [
        {
          "output_type": "stream",
          "text": [
            "Enter a 1st number: 8\n",
            "Enter a 2nd number: 6\n",
            "Enter a 3rd number: 6\n",
            "The largest number is 6.0\n"
          ],
          "name": "stdout"
        }
      ]
    },
    {
      "cell_type": "code",
      "metadata": {
        "colab": {
          "base_uri": "https://localhost:8080/"
        },
        "id": "sDt9bxVaNMtR",
        "outputId": "0b3f4a61-c78b-4946-8527-22157609e5f8"
      },
      "source": [
        "#Check if the number is prime or not\n",
        "\n",
        "num = int(input(\"Enter a number: \"))\n",
        " \n",
        "#prime numbers are greater than 1\n",
        "if num >1:\n",
        "  #check the factors\n",
        "  for i in range (2,num):\n",
        "    if (num % i)==0:\n",
        "      print (f\"{num} is a not a prime number\")\n",
        "      print (f\"Since {i} times {num//i} is {num}\")\n",
        "      break\n",
        "  else:\n",
        "      print(f\"{num} is a prime number\")\n",
        "\n",
        "else:\n",
        "  print(f\"{num} is not a prime number\")"
      ],
      "execution_count": 27,
      "outputs": [
        {
          "output_type": "stream",
          "text": [
            "Enter a number: 48\n",
            "48 is a not a prime number\n",
            "Since 2 times 24 is 48\n"
          ],
          "name": "stdout"
        }
      ]
    },
    {
      "cell_type": "code",
      "metadata": {
        "colab": {
          "base_uri": "https://localhost:8080/"
        },
        "id": "7p4gm6hzRIC6",
        "outputId": "9e20e397-d9f5-47cf-ba82-0b33939f8c9a"
      },
      "source": [
        "#Print all the prime numbers between (a,b)\n",
        "\n",
        "a = int(input(\"Enter a lower range: \"))\n",
        "b = int(input(\"Enter an upper range: \"))\n",
        "\n",
        "print(f\"All the Prime numbers in the range {a} to {b} are:\")\n",
        "for num in range(a,b+1):\n",
        "  if num > 1:\n",
        "    for i in range(2,num):\n",
        "      if (num % i)==0:\n",
        "        break\n",
        "\n",
        "    else:\n",
        "      print(num)"
      ],
      "execution_count": 34,
      "outputs": [
        {
          "output_type": "stream",
          "text": [
            "Enter a lower range: 1\n",
            "Enter an upper range: 20\n",
            "All the Prime numbers in the range 1 to 20 are:\n",
            "2\n",
            "3\n",
            "5\n",
            "7\n",
            "11\n",
            "13\n",
            "17\n",
            "19\n"
          ],
          "name": "stdout"
        }
      ]
    },
    {
      "cell_type": "code",
      "metadata": {
        "colab": {
          "base_uri": "https://localhost:8080/"
        },
        "id": "hHrnlZvPTpWW",
        "outputId": "1044233a-da26-466e-cfe4-0fee63cf8460"
      },
      "source": [
        "#Find the factorial of a number provided by the user.\n",
        "\n",
        "num = int(input(\"Enter a number: \"))\n",
        "factorial = 1\n",
        "if num < 0:\n",
        "  print(f\"Sorry, factorial does not exist for negative numbers\")\n",
        "\n",
        "elif num == 0:\n",
        "  print(f\"The factorial of 0 is 1\")\n",
        "\n",
        "else:\n",
        "  for i in range(1,num+1):\n",
        "    factorial = factorial*i\n",
        "  print(f\"The factorial for {num} is {factorial}\")"
      ],
      "execution_count": 39,
      "outputs": [
        {
          "output_type": "stream",
          "text": [
            "Enter a number: 8\n",
            "The factorial for 8 is 40320\n"
          ],
          "name": "stdout"
        }
      ]
    },
    {
      "cell_type": "code",
      "metadata": {
        "colab": {
          "base_uri": "https://localhost:8080/"
        },
        "id": "frzoRdefVIZc",
        "outputId": "c8b4ceb0-4146-4c65-a45c-857383343b1a"
      },
      "source": [
        "#Multiplication table in Python\n",
        "\n",
        "num = int(input(\"Enter a number: \"))\n",
        "\n",
        "for i in range(1,11):\n",
        "  print(f\"{num} X {i} = {num*i}\")"
      ],
      "execution_count": 42,
      "outputs": [
        {
          "output_type": "stream",
          "text": [
            "Enter a number: 12\n",
            "12 X 1 = 12\n",
            "12 X 2 = 24\n",
            "12 X 3 = 36\n",
            "12 X 4 = 48\n",
            "12 X 5 = 60\n",
            "12 X 6 = 72\n",
            "12 X 7 = 84\n",
            "12 X 8 = 96\n",
            "12 X 9 = 108\n",
            "12 X 10 = 120\n"
          ],
          "name": "stdout"
        }
      ]
    },
    {
      "cell_type": "code",
      "metadata": {
        "colab": {
          "base_uri": "https://localhost:8080/"
        },
        "id": "9KASP8FNV8kA",
        "outputId": "cc80d739-fb6f-41bd-80c5-3ea2108d9e0b"
      },
      "source": [
        "# Program to display the Fibonacci sequence up to n-th term\n",
        "\n",
        "nterms = int(input(\"How many terms? \"))\n",
        "\n",
        "# first two terms\n",
        "n1, n2 = 0, 1\n",
        "count = 0\n",
        "\n",
        "# check if the number of terms is valid\n",
        "if nterms <= 0:\n",
        "   print(\"Please enter a positive integer\")\n",
        "# if there is only one term, return n1\n",
        "elif nterms == 1:\n",
        "   print(\"Fibonacci sequence upto\",nterms,\":\")\n",
        "   print(n1)\n",
        "# generate fibonacci sequence\n",
        "else:\n",
        "   print(\"Fibonacci sequence:\")\n",
        "   while count < nterms:\n",
        "       print(n1)\n",
        "       nth = n1 + n2\n",
        "       # update values\n",
        "       n1 = n2\n",
        "       n2 = nth\n",
        "       count += 1\n",
        "      "
      ],
      "execution_count": 43,
      "outputs": [
        {
          "output_type": "stream",
          "text": [
            "How many terms? 20\n",
            "Fibonacci sequence:\n",
            "0\n",
            "1\n",
            "1\n",
            "2\n",
            "3\n",
            "5\n",
            "8\n",
            "13\n",
            "21\n",
            "34\n",
            "55\n",
            "89\n",
            "144\n",
            "233\n",
            "377\n",
            "610\n",
            "987\n",
            "1597\n",
            "2584\n",
            "4181\n"
          ],
          "name": "stdout"
        }
      ]
    },
    {
      "cell_type": "code",
      "metadata": {
        "id": "5YVHRu5nWf-W"
      },
      "source": [
        ""
      ],
      "execution_count": null,
      "outputs": []
    }
  ]
}