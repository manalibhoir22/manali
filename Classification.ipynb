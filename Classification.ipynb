{
  "nbformat": 4,
  "nbformat_minor": 0,
  "metadata": {
    "kernelspec": {
      "display_name": "Python 3",
      "language": "python",
      "name": "python3"
    },
    "language_info": {
      "codemirror_mode": {
        "name": "ipython",
        "version": 3
      },
      "file_extension": ".py",
      "mimetype": "text/x-python",
      "name": "python",
      "nbconvert_exporter": "python",
      "pygments_lexer": "ipython3",
      "version": "3.8.5"
    },
    "colab": {
      "name": "Cleaning and some visualization.ipynb",
      "provenance": [],
      "toc_visible": true,
      "include_colab_link": true
    }
  },
  "cells": [
    {
      "cell_type": "markdown",
      "metadata": {
        "id": "view-in-github",
        "colab_type": "text"
      },
      "source": [
        "<a href=\"https://colab.research.google.com/github/manalibhoir22/manali/blob/master/Classification.ipynb\" target=\"_parent\"><img src=\"https://colab.research.google.com/assets/colab-badge.svg\" alt=\"Open In Colab\"/></a>"
      ]
    },
    {
      "cell_type": "markdown",
      "metadata": {
        "id": "CNslKQPKr4FY"
      },
      "source": [
        "# Load the data"
      ]
    },
    {
      "cell_type": "code",
      "metadata": {
        "colab": {
          "base_uri": "https://localhost:8080/",
          "height": 244
        },
        "id": "5GbuD1lVr4Fh",
        "outputId": "34ed824b-5aa0-4183-a266-c60d2c744cc3"
      },
      "source": [
        "import numpy as np\n",
        "import pandas as pd\n",
        "df = pd.read_excel('data.xlsx')\n",
        "df.head()"
      ],
      "execution_count": 1,
      "outputs": [
        {
          "output_type": "execute_result",
          "data": {
            "text/html": [
              "<div>\n",
              "<style scoped>\n",
              "    .dataframe tbody tr th:only-of-type {\n",
              "        vertical-align: middle;\n",
              "    }\n",
              "\n",
              "    .dataframe tbody tr th {\n",
              "        vertical-align: top;\n",
              "    }\n",
              "\n",
              "    .dataframe thead th {\n",
              "        text-align: right;\n",
              "    }\n",
              "</style>\n",
              "<table border=\"1\" class=\"dataframe\">\n",
              "  <thead>\n",
              "    <tr style=\"text-align: right;\">\n",
              "      <th></th>\n",
              "      <th>Unnamed: 0</th>\n",
              "      <th>reviewerID</th>\n",
              "      <th>asin</th>\n",
              "      <th>reviewerName</th>\n",
              "      <th>helpful</th>\n",
              "      <th>reviewText</th>\n",
              "      <th>overall</th>\n",
              "      <th>summary</th>\n",
              "      <th>unixReviewTime</th>\n",
              "      <th>reviewTime</th>\n",
              "    </tr>\n",
              "  </thead>\n",
              "  <tbody>\n",
              "    <tr>\n",
              "      <th>0</th>\n",
              "      <td>1</td>\n",
              "      <td>A30TL5EWN6DFXT</td>\n",
              "      <td>120401325X</td>\n",
              "      <td>christina</td>\n",
              "      <td>[0, 0]</td>\n",
              "      <td>They look good and stick good! I just don't li...</td>\n",
              "      <td>4</td>\n",
              "      <td>Looks Good</td>\n",
              "      <td>1400630400</td>\n",
              "      <td>05 21, 2014</td>\n",
              "    </tr>\n",
              "    <tr>\n",
              "      <th>1</th>\n",
              "      <td>2</td>\n",
              "      <td>ASY55RVNIL0UD</td>\n",
              "      <td>120401325X</td>\n",
              "      <td>emily l.</td>\n",
              "      <td>[0, 0]</td>\n",
              "      <td>These stickers work like the review says they ...</td>\n",
              "      <td>5</td>\n",
              "      <td>Really great product.</td>\n",
              "      <td>1389657600</td>\n",
              "      <td>01 14, 2014</td>\n",
              "    </tr>\n",
              "    <tr>\n",
              "      <th>2</th>\n",
              "      <td>3</td>\n",
              "      <td>A2TMXE2AFO7ONB</td>\n",
              "      <td>120401325X</td>\n",
              "      <td>Erica</td>\n",
              "      <td>[0, 0]</td>\n",
              "      <td>These are awesome and make my phone look so st...</td>\n",
              "      <td>5</td>\n",
              "      <td>LOVE LOVE LOVE</td>\n",
              "      <td>1403740800</td>\n",
              "      <td>06 26, 2014</td>\n",
              "    </tr>\n",
              "    <tr>\n",
              "      <th>3</th>\n",
              "      <td>4</td>\n",
              "      <td>AWJ0WZQYMYFQ4</td>\n",
              "      <td>120401325X</td>\n",
              "      <td>JM</td>\n",
              "      <td>[4, 4]</td>\n",
              "      <td>Item arrived in great time and was in perfect ...</td>\n",
              "      <td>4</td>\n",
              "      <td>Cute!</td>\n",
              "      <td>1382313600</td>\n",
              "      <td>10 21, 2013</td>\n",
              "    </tr>\n",
              "    <tr>\n",
              "      <th>4</th>\n",
              "      <td>5</td>\n",
              "      <td>ATX7CZYFXI1KW</td>\n",
              "      <td>120401325X</td>\n",
              "      <td>patrice m rogoza</td>\n",
              "      <td>[2, 3]</td>\n",
              "      <td>awesome! stays on, and looks great. can be use...</td>\n",
              "      <td>5</td>\n",
              "      <td>leopard home button sticker for iphone 4s</td>\n",
              "      <td>1359849600</td>\n",
              "      <td>02 3, 2013</td>\n",
              "    </tr>\n",
              "  </tbody>\n",
              "</table>\n",
              "</div>"
            ],
            "text/plain": [
              "   Unnamed: 0      reviewerID  ... unixReviewTime   reviewTime\n",
              "0           1  A30TL5EWN6DFXT  ...     1400630400  05 21, 2014\n",
              "1           2   ASY55RVNIL0UD  ...     1389657600  01 14, 2014\n",
              "2           3  A2TMXE2AFO7ONB  ...     1403740800  06 26, 2014\n",
              "3           4   AWJ0WZQYMYFQ4  ...     1382313600  10 21, 2013\n",
              "4           5   ATX7CZYFXI1KW  ...     1359849600   02 3, 2013\n",
              "\n",
              "[5 rows x 10 columns]"
            ]
          },
          "metadata": {
            "tags": []
          },
          "execution_count": 1
        }
      ]
    },
    {
      "cell_type": "markdown",
      "metadata": {
        "id": "ZyezgPBkr4Fj"
      },
      "source": [
        "# Dropping unnecessary columns"
      ]
    },
    {
      "cell_type": "code",
      "metadata": {
        "colab": {
          "base_uri": "https://localhost:8080/",
          "height": 194
        },
        "id": "lUu-F0Wer4Fk",
        "outputId": "2344afce-0fc4-4f99-c423-78ef95e9dca1"
      },
      "source": [
        "df.drop(df.columns[[0,1,3,4,8,9]],axis=1,inplace=True)\n",
        "df.head()"
      ],
      "execution_count": 2,
      "outputs": [
        {
          "output_type": "execute_result",
          "data": {
            "text/html": [
              "<div>\n",
              "<style scoped>\n",
              "    .dataframe tbody tr th:only-of-type {\n",
              "        vertical-align: middle;\n",
              "    }\n",
              "\n",
              "    .dataframe tbody tr th {\n",
              "        vertical-align: top;\n",
              "    }\n",
              "\n",
              "    .dataframe thead th {\n",
              "        text-align: right;\n",
              "    }\n",
              "</style>\n",
              "<table border=\"1\" class=\"dataframe\">\n",
              "  <thead>\n",
              "    <tr style=\"text-align: right;\">\n",
              "      <th></th>\n",
              "      <th>asin</th>\n",
              "      <th>reviewText</th>\n",
              "      <th>overall</th>\n",
              "      <th>summary</th>\n",
              "    </tr>\n",
              "  </thead>\n",
              "  <tbody>\n",
              "    <tr>\n",
              "      <th>0</th>\n",
              "      <td>120401325X</td>\n",
              "      <td>They look good and stick good! I just don't li...</td>\n",
              "      <td>4</td>\n",
              "      <td>Looks Good</td>\n",
              "    </tr>\n",
              "    <tr>\n",
              "      <th>1</th>\n",
              "      <td>120401325X</td>\n",
              "      <td>These stickers work like the review says they ...</td>\n",
              "      <td>5</td>\n",
              "      <td>Really great product.</td>\n",
              "    </tr>\n",
              "    <tr>\n",
              "      <th>2</th>\n",
              "      <td>120401325X</td>\n",
              "      <td>These are awesome and make my phone look so st...</td>\n",
              "      <td>5</td>\n",
              "      <td>LOVE LOVE LOVE</td>\n",
              "    </tr>\n",
              "    <tr>\n",
              "      <th>3</th>\n",
              "      <td>120401325X</td>\n",
              "      <td>Item arrived in great time and was in perfect ...</td>\n",
              "      <td>4</td>\n",
              "      <td>Cute!</td>\n",
              "    </tr>\n",
              "    <tr>\n",
              "      <th>4</th>\n",
              "      <td>120401325X</td>\n",
              "      <td>awesome! stays on, and looks great. can be use...</td>\n",
              "      <td>5</td>\n",
              "      <td>leopard home button sticker for iphone 4s</td>\n",
              "    </tr>\n",
              "  </tbody>\n",
              "</table>\n",
              "</div>"
            ],
            "text/plain": [
              "         asin  ...                                    summary\n",
              "0  120401325X  ...                                 Looks Good\n",
              "1  120401325X  ...                      Really great product.\n",
              "2  120401325X  ...                             LOVE LOVE LOVE\n",
              "3  120401325X  ...                                      Cute!\n",
              "4  120401325X  ...  leopard home button sticker for iphone 4s\n",
              "\n",
              "[5 rows x 4 columns]"
            ]
          },
          "metadata": {
            "tags": []
          },
          "execution_count": 2
        }
      ]
    },
    {
      "cell_type": "markdown",
      "metadata": {
        "id": "57oHfRnNr4Fk"
      },
      "source": [
        "# Remove Blank Records and null values"
      ]
    },
    {
      "cell_type": "code",
      "metadata": {
        "colab": {
          "base_uri": "https://localhost:8080/"
        },
        "id": "wy3Bev2Jr4Fl",
        "outputId": "c21629c1-c590-45fb-fbfa-331b4514823c"
      },
      "source": [
        "df.isnull().sum()"
      ],
      "execution_count": 3,
      "outputs": [
        {
          "output_type": "execute_result",
          "data": {
            "text/plain": [
              "asin           0\n",
              "reviewText    99\n",
              "overall        0\n",
              "summary        1\n",
              "dtype: int64"
            ]
          },
          "metadata": {
            "tags": []
          },
          "execution_count": 3
        }
      ]
    },
    {
      "cell_type": "code",
      "metadata": {
        "colab": {
          "base_uri": "https://localhost:8080/"
        },
        "id": "vxnqzcIcr4Fl",
        "outputId": "b9df274d-6420-40dd-f0f5-50326623e5e4"
      },
      "source": [
        "# Check for whitespace strings (it's OK if there aren't any!):\n",
        "blanks = []  # start with an empty list\n",
        "\n",
        "for i,asin,rv,ov,summ in df.itertuples():  # iterate over the DataFrame\n",
        "    if type(rv)==str:            # avoid NaN values\n",
        "        if rv.isspace():         # test 'review' for whitespace\n",
        "            blanks.append(i)     # add matching index numbers to the list\n",
        "\n",
        "    if type(summ)==str:            # avoid NaN values\n",
        "        if summ.isspace():         # test 'review' for whitespace\n",
        "            blanks.append(i)     # add matching index numbers to the list   \n",
        "    \n",
        "  \n",
        "len(blanks)"
      ],
      "execution_count": 4,
      "outputs": [
        {
          "output_type": "execute_result",
          "data": {
            "text/plain": [
              "0"
            ]
          },
          "metadata": {
            "tags": []
          },
          "execution_count": 4
        }
      ]
    },
    {
      "cell_type": "code",
      "metadata": {
        "id": "5BTQzzqfr4Fm"
      },
      "source": [
        "df.dropna(inplace=True)"
      ],
      "execution_count": 5,
      "outputs": []
    },
    {
      "cell_type": "markdown",
      "metadata": {
        "id": "TRKLZBSFr4Fm"
      },
      "source": [
        "#### Convert reviewText to the string "
      ]
    },
    {
      "cell_type": "code",
      "metadata": {
        "colab": {
          "base_uri": "https://localhost:8080/",
          "height": 194
        },
        "id": "boe3UpZfr4Fm",
        "outputId": "688203a4-9960-462d-aef9-bcea7fc0d7d2"
      },
      "source": [
        "df['reviewText']=df['reviewText'].apply(str)\n",
        "df.head()"
      ],
      "execution_count": 6,
      "outputs": [
        {
          "output_type": "execute_result",
          "data": {
            "text/html": [
              "<div>\n",
              "<style scoped>\n",
              "    .dataframe tbody tr th:only-of-type {\n",
              "        vertical-align: middle;\n",
              "    }\n",
              "\n",
              "    .dataframe tbody tr th {\n",
              "        vertical-align: top;\n",
              "    }\n",
              "\n",
              "    .dataframe thead th {\n",
              "        text-align: right;\n",
              "    }\n",
              "</style>\n",
              "<table border=\"1\" class=\"dataframe\">\n",
              "  <thead>\n",
              "    <tr style=\"text-align: right;\">\n",
              "      <th></th>\n",
              "      <th>asin</th>\n",
              "      <th>reviewText</th>\n",
              "      <th>overall</th>\n",
              "      <th>summary</th>\n",
              "    </tr>\n",
              "  </thead>\n",
              "  <tbody>\n",
              "    <tr>\n",
              "      <th>0</th>\n",
              "      <td>120401325X</td>\n",
              "      <td>They look good and stick good! I just don't li...</td>\n",
              "      <td>4</td>\n",
              "      <td>Looks Good</td>\n",
              "    </tr>\n",
              "    <tr>\n",
              "      <th>1</th>\n",
              "      <td>120401325X</td>\n",
              "      <td>These stickers work like the review says they ...</td>\n",
              "      <td>5</td>\n",
              "      <td>Really great product.</td>\n",
              "    </tr>\n",
              "    <tr>\n",
              "      <th>2</th>\n",
              "      <td>120401325X</td>\n",
              "      <td>These are awesome and make my phone look so st...</td>\n",
              "      <td>5</td>\n",
              "      <td>LOVE LOVE LOVE</td>\n",
              "    </tr>\n",
              "    <tr>\n",
              "      <th>3</th>\n",
              "      <td>120401325X</td>\n",
              "      <td>Item arrived in great time and was in perfect ...</td>\n",
              "      <td>4</td>\n",
              "      <td>Cute!</td>\n",
              "    </tr>\n",
              "    <tr>\n",
              "      <th>4</th>\n",
              "      <td>120401325X</td>\n",
              "      <td>awesome! stays on, and looks great. can be use...</td>\n",
              "      <td>5</td>\n",
              "      <td>leopard home button sticker for iphone 4s</td>\n",
              "    </tr>\n",
              "  </tbody>\n",
              "</table>\n",
              "</div>"
            ],
            "text/plain": [
              "         asin  ...                                    summary\n",
              "0  120401325X  ...                                 Looks Good\n",
              "1  120401325X  ...                      Really great product.\n",
              "2  120401325X  ...                             LOVE LOVE LOVE\n",
              "3  120401325X  ...                                      Cute!\n",
              "4  120401325X  ...  leopard home button sticker for iphone 4s\n",
              "\n",
              "[5 rows x 4 columns]"
            ]
          },
          "metadata": {
            "tags": []
          },
          "execution_count": 6
        }
      ]
    },
    {
      "cell_type": "code",
      "metadata": {
        "colab": {
          "base_uri": "https://localhost:8080/"
        },
        "id": "FzWWXYB8r4Fn",
        "outputId": "f997c837-bf58-485a-be5f-f26901cd7abf"
      },
      "source": [
        "len(df['reviewText'])"
      ],
      "execution_count": 7,
      "outputs": [
        {
          "output_type": "execute_result",
          "data": {
            "text/plain": [
              "194339"
            ]
          },
          "metadata": {
            "tags": []
          },
          "execution_count": 7
        }
      ]
    },
    {
      "cell_type": "markdown",
      "metadata": {
        "id": "Mq1Oudg4r4Fo"
      },
      "source": [
        "### Cleaning the data \n",
        "Remove ‘\\n’\n",
        "\n",
        "Remove emojis if any\n",
        "\n",
        "Remove punctuation marks\n",
        "\n",
        "Remove extra spaces\n",
        "\n",
        "Remove stopwords — Stopwords are those words which occur very frequently but are not required for analysis as they provide no insights. Removing them will reduce computational load. They include words like I, me, myself, that, him, etc."
      ]
    },
    {
      "cell_type": "code",
      "metadata": {
        "id": "DfFFSRSTr4Fo"
      },
      "source": [
        "import string\n",
        "import nltk \n",
        "from nltk.corpus import stopwords\n",
        "from nltk import PorterStemmer\n",
        "import re\n",
        "from nltk.tokenize import word_tokenize"
      ],
      "execution_count": 8,
      "outputs": []
    },
    {
      "cell_type": "code",
      "metadata": {
        "id": "hUo4xlmMr4Fp"
      },
      "source": [
        "def deEmojify(text):\n",
        "    regrex_pattern = re.compile(pattern = \"[\"\n",
        "        u\"\\U0001F600-\\U0001F64F\"  # emoticons\n",
        "        u\"\\U0001F300-\\U0001F5FF\"  # symbols & pictographs\n",
        "        u\"\\U0001F680-\\U0001F6FF\"  # transport & map symbols\n",
        "        u\"\\U0001F1E0-\\U0001F1FF\"  # flags (iOS)\n",
        "                           \"]+\", flags = re.UNICODE)\n",
        "    return regrex_pattern.sub(r'',text)"
      ],
      "execution_count": 9,
      "outputs": []
    },
    {
      "cell_type": "code",
      "metadata": {
        "id": "eC0jJgVur4Fp"
      },
      "source": [
        "stop_words = ['in','of','at','a','the','and','is','on','an','they','was','it','i','them','to','these','this']"
      ],
      "execution_count": 10,
      "outputs": []
    },
    {
      "cell_type": "code",
      "metadata": {
        "id": "jMqcEyhur4Fp"
      },
      "source": [
        "def decontracted(phrase):\n",
        "    phrase=re.sub(r\"won't\",\"will not\",phrase)\n",
        "    phrase=re.sub(r\"can't\",\"can not\",phrase)\n",
        "    phrase=re.sub(r\"n\\'t\",\" not\",phrase)\n",
        "    phrase=re.sub(r\"\\'re\",\" are\",phrase)\n",
        "    phrase=re.sub(r\"\\'s\",\" is\",phrase)\n",
        "    phrase=re.sub(r\"\\'d\",\" would\",phrase)\n",
        "    phrase=re.sub(r\"\\'ll\",\" will\",phrase)    \n",
        "    phrase=re.sub(r\"\\'t\",\" not\",phrase)\n",
        "    phrase=re.sub(r\"\\'ve\",\" have\",phrase)\n",
        "    phrase=re.sub(r\"\\'m\",\" am\",phrase)\n",
        "    return phrase"
      ],
      "execution_count": 11,
      "outputs": []
    },
    {
      "cell_type": "markdown",
      "metadata": {
        "id": "nLwkFvDvr4Fq"
      },
      "source": [
        "#### USING SNOWBALL"
      ]
    },
    {
      "cell_type": "code",
      "metadata": {
        "colab": {
          "base_uri": "https://localhost:8080/"
        },
        "id": "hnq42KEar4Fr",
        "outputId": "ee859d54-b891-44a1-809e-0a58e0b9d413"
      },
      "source": [
        "import nltk\n",
        "from nltk.stem.snowball import SnowballStemmer\n",
        "from nltk.stem import WordNetLemmatizer \n",
        "\n",
        "import nltk\n",
        "nltk.download('wordnet')\n",
        "from nltk.corpus import wordnet\n",
        "##STEMMING USING SNOWBALL\n",
        "snow_stemmer = SnowballStemmer(language='english')\n",
        "\n",
        "#LEMMATIZATION\n",
        "lemmatizer = WordNetLemmatizer()"
      ],
      "execution_count": 12,
      "outputs": [
        {
          "output_type": "stream",
          "text": [
            "[nltk_data] Downloading package wordnet to /root/nltk_data...\n",
            "[nltk_data]   Package wordnet is already up-to-date!\n"
          ],
          "name": "stdout"
        }
      ]
    },
    {
      "cell_type": "code",
      "metadata": {
        "id": "MulAmUCVr4Fs"
      },
      "source": [
        "def clean_text(text):\n",
        "    \n",
        "    snow_stemmer = SnowballStemmer(language='english')\n",
        "    \n",
        "    lemmatizer = WordNetLemmatizer()\n",
        "    \n",
        "    text = decontracted(text)\n",
        "    \n",
        "    text = deEmojify(text) #remove Emojis\n",
        "    \n",
        "    text_cleaned = \"\".join([x for x in text if x not in string.punctuation]) #remove punctuation\n",
        "    \n",
        "    text_cleaned = re.sub(' +', ' ',text_cleaned) #remove extra spaces\n",
        "    \n",
        "    text_cleaned = text_cleaned.lower() #converting into lower case\n",
        "    \n",
        "    tokens = text_cleaned.split(\" \")\n",
        "    \n",
        "    tokens = [token for token in tokens if token not in stop_words] #taking only those words which are not stop words \n",
        "    \n",
        "    text_cleaned = \" \".join([snow_stemmer.stem(token) for token in tokens])\n",
        "    \n",
        "    text_cleaned = \" \".join([lemmatizer.lemmatize(token) for token in tokens])\n",
        "    \n",
        "    return text_cleaned"
      ],
      "execution_count": 13,
      "outputs": []
    },
    {
      "cell_type": "markdown",
      "metadata": {
        "id": "_iah90okr4Fu"
      },
      "source": [
        "Apply this on reviews column"
      ]
    },
    {
      "cell_type": "code",
      "metadata": {
        "scrolled": true,
        "colab": {
          "base_uri": "https://localhost:8080/",
          "height": 194
        },
        "id": "73AkU9lYr4Fv",
        "outputId": "ca887cf5-af3f-49d9-b1be-43f47b57dfe1"
      },
      "source": [
        "df['cleaned_reviews']=df['reviewText'].apply(lambda x:clean_text(x))\n",
        "df.head()"
      ],
      "execution_count": 14,
      "outputs": [
        {
          "output_type": "execute_result",
          "data": {
            "text/html": [
              "<div>\n",
              "<style scoped>\n",
              "    .dataframe tbody tr th:only-of-type {\n",
              "        vertical-align: middle;\n",
              "    }\n",
              "\n",
              "    .dataframe tbody tr th {\n",
              "        vertical-align: top;\n",
              "    }\n",
              "\n",
              "    .dataframe thead th {\n",
              "        text-align: right;\n",
              "    }\n",
              "</style>\n",
              "<table border=\"1\" class=\"dataframe\">\n",
              "  <thead>\n",
              "    <tr style=\"text-align: right;\">\n",
              "      <th></th>\n",
              "      <th>asin</th>\n",
              "      <th>reviewText</th>\n",
              "      <th>overall</th>\n",
              "      <th>summary</th>\n",
              "      <th>cleaned_reviews</th>\n",
              "    </tr>\n",
              "  </thead>\n",
              "  <tbody>\n",
              "    <tr>\n",
              "      <th>0</th>\n",
              "      <td>120401325X</td>\n",
              "      <td>They look good and stick good! I just don't li...</td>\n",
              "      <td>4</td>\n",
              "      <td>Looks Good</td>\n",
              "      <td>look good stick good just do not like rounded ...</td>\n",
              "    </tr>\n",
              "    <tr>\n",
              "      <th>1</th>\n",
              "      <td>120401325X</td>\n",
              "      <td>These stickers work like the review says they ...</td>\n",
              "      <td>5</td>\n",
              "      <td>Really great product.</td>\n",
              "      <td>sticker work like review say do stick great st...</td>\n",
              "    </tr>\n",
              "    <tr>\n",
              "      <th>2</th>\n",
              "      <td>120401325X</td>\n",
              "      <td>These are awesome and make my phone look so st...</td>\n",
              "      <td>5</td>\n",
              "      <td>LOVE LOVE LOVE</td>\n",
              "      <td>are awesome make my phone look so stylish have...</td>\n",
              "    </tr>\n",
              "    <tr>\n",
              "      <th>3</th>\n",
              "      <td>120401325X</td>\n",
              "      <td>Item arrived in great time and was in perfect ...</td>\n",
              "      <td>4</td>\n",
              "      <td>Cute!</td>\n",
              "      <td>item arrived great time perfect condition howe...</td>\n",
              "    </tr>\n",
              "    <tr>\n",
              "      <th>4</th>\n",
              "      <td>120401325X</td>\n",
              "      <td>awesome! stays on, and looks great. can be use...</td>\n",
              "      <td>5</td>\n",
              "      <td>leopard home button sticker for iphone 4s</td>\n",
              "      <td>awesome stay look great can be used multiple a...</td>\n",
              "    </tr>\n",
              "  </tbody>\n",
              "</table>\n",
              "</div>"
            ],
            "text/plain": [
              "         asin  ...                                    cleaned_reviews\n",
              "0  120401325X  ...  look good stick good just do not like rounded ...\n",
              "1  120401325X  ...  sticker work like review say do stick great st...\n",
              "2  120401325X  ...  are awesome make my phone look so stylish have...\n",
              "3  120401325X  ...  item arrived great time perfect condition howe...\n",
              "4  120401325X  ...  awesome stay look great can be used multiple a...\n",
              "\n",
              "[5 rows x 5 columns]"
            ]
          },
          "metadata": {
            "tags": []
          },
          "execution_count": 14
        }
      ]
    },
    {
      "cell_type": "code",
      "metadata": {
        "colab": {
          "base_uri": "https://localhost:8080/",
          "height": 194
        },
        "id": "mup7sx6zr4Fy",
        "outputId": "bc6fe269-92b1-4a41-eff9-3c288c15933f"
      },
      "source": [
        "def sentiment(n):\n",
        "    return 1 if n >= 4 else 0\n",
        "df['sentiment'] = df['overall'].apply(sentiment)\n",
        "df.head()"
      ],
      "execution_count": 15,
      "outputs": [
        {
          "output_type": "execute_result",
          "data": {
            "text/html": [
              "<div>\n",
              "<style scoped>\n",
              "    .dataframe tbody tr th:only-of-type {\n",
              "        vertical-align: middle;\n",
              "    }\n",
              "\n",
              "    .dataframe tbody tr th {\n",
              "        vertical-align: top;\n",
              "    }\n",
              "\n",
              "    .dataframe thead th {\n",
              "        text-align: right;\n",
              "    }\n",
              "</style>\n",
              "<table border=\"1\" class=\"dataframe\">\n",
              "  <thead>\n",
              "    <tr style=\"text-align: right;\">\n",
              "      <th></th>\n",
              "      <th>asin</th>\n",
              "      <th>reviewText</th>\n",
              "      <th>overall</th>\n",
              "      <th>summary</th>\n",
              "      <th>cleaned_reviews</th>\n",
              "      <th>sentiment</th>\n",
              "    </tr>\n",
              "  </thead>\n",
              "  <tbody>\n",
              "    <tr>\n",
              "      <th>0</th>\n",
              "      <td>120401325X</td>\n",
              "      <td>They look good and stick good! I just don't li...</td>\n",
              "      <td>4</td>\n",
              "      <td>Looks Good</td>\n",
              "      <td>look good stick good just do not like rounded ...</td>\n",
              "      <td>1</td>\n",
              "    </tr>\n",
              "    <tr>\n",
              "      <th>1</th>\n",
              "      <td>120401325X</td>\n",
              "      <td>These stickers work like the review says they ...</td>\n",
              "      <td>5</td>\n",
              "      <td>Really great product.</td>\n",
              "      <td>sticker work like review say do stick great st...</td>\n",
              "      <td>1</td>\n",
              "    </tr>\n",
              "    <tr>\n",
              "      <th>2</th>\n",
              "      <td>120401325X</td>\n",
              "      <td>These are awesome and make my phone look so st...</td>\n",
              "      <td>5</td>\n",
              "      <td>LOVE LOVE LOVE</td>\n",
              "      <td>are awesome make my phone look so stylish have...</td>\n",
              "      <td>1</td>\n",
              "    </tr>\n",
              "    <tr>\n",
              "      <th>3</th>\n",
              "      <td>120401325X</td>\n",
              "      <td>Item arrived in great time and was in perfect ...</td>\n",
              "      <td>4</td>\n",
              "      <td>Cute!</td>\n",
              "      <td>item arrived great time perfect condition howe...</td>\n",
              "      <td>1</td>\n",
              "    </tr>\n",
              "    <tr>\n",
              "      <th>4</th>\n",
              "      <td>120401325X</td>\n",
              "      <td>awesome! stays on, and looks great. can be use...</td>\n",
              "      <td>5</td>\n",
              "      <td>leopard home button sticker for iphone 4s</td>\n",
              "      <td>awesome stay look great can be used multiple a...</td>\n",
              "      <td>1</td>\n",
              "    </tr>\n",
              "  </tbody>\n",
              "</table>\n",
              "</div>"
            ],
            "text/plain": [
              "         asin  ... sentiment\n",
              "0  120401325X  ...         1\n",
              "1  120401325X  ...         1\n",
              "2  120401325X  ...         1\n",
              "3  120401325X  ...         1\n",
              "4  120401325X  ...         1\n",
              "\n",
              "[5 rows x 6 columns]"
            ]
          },
          "metadata": {
            "tags": []
          },
          "execution_count": 15
        }
      ]
    },
    {
      "cell_type": "code",
      "metadata": {
        "colab": {
          "base_uri": "https://localhost:8080/"
        },
        "id": "NQ6wNV6-r4Fz",
        "outputId": "cfa23d98-77e6-41b5-f801-d470ca964cc9"
      },
      "source": [
        "df['sentiment'].value_counts()"
      ],
      "execution_count": 16,
      "outputs": [
        {
          "output_type": "execute_result",
          "data": {
            "text/plain": [
              "1    148575\n",
              "0     45764\n",
              "Name: sentiment, dtype: int64"
            ]
          },
          "metadata": {
            "tags": []
          },
          "execution_count": 16
        }
      ]
    },
    {
      "cell_type": "markdown",
      "metadata": {
        "id": "VpmDHdG3r4F0"
      },
      "source": [
        "<font color=green>148575 out of 194339 messages, or 76.45%, are positive reviews. This means that any text classification model we create has to perform **better than 76.45%** to beat random chance.</font>"
      ]
    },
    {
      "cell_type": "markdown",
      "metadata": {
        "id": "8n9lBLo3r4F0"
      },
      "source": [
        "# Splitting into train and test"
      ]
    },
    {
      "cell_type": "code",
      "metadata": {
        "colab": {
          "base_uri": "https://localhost:8080/",
          "height": 239
        },
        "id": "HqS94BE6r4F1",
        "outputId": "63143b4f-4b89-4ceb-aea2-67fcae17b3c6"
      },
      "source": [
        "from sklearn.model_selection import train_test_split\n",
        "\n",
        "X = df['cleaned_reviews']  # this time we want to look at the text\n",
        "y = df['sentiment']\n",
        "\n",
        "X_train, X_test, y_train, y_test = train_test_split(X, y, test_size=0.33, random_state=42)\n",
        "print('Training Data Shape:', X_train.shape)\n",
        "print('Testing Data Shape: ', X_test.shape)"
      ],
      "execution_count": 5,
      "outputs": [
        {
          "output_type": "error",
          "ename": "NameError",
          "evalue": "ignored",
          "traceback": [
            "\u001b[0;31m---------------------------------------------------------------------------\u001b[0m",
            "\u001b[0;31mNameError\u001b[0m                                 Traceback (most recent call last)",
            "\u001b[0;32m<ipython-input-5-67325f9dc762>\u001b[0m in \u001b[0;36m<module>\u001b[0;34m()\u001b[0m\n\u001b[1;32m      1\u001b[0m \u001b[0;32mfrom\u001b[0m \u001b[0msklearn\u001b[0m\u001b[0;34m.\u001b[0m\u001b[0mmodel_selection\u001b[0m \u001b[0;32mimport\u001b[0m \u001b[0mtrain_test_split\u001b[0m\u001b[0;34m\u001b[0m\u001b[0;34m\u001b[0m\u001b[0m\n\u001b[1;32m      2\u001b[0m \u001b[0;34m\u001b[0m\u001b[0m\n\u001b[0;32m----> 3\u001b[0;31m \u001b[0mX\u001b[0m \u001b[0;34m=\u001b[0m \u001b[0mdf\u001b[0m\u001b[0;34m[\u001b[0m\u001b[0;34m'cleaned_reviews'\u001b[0m\u001b[0;34m]\u001b[0m  \u001b[0;31m# this time we want to look at the text\u001b[0m\u001b[0;34m\u001b[0m\u001b[0;34m\u001b[0m\u001b[0m\n\u001b[0m\u001b[1;32m      4\u001b[0m \u001b[0my\u001b[0m \u001b[0;34m=\u001b[0m \u001b[0mdf\u001b[0m\u001b[0;34m[\u001b[0m\u001b[0;34m'sentiment'\u001b[0m\u001b[0;34m]\u001b[0m\u001b[0;34m\u001b[0m\u001b[0;34m\u001b[0m\u001b[0m\n\u001b[1;32m      5\u001b[0m \u001b[0;34m\u001b[0m\u001b[0m\n",
            "\u001b[0;31mNameError\u001b[0m: name 'df' is not defined"
          ]
        }
      ]
    },
    {
      "cell_type": "markdown",
      "metadata": {
        "id": "SJFhOP5Hr4F4"
      },
      "source": [
        "# TRAIN DIFFERENT CLASSIFIERS"
      ]
    },
    {
      "cell_type": "code",
      "metadata": {
        "id": "WDFhjmshr4F4"
      },
      "source": [
        "from sklearn.pipeline import Pipeline\n",
        "from sklearn.naive_bayes import MultinomialNB\n",
        "from sklearn.svm import LinearSVC\n",
        "from sklearn.linear_model import LogisticRegression\n",
        "from sklearn.feature_extraction.text import TfidfVectorizer\n",
        "from sklearn.feature_extraction.text import CountVectorizer\n",
        "\n",
        "\n",
        "\n",
        "## Modeling\n",
        "from sklearn.model_selection import cross_validate\n",
        "from sklearn.model_selection import train_test_split\n",
        "from sklearn.model_selection import StratifiedKFold\n",
        "from sklearn.model_selection import GridSearchCV\n",
        "from sklearn.model_selection import cross_val_predict\n",
        "from sklearn.model_selection import cross_val_score\n",
        "from sklearn.linear_model import LogisticRegression\n",
        "from sklearn.model_selection import learning_curve\n",
        "from sklearn.ensemble import ExtraTreesClassifier\n",
        "from sklearn.decomposition import TruncatedSVD\n",
        "from sklearn.feature_extraction.text import TfidfVectorizer, CountVectorizer, HashingVectorizer\n",
        "from sklearn.pipeline import Pipeline\n",
        "from sklearn.naive_bayes import MultinomialNB\n",
        "from sklearn.svm import SVC\n",
        "from sklearn import metrics\n",
        "from sklearn.metrics import classification_report\n",
        "from sklearn.metrics import confusion_matrix\n",
        "from  sklearn.metrics import precision_recall_fscore_support\n",
        "from sklearn.ensemble import RandomForestClassifier\n",
        "from sklearn.tree import DecisionTreeClassifier\n",
        "from sklearn.metrics import f1_score\n",
        "from sklearn.metrics import recall_score\n",
        "from gensim.models import Word2Vec\n",
        "from tqdm import tqdm\n",
        "import xgboost as xgb\n",
        "from xgboost import XGBClassifier\n",
        "from sklearn.dummy import DummyClassifier"
      ],
      "execution_count": 18,
      "outputs": []
    },
    {
      "cell_type": "markdown",
      "metadata": {
        "id": "nwJqIqb4r4F4"
      },
      "source": [
        "# Build pipelines to vectorize the data, then train and fit a model\n",
        "Now that we have sets to train and test, we'll develop a selection of pipelines, each with a different model."
      ]
    },
    {
      "cell_type": "markdown",
      "metadata": {
        "id": "TLuzzhLer4F5"
      },
      "source": [
        "# USING TFIDF VECTORIZER"
      ]
    },
    {
      "cell_type": "code",
      "metadata": {
        "id": "qStxnCDRr4F5"
      },
      "source": [
        "# Naïve Bayes:\n",
        "text_clf_nb_tfidf = Pipeline([('tfidf', TfidfVectorizer(binary = True, ngram_range=(1,2))),\n",
        "                     ('clf', MultinomialNB(alpha = 0.01)),\n",
        "])\n",
        "\n",
        "# Linear SVC:\n",
        "text_clf_lsvc_tfidf = Pipeline([('tfidf', TfidfVectorizer(binary = True, ngram_range=(1,2))),\n",
        "                     ('clf', LinearSVC(C = 0.5,max_iter = 1000)),\n",
        "])\n",
        "\n",
        "# Logistic Regression:\n",
        "text_clf_lr_tfidf = Pipeline([('tfidf',TfidfVectorizer(binary = True, ngram_range=(1,2))),\n",
        "                     ('clf', LogisticRegression(C=1,max_iter = 1000)),\n",
        "])\n"
      ],
      "execution_count": 19,
      "outputs": []
    },
    {
      "cell_type": "markdown",
      "metadata": {
        "id": "_rzPpFYnr4F6"
      },
      "source": [
        "# Feed the training data through the pipeline"
      ]
    },
    {
      "cell_type": "code",
      "metadata": {
        "colab": {
          "base_uri": "https://localhost:8080/"
        },
        "id": "faIenLfgr4F6",
        "outputId": "6833d0bc-25eb-4716-89b4-a02561c0ebcc"
      },
      "source": [
        "## Naïve Bayes:\n",
        "text_clf_nb_tfidf.fit(X_train, y_train) \n",
        "\n",
        "# Linear SVC:\n",
        "text_clf_lsvc_tfidf.fit(X_train, y_train) \n",
        "\n",
        "#Logistic Regression\n",
        "text_clf_lr_tfidf.fit(X_train, y_train) "
      ],
      "execution_count": 20,
      "outputs": [
        {
          "output_type": "execute_result",
          "data": {
            "text/plain": [
              "Pipeline(memory=None,\n",
              "         steps=[('tfidf',\n",
              "                 TfidfVectorizer(analyzer='word', binary=True,\n",
              "                                 decode_error='strict',\n",
              "                                 dtype=<class 'numpy.float64'>,\n",
              "                                 encoding='utf-8', input='content',\n",
              "                                 lowercase=True, max_df=1.0, max_features=None,\n",
              "                                 min_df=1, ngram_range=(1, 2), norm='l2',\n",
              "                                 preprocessor=None, smooth_idf=True,\n",
              "                                 stop_words=None, strip_accents=None,\n",
              "                                 sublinear_tf=False,\n",
              "                                 token_pattern='(?u)\\\\b\\\\w\\\\w+\\\\b',\n",
              "                                 tokenizer=None, use_idf=True,\n",
              "                                 vocabulary=None)),\n",
              "                ('clf',\n",
              "                 LogisticRegression(C=1, class_weight=None, dual=False,\n",
              "                                    fit_intercept=True, intercept_scaling=1,\n",
              "                                    l1_ratio=None, max_iter=1000,\n",
              "                                    multi_class='auto', n_jobs=None,\n",
              "                                    penalty='l2', random_state=None,\n",
              "                                    solver='lbfgs', tol=0.0001, verbose=0,\n",
              "                                    warm_start=False))],\n",
              "         verbose=False)"
            ]
          },
          "metadata": {
            "tags": []
          },
          "execution_count": 20
        }
      ]
    },
    {
      "cell_type": "markdown",
      "metadata": {
        "id": "Px5mio00r4F7"
      },
      "source": [
        "# Test the classifier and display results"
      ]
    },
    {
      "cell_type": "code",
      "metadata": {
        "id": "4j9QrNujr4F7"
      },
      "source": [
        "from sklearn.metrics import accuracy_score,classification_report,confusion_matrix\n",
        "from sklearn import metrics"
      ],
      "execution_count": 21,
      "outputs": []
    },
    {
      "cell_type": "code",
      "metadata": {
        "id": "wsot4WWHr4F7"
      },
      "source": [
        "# Form a prediction set\n",
        "\n",
        "# Naïve Bayes:\n",
        "predictions_nb_tfidf = text_clf_nb_tfidf.predict(X_test)\n",
        "\n",
        "#Linear SVC\n",
        "predictions_lsvc_tfidf = text_clf_lsvc_tfidf.predict(X_test)\n",
        "\n",
        "#logistics Regression\n",
        "predictions_lr_tfidf = text_clf_lr_tfidf.predict(X_test)"
      ],
      "execution_count": 22,
      "outputs": []
    },
    {
      "cell_type": "code",
      "metadata": {
        "colab": {
          "base_uri": "https://localhost:8080/",
          "height": 106
        },
        "id": "EhT2ZUt7r4F8",
        "outputId": "745893ed-8b83-4793-b6a6-b5150c2372a6"
      },
      "source": [
        "# Report the confusion matrix\n",
        "\n",
        "# Naïve Bayes:\n",
        "pd.DataFrame(metrics.confusion_matrix(y_test,predictions_nb_tfidf),index=['neg','pos'], columns=['neg','pos'])"
      ],
      "execution_count": 23,
      "outputs": [
        {
          "output_type": "execute_result",
          "data": {
            "text/html": [
              "<div>\n",
              "<style scoped>\n",
              "    .dataframe tbody tr th:only-of-type {\n",
              "        vertical-align: middle;\n",
              "    }\n",
              "\n",
              "    .dataframe tbody tr th {\n",
              "        vertical-align: top;\n",
              "    }\n",
              "\n",
              "    .dataframe thead th {\n",
              "        text-align: right;\n",
              "    }\n",
              "</style>\n",
              "<table border=\"1\" class=\"dataframe\">\n",
              "  <thead>\n",
              "    <tr style=\"text-align: right;\">\n",
              "      <th></th>\n",
              "      <th>neg</th>\n",
              "      <th>pos</th>\n",
              "    </tr>\n",
              "  </thead>\n",
              "  <tbody>\n",
              "    <tr>\n",
              "      <th>neg</th>\n",
              "      <td>6460</td>\n",
              "      <td>8544</td>\n",
              "    </tr>\n",
              "    <tr>\n",
              "      <th>pos</th>\n",
              "      <td>1314</td>\n",
              "      <td>47814</td>\n",
              "    </tr>\n",
              "  </tbody>\n",
              "</table>\n",
              "</div>"
            ],
            "text/plain": [
              "      neg    pos\n",
              "neg  6460   8544\n",
              "pos  1314  47814"
            ]
          },
          "metadata": {
            "tags": []
          },
          "execution_count": 23
        }
      ]
    },
    {
      "cell_type": "code",
      "metadata": {
        "colab": {
          "base_uri": "https://localhost:8080/",
          "height": 106
        },
        "id": "bL3iElozr4F8",
        "outputId": "cf0ab407-0267-42de-ca5d-b3d6d26d9aaa"
      },
      "source": [
        "#Linear SVC\n",
        "pd.DataFrame(metrics.confusion_matrix(y_test,predictions_lsvc_tfidf),index=['neg','pos'], columns=['neg','pos'])"
      ],
      "execution_count": 24,
      "outputs": [
        {
          "output_type": "execute_result",
          "data": {
            "text/html": [
              "<div>\n",
              "<style scoped>\n",
              "    .dataframe tbody tr th:only-of-type {\n",
              "        vertical-align: middle;\n",
              "    }\n",
              "\n",
              "    .dataframe tbody tr th {\n",
              "        vertical-align: top;\n",
              "    }\n",
              "\n",
              "    .dataframe thead th {\n",
              "        text-align: right;\n",
              "    }\n",
              "</style>\n",
              "<table border=\"1\" class=\"dataframe\">\n",
              "  <thead>\n",
              "    <tr style=\"text-align: right;\">\n",
              "      <th></th>\n",
              "      <th>neg</th>\n",
              "      <th>pos</th>\n",
              "    </tr>\n",
              "  </thead>\n",
              "  <tbody>\n",
              "    <tr>\n",
              "      <th>neg</th>\n",
              "      <td>10115</td>\n",
              "      <td>4889</td>\n",
              "    </tr>\n",
              "    <tr>\n",
              "      <th>pos</th>\n",
              "      <td>2215</td>\n",
              "      <td>46913</td>\n",
              "    </tr>\n",
              "  </tbody>\n",
              "</table>\n",
              "</div>"
            ],
            "text/plain": [
              "       neg    pos\n",
              "neg  10115   4889\n",
              "pos   2215  46913"
            ]
          },
          "metadata": {
            "tags": []
          },
          "execution_count": 24
        }
      ]
    },
    {
      "cell_type": "code",
      "metadata": {
        "colab": {
          "base_uri": "https://localhost:8080/",
          "height": 106
        },
        "id": "SWQCjLjcr4F9",
        "outputId": "d6647f53-59f7-4cc1-ccde-ad9f8c15dbcf"
      },
      "source": [
        "#logistic Regression \n",
        "pd.DataFrame(metrics.confusion_matrix(y_test,predictions_lr_tfidf),index=['neg','pos'], columns=['neg','pos'])"
      ],
      "execution_count": 25,
      "outputs": [
        {
          "output_type": "execute_result",
          "data": {
            "text/html": [
              "<div>\n",
              "<style scoped>\n",
              "    .dataframe tbody tr th:only-of-type {\n",
              "        vertical-align: middle;\n",
              "    }\n",
              "\n",
              "    .dataframe tbody tr th {\n",
              "        vertical-align: top;\n",
              "    }\n",
              "\n",
              "    .dataframe thead th {\n",
              "        text-align: right;\n",
              "    }\n",
              "</style>\n",
              "<table border=\"1\" class=\"dataframe\">\n",
              "  <thead>\n",
              "    <tr style=\"text-align: right;\">\n",
              "      <th></th>\n",
              "      <th>neg</th>\n",
              "      <th>pos</th>\n",
              "    </tr>\n",
              "  </thead>\n",
              "  <tbody>\n",
              "    <tr>\n",
              "      <th>neg</th>\n",
              "      <td>9048</td>\n",
              "      <td>5956</td>\n",
              "    </tr>\n",
              "    <tr>\n",
              "      <th>pos</th>\n",
              "      <td>1782</td>\n",
              "      <td>47346</td>\n",
              "    </tr>\n",
              "  </tbody>\n",
              "</table>\n",
              "</div>"
            ],
            "text/plain": [
              "      neg    pos\n",
              "neg  9048   5956\n",
              "pos  1782  47346"
            ]
          },
          "metadata": {
            "tags": []
          },
          "execution_count": 25
        }
      ]
    },
    {
      "cell_type": "code",
      "metadata": {
        "colab": {
          "base_uri": "https://localhost:8080/"
        },
        "id": "L4PqF1mWr4F-",
        "outputId": "f8f751ce-0fca-4376-a55d-ddaf415e38ef"
      },
      "source": [
        "print('===================a classification report with TFIDF======================') #a classification report\n",
        "#NAIVE BAYES\n",
        "print('======================NAIVE BAYES====================')\n",
        "\n",
        "print(metrics.classification_report(y_test,predictions_nb_tfidf))\n",
        "\n",
        "#Linear SVC\n",
        "print('===================LINEAR SVC==================')\n",
        "\n",
        "print(metrics.classification_report(y_test,predictions_lsvc_tfidf))\n",
        "\n",
        "#logiatic Regression \n",
        "print('===================LOGISTIC REGRESSION==================')\n",
        "print(metrics.classification_report(y_test,predictions_lr_tfidf))\n",
        "\n",
        "##Random FOrest\n",
        "print('======================RANDOM FOREST WITH TFIDF====================')\n",
        "\n",
        "print(metrics.classification_report(y_test,predictions_rf_tfidf))"
      ],
      "execution_count": 26,
      "outputs": [
        {
          "output_type": "stream",
          "text": [
            "======================NAIVE BAYES====================\n",
            "              precision    recall  f1-score   support\n",
            "\n",
            "           0       0.83      0.43      0.57     15004\n",
            "           1       0.85      0.97      0.91     49128\n",
            "\n",
            "    accuracy                           0.85     64132\n",
            "   macro avg       0.84      0.70      0.74     64132\n",
            "weighted avg       0.84      0.85      0.83     64132\n",
            "\n",
            "===================LINEAR SVC==================\n",
            "              precision    recall  f1-score   support\n",
            "\n",
            "           0       0.82      0.67      0.74     15004\n",
            "           1       0.91      0.95      0.93     49128\n",
            "\n",
            "    accuracy                           0.89     64132\n",
            "   macro avg       0.86      0.81      0.83     64132\n",
            "weighted avg       0.89      0.89      0.89     64132\n",
            "\n",
            "===================LOGISTIC REGRESSION==================\n",
            "              precision    recall  f1-score   support\n",
            "\n",
            "           0       0.84      0.60      0.70     15004\n",
            "           1       0.89      0.96      0.92     49128\n",
            "\n",
            "    accuracy                           0.88     64132\n",
            "   macro avg       0.86      0.78      0.81     64132\n",
            "weighted avg       0.88      0.88      0.87     64132\n",
            "\n"
          ],
          "name": "stdout"
        }
      ]
    },
    {
      "cell_type": "code",
      "metadata": {
        "id": "HmgouD7OFxYv"
      },
      "source": [
        ""
      ],
      "execution_count": null,
      "outputs": []
    },
    {
      "cell_type": "code",
      "metadata": {
        "colab": {
          "base_uri": "https://localhost:8080/"
        },
        "id": "GUdmdw2ur4F-",
        "outputId": "9d3528a5-a0c1-400d-ccb9-917c72cf139c"
      },
      "source": [
        "# Print the overall accuracy (Binary = True)\n",
        "print(f\"The overall accuracy using naive bayes is : {metrics.accuracy_score(y_test,predictions_nb_tfidf)}\")\n",
        "\n",
        "print(f\"The overall accuracy using linear SVC is : {metrics.accuracy_score(y_test,predictions_lsvc_tfidf)}\")\n",
        "\n",
        "print(f\"The Final accuracy using Logistic Regression is : {metrics.accuracy_score(y_test,predictions_lr_tfidf)}\")"
      ],
      "execution_count": 27,
      "outputs": [
        {
          "output_type": "stream",
          "text": [
            "The overall accuracy using naive bayes is : 0.8462857855672675\n",
            "The overall accuracy using linear SVC is : 0.8892284662882805\n",
            "The Final accuracy using Logistic Regression is : 0.879342605875382\n"
          ],
          "name": "stdout"
        }
      ]
    },
    {
      "cell_type": "code",
      "metadata": {
        "id": "pcDlMfwNr4F-"
      },
      "source": [
        "myreview = \"The product is reallyyy horrible waste of money!!\""
      ],
      "execution_count": 28,
      "outputs": []
    },
    {
      "cell_type": "code",
      "metadata": {
        "colab": {
          "base_uri": "https://localhost:8080/"
        },
        "id": "uvntrJw6r4F-",
        "outputId": "de99b982-cf11-4157-d532-9e00cafc01d0"
      },
      "source": [
        "print(text_clf_lsvc_tfidf.predict([myreview])) \n",
        "\n",
        "print(text_clf_nb_tfidf.predict([myreview])) \n",
        "\n",
        "print(text_clf_lr_tfidf.predict([myreview]))"
      ],
      "execution_count": 29,
      "outputs": [
        {
          "output_type": "stream",
          "text": [
            "[0]\n",
            "[0]\n",
            "[0]\n"
          ],
          "name": "stdout"
        }
      ]
    },
    {
      "cell_type": "markdown",
      "metadata": {
        "id": "-hafZ-IYr4F_"
      },
      "source": [
        "# USING COUNTVECTORIZER "
      ]
    },
    {
      "cell_type": "code",
      "metadata": {
        "id": "-MCgvWuzr4F_"
      },
      "source": [
        "# Naïve Bayes:\n",
        "text_clf_nb_cv = Pipeline([('cv', CountVectorizer(binary = True,ngram_range=(1,2))),\n",
        "                     ('clf', MultinomialNB(alpha = 0.25)),\n",
        "])\n",
        "\n",
        "# Linear SVC:\n",
        "text_clf_lsvc_cv = Pipeline([('cv', CountVectorizer(binary = True,ngram_range=(1,2))),\n",
        "                     ('clf', LinearSVC(C = 0.01,max_iter = 1000)),\n",
        "])\n",
        "\n",
        "# Logistic Regression:\n",
        "text_clf_lr_cv = Pipeline([('cv',CountVectorizer(binary = True,ngram_range=(1,2))),\n",
        "                     ('clf', LogisticRegression(C=0.25,max_iter = 1000)),\n",
        "])\n",
        "\n",
        "##FEEDING training Data Through Pipeline\n",
        "## Naïve Bayes:\n",
        "text_clf_nb_cv.fit(X_train, y_train) \n",
        "\n",
        "# Linear SVC:\n",
        "text_clf_lsvc_cv.fit(X_train, y_train) \n",
        "\n",
        "#Logistic Regression\n",
        "text_clf_lr_cv.fit(X_train, y_train) \n",
        "\n",
        "# Form a prediction set\n",
        "\n",
        "# Naïve Bayes:\n",
        "predictions_nb_cv = text_clf_nb_cv.predict(X_test)\n",
        "\n",
        "#Linear SVC\n",
        "predictions_lsvc_cv = text_clf_lsvc_cv.predict(X_test)\n",
        "\n",
        "#logistics Regression\n",
        "predictions_lr_cv = text_clf_lr_cv.predict(X_test)"
      ],
      "execution_count": 30,
      "outputs": []
    },
    {
      "cell_type": "code",
      "metadata": {
        "colab": {
          "base_uri": "https://localhost:8080/",
          "height": 106
        },
        "id": "SpZXjimyr4F_",
        "outputId": "cf77e4be-cf1e-48e1-ad0f-7a1cb96c4602"
      },
      "source": [
        "# Report the confusion matrix\n",
        "\n",
        "# Naïve Bayes:\n",
        "pd.DataFrame(metrics.confusion_matrix(y_test,predictions_nb_cv),index=['neg','pos'], columns=['neg','pos'])"
      ],
      "execution_count": 31,
      "outputs": [
        {
          "output_type": "execute_result",
          "data": {
            "text/html": [
              "<div>\n",
              "<style scoped>\n",
              "    .dataframe tbody tr th:only-of-type {\n",
              "        vertical-align: middle;\n",
              "    }\n",
              "\n",
              "    .dataframe tbody tr th {\n",
              "        vertical-align: top;\n",
              "    }\n",
              "\n",
              "    .dataframe thead th {\n",
              "        text-align: right;\n",
              "    }\n",
              "</style>\n",
              "<table border=\"1\" class=\"dataframe\">\n",
              "  <thead>\n",
              "    <tr style=\"text-align: right;\">\n",
              "      <th></th>\n",
              "      <th>neg</th>\n",
              "      <th>pos</th>\n",
              "    </tr>\n",
              "  </thead>\n",
              "  <tbody>\n",
              "    <tr>\n",
              "      <th>neg</th>\n",
              "      <td>9035</td>\n",
              "      <td>5969</td>\n",
              "    </tr>\n",
              "    <tr>\n",
              "      <th>pos</th>\n",
              "      <td>2424</td>\n",
              "      <td>46704</td>\n",
              "    </tr>\n",
              "  </tbody>\n",
              "</table>\n",
              "</div>"
            ],
            "text/plain": [
              "      neg    pos\n",
              "neg  9035   5969\n",
              "pos  2424  46704"
            ]
          },
          "metadata": {
            "tags": []
          },
          "execution_count": 31
        }
      ]
    },
    {
      "cell_type": "code",
      "metadata": {
        "colab": {
          "base_uri": "https://localhost:8080/",
          "height": 106
        },
        "id": "YhznDReWr4GA",
        "outputId": "20af399d-7709-42bd-9e36-1bf185cfcd5e"
      },
      "source": [
        "#Linear SVC\n",
        "pd.DataFrame(metrics.confusion_matrix(y_test,predictions_lsvc_cv),index=['neg','pos'], columns=['neg','pos'])"
      ],
      "execution_count": 32,
      "outputs": [
        {
          "output_type": "execute_result",
          "data": {
            "text/html": [
              "<div>\n",
              "<style scoped>\n",
              "    .dataframe tbody tr th:only-of-type {\n",
              "        vertical-align: middle;\n",
              "    }\n",
              "\n",
              "    .dataframe tbody tr th {\n",
              "        vertical-align: top;\n",
              "    }\n",
              "\n",
              "    .dataframe thead th {\n",
              "        text-align: right;\n",
              "    }\n",
              "</style>\n",
              "<table border=\"1\" class=\"dataframe\">\n",
              "  <thead>\n",
              "    <tr style=\"text-align: right;\">\n",
              "      <th></th>\n",
              "      <th>neg</th>\n",
              "      <th>pos</th>\n",
              "    </tr>\n",
              "  </thead>\n",
              "  <tbody>\n",
              "    <tr>\n",
              "      <th>neg</th>\n",
              "      <td>10090</td>\n",
              "      <td>4914</td>\n",
              "    </tr>\n",
              "    <tr>\n",
              "      <th>pos</th>\n",
              "      <td>2555</td>\n",
              "      <td>46573</td>\n",
              "    </tr>\n",
              "  </tbody>\n",
              "</table>\n",
              "</div>"
            ],
            "text/plain": [
              "       neg    pos\n",
              "neg  10090   4914\n",
              "pos   2555  46573"
            ]
          },
          "metadata": {
            "tags": []
          },
          "execution_count": 32
        }
      ]
    },
    {
      "cell_type": "code",
      "metadata": {
        "colab": {
          "base_uri": "https://localhost:8080/",
          "height": 106
        },
        "id": "qmFMDhZFr4GA",
        "outputId": "1ae1ce3c-a0cd-4778-ed05-b5313b1aca79"
      },
      "source": [
        "#logistic Regression \n",
        "pd.DataFrame(metrics.confusion_matrix(y_test,predictions_lr_cv),index=['neg','pos'], columns=['neg','pos'])"
      ],
      "execution_count": 33,
      "outputs": [
        {
          "output_type": "execute_result",
          "data": {
            "text/html": [
              "<div>\n",
              "<style scoped>\n",
              "    .dataframe tbody tr th:only-of-type {\n",
              "        vertical-align: middle;\n",
              "    }\n",
              "\n",
              "    .dataframe tbody tr th {\n",
              "        vertical-align: top;\n",
              "    }\n",
              "\n",
              "    .dataframe thead th {\n",
              "        text-align: right;\n",
              "    }\n",
              "</style>\n",
              "<table border=\"1\" class=\"dataframe\">\n",
              "  <thead>\n",
              "    <tr style=\"text-align: right;\">\n",
              "      <th></th>\n",
              "      <th>neg</th>\n",
              "      <th>pos</th>\n",
              "    </tr>\n",
              "  </thead>\n",
              "  <tbody>\n",
              "    <tr>\n",
              "      <th>neg</th>\n",
              "      <td>10259</td>\n",
              "      <td>4745</td>\n",
              "    </tr>\n",
              "    <tr>\n",
              "      <th>pos</th>\n",
              "      <td>2699</td>\n",
              "      <td>46429</td>\n",
              "    </tr>\n",
              "  </tbody>\n",
              "</table>\n",
              "</div>"
            ],
            "text/plain": [
              "       neg    pos\n",
              "neg  10259   4745\n",
              "pos   2699  46429"
            ]
          },
          "metadata": {
            "tags": []
          },
          "execution_count": 33
        }
      ]
    },
    {
      "cell_type": "code",
      "metadata": {
        "colab": {
          "base_uri": "https://localhost:8080/"
        },
        "id": "PHNcsutkr4GA",
        "outputId": "0f05821d-b914-4407-ea7a-68f848470b45"
      },
      "source": [
        "# Print a classification report\n",
        "#NAIVE BAYES\n",
        "print(metrics.classification_report(y_test,predictions_nb_cv))\n",
        "\n",
        "#Linear SVC\n",
        "print(metrics.classification_report(y_test,predictions_lsvc_cv))\n",
        "\n",
        "#logiatic Regression \n",
        "print(metrics.classification_report(y_test,predictions_lr_cv))"
      ],
      "execution_count": 34,
      "outputs": [
        {
          "output_type": "stream",
          "text": [
            "              precision    recall  f1-score   support\n",
            "\n",
            "           0       0.79      0.60      0.68     15004\n",
            "           1       0.89      0.95      0.92     49128\n",
            "\n",
            "    accuracy                           0.87     64132\n",
            "   macro avg       0.84      0.78      0.80     64132\n",
            "weighted avg       0.86      0.87      0.86     64132\n",
            "\n",
            "              precision    recall  f1-score   support\n",
            "\n",
            "           0       0.80      0.67      0.73     15004\n",
            "           1       0.90      0.95      0.93     49128\n",
            "\n",
            "    accuracy                           0.88     64132\n",
            "   macro avg       0.85      0.81      0.83     64132\n",
            "weighted avg       0.88      0.88      0.88     64132\n",
            "\n",
            "              precision    recall  f1-score   support\n",
            "\n",
            "           0       0.79      0.68      0.73     15004\n",
            "           1       0.91      0.95      0.93     49128\n",
            "\n",
            "    accuracy                           0.88     64132\n",
            "   macro avg       0.85      0.81      0.83     64132\n",
            "weighted avg       0.88      0.88      0.88     64132\n",
            "\n"
          ],
          "name": "stdout"
        }
      ]
    },
    {
      "cell_type": "code",
      "metadata": {
        "colab": {
          "base_uri": "https://localhost:8080/"
        },
        "id": "5Z5Dva__r4GB",
        "outputId": "4f85fd07-d298-4273-b3a4-722d8c260aca"
      },
      "source": [
        "# Print the overall accuracy (Binary = True)\n",
        "print(f\"The overall accuracy using naive bayes is : {metrics.accuracy_score(y_test,predictions_nb_cv)}\")\n",
        "\n",
        "print(f\"The overall accuracy using linear SVC is : {metrics.accuracy_score(y_test,predictions_lsvc_cv)}\")\n",
        "\n",
        "print(f\"The Final accuracy using Logistic Regression is : {metrics.accuracy_score(y_test,predictions_lr_cv)}\")"
      ],
      "execution_count": 35,
      "outputs": [
        {
          "output_type": "stream",
          "text": [
            "The overall accuracy using naive bayes is : 0.8691292958273561\n",
            "The overall accuracy using linear SVC is : 0.8835370797729682\n",
            "The Final accuracy using Logistic Regression is : 0.8839269007671677\n"
          ],
          "name": "stdout"
        }
      ]
    },
    {
      "cell_type": "code",
      "metadata": {
        "id": "sTIbwfz8r4GB"
      },
      "source": [
        ""
      ],
      "execution_count": 35,
      "outputs": []
    },
    {
      "cell_type": "code",
      "metadata": {
        "id": "KabeSZidr4GB"
      },
      "source": [
        ""
      ],
      "execution_count": 35,
      "outputs": []
    },
    {
      "cell_type": "code",
      "metadata": {
        "id": "-TiBbCqpr4GB"
      },
      "source": [
        ""
      ],
      "execution_count": 35,
      "outputs": []
    },
    {
      "cell_type": "code",
      "metadata": {
        "id": "fYEltUgMr4GB"
      },
      "source": [
        ""
      ],
      "execution_count": 35,
      "outputs": []
    },
    {
      "cell_type": "code",
      "metadata": {
        "id": "dJ4pcmY7r4GC"
      },
      "source": [
        ""
      ],
      "execution_count": 35,
      "outputs": []
    },
    {
      "cell_type": "code",
      "metadata": {
        "id": "OJFgMBhkr4GC"
      },
      "source": [
        ""
      ],
      "execution_count": 35,
      "outputs": []
    },
    {
      "cell_type": "code",
      "metadata": {
        "id": "0-D1lUsDr4GC"
      },
      "source": [
        ""
      ],
      "execution_count": 35,
      "outputs": []
    },
    {
      "cell_type": "code",
      "metadata": {
        "id": "OQBX6BIjr4GC"
      },
      "source": [
        ""
      ],
      "execution_count": 35,
      "outputs": []
    },
    {
      "cell_type": "code",
      "metadata": {
        "id": "10Kn594Wr4GC"
      },
      "source": [
        ""
      ],
      "execution_count": 35,
      "outputs": []
    },
    {
      "cell_type": "code",
      "metadata": {
        "id": "AC1x455-r4GC"
      },
      "source": [
        ""
      ],
      "execution_count": 35,
      "outputs": []
    },
    {
      "cell_type": "markdown",
      "metadata": {
        "id": "NghkZb5hr4GD"
      },
      "source": [
        "ngram_vectorizer = CountVectorizer(ngram_range=(1,2))\n",
        "X_train_ngram= ngram_vectorizer.fit_transform(X_train)\n",
        "X_test_ngram = ngram_vectorizer.transform(X_test)\n",
        "\n",
        "for c in [0.01, 0.05, 0.25, 0.5, 0.7,1]:\n",
        "    \n",
        "    lr = LogisticRegression(C=c,max_iter = 1000)\n",
        "    lr.fit(X_train_ngram, y_train)\n",
        "    print (\"Accuracy for C=%s: %s\" \n",
        "           % (c, accuracy_score(y_test, lr.predict(X_test_ngram))))"
      ]
    },
    {
      "cell_type": "markdown",
      "metadata": {
        "id": "La4-NpXwr4GD"
      },
      "source": [
        "ngram_vectorizer = TfidfVectorizer(binary = True,ngram_range = (1,2))\n",
        "X_train_ngram= ngram_vectorizer.fit_transform(X_train)\n",
        "X_test_ngram = ngram_vectorizer.transform(X_test)\n",
        "\n",
        "for c in [0.01, 0.05,0.1, 0.15, 0.20, 0.25, 0.30,0.4,0.5, 0.75, 1]:\n",
        "    \n",
        "    lr = MultinomialNB(alpha=c)\n",
        "    lr.fit(X_train_ngram, y_train)\n",
        "    print (\"Accuracy for C=%s: %s\" \n",
        "           % (c, accuracy_score(y_test, lr.predict(X_test_ngram))))"
      ]
    },
    {
      "cell_type": "markdown",
      "metadata": {
        "id": "SAHyHDJqr4GD"
      },
      "source": [
        "#Logistic Regression and Count Vectorizer:\n",
        "text_clf_lr = Pipeline([('ngram', CountVectorizer(binary = True,ngram_range = (1,2))),\n",
        "                     ('clf', LogisticRegression(C=0.25,max_iter = 1000)),\n",
        "])\n",
        "\n",
        "text_clf_lr.fit(X_train, y_train) \n",
        "predictions_lr = text_clf_lr.predict(X_test)\n",
        "print(f\"The Final accuracy using Logistic Regression and Count vectorizer is : {metrics.accuracy_score(y_test,predictions_lr)}\")"
      ]
    },
    {
      "cell_type": "code",
      "metadata": {
        "colab": {
          "base_uri": "https://localhost:8080/"
        },
        "id": "ZfiD2-BMr4GD",
        "outputId": "d153c5c8-b9fb-45d3-d824-6a7974f3b99b"
      },
      "source": [
        "\n",
        "from sklearn.ensemble import RandomForestClassifier\n",
        "from sklearn.datasets import make_classification#Random Forest and TFIDF VECTORIZER:\n",
        "text_clf_rf_tfidf = Pipeline([('tfidf',TfidfVectorizer(binary = True, ngram_range=(1,2))),\n",
        "                     ('clf',RandomForestClassifier()),\n",
        "])\n",
        "\n",
        "text_clf_rf_tfidf.fit(X_train, y_train) \n",
        "predictions_rf_tfidf = text_clf_rf_tfidf.predict(X_test)\n",
        "print(f\"The Final accuracy using RANDOM FOREST and TFIDF vectorizer is : {metrics.accuracy_score(y_test,predictions_rf_tfidf)}\")"
      ],
      "execution_count": 39,
      "outputs": [
        {
          "output_type": "stream",
          "text": [
            "The Final accuracy using RANDOM FOREST and TFIDF vectorizer is : 0.8042318967130294\n"
          ],
          "name": "stdout"
        }
      ]
    },
    {
      "cell_type": "code",
      "metadata": {
        "colab": {
          "base_uri": "https://localhost:8080/",
          "height": 388
        },
        "id": "ZLwVrKkRtXdr",
        "outputId": "e8c72355-4c6a-40e2-d93a-1305bb660cf4"
      },
      "source": [
        "  #Random Forest and Count VECTORIZER:\n",
        "text_clf_rf_cv = Pipeline([('cv',CountVectorizer(binary = True, ngram_range=(1,2))),\n",
        "                     ('clf',RandomForestClassifier()),\n",
        "])\n",
        "\n",
        "text_clf_rf_cv.fit(X_train, y_train) \n",
        "predictions_rf_cv = text_clf_rf_cv.predict(X_test)\n",
        "print(f\"The Final accuracy using RANDOM FOREST and Count vectorizer is : {metrics.accuracy_score(y_test,predictions_rf_tfidf)}\")"
      ],
      "execution_count": 41,
      "outputs": [
        {
          "output_type": "error",
          "ename": "KeyboardInterrupt",
          "evalue": "ignored",
          "traceback": [
            "\u001b[0;31m---------------------------------------------------------------------------\u001b[0m",
            "\u001b[0;31mKeyboardInterrupt\u001b[0m                         Traceback (most recent call last)",
            "\u001b[0;32m<ipython-input-41-ce68cca76487>\u001b[0m in \u001b[0;36m<module>\u001b[0;34m()\u001b[0m\n\u001b[1;32m      4\u001b[0m ])\n\u001b[1;32m      5\u001b[0m \u001b[0;34m\u001b[0m\u001b[0m\n\u001b[0;32m----> 6\u001b[0;31m \u001b[0mtext_clf_rf_cv\u001b[0m\u001b[0;34m.\u001b[0m\u001b[0mfit\u001b[0m\u001b[0;34m(\u001b[0m\u001b[0mX_train\u001b[0m\u001b[0;34m,\u001b[0m \u001b[0my_train\u001b[0m\u001b[0;34m)\u001b[0m\u001b[0;34m\u001b[0m\u001b[0;34m\u001b[0m\u001b[0m\n\u001b[0m\u001b[1;32m      7\u001b[0m \u001b[0mpredictions_rf_cv\u001b[0m \u001b[0;34m=\u001b[0m \u001b[0mtext_clf_rf_cv\u001b[0m\u001b[0;34m.\u001b[0m\u001b[0mpredict\u001b[0m\u001b[0;34m(\u001b[0m\u001b[0mX_test\u001b[0m\u001b[0;34m)\u001b[0m\u001b[0;34m\u001b[0m\u001b[0;34m\u001b[0m\u001b[0m\n\u001b[1;32m      8\u001b[0m \u001b[0mprint\u001b[0m\u001b[0;34m(\u001b[0m\u001b[0;34mf\"The Final accuracy using RANDOM FOREST and Count vectorizer is : {metrics.accuracy_score(y_test,predictions_rf_tfidf)}\"\u001b[0m\u001b[0;34m)\u001b[0m\u001b[0;34m\u001b[0m\u001b[0;34m\u001b[0m\u001b[0m\n",
            "\u001b[0;32m/usr/local/lib/python3.7/dist-packages/sklearn/pipeline.py\u001b[0m in \u001b[0;36mfit\u001b[0;34m(self, X, y, **fit_params)\u001b[0m\n\u001b[1;32m    352\u001b[0m                                  self._log_message(len(self.steps) - 1)):\n\u001b[1;32m    353\u001b[0m             \u001b[0;32mif\u001b[0m \u001b[0mself\u001b[0m\u001b[0;34m.\u001b[0m\u001b[0m_final_estimator\u001b[0m \u001b[0;34m!=\u001b[0m \u001b[0;34m'passthrough'\u001b[0m\u001b[0;34m:\u001b[0m\u001b[0;34m\u001b[0m\u001b[0;34m\u001b[0m\u001b[0m\n\u001b[0;32m--> 354\u001b[0;31m                 \u001b[0mself\u001b[0m\u001b[0;34m.\u001b[0m\u001b[0m_final_estimator\u001b[0m\u001b[0;34m.\u001b[0m\u001b[0mfit\u001b[0m\u001b[0;34m(\u001b[0m\u001b[0mXt\u001b[0m\u001b[0;34m,\u001b[0m \u001b[0my\u001b[0m\u001b[0;34m,\u001b[0m \u001b[0;34m**\u001b[0m\u001b[0mfit_params\u001b[0m\u001b[0;34m)\u001b[0m\u001b[0;34m\u001b[0m\u001b[0;34m\u001b[0m\u001b[0m\n\u001b[0m\u001b[1;32m    355\u001b[0m         \u001b[0;32mreturn\u001b[0m \u001b[0mself\u001b[0m\u001b[0;34m\u001b[0m\u001b[0;34m\u001b[0m\u001b[0m\n\u001b[1;32m    356\u001b[0m \u001b[0;34m\u001b[0m\u001b[0m\n",
            "\u001b[0;32m/usr/local/lib/python3.7/dist-packages/sklearn/ensemble/_forest.py\u001b[0m in \u001b[0;36mfit\u001b[0;34m(self, X, y, sample_weight)\u001b[0m\n\u001b[1;32m    381\u001b[0m                     \u001b[0mverbose\u001b[0m\u001b[0;34m=\u001b[0m\u001b[0mself\u001b[0m\u001b[0;34m.\u001b[0m\u001b[0mverbose\u001b[0m\u001b[0;34m,\u001b[0m \u001b[0mclass_weight\u001b[0m\u001b[0;34m=\u001b[0m\u001b[0mself\u001b[0m\u001b[0;34m.\u001b[0m\u001b[0mclass_weight\u001b[0m\u001b[0;34m,\u001b[0m\u001b[0;34m\u001b[0m\u001b[0;34m\u001b[0m\u001b[0m\n\u001b[1;32m    382\u001b[0m                     n_samples_bootstrap=n_samples_bootstrap)\n\u001b[0;32m--> 383\u001b[0;31m                 for i, t in enumerate(trees))\n\u001b[0m\u001b[1;32m    384\u001b[0m \u001b[0;34m\u001b[0m\u001b[0m\n\u001b[1;32m    385\u001b[0m             \u001b[0;31m# Collect newly grown trees\u001b[0m\u001b[0;34m\u001b[0m\u001b[0;34m\u001b[0m\u001b[0;34m\u001b[0m\u001b[0m\n",
            "\u001b[0;32m/usr/local/lib/python3.7/dist-packages/joblib/parallel.py\u001b[0m in \u001b[0;36m__call__\u001b[0;34m(self, iterable)\u001b[0m\n\u001b[1;32m   1042\u001b[0m                 \u001b[0mself\u001b[0m\u001b[0;34m.\u001b[0m\u001b[0m_iterating\u001b[0m \u001b[0;34m=\u001b[0m \u001b[0mself\u001b[0m\u001b[0;34m.\u001b[0m\u001b[0m_original_iterator\u001b[0m \u001b[0;32mis\u001b[0m \u001b[0;32mnot\u001b[0m \u001b[0;32mNone\u001b[0m\u001b[0;34m\u001b[0m\u001b[0;34m\u001b[0m\u001b[0m\n\u001b[1;32m   1043\u001b[0m \u001b[0;34m\u001b[0m\u001b[0m\n\u001b[0;32m-> 1044\u001b[0;31m             \u001b[0;32mwhile\u001b[0m \u001b[0mself\u001b[0m\u001b[0;34m.\u001b[0m\u001b[0mdispatch_one_batch\u001b[0m\u001b[0;34m(\u001b[0m\u001b[0miterator\u001b[0m\u001b[0;34m)\u001b[0m\u001b[0;34m:\u001b[0m\u001b[0;34m\u001b[0m\u001b[0;34m\u001b[0m\u001b[0m\n\u001b[0m\u001b[1;32m   1045\u001b[0m                 \u001b[0;32mpass\u001b[0m\u001b[0;34m\u001b[0m\u001b[0;34m\u001b[0m\u001b[0m\n\u001b[1;32m   1046\u001b[0m \u001b[0;34m\u001b[0m\u001b[0m\n",
            "\u001b[0;32m/usr/local/lib/python3.7/dist-packages/joblib/parallel.py\u001b[0m in \u001b[0;36mdispatch_one_batch\u001b[0;34m(self, iterator)\u001b[0m\n\u001b[1;32m    857\u001b[0m                 \u001b[0;32mreturn\u001b[0m \u001b[0;32mFalse\u001b[0m\u001b[0;34m\u001b[0m\u001b[0;34m\u001b[0m\u001b[0m\n\u001b[1;32m    858\u001b[0m             \u001b[0;32melse\u001b[0m\u001b[0;34m:\u001b[0m\u001b[0;34m\u001b[0m\u001b[0;34m\u001b[0m\u001b[0m\n\u001b[0;32m--> 859\u001b[0;31m                 \u001b[0mself\u001b[0m\u001b[0;34m.\u001b[0m\u001b[0m_dispatch\u001b[0m\u001b[0;34m(\u001b[0m\u001b[0mtasks\u001b[0m\u001b[0;34m)\u001b[0m\u001b[0;34m\u001b[0m\u001b[0;34m\u001b[0m\u001b[0m\n\u001b[0m\u001b[1;32m    860\u001b[0m                 \u001b[0;32mreturn\u001b[0m \u001b[0;32mTrue\u001b[0m\u001b[0;34m\u001b[0m\u001b[0;34m\u001b[0m\u001b[0m\n\u001b[1;32m    861\u001b[0m \u001b[0;34m\u001b[0m\u001b[0m\n",
            "\u001b[0;32m/usr/local/lib/python3.7/dist-packages/joblib/parallel.py\u001b[0m in \u001b[0;36m_dispatch\u001b[0;34m(self, batch)\u001b[0m\n\u001b[1;32m    775\u001b[0m         \u001b[0;32mwith\u001b[0m \u001b[0mself\u001b[0m\u001b[0;34m.\u001b[0m\u001b[0m_lock\u001b[0m\u001b[0;34m:\u001b[0m\u001b[0;34m\u001b[0m\u001b[0;34m\u001b[0m\u001b[0m\n\u001b[1;32m    776\u001b[0m             \u001b[0mjob_idx\u001b[0m \u001b[0;34m=\u001b[0m \u001b[0mlen\u001b[0m\u001b[0;34m(\u001b[0m\u001b[0mself\u001b[0m\u001b[0;34m.\u001b[0m\u001b[0m_jobs\u001b[0m\u001b[0;34m)\u001b[0m\u001b[0;34m\u001b[0m\u001b[0;34m\u001b[0m\u001b[0m\n\u001b[0;32m--> 777\u001b[0;31m             \u001b[0mjob\u001b[0m \u001b[0;34m=\u001b[0m \u001b[0mself\u001b[0m\u001b[0;34m.\u001b[0m\u001b[0m_backend\u001b[0m\u001b[0;34m.\u001b[0m\u001b[0mapply_async\u001b[0m\u001b[0;34m(\u001b[0m\u001b[0mbatch\u001b[0m\u001b[0;34m,\u001b[0m \u001b[0mcallback\u001b[0m\u001b[0;34m=\u001b[0m\u001b[0mcb\u001b[0m\u001b[0;34m)\u001b[0m\u001b[0;34m\u001b[0m\u001b[0;34m\u001b[0m\u001b[0m\n\u001b[0m\u001b[1;32m    778\u001b[0m             \u001b[0;31m# A job can complete so quickly than its callback is\u001b[0m\u001b[0;34m\u001b[0m\u001b[0;34m\u001b[0m\u001b[0;34m\u001b[0m\u001b[0m\n\u001b[1;32m    779\u001b[0m             \u001b[0;31m# called before we get here, causing self._jobs to\u001b[0m\u001b[0;34m\u001b[0m\u001b[0;34m\u001b[0m\u001b[0;34m\u001b[0m\u001b[0m\n",
            "\u001b[0;32m/usr/local/lib/python3.7/dist-packages/joblib/_parallel_backends.py\u001b[0m in \u001b[0;36mapply_async\u001b[0;34m(self, func, callback)\u001b[0m\n\u001b[1;32m    206\u001b[0m     \u001b[0;32mdef\u001b[0m \u001b[0mapply_async\u001b[0m\u001b[0;34m(\u001b[0m\u001b[0mself\u001b[0m\u001b[0;34m,\u001b[0m \u001b[0mfunc\u001b[0m\u001b[0;34m,\u001b[0m \u001b[0mcallback\u001b[0m\u001b[0;34m=\u001b[0m\u001b[0;32mNone\u001b[0m\u001b[0;34m)\u001b[0m\u001b[0;34m:\u001b[0m\u001b[0;34m\u001b[0m\u001b[0;34m\u001b[0m\u001b[0m\n\u001b[1;32m    207\u001b[0m         \u001b[0;34m\"\"\"Schedule a func to be run\"\"\"\u001b[0m\u001b[0;34m\u001b[0m\u001b[0;34m\u001b[0m\u001b[0m\n\u001b[0;32m--> 208\u001b[0;31m         \u001b[0mresult\u001b[0m \u001b[0;34m=\u001b[0m \u001b[0mImmediateResult\u001b[0m\u001b[0;34m(\u001b[0m\u001b[0mfunc\u001b[0m\u001b[0;34m)\u001b[0m\u001b[0;34m\u001b[0m\u001b[0;34m\u001b[0m\u001b[0m\n\u001b[0m\u001b[1;32m    209\u001b[0m         \u001b[0;32mif\u001b[0m \u001b[0mcallback\u001b[0m\u001b[0;34m:\u001b[0m\u001b[0;34m\u001b[0m\u001b[0;34m\u001b[0m\u001b[0m\n\u001b[1;32m    210\u001b[0m             \u001b[0mcallback\u001b[0m\u001b[0;34m(\u001b[0m\u001b[0mresult\u001b[0m\u001b[0;34m)\u001b[0m\u001b[0;34m\u001b[0m\u001b[0;34m\u001b[0m\u001b[0m\n",
            "\u001b[0;32m/usr/local/lib/python3.7/dist-packages/joblib/_parallel_backends.py\u001b[0m in \u001b[0;36m__init__\u001b[0;34m(self, batch)\u001b[0m\n\u001b[1;32m    570\u001b[0m         \u001b[0;31m# Don't delay the application, to avoid keeping the input\u001b[0m\u001b[0;34m\u001b[0m\u001b[0;34m\u001b[0m\u001b[0;34m\u001b[0m\u001b[0m\n\u001b[1;32m    571\u001b[0m         \u001b[0;31m# arguments in memory\u001b[0m\u001b[0;34m\u001b[0m\u001b[0;34m\u001b[0m\u001b[0;34m\u001b[0m\u001b[0m\n\u001b[0;32m--> 572\u001b[0;31m         \u001b[0mself\u001b[0m\u001b[0;34m.\u001b[0m\u001b[0mresults\u001b[0m \u001b[0;34m=\u001b[0m \u001b[0mbatch\u001b[0m\u001b[0;34m(\u001b[0m\u001b[0;34m)\u001b[0m\u001b[0;34m\u001b[0m\u001b[0;34m\u001b[0m\u001b[0m\n\u001b[0m\u001b[1;32m    573\u001b[0m \u001b[0;34m\u001b[0m\u001b[0m\n\u001b[1;32m    574\u001b[0m     \u001b[0;32mdef\u001b[0m \u001b[0mget\u001b[0m\u001b[0;34m(\u001b[0m\u001b[0mself\u001b[0m\u001b[0;34m)\u001b[0m\u001b[0;34m:\u001b[0m\u001b[0;34m\u001b[0m\u001b[0;34m\u001b[0m\u001b[0m\n",
            "\u001b[0;32m/usr/local/lib/python3.7/dist-packages/joblib/parallel.py\u001b[0m in \u001b[0;36m__call__\u001b[0;34m(self)\u001b[0m\n\u001b[1;32m    261\u001b[0m         \u001b[0;32mwith\u001b[0m \u001b[0mparallel_backend\u001b[0m\u001b[0;34m(\u001b[0m\u001b[0mself\u001b[0m\u001b[0;34m.\u001b[0m\u001b[0m_backend\u001b[0m\u001b[0;34m,\u001b[0m \u001b[0mn_jobs\u001b[0m\u001b[0;34m=\u001b[0m\u001b[0mself\u001b[0m\u001b[0;34m.\u001b[0m\u001b[0m_n_jobs\u001b[0m\u001b[0;34m)\u001b[0m\u001b[0;34m:\u001b[0m\u001b[0;34m\u001b[0m\u001b[0;34m\u001b[0m\u001b[0m\n\u001b[1;32m    262\u001b[0m             return [func(*args, **kwargs)\n\u001b[0;32m--> 263\u001b[0;31m                     for func, args, kwargs in self.items]\n\u001b[0m\u001b[1;32m    264\u001b[0m \u001b[0;34m\u001b[0m\u001b[0m\n\u001b[1;32m    265\u001b[0m     \u001b[0;32mdef\u001b[0m \u001b[0m__reduce__\u001b[0m\u001b[0;34m(\u001b[0m\u001b[0mself\u001b[0m\u001b[0;34m)\u001b[0m\u001b[0;34m:\u001b[0m\u001b[0;34m\u001b[0m\u001b[0;34m\u001b[0m\u001b[0m\n",
            "\u001b[0;32m/usr/local/lib/python3.7/dist-packages/joblib/parallel.py\u001b[0m in \u001b[0;36m<listcomp>\u001b[0;34m(.0)\u001b[0m\n\u001b[1;32m    261\u001b[0m         \u001b[0;32mwith\u001b[0m \u001b[0mparallel_backend\u001b[0m\u001b[0;34m(\u001b[0m\u001b[0mself\u001b[0m\u001b[0;34m.\u001b[0m\u001b[0m_backend\u001b[0m\u001b[0;34m,\u001b[0m \u001b[0mn_jobs\u001b[0m\u001b[0;34m=\u001b[0m\u001b[0mself\u001b[0m\u001b[0;34m.\u001b[0m\u001b[0m_n_jobs\u001b[0m\u001b[0;34m)\u001b[0m\u001b[0;34m:\u001b[0m\u001b[0;34m\u001b[0m\u001b[0;34m\u001b[0m\u001b[0m\n\u001b[1;32m    262\u001b[0m             return [func(*args, **kwargs)\n\u001b[0;32m--> 263\u001b[0;31m                     for func, args, kwargs in self.items]\n\u001b[0m\u001b[1;32m    264\u001b[0m \u001b[0;34m\u001b[0m\u001b[0m\n\u001b[1;32m    265\u001b[0m     \u001b[0;32mdef\u001b[0m \u001b[0m__reduce__\u001b[0m\u001b[0;34m(\u001b[0m\u001b[0mself\u001b[0m\u001b[0;34m)\u001b[0m\u001b[0;34m:\u001b[0m\u001b[0;34m\u001b[0m\u001b[0;34m\u001b[0m\u001b[0m\n",
            "\u001b[0;32m/usr/local/lib/python3.7/dist-packages/sklearn/ensemble/_forest.py\u001b[0m in \u001b[0;36m_parallel_build_trees\u001b[0;34m(tree, forest, X, y, sample_weight, tree_idx, n_trees, verbose, class_weight, n_samples_bootstrap)\u001b[0m\n\u001b[1;32m    163\u001b[0m             \u001b[0mcurr_sample_weight\u001b[0m \u001b[0;34m*=\u001b[0m \u001b[0mcompute_sample_weight\u001b[0m\u001b[0;34m(\u001b[0m\u001b[0;34m'balanced'\u001b[0m\u001b[0;34m,\u001b[0m \u001b[0my\u001b[0m\u001b[0;34m,\u001b[0m \u001b[0mindices\u001b[0m\u001b[0;34m)\u001b[0m\u001b[0;34m\u001b[0m\u001b[0;34m\u001b[0m\u001b[0m\n\u001b[1;32m    164\u001b[0m \u001b[0;34m\u001b[0m\u001b[0m\n\u001b[0;32m--> 165\u001b[0;31m         \u001b[0mtree\u001b[0m\u001b[0;34m.\u001b[0m\u001b[0mfit\u001b[0m\u001b[0;34m(\u001b[0m\u001b[0mX\u001b[0m\u001b[0;34m,\u001b[0m \u001b[0my\u001b[0m\u001b[0;34m,\u001b[0m \u001b[0msample_weight\u001b[0m\u001b[0;34m=\u001b[0m\u001b[0mcurr_sample_weight\u001b[0m\u001b[0;34m,\u001b[0m \u001b[0mcheck_input\u001b[0m\u001b[0;34m=\u001b[0m\u001b[0;32mFalse\u001b[0m\u001b[0;34m)\u001b[0m\u001b[0;34m\u001b[0m\u001b[0;34m\u001b[0m\u001b[0m\n\u001b[0m\u001b[1;32m    166\u001b[0m     \u001b[0;32melse\u001b[0m\u001b[0;34m:\u001b[0m\u001b[0;34m\u001b[0m\u001b[0;34m\u001b[0m\u001b[0m\n\u001b[1;32m    167\u001b[0m         \u001b[0mtree\u001b[0m\u001b[0;34m.\u001b[0m\u001b[0mfit\u001b[0m\u001b[0;34m(\u001b[0m\u001b[0mX\u001b[0m\u001b[0;34m,\u001b[0m \u001b[0my\u001b[0m\u001b[0;34m,\u001b[0m \u001b[0msample_weight\u001b[0m\u001b[0;34m=\u001b[0m\u001b[0msample_weight\u001b[0m\u001b[0;34m,\u001b[0m \u001b[0mcheck_input\u001b[0m\u001b[0;34m=\u001b[0m\u001b[0;32mFalse\u001b[0m\u001b[0;34m)\u001b[0m\u001b[0;34m\u001b[0m\u001b[0;34m\u001b[0m\u001b[0m\n",
            "\u001b[0;32m/usr/local/lib/python3.7/dist-packages/sklearn/tree/_classes.py\u001b[0m in \u001b[0;36mfit\u001b[0;34m(self, X, y, sample_weight, check_input, X_idx_sorted)\u001b[0m\n\u001b[1;32m    875\u001b[0m             \u001b[0msample_weight\u001b[0m\u001b[0;34m=\u001b[0m\u001b[0msample_weight\u001b[0m\u001b[0;34m,\u001b[0m\u001b[0;34m\u001b[0m\u001b[0;34m\u001b[0m\u001b[0m\n\u001b[1;32m    876\u001b[0m             \u001b[0mcheck_input\u001b[0m\u001b[0;34m=\u001b[0m\u001b[0mcheck_input\u001b[0m\u001b[0;34m,\u001b[0m\u001b[0;34m\u001b[0m\u001b[0;34m\u001b[0m\u001b[0m\n\u001b[0;32m--> 877\u001b[0;31m             X_idx_sorted=X_idx_sorted)\n\u001b[0m\u001b[1;32m    878\u001b[0m         \u001b[0;32mreturn\u001b[0m \u001b[0mself\u001b[0m\u001b[0;34m\u001b[0m\u001b[0;34m\u001b[0m\u001b[0m\n\u001b[1;32m    879\u001b[0m \u001b[0;34m\u001b[0m\u001b[0m\n",
            "\u001b[0;32m/usr/local/lib/python3.7/dist-packages/sklearn/tree/_classes.py\u001b[0m in \u001b[0;36mfit\u001b[0;34m(self, X, y, sample_weight, check_input, X_idx_sorted)\u001b[0m\n\u001b[1;32m    365\u001b[0m                                            min_impurity_split)\n\u001b[1;32m    366\u001b[0m \u001b[0;34m\u001b[0m\u001b[0m\n\u001b[0;32m--> 367\u001b[0;31m         \u001b[0mbuilder\u001b[0m\u001b[0;34m.\u001b[0m\u001b[0mbuild\u001b[0m\u001b[0;34m(\u001b[0m\u001b[0mself\u001b[0m\u001b[0;34m.\u001b[0m\u001b[0mtree_\u001b[0m\u001b[0;34m,\u001b[0m \u001b[0mX\u001b[0m\u001b[0;34m,\u001b[0m \u001b[0my\u001b[0m\u001b[0;34m,\u001b[0m \u001b[0msample_weight\u001b[0m\u001b[0;34m,\u001b[0m \u001b[0mX_idx_sorted\u001b[0m\u001b[0;34m)\u001b[0m\u001b[0;34m\u001b[0m\u001b[0;34m\u001b[0m\u001b[0m\n\u001b[0m\u001b[1;32m    368\u001b[0m \u001b[0;34m\u001b[0m\u001b[0m\n\u001b[1;32m    369\u001b[0m         \u001b[0;32mif\u001b[0m \u001b[0mself\u001b[0m\u001b[0;34m.\u001b[0m\u001b[0mn_outputs_\u001b[0m \u001b[0;34m==\u001b[0m \u001b[0;36m1\u001b[0m \u001b[0;32mand\u001b[0m \u001b[0mis_classifier\u001b[0m\u001b[0;34m(\u001b[0m\u001b[0mself\u001b[0m\u001b[0;34m)\u001b[0m\u001b[0;34m:\u001b[0m\u001b[0;34m\u001b[0m\u001b[0;34m\u001b[0m\u001b[0m\n",
            "\u001b[0;31mKeyboardInterrupt\u001b[0m: "
          ]
        }
      ]
    },
    {
      "cell_type": "code",
      "metadata": {
        "colab": {
          "base_uri": "https://localhost:8080/",
          "height": 124
        },
        "id": "0-IpfWGuF1Qr",
        "outputId": "d634b5cd-f572-43a7-acbd-4eec9d044db6"
      },
      "source": [
        "# Report the confusion matrix\n",
        "\n",
        "print('==============RANDOM FOREST WITH TFIDF==============================')\n",
        "\n",
        "pd.DataFrame(metrics.confusion_matrix(y_test,predictions_rf_tfidf),index=['neg','pos'], columns=['neg','pos'])\n",
        "\n"
      ],
      "execution_count": 47,
      "outputs": [
        {
          "output_type": "stream",
          "text": [
            "==============RANDOM FOREST WITH TFIDF==============================\n"
          ],
          "name": "stdout"
        },
        {
          "output_type": "execute_result",
          "data": {
            "text/html": [
              "<div>\n",
              "<style scoped>\n",
              "    .dataframe tbody tr th:only-of-type {\n",
              "        vertical-align: middle;\n",
              "    }\n",
              "\n",
              "    .dataframe tbody tr th {\n",
              "        vertical-align: top;\n",
              "    }\n",
              "\n",
              "    .dataframe thead th {\n",
              "        text-align: right;\n",
              "    }\n",
              "</style>\n",
              "<table border=\"1\" class=\"dataframe\">\n",
              "  <thead>\n",
              "    <tr style=\"text-align: right;\">\n",
              "      <th></th>\n",
              "      <th>neg</th>\n",
              "      <th>pos</th>\n",
              "    </tr>\n",
              "  </thead>\n",
              "  <tbody>\n",
              "    <tr>\n",
              "      <th>neg</th>\n",
              "      <td>2627</td>\n",
              "      <td>12377</td>\n",
              "    </tr>\n",
              "    <tr>\n",
              "      <th>pos</th>\n",
              "      <td>178</td>\n",
              "      <td>48950</td>\n",
              "    </tr>\n",
              "  </tbody>\n",
              "</table>\n",
              "</div>"
            ],
            "text/plain": [
              "      neg    pos\n",
              "neg  2627  12377\n",
              "pos   178  48950"
            ]
          },
          "metadata": {
            "tags": []
          },
          "execution_count": 47
        }
      ]
    },
    {
      "cell_type": "code",
      "metadata": {
        "id": "kokDaRM6GabP"
      },
      "source": [
        "print(====================='RANDOM FOREST WITH Count Vectorizer==============================')\n",
        "\n",
        "pd.DataFrame(metrics.confusion_matrix(y_test,predictions_rf_cv),index=['neg','pos'], columns=['neg','pos'])"
      ],
      "execution_count": null,
      "outputs": []
    },
    {
      "cell_type": "code",
      "metadata": {
        "colab": {
          "base_uri": "https://localhost:8080/"
        },
        "id": "5QffN-8jGjz5",
        "outputId": "5b140173-53f6-463b-e4b0-f14360970732"
      },
      "source": [
        "print('===================a classification report with TFIDF======================') #a classification report\n",
        "#NAIVE BAYES\n",
        "print('======================NAIVE BAYES====================')\n",
        "\n",
        "print(metrics.classification_report(y_test,predictions_nb_tfidf))\n",
        "\n",
        "#Linear SVC\n",
        "print('===================LINEAR SVC==================')\n",
        "\n",
        "print(metrics.classification_report(y_test,predictions_lsvc_tfidf))\n",
        "\n",
        "#logiatic Regression \n",
        "print('===================LOGISTIC REGRESSION==================')\n",
        "print(metrics.classification_report(y_test,predictions_lr_tfidf))\n",
        "\n",
        "##Random FOrest\n",
        "print('======================RANDOM FOREST WITH TFIDF====================')\n",
        "\n",
        "print(metrics.classification_report(y_test,predictions_rf_tfidf))"
      ],
      "execution_count": 48,
      "outputs": [
        {
          "output_type": "stream",
          "text": [
            "===================a classification report with TFIDF======================\n",
            "======================NAIVE BAYES====================\n",
            "              precision    recall  f1-score   support\n",
            "\n",
            "           0       0.83      0.43      0.57     15004\n",
            "           1       0.85      0.97      0.91     49128\n",
            "\n",
            "    accuracy                           0.85     64132\n",
            "   macro avg       0.84      0.70      0.74     64132\n",
            "weighted avg       0.84      0.85      0.83     64132\n",
            "\n",
            "===================LINEAR SVC==================\n",
            "              precision    recall  f1-score   support\n",
            "\n",
            "           0       0.82      0.67      0.74     15004\n",
            "           1       0.91      0.95      0.93     49128\n",
            "\n",
            "    accuracy                           0.89     64132\n",
            "   macro avg       0.86      0.81      0.83     64132\n",
            "weighted avg       0.89      0.89      0.89     64132\n",
            "\n",
            "===================LOGISTIC REGRESSION==================\n",
            "              precision    recall  f1-score   support\n",
            "\n",
            "           0       0.84      0.60      0.70     15004\n",
            "           1       0.89      0.96      0.92     49128\n",
            "\n",
            "    accuracy                           0.88     64132\n",
            "   macro avg       0.86      0.78      0.81     64132\n",
            "weighted avg       0.88      0.88      0.87     64132\n",
            "\n",
            "======================RANDOM FOREST WITH TFIDF====================\n",
            "              precision    recall  f1-score   support\n",
            "\n",
            "           0       0.94      0.18      0.30     15004\n",
            "           1       0.80      1.00      0.89     49128\n",
            "\n",
            "    accuracy                           0.80     64132\n",
            "   macro avg       0.87      0.59      0.59     64132\n",
            "weighted avg       0.83      0.80      0.75     64132\n",
            "\n"
          ],
          "name": "stdout"
        }
      ]
    },
    {
      "cell_type": "code",
      "metadata": {
        "id": "Xmtae662Gj4a"
      },
      "source": [
        ""
      ],
      "execution_count": null,
      "outputs": []
    },
    {
      "cell_type": "code",
      "metadata": {
        "id": "fj4wZsLbWU0p"
      },
      "source": [
        "from sklearn.pipeline import Pipeline\n",
        "from sklearn.naive_bayes import MultinomialNB\n",
        "from sklearn.svm import LinearSVC\n",
        "from sklearn.linear_model import LogisticRegression\n",
        "from sklearn.feature_extraction.text import TfidfVectorizer\n",
        "from sklearn.feature_extraction.text import CountVectorizer\n",
        "\n",
        "\n",
        "\n",
        "## Modeling\n",
        "from sklearn.model_selection import cross_validate\n",
        "from sklearn.model_selection import train_test_split\n",
        "from sklearn.model_selection import StratifiedKFold\n",
        "from sklearn.model_selection import GridSearchCV\n",
        "from sklearn.model_selection import cross_val_predict\n",
        "from sklearn.model_selection import cross_val_score\n",
        "from sklearn.linear_model import LogisticRegression\n",
        "from sklearn.model_selection import learning_curve\n",
        "from sklearn.ensemble import ExtraTreesClassifier\n",
        "from sklearn.decomposition import TruncatedSVD\n",
        "from sklearn.feature_extraction.text import TfidfVectorizer, CountVectorizer, HashingVectorizer\n",
        "from sklearn.pipeline import Pipeline\n",
        "from sklearn.naive_bayes import MultinomialNB\n",
        "from sklearn.svm import SVC\n",
        "from sklearn import metrics\n",
        "from sklearn.metrics import classification_report\n",
        "from sklearn.metrics import confusion_matrix\n",
        "from  sklearn.metrics import precision_recall_fscore_support\n",
        "from sklearn.ensemble import RandomForestClassifier\n",
        "from sklearn.tree import DecisionTreeClassifier\n",
        "from sklearn.metrics import f1_score\n",
        "from sklearn.metrics import recall_score\n",
        "from gensim.models import Word2Vec\n",
        "from tqdm import tqdm\n",
        "import xgboost as xgb\n",
        "from xgboost import XGBClassifier\n",
        "from sklearn.dummy import DummyClassifier"
      ],
      "execution_count": 3,
      "outputs": []
    },
    {
      "cell_type": "code",
      "metadata": {
        "colab": {
          "base_uri": "https://localhost:8080/",
          "height": 239
        },
        "id": "eGQchi40SVd4",
        "outputId": "b1243c64-d5d5-468e-e6bc-887096dd166d"
      },
      "source": [
        "from sklearn.datasets import make_hastie_10_2\n",
        "from sklearn.ensemble import GradientBoostingClassifier\n",
        "#XGB and TFIDF VECTORIZER:\n",
        "\n",
        "text_clf_xgb_tfidf = Pipeline([('xgb',TfidfVectorizer(binary=True,ngram_range=(1,2))),\n",
        "                    ('clf',XGBClassifier(learning_rate=0.3,n_estimators=2000)),\n",
        "])\n",
        "\n",
        "text_clf_xgb_tfidf.fit(X_train, y_train) \n",
        "predictions_xgb_tfidf = text_clf_xgb_tfidf.predict(X_test)\n",
        "print(f\"The Final accuracy using XGB and TFIDF vectorizer is : {metrics.accuracy_score(y_test,predictions_xgb_tfidf)}\")"
      ],
      "execution_count": 4,
      "outputs": [
        {
          "output_type": "error",
          "ename": "NameError",
          "evalue": "ignored",
          "traceback": [
            "\u001b[0;31m---------------------------------------------------------------------------\u001b[0m",
            "\u001b[0;31mNameError\u001b[0m                                 Traceback (most recent call last)",
            "\u001b[0;32m<ipython-input-4-0d64015f8fbb>\u001b[0m in \u001b[0;36m<module>\u001b[0;34m()\u001b[0m\n\u001b[1;32m      7\u001b[0m ])\n\u001b[1;32m      8\u001b[0m \u001b[0;34m\u001b[0m\u001b[0m\n\u001b[0;32m----> 9\u001b[0;31m \u001b[0mtext_clf_xgb_tfidf\u001b[0m\u001b[0;34m.\u001b[0m\u001b[0mfit\u001b[0m\u001b[0;34m(\u001b[0m\u001b[0mX_train\u001b[0m\u001b[0;34m,\u001b[0m \u001b[0my_train\u001b[0m\u001b[0;34m)\u001b[0m\u001b[0;34m\u001b[0m\u001b[0;34m\u001b[0m\u001b[0m\n\u001b[0m\u001b[1;32m     10\u001b[0m \u001b[0mpredictions_xgb_tfidf\u001b[0m \u001b[0;34m=\u001b[0m \u001b[0mtext_clf_xgb_tfidf\u001b[0m\u001b[0;34m.\u001b[0m\u001b[0mpredict\u001b[0m\u001b[0;34m(\u001b[0m\u001b[0mX_test\u001b[0m\u001b[0;34m)\u001b[0m\u001b[0;34m\u001b[0m\u001b[0;34m\u001b[0m\u001b[0m\n\u001b[1;32m     11\u001b[0m \u001b[0mprint\u001b[0m\u001b[0;34m(\u001b[0m\u001b[0;34mf\"The Final accuracy using XGB and TFIDF vectorizer is : {metrics.accuracy_score(y_test,predictions_xgb_tfidf)}\"\u001b[0m\u001b[0;34m)\u001b[0m\u001b[0;34m\u001b[0m\u001b[0;34m\u001b[0m\u001b[0m\n",
            "\u001b[0;31mNameError\u001b[0m: name 'X_train' is not defined"
          ]
        }
      ]
    },
    {
      "cell_type": "code",
      "metadata": {
        "id": "1uDQfCdGLQkC"
      },
      "source": [
        "print('===================a classification report with TFIDF======================') #a classification report\n",
        "#NAIVE BAYES\n",
        "print('======================NAIVE BAYES====================')\n",
        "\n",
        "print(metrics.classification_report(y_test,predictions_nb_tfidf))\n",
        "\n",
        "#Linear SVC\n",
        "print('===================LINEAR SVC==================')\n",
        "\n",
        "print(metrics.classification_report(y_test,predictions_lsvc_tfidf))\n",
        "\n",
        "#logiatic Regression \n",
        "print('===================LOGISTIC REGRESSION==================')\n",
        "print(metrics.classification_report(y_test,predictions_lr_tfidf))\n",
        "\n",
        "##Random FOrest\n",
        "print('======================RANDOM FOREST WITH TFIDF====================')\n",
        "\n",
        "print(metrics.classification_report(y_test,predictions_rf_tfidf))\n",
        "\n",
        "##Random FOrest\n",
        "print('======================XGB WITH TFIDF====================')\n",
        "\n",
        "print(metrics.classification_report(y_test,predictions_xgb_tfidf))"
      ],
      "execution_count": null,
      "outputs": []
    },
    {
      "cell_type": "code",
      "metadata": {
        "id": "j1MTx1FxLhXU"
      },
      "source": [
        "# Report the confusion matrix\n",
        "\n",
        "print('==============XGB WITH TFIDF==============================')\n",
        "\n",
        "pd.DataFrame(metrics.confusion_matrix(y_test,predictions_xgb_tfidf),index=['neg','pos'], columns=['neg','pos'])"
      ],
      "execution_count": null,
      "outputs": []
    },
    {
      "cell_type": "markdown",
      "metadata": {
        "id": "XO7MbCGRr4GE"
      },
      "source": [
        "# Confusion Matrix Plot Function"
      ]
    },
    {
      "cell_type": "code",
      "metadata": {
        "id": "wVNfUyyJr4GE"
      },
      "source": [
        "# Visualizations\n",
        "import matplotlib.pyplot as plt\n",
        "from matplotlib.colors import ListedColormap\n",
        "import seaborn as sns\n",
        "import matplotlib.colors as colors\n",
        "%matplotlib inline\n",
        "from wordcloud import WordCloud, STOPWORDS"
      ],
      "execution_count": 50,
      "outputs": []
    },
    {
      "cell_type": "code",
      "metadata": {
        "id": "Y7eNwF4dr4GF"
      },
      "source": [
        "def plot_confusion_matrix(cm, classes,\n",
        "                          normalize=False,\n",
        "                          title = 'Confusion matrix',\n",
        "                          cmap = plt.cm.ocean):\n",
        "    \"\"\"\n",
        "    Create a confusion matrix plot for 'good' and 'bad' rating values \n",
        "    \"\"\"\n",
        "    if normalize:\n",
        "        cm = cm.astype('float') / cm.sum(axis = 1)[:, np.newaxis]\n",
        "    plt.imshow(cm, interpolation = 'nearest', cmap = cmap)\n",
        "    plt.title(title, fontsize = 20)\n",
        "    plt.colorbar()\n",
        "    tick_marks = np.arange(len(classes))\n",
        "    plt.xticks(tick_marks, classes, fontsize = 20)\n",
        "    plt.yticks(tick_marks, classes, fontsize = 20)\n",
        "    \n",
        "    fmt = '.2f' if normalize else 'd'\n",
        "    thresh = cm.max() / 2.\n",
        "\n",
        "    for i in range (cm.shape[0]):\n",
        "        for j in range (cm.shape[1]):\n",
        "            plt.text(j, i, format(cm[i, j], fmt), horizontalalignment = \"center\", \n",
        "                 color = \"white\" if cm[i, j] < thresh else \"black\", fontsize = 40)\n",
        "    \n",
        "    plt.tight_layout()\n",
        "    plt.ylabel('True Label', fontsize = 30)\n",
        "    plt.xlabel('Predicted Label', fontsize = 30)\n",
        "\n",
        "    return plt"
      ],
      "execution_count": 51,
      "outputs": []
    },
    {
      "cell_type": "code",
      "metadata": {
        "id": "-56mwQXPr4GF"
      },
      "source": [
        "\n",
        "def disp_confusion_matrix(y_pred, model_name, vector = 'TF-IDF Vectorizer'):\n",
        "    \"\"\"\n",
        "    Display confusion matrix for selected model with TF-IDF Vectorizer\n",
        "    \"\"\"\n",
        "    cm = confusion_matrix(y_test, y_pred)\n",
        "    fig = plt.figure(figsize=(10, 10))\n",
        "    plot = plot_confusion_matrix(cm, classes=['Negative','Positive'], normalize=False, \n",
        "                                 title = model_name + \" \" + 'with' + \" \" + vector + \" \"+ '\\nConfusion Matrix')\n",
        "    plt.show()"
      ],
      "execution_count": 52,
      "outputs": []
    },
    {
      "cell_type": "code",
      "metadata": {
        "colab": {
          "base_uri": "https://localhost:8080/",
          "height": 1000
        },
        "id": "WaFYzbl9r4GF",
        "outputId": "61055518-cecf-4a80-8bb0-21928a2ce0b4"
      },
      "source": [
        "disp_confusion_matrix(predictions_nb_tfidf, \"Multinomial Naive Bayes\")\n",
        "disp_confusion_matrix(predictions_lsvc_tfidf, \"Linear SVC\")\n",
        "disp_confusion_matrix(predictions_lr_tfidf, \"Logistic Regression\")\n",
        "disp_confusion_matrix(predictions_rf_tfidf, \"Random Forest\")\n",
        "#disp_confusion_matrix(predictions_rf_tfidf, \"eXtreme Gradient Boosting\")"
      ],
      "execution_count": 53,
      "outputs": [
        {
          "output_type": "display_data",
          "data": {
            "image/png": "[encoded data removed]",
            "text/plain": [
              "<Figure size 720x720 with 2 Axes>"
            ]
          },
          "metadata": {
            "tags": [],
            "needs_background": "light"
          }
        },
        {
          "output_type": "display_data",
          "data": {
            "image/png": "[encoded data removed]",
            "text/plain": [
              "<Figure size 720x720 with 2 Axes>"
            ]
          },
          "metadata": {
            "tags": [],
            "needs_background": "light"
          }
        },
        {
          "output_type": "display_data",
          "data": {
            "image/png": "[encoded data removed]",
            "text/plain": [
              "<Figure size 720x720 with 2 Axes>"
            ]
          },
          "metadata": {
            "tags": [],
            "needs_background": "light"
          }
        },
        {
          "output_type": "display_data",
          "data": {
            "image/png": "[encoded data removed]",
            "text/plain": [
              "<Figure size 720x720 with 2 Axes>"
            ]
          },
          "metadata": {
            "tags": [],
            "needs_background": "light"
          }
        }
      ]
    },
    {
      "cell_type": "markdown",
      "metadata": {
        "id": "IJkWUukar4GG"
      },
      "source": [
        "# CLASSIFICATION REPORT IN DATAFRAME"
      ]
    },
    {
      "cell_type": "code",
      "metadata": {
        "id": "x1YFotDor4GG"
      },
      "source": [
        "from sklearn.model_selection import cross_validate\n",
        "from sklearn.model_selection import train_test_split\n",
        "from sklearn.model_selection import StratifiedKFold\n",
        "from sklearn.model_selection import GridSearchCV\n",
        "from sklearn.model_selection import cross_val_predict\n",
        "from sklearn.model_selection import cross_val_score\n",
        "from sklearn.linear_model import LogisticRegression\n",
        "from sklearn.model_selection import learning_curve\n",
        "from sklearn.ensemble import ExtraTreesClassifier\n",
        "from sklearn.decomposition import TruncatedSVD\n",
        "from sklearn.feature_extraction.text import TfidfVectorizer, CountVectorizer, HashingVectorizer\n",
        "from sklearn.pipeline import Pipeline\n",
        "from sklearn.naive_bayes import MultinomialNB\n",
        "from sklearn.naive_bayes import GaussianNB \n",
        "from sklearn.svm import SVC\n",
        "from sklearn import metrics\n",
        "from sklearn.metrics import classification_report\n",
        "from sklearn.metrics import confusion_matrix\n",
        "from  sklearn.metrics import precision_recall_fscore_support\n",
        "from sklearn.ensemble import RandomForestClassifier\n",
        "from sklearn.tree import DecisionTreeClassifier\n",
        "from sklearn.metrics import f1_score\n",
        "from sklearn.metrics import recall_score\n",
        "from gensim.models import Word2Vec\n",
        "from sklearn.dummy import DummyClassifier"
      ],
      "execution_count": null,
      "outputs": []
    },
    {
      "cell_type": "code",
      "metadata": {
        "id": "p-Ltv8xWr4GS"
      },
      "source": [
        "\n",
        "# Function for converting the \"classification report\" results to a dataframe\n",
        "def pandas_classification_report(y_true, y_pred):\n",
        "    metrics_summary = precision_recall_fscore_support(\n",
        "            y_true=y_true, \n",
        "            y_pred=y_pred)\n",
        "\n",
        "    avg = list(precision_recall_fscore_support(\n",
        "            y_true=y_true, \n",
        "            y_pred=y_pred,\n",
        "            average='weighted'))\n",
        "\n",
        "    metrics_sum_index = ['precision', 'recall', 'f1-score', 'support']\n",
        "    class_report_df = pd.DataFrame(\n",
        "        list(metrics_summary),\n",
        "        index=metrics_sum_index)\n",
        "\n",
        "    support = class_report_df.loc['support']\n",
        "    total = support.sum() \n",
        "    avg[-1] = total\n",
        "\n",
        "    class_report_df['weighted avg'] = avg\n",
        "\n",
        "    return class_report_df.T\n",
        "\n",
        "# Function for adding explanatory columns and organizing all dataframe\n",
        "def comparison_matrix(y_test, y_pred, label, vector):\n",
        "    df = pandas_classification_report(y_test, y_pred)\n",
        "    df['class']=['Negative or \"0\"', 'Positive or \"1\"', 'average']\n",
        "    df['accuracy']= metrics.accuracy_score(y_test, y_pred)\n",
        "    df['model'] = label\n",
        "    df['vectorizer'] = vector\n",
        "    df = df[['vectorizer', 'model', 'accuracy', 'class', 'precision', 'recall', 'f1-score', 'support']]\n",
        "    return df"
      ],
      "execution_count": null,
      "outputs": []
    },
    {
      "cell_type": "code",
      "metadata": {
        "id": "_Sg78BvZ_Vzc"
      },
      "source": [
        "\n",
        "#For loop for using \"comparison functions\" \n",
        "\n",
        "def comparison_table(y_preds, labels):\n",
        "    \n",
        "    # empty list for collecting dataframes\n",
        "    frames_tv = [] \n",
        "    \n",
        "    # list for y_preds\n",
        "    y_preds_tv = y_preds\n",
        "    \n",
        "    # list for labels\n",
        "    labels_tv = labels  \n",
        "    \n",
        "    vector_tv = 'TFIDF'\n",
        "    \n",
        "    for y_pred, label in zip(y_preds_tv, labels_tv):\n",
        "        df = comparison_matrix(y_test, y_pred, label, vector_tv)\n",
        "        frames_tv.append(df)\n",
        "\n",
        "    # concatenating all dataframes\n",
        "    global df_tv\n",
        "    df_tv = pd.concat(frames_tv)\n",
        "    \n",
        "    global df_tv2\n",
        "    df_tv2 = df_tv.set_index(['vectorizer', 'model', 'accuracy', 'class'])"
      ],
      "execution_count": null,
      "outputs": []
    },
    {
      "cell_type": "code",
      "metadata": {
        "id": "YksXqpIv_Wnh"
      },
      "source": [
        "comparison_table(y_preds = [predictions_nb_tfidf,predictions_lsvc_tfidf,predictions_lr_tfidf,predictions_rf_tfidf,predictions_xgb_tfidf], \n",
        "                labels = ['Multinomial NB', 'LinearSVC','LogReg','RandomForest','XGB'])"
      ],
      "execution_count": null,
      "outputs": []
    },
    {
      "cell_type": "code",
      "metadata": {
        "id": "eRWfhrX6_aI8"
      },
      "source": [
        "df_tv2"
      ],
      "execution_count": null,
      "outputs": []
    },
    {
      "cell_type": "code",
      "metadata": {
        "id": "9wLgkaDTPEmM"
      },
      "source": [
        ""
      ],
      "execution_count": null,
      "outputs": []
    },
    {
      "cell_type": "code",
      "metadata": {
        "id": "apfvdxBaMbHm"
      },
      "source": [
        ""
      ],
      "execution_count": null,
      "outputs": []
    },
    {
      "cell_type": "code",
      "metadata": {
        "id": "aH8pJlDkMbR6"
      },
      "source": [
        ""
      ],
      "execution_count": null,
      "outputs": []
    },
    {
      "cell_type": "code",
      "metadata": {
        "id": "WrVbPihzMbZu"
      },
      "source": [
        ""
      ],
      "execution_count": null,
      "outputs": []
    },
    {
      "cell_type": "code",
      "metadata": {
        "id": "4i6LFPyNMbft"
      },
      "source": [
        ""
      ],
      "execution_count": null,
      "outputs": []
    }
  ]
}