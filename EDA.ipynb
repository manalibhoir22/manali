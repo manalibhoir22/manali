{
  "nbformat": 4,
  "nbformat_minor": 0,
  "metadata": {
    "kernelspec": {
      "display_name": "Python 3",
      "language": "python",
      "name": "python3"
    },
    "language_info": {
      "codemirror_mode": {
        "name": "ipython",
        "version": 3
      },
      "file_extension": ".py",
      "mimetype": "text/x-python",
      "name": "python",
      "nbconvert_exporter": "python",
      "pygments_lexer": "ipython3",
      "version": "3.8.3"
    },
    "colab": {
      "name": "EDA.ipynb",
      "provenance": [],
      "toc_visible": true,
      "include_colab_link": true
    }
  },
  "cells": [
    {
      "cell_type": "markdown",
      "metadata": {
        "id": "view-in-github",
        "colab_type": "text"
      },
      "source": [
        "<a href=\"https://colab.research.google.com/github/manalibhoir22/manali/blob/master/EDA.ipynb\" target=\"_parent\"><img src=\"https://colab.research.google.com/assets/colab-badge.svg\" alt=\"Open In Colab\"/></a>"
      ]
    },
    {
      "cell_type": "code",
      "metadata": {
        "id": "tgFztbqsKkZ7"
      },
      "source": [
        "# importing all the required Libraries\n",
        "import glob\n",
        "import json\n",
        "import csv\n",
        "import pandas as pd\n",
        "import numpy as np\n",
        "import nltk\n",
        "from nltk.corpus import stopwords\n",
        "from nltk.tokenize import sent_tokenize, word_tokenize\n",
        "import matplotlib.pyplot as plt\n",
        "import warnings\n",
        "warnings.filterwarnings(\"ignore\")\n",
        "import calendar\n",
        "# Visualizations\n",
        "import matplotlib.pyplot as plt\n",
        "from matplotlib.colors import ListedColormap\n",
        "import seaborn as sns\n",
        "import matplotlib.colors as colors\n",
        "%matplotlib inline\n",
        "import numpy as np\n",
        "import matplotlib.pyplot as plt\n",
        "\n"
      ],
      "execution_count": 310,
      "outputs": []
    },
    {
      "cell_type": "code",
      "metadata": {
        "colab": {
          "base_uri": "https://localhost:8080/",
          "height": 296
        },
        "id": "jchFYhW7KkaK",
        "outputId": "7559f952-30bb-41a8-d204-4101da877a31"
      },
      "source": [
        "import numpy as np\n",
        "import pandas as pd\n",
        "products = pd.read_excel('data.xlsx')\n",
        "products.head()"
      ],
      "execution_count": 329,
      "outputs": [
        {
          "output_type": "execute_result",
          "data": {
            "text/html": [
              "<div>\n",
              "<style scoped>\n",
              "    .dataframe tbody tr th:only-of-type {\n",
              "        vertical-align: middle;\n",
              "    }\n",
              "\n",
              "    .dataframe tbody tr th {\n",
              "        vertical-align: top;\n",
              "    }\n",
              "\n",
              "    .dataframe thead th {\n",
              "        text-align: right;\n",
              "    }\n",
              "</style>\n",
              "<table border=\"1\" class=\"dataframe\">\n",
              "  <thead>\n",
              "    <tr style=\"text-align: right;\">\n",
              "      <th></th>\n",
              "      <th>Unnamed: 0</th>\n",
              "      <th>reviewerID</th>\n",
              "      <th>asin</th>\n",
              "      <th>reviewerName</th>\n",
              "      <th>helpful</th>\n",
              "      <th>reviewText</th>\n",
              "      <th>overall</th>\n",
              "      <th>summary</th>\n",
              "      <th>unixReviewTime</th>\n",
              "      <th>reviewTime</th>\n",
              "    </tr>\n",
              "  </thead>\n",
              "  <tbody>\n",
              "    <tr>\n",
              "      <th>0</th>\n",
              "      <td>1</td>\n",
              "      <td>A30TL5EWN6DFXT</td>\n",
              "      <td>120401325X</td>\n",
              "      <td>christina</td>\n",
              "      <td>[0, 0]</td>\n",
              "      <td>They look good and stick good! I just don't li...</td>\n",
              "      <td>4</td>\n",
              "      <td>Looks Good</td>\n",
              "      <td>1400630400</td>\n",
              "      <td>05 21, 2014</td>\n",
              "    </tr>\n",
              "    <tr>\n",
              "      <th>1</th>\n",
              "      <td>2</td>\n",
              "      <td>ASY55RVNIL0UD</td>\n",
              "      <td>120401325X</td>\n",
              "      <td>emily l.</td>\n",
              "      <td>[0, 0]</td>\n",
              "      <td>These stickers work like the review says they ...</td>\n",
              "      <td>5</td>\n",
              "      <td>Really great product.</td>\n",
              "      <td>1389657600</td>\n",
              "      <td>01 14, 2014</td>\n",
              "    </tr>\n",
              "    <tr>\n",
              "      <th>2</th>\n",
              "      <td>3</td>\n",
              "      <td>A2TMXE2AFO7ONB</td>\n",
              "      <td>120401325X</td>\n",
              "      <td>Erica</td>\n",
              "      <td>[0, 0]</td>\n",
              "      <td>These are awesome and make my phone look so st...</td>\n",
              "      <td>5</td>\n",
              "      <td>LOVE LOVE LOVE</td>\n",
              "      <td>1403740800</td>\n",
              "      <td>06 26, 2014</td>\n",
              "    </tr>\n",
              "    <tr>\n",
              "      <th>3</th>\n",
              "      <td>4</td>\n",
              "      <td>AWJ0WZQYMYFQ4</td>\n",
              "      <td>120401325X</td>\n",
              "      <td>JM</td>\n",
              "      <td>[4, 4]</td>\n",
              "      <td>Item arrived in great time and was in perfect ...</td>\n",
              "      <td>4</td>\n",
              "      <td>Cute!</td>\n",
              "      <td>1382313600</td>\n",
              "      <td>10 21, 2013</td>\n",
              "    </tr>\n",
              "    <tr>\n",
              "      <th>4</th>\n",
              "      <td>5</td>\n",
              "      <td>ATX7CZYFXI1KW</td>\n",
              "      <td>120401325X</td>\n",
              "      <td>patrice m rogoza</td>\n",
              "      <td>[2, 3]</td>\n",
              "      <td>awesome! stays on, and looks great. can be use...</td>\n",
              "      <td>5</td>\n",
              "      <td>leopard home button sticker for iphone 4s</td>\n",
              "      <td>1359849600</td>\n",
              "      <td>02 3, 2013</td>\n",
              "    </tr>\n",
              "  </tbody>\n",
              "</table>\n",
              "</div>"
            ],
            "text/plain": [
              "   Unnamed: 0      reviewerID  ... unixReviewTime   reviewTime\n",
              "0           1  A30TL5EWN6DFXT  ...     1400630400  05 21, 2014\n",
              "1           2   ASY55RVNIL0UD  ...     1389657600  01 14, 2014\n",
              "2           3  A2TMXE2AFO7ONB  ...     1403740800  06 26, 2014\n",
              "3           4   AWJ0WZQYMYFQ4  ...     1382313600  10 21, 2013\n",
              "4           5   ATX7CZYFXI1KW  ...     1359849600   02 3, 2013\n",
              "\n",
              "[5 rows x 10 columns]"
            ]
          },
          "metadata": {
            "tags": []
          },
          "execution_count": 329
        }
      ]
    },
    {
      "cell_type": "code",
      "metadata": {
        "colab": {
          "base_uri": "https://localhost:8080/",
          "height": 195
        },
        "id": "n7_rn86EKkaM",
        "outputId": "f4b5d245-2586-4a11-ec50-81ff006100ca"
      },
      "source": [
        "products.drop(products.columns[[0,3,4,8]],axis=1,inplace=True)\n",
        "products.head()"
      ],
      "execution_count": 330,
      "outputs": [
        {
          "output_type": "execute_result",
          "data": {
            "text/html": [
              "<div>\n",
              "<style scoped>\n",
              "    .dataframe tbody tr th:only-of-type {\n",
              "        vertical-align: middle;\n",
              "    }\n",
              "\n",
              "    .dataframe tbody tr th {\n",
              "        vertical-align: top;\n",
              "    }\n",
              "\n",
              "    .dataframe thead th {\n",
              "        text-align: right;\n",
              "    }\n",
              "</style>\n",
              "<table border=\"1\" class=\"dataframe\">\n",
              "  <thead>\n",
              "    <tr style=\"text-align: right;\">\n",
              "      <th></th>\n",
              "      <th>reviewerID</th>\n",
              "      <th>asin</th>\n",
              "      <th>reviewText</th>\n",
              "      <th>overall</th>\n",
              "      <th>summary</th>\n",
              "      <th>reviewTime</th>\n",
              "    </tr>\n",
              "  </thead>\n",
              "  <tbody>\n",
              "    <tr>\n",
              "      <th>0</th>\n",
              "      <td>A30TL5EWN6DFXT</td>\n",
              "      <td>120401325X</td>\n",
              "      <td>They look good and stick good! I just don't li...</td>\n",
              "      <td>4</td>\n",
              "      <td>Looks Good</td>\n",
              "      <td>05 21, 2014</td>\n",
              "    </tr>\n",
              "    <tr>\n",
              "      <th>1</th>\n",
              "      <td>ASY55RVNIL0UD</td>\n",
              "      <td>120401325X</td>\n",
              "      <td>These stickers work like the review says they ...</td>\n",
              "      <td>5</td>\n",
              "      <td>Really great product.</td>\n",
              "      <td>01 14, 2014</td>\n",
              "    </tr>\n",
              "    <tr>\n",
              "      <th>2</th>\n",
              "      <td>A2TMXE2AFO7ONB</td>\n",
              "      <td>120401325X</td>\n",
              "      <td>These are awesome and make my phone look so st...</td>\n",
              "      <td>5</td>\n",
              "      <td>LOVE LOVE LOVE</td>\n",
              "      <td>06 26, 2014</td>\n",
              "    </tr>\n",
              "    <tr>\n",
              "      <th>3</th>\n",
              "      <td>AWJ0WZQYMYFQ4</td>\n",
              "      <td>120401325X</td>\n",
              "      <td>Item arrived in great time and was in perfect ...</td>\n",
              "      <td>4</td>\n",
              "      <td>Cute!</td>\n",
              "      <td>10 21, 2013</td>\n",
              "    </tr>\n",
              "    <tr>\n",
              "      <th>4</th>\n",
              "      <td>ATX7CZYFXI1KW</td>\n",
              "      <td>120401325X</td>\n",
              "      <td>awesome! stays on, and looks great. can be use...</td>\n",
              "      <td>5</td>\n",
              "      <td>leopard home button sticker for iphone 4s</td>\n",
              "      <td>02 3, 2013</td>\n",
              "    </tr>\n",
              "  </tbody>\n",
              "</table>\n",
              "</div>"
            ],
            "text/plain": [
              "       reviewerID  ...   reviewTime\n",
              "0  A30TL5EWN6DFXT  ...  05 21, 2014\n",
              "1   ASY55RVNIL0UD  ...  01 14, 2014\n",
              "2  A2TMXE2AFO7ONB  ...  06 26, 2014\n",
              "3   AWJ0WZQYMYFQ4  ...  10 21, 2013\n",
              "4   ATX7CZYFXI1KW  ...   02 3, 2013\n",
              "\n",
              "[5 rows x 6 columns]"
            ]
          },
          "metadata": {
            "tags": []
          },
          "execution_count": 330
        }
      ]
    },
    {
      "cell_type": "code",
      "metadata": {
        "id": "Oj46FXAeKkaN"
      },
      "source": [
        "products.dropna(inplace=True)"
      ],
      "execution_count": 331,
      "outputs": []
    },
    {
      "cell_type": "code",
      "metadata": {
        "id": "ZNNpQ2m-KN6r"
      },
      "source": [
        ""
      ],
      "execution_count": null,
      "outputs": []
    },
    {
      "cell_type": "code",
      "metadata": {
        "colab": {
          "base_uri": "https://localhost:8080/",
          "height": 431
        },
        "id": "PXsFHzMEKkaO",
        "outputId": "9e0b593c-b1f2-482a-c0af-8cff2865c065"
      },
      "source": [
        "popular_products = pd.DataFrame(products.groupby('asin')['overall'].count())\n",
        "popular_products "
      ],
      "execution_count": 332,
      "outputs": [
        {
          "output_type": "execute_result",
          "data": {
            "text/html": [
              "<div>\n",
              "<style scoped>\n",
              "    .dataframe tbody tr th:only-of-type {\n",
              "        vertical-align: middle;\n",
              "    }\n",
              "\n",
              "    .dataframe tbody tr th {\n",
              "        vertical-align: top;\n",
              "    }\n",
              "\n",
              "    .dataframe thead th {\n",
              "        text-align: right;\n",
              "    }\n",
              "</style>\n",
              "<table border=\"1\" class=\"dataframe\">\n",
              "  <thead>\n",
              "    <tr style=\"text-align: right;\">\n",
              "      <th></th>\n",
              "      <th>overall</th>\n",
              "    </tr>\n",
              "    <tr>\n",
              "      <th>asin</th>\n",
              "      <th></th>\n",
              "    </tr>\n",
              "  </thead>\n",
              "  <tbody>\n",
              "    <tr>\n",
              "      <th>120401325X</th>\n",
              "      <td>7</td>\n",
              "    </tr>\n",
              "    <tr>\n",
              "      <th>3998899561</th>\n",
              "      <td>10</td>\n",
              "    </tr>\n",
              "    <tr>\n",
              "      <th>6073894996</th>\n",
              "      <td>37</td>\n",
              "    </tr>\n",
              "    <tr>\n",
              "      <th>7532385086</th>\n",
              "      <td>9</td>\n",
              "    </tr>\n",
              "    <tr>\n",
              "      <th>7887421268</th>\n",
              "      <td>13</td>\n",
              "    </tr>\n",
              "    <tr>\n",
              "      <th>...</th>\n",
              "      <td>...</td>\n",
              "    </tr>\n",
              "    <tr>\n",
              "      <th>B00LH1QZR8</th>\n",
              "      <td>5</td>\n",
              "    </tr>\n",
              "    <tr>\n",
              "      <th>B00LH1R3C4</th>\n",
              "      <td>5</td>\n",
              "    </tr>\n",
              "    <tr>\n",
              "      <th>B00LH1R5HW</th>\n",
              "      <td>5</td>\n",
              "    </tr>\n",
              "    <tr>\n",
              "      <th>B00LH1R6SK</th>\n",
              "      <td>5</td>\n",
              "    </tr>\n",
              "    <tr>\n",
              "      <th>B00LORXVUE</th>\n",
              "      <td>8</td>\n",
              "    </tr>\n",
              "  </tbody>\n",
              "</table>\n",
              "<p>10429 rows × 1 columns</p>\n",
              "</div>"
            ],
            "text/plain": [
              "            overall\n",
              "asin               \n",
              "120401325X        7\n",
              "3998899561       10\n",
              "6073894996       37\n",
              "7532385086        9\n",
              "7887421268       13\n",
              "...             ...\n",
              "B00LH1QZR8        5\n",
              "B00LH1R3C4        5\n",
              "B00LH1R5HW        5\n",
              "B00LH1R6SK        5\n",
              "B00LORXVUE        8\n",
              "\n",
              "[10429 rows x 1 columns]"
            ]
          },
          "metadata": {
            "tags": []
          },
          "execution_count": 332
        }
      ]
    },
    {
      "cell_type": "code",
      "metadata": {
        "colab": {
          "base_uri": "https://localhost:8080/",
          "height": 385
        },
        "id": "iOW7EZhrKkaP",
        "outputId": "eabc4ee3-88ef-4bac-985a-8d2d63c9e8f4"
      },
      "source": [
        "# Numbers of review Vs asin\n",
        "##########################################\n",
        "## PLOT NUMBER OF REVIEWS FOR TOP 20 PRODUCTS  i.e. 20 products with highest no. of reviews\n",
        "##########################################\n",
        "popular_products = pd.DataFrame(products.groupby('asin')['overall'].count())\n",
        "most_popular = popular_products.sort_values('overall',ascending=False)\n",
        "most_popular.head(20).plot(kind = \"bar\",legend = None)\n",
        "plt.title(\"Number of Reviews for Top 20 Products\")\n",
        "plt.xlabel('ASIN(Amazon Standard Identification Number.)\\n ProductID')\n",
        "plt.ylabel('Number of Reviews')\n"
      ],
      "execution_count": 333,
      "outputs": [
        {
          "output_type": "execute_result",
          "data": {
            "text/plain": [
              "Text(0, 0.5, 'Number of Reviews')"
            ]
          },
          "metadata": {
            "tags": []
          },
          "execution_count": 333
        },
        {
          "output_type": "display_data",
          "data": {
            "image/png": "[encoded data removed]",
            "text/plain": [
              "<Figure size 432x288 with 1 Axes>"
            ]
          },
          "metadata": {
            "tags": [],
            "needs_background": "light"
          }
        }
      ]
    },
    {
      "cell_type": "code",
      "metadata": {
        "colab": {
          "base_uri": "https://localhost:8080/",
          "height": 384
        },
        "id": "iwpLLdDJKkaQ",
        "outputId": "50944474-469d-44ed-9fbc-a3eb6c3cbb65"
      },
      "source": [
        "##########################################\n",
        "## PLOT NUMBER OF REVIEWS FOR bottom 20 PRODUCTS  i.e. 20 products with lowest no. of reviews\n",
        "##########################################\n",
        "popular_products = pd.DataFrame(products.groupby('asin')['overall'].count())\n",
        "most_popular = popular_products.sort_values('overall',ascending=False)\n",
        "most_popular[-20:].plot(kind = \"bar\",legend=None,color='red')\n",
        "plt.title(\"Number of Reviews for Bottom 20 Products\")\n",
        "plt.xlabel('ASIN(Amazon Standard Identification Number.)\\n ProductID')\n",
        "plt.ylabel('Number of Reviews')"
      ],
      "execution_count": 336,
      "outputs": [
        {
          "output_type": "execute_result",
          "data": {
            "text/plain": [
              "Text(0, 0.5, 'Number of Reviews')"
            ]
          },
          "metadata": {
            "tags": []
          },
          "execution_count": 336
        },
        {
          "output_type": "display_data",
          "data": {
            "image/png": "[encoded data removed]",
            "text/plain": [
              "<Figure size 432x288 with 1 Axes>"
            ]
          },
          "metadata": {
            "tags": [],
            "needs_background": "light"
          }
        }
      ]
    },
    {
      "cell_type": "code",
      "metadata": {
        "colab": {
          "base_uri": "https://localhost:8080/"
        },
        "id": "R0kDqh9pKkaR",
        "outputId": "03ed9b8e-1611-4c03-8168-e2b365d70d1e"
      },
      "source": [
        "products.groupby('asin')['overall'].count().sort_values(ascending=False).head()"
      ],
      "execution_count": 341,
      "outputs": [
        {
          "output_type": "execute_result",
          "data": {
            "text/plain": [
              "asin\n",
              "B005SUHPO6    836\n",
              "B0042FV2SI    694\n",
              "B008OHNZI0    657\n",
              "B009RXU59C    633\n",
              "B000S5Q9CA    628\n",
              "Name: overall, dtype: int64"
            ]
          },
          "metadata": {
            "tags": []
          },
          "execution_count": 341
        }
      ]
    },
    {
      "cell_type": "code",
      "metadata": {
        "colab": {
          "base_uri": "https://localhost:8080/",
          "height": 195
        },
        "id": "TOEyhI06LloR",
        "outputId": "8531b9cd-b94a-4d7e-f08a-27f84f87aeff"
      },
      "source": [
        "def sentiment(n):\n",
        "    return 1 if n >= 4 else 0\n",
        "products['sentiment'] = products['overall'].apply(sentiment)\n",
        "products.head()"
      ],
      "execution_count": 342,
      "outputs": [
        {
          "output_type": "execute_result",
          "data": {
            "text/html": [
              "<div>\n",
              "<style scoped>\n",
              "    .dataframe tbody tr th:only-of-type {\n",
              "        vertical-align: middle;\n",
              "    }\n",
              "\n",
              "    .dataframe tbody tr th {\n",
              "        vertical-align: top;\n",
              "    }\n",
              "\n",
              "    .dataframe thead th {\n",
              "        text-align: right;\n",
              "    }\n",
              "</style>\n",
              "<table border=\"1\" class=\"dataframe\">\n",
              "  <thead>\n",
              "    <tr style=\"text-align: right;\">\n",
              "      <th></th>\n",
              "      <th>reviewerID</th>\n",
              "      <th>asin</th>\n",
              "      <th>reviewText</th>\n",
              "      <th>overall</th>\n",
              "      <th>summary</th>\n",
              "      <th>reviewTime</th>\n",
              "      <th>sentiment</th>\n",
              "    </tr>\n",
              "  </thead>\n",
              "  <tbody>\n",
              "    <tr>\n",
              "      <th>0</th>\n",
              "      <td>A30TL5EWN6DFXT</td>\n",
              "      <td>120401325X</td>\n",
              "      <td>They look good and stick good! I just don't li...</td>\n",
              "      <td>4</td>\n",
              "      <td>Looks Good</td>\n",
              "      <td>05 21, 2014</td>\n",
              "      <td>1</td>\n",
              "    </tr>\n",
              "    <tr>\n",
              "      <th>1</th>\n",
              "      <td>ASY55RVNIL0UD</td>\n",
              "      <td>120401325X</td>\n",
              "      <td>These stickers work like the review says they ...</td>\n",
              "      <td>5</td>\n",
              "      <td>Really great product.</td>\n",
              "      <td>01 14, 2014</td>\n",
              "      <td>1</td>\n",
              "    </tr>\n",
              "    <tr>\n",
              "      <th>2</th>\n",
              "      <td>A2TMXE2AFO7ONB</td>\n",
              "      <td>120401325X</td>\n",
              "      <td>These are awesome and make my phone look so st...</td>\n",
              "      <td>5</td>\n",
              "      <td>LOVE LOVE LOVE</td>\n",
              "      <td>06 26, 2014</td>\n",
              "      <td>1</td>\n",
              "    </tr>\n",
              "    <tr>\n",
              "      <th>3</th>\n",
              "      <td>AWJ0WZQYMYFQ4</td>\n",
              "      <td>120401325X</td>\n",
              "      <td>Item arrived in great time and was in perfect ...</td>\n",
              "      <td>4</td>\n",
              "      <td>Cute!</td>\n",
              "      <td>10 21, 2013</td>\n",
              "      <td>1</td>\n",
              "    </tr>\n",
              "    <tr>\n",
              "      <th>4</th>\n",
              "      <td>ATX7CZYFXI1KW</td>\n",
              "      <td>120401325X</td>\n",
              "      <td>awesome! stays on, and looks great. can be use...</td>\n",
              "      <td>5</td>\n",
              "      <td>leopard home button sticker for iphone 4s</td>\n",
              "      <td>02 3, 2013</td>\n",
              "      <td>1</td>\n",
              "    </tr>\n",
              "  </tbody>\n",
              "</table>\n",
              "</div>"
            ],
            "text/plain": [
              "       reviewerID        asin  ...   reviewTime  sentiment\n",
              "0  A30TL5EWN6DFXT  120401325X  ...  05 21, 2014          1\n",
              "1   ASY55RVNIL0UD  120401325X  ...  01 14, 2014          1\n",
              "2  A2TMXE2AFO7ONB  120401325X  ...  06 26, 2014          1\n",
              "3   AWJ0WZQYMYFQ4  120401325X  ...  10 21, 2013          1\n",
              "4   ATX7CZYFXI1KW  120401325X  ...   02 3, 2013          1\n",
              "\n",
              "[5 rows x 7 columns]"
            ]
          },
          "metadata": {
            "tags": []
          },
          "execution_count": 342
        }
      ]
    },
    {
      "cell_type": "code",
      "metadata": {
        "colab": {
          "base_uri": "https://localhost:8080/"
        },
        "id": "Rm55i4jgIFyR",
        "outputId": "beda2351-9906-4a88-8ce3-ba287666093d"
      },
      "source": [
        "##########################################\n",
        "## DESCRIPTIVE STATISTICS\n",
        "##########################################\n",
        "\n",
        "print (\"================================================\")\n",
        "\n",
        "### Total reviews\n",
        "total = len(products)\n",
        "print (\"Number of reviews: \",total)\n",
        "print ()\n",
        "\n",
        "### How many unique reviewers?\n",
        "print (\"Number of unique reviewers: \",len(products.reviewerID.unique()))\n",
        "reviewer_prop = float(len(products.reviewerID.unique())/total)\n",
        "print (\"Prop of unique reviewers: \",round(reviewer_prop,3))\n",
        "print ()\n",
        "\n",
        "### How many unique products?\n",
        "print (\"Number of unique products: \", len(products.asin.unique()))\n",
        "product_prop = float(len(products.asin.unique())/total)\n",
        "print (\"Prop of unique products: \",round(product_prop,3))\n",
        "print ()\n",
        "\n",
        "### Average star score\n",
        "print (\"Average overall rating score: \",round(products.overall.mean(),3))\n",
        "\n",
        "##Total reviews for each Ratings\n",
        "print(\"Total No. of ratings for Each Rating:\\n\", products['overall'].value_counts())\n",
        "\n",
        "## Total Positive and Negative Rating\n",
        "print(\"Total POstive and negative Ratings:\\n\",products['sentiment'].value_counts())\n",
        "\n",
        "# Review number per unique customer\n",
        "print('\\nReview per customer: {}'.format((len(products)/len(products['reviewerID'].unique()))))      \n",
        "\n",
        "# Review number per unique product \n",
        "print('\\nReview per product: {}'.format((len(products)/len(products['asin'].unique()))))\n",
        "\n",
        "\n",
        "print (\"================================================\")\n",
        "\n",
        "products['overall'].describe()"
      ],
      "execution_count": 370,
      "outputs": [
        {
          "output_type": "stream",
          "text": [
            "================================================\n",
            "Number of reviews:  194339\n",
            "\n",
            "Number of unique reviewers:  27879\n",
            "Prop of unique reviewers:  0.143\n",
            "\n",
            "Number of unique products:  10429\n",
            "Prop of unique products:  0.054\n",
            "\n",
            "Average overall rating score:  4.13\n",
            "Total No. of ratings for Each Rating:\n",
            " 5    108601\n",
            "4     39974\n",
            "3     21436\n",
            "1     13269\n",
            "2     11059\n",
            "Name: overall, dtype: int64\n",
            "Total POstive and negative Ratings:\n",
            " 1    148575\n",
            "0     45764\n",
            "Name: sentiment, dtype: int64\n",
            "\n",
            "Review per customer: 6.970802396068725\n",
            "\n",
            "Review per product: 18.634480774762682\n",
            "================================================\n"
          ],
          "name": "stdout"
        },
        {
          "output_type": "execute_result",
          "data": {
            "text/plain": [
              "count    194339.000000\n",
              "mean          4.129876\n",
              "std           1.222451\n",
              "min           1.000000\n",
              "25%           4.000000\n",
              "50%           5.000000\n",
              "75%           5.000000\n",
              "max           5.000000\n",
              "Name: overall, dtype: float64"
            ]
          },
          "metadata": {
            "tags": []
          },
          "execution_count": 370
        }
      ]
    },
    {
      "cell_type": "code",
      "metadata": {
        "colab": {
          "base_uri": "https://localhost:8080/"
        },
        "id": "53z2ayFlZfxC",
        "outputId": "9f20cac9-e807-4b5f-88f3-0c3f5cf5eb79"
      },
      "source": [
        "products.overall.skew()"
      ],
      "execution_count": 386,
      "outputs": [
        {
          "output_type": "execute_result",
          "data": {
            "text/plain": [
              "-1.3327588556809082"
            ]
          },
          "metadata": {
            "tags": []
          },
          "execution_count": 386
        }
      ]
    },
    {
      "cell_type": "code",
      "metadata": {
        "id": "EvKRMmn2autv"
      },
      "source": [
        "# These are the standard imports that we will use all the time.\n",
        "import os                             # Library to do things on the filesystem\n",
        "import pandas as pd                   # Super cool general purpose data handling library\n",
        "import matplotlib.pyplot as plt       # Standard plotting library\n",
        "import numpy as np                    # General purpose math library\n",
        "from IPython.display import display   # A notebook function to display more complex data (like tables)\n",
        "import scipy.stats as stats           # Scipy again"
      ],
      "execution_count": 374,
      "outputs": []
    },
    {
      "cell_type": "code",
      "metadata": {
        "colab": {
          "base_uri": "https://localhost:8080/",
          "height": 508
        },
        "id": "zv1B_7Q3gdry",
        "outputId": "aa923803-8114-4946-e9e8-6a1425841441"
      },
      "source": [
        "# Number of Review Vs Ratings\n",
        "import seaborn as sns\n",
        "plt.figure(figsize = (10,6))\n",
        "sns.countplot(products['overall'])\n",
        "plt.title('Total Review Numbers for Each Rating', color='r')\n",
        "plt.xlabel('Rating')\n",
        "plt.ylabel('Number of Reviews')\n",
        "plt.show()\n",
        "\n",
        "# Customer totals for each rating class\n",
        "products['overall'].value_counts()"
      ],
      "execution_count": 389,
      "outputs": [
        {
          "output_type": "display_data",
          "data": {
            "image/png": "[encoded data removed]",
            "text/plain": [
              "<Figure size 720x432 with 1 Axes>"
            ]
          },
          "metadata": {
            "tags": [],
            "needs_background": "light"
          }
        },
        {
          "output_type": "execute_result",
          "data": {
            "text/plain": [
              "5    108601\n",
              "4     39974\n",
              "3     21436\n",
              "1     13269\n",
              "2     11059\n",
              "Name: overall, dtype: int64"
            ]
          },
          "metadata": {
            "tags": []
          },
          "execution_count": 389
        }
      ]
    },
    {
      "cell_type": "code",
      "metadata": {
        "colab": {
          "base_uri": "https://localhost:8080/",
          "height": 374
        },
        "id": "N7HyVIJjKkaS",
        "outputId": "13f4f977-ca60-4035-abf9-2f0926b7fe88"
      },
      "source": [
        "#Distribution of ratings Vs Number of reviews\n",
        "%matplotlib inline\n",
        "plt.figure(figsize = (10,6))\n",
        "\n",
        "products.groupby('overall').overall.count()\n",
        "product.groupby('overall').overall.count().plot(kind='pie',autopct='%1.1f%%',startangle=90,explode=(0,0.1,0,0,0),)"
      ],
      "execution_count": 72,
      "outputs": [
        {
          "output_type": "execute_result",
          "data": {
            "text/plain": [
              "<matplotlib.axes._subplots.AxesSubplot at 0x7f57a3c21350>"
            ]
          },
          "metadata": {
            "tags": []
          },
          "execution_count": 72
        },
        {
          "output_type": "display_data",
          "data": {
            "image/png": "[encoded data removed]",
            "text/plain": [
              "<Figure size 720x432 with 1 Axes>"
            ]
          },
          "metadata": {
            "tags": []
          }
        }
      ]
    },
    {
      "cell_type": "code",
      "metadata": {
        "id": "oldtIwkTKkaT"
      },
      "source": [
        "#FROM PIECHART:The ratings were divided into two categories. The rating below 3 were classified as “bad” and the remaining ratings were grouped as “good”. The distribution of rating class vs number of reviews is shown below. It indicates about 50000 reviews were identified as good rating."
      ],
      "execution_count": 75,
      "outputs": []
    },
    {
      "cell_type": "code",
      "metadata": {
        "id": "_pE6VTn5KkaU"
      },
      "source": [
        "#data=reviewText_dataset.copy()\n",
        "word_count=[]\n",
        "for s1 in products.reviewText:\n",
        "     word_count.append(len(str(s1).split()))"
      ],
      "execution_count": 391,
      "outputs": []
    },
    {
      "cell_type": "code",
      "metadata": {
        "colab": {
          "base_uri": "https://localhost:8080/",
          "height": 392
        },
        "id": "Eswbak6zKkaU",
        "outputId": "f0398309-8e82-4b10-e7fe-7d681ce0ebb8"
      },
      "source": [
        "plt.figure(figsize = (8,6))\n",
        "\n",
        "import seaborn as sns\n",
        "import matplotlib.pyplot as plt\n",
        "sns.boxplot(x=\"overall\",y=word_count,data=products)\n",
        "plt.xlabel('overall')\n",
        "plt.ylabel('overall Length')\n",
        "\n",
        "plt.show()"
      ],
      "execution_count": 392,
      "outputs": [
        {
          "output_type": "display_data",
          "data": {
            "image/png": "[encoded data removed]",
            "text/plain": [
              "<Figure size 576x432 with 1 Axes>"
            ]
          },
          "metadata": {
            "tags": [],
            "needs_background": "light"
          }
        }
      ]
    },
    {
      "cell_type": "code",
      "metadata": {
        "colab": {
          "base_uri": "https://localhost:8080/",
          "height": 392
        },
        "id": "iOSSJFadKkaV",
        "outputId": "ae7bb6ad-f906-4a7c-9e97-12d12eded5b0"
      },
      "source": [
        "#Since there are outliers in the above boxplot we are not able to clearly visualize.So remove the outliers \n",
        "#Which Rating got Highest Number of Review Length?\n",
        "\n",
        "plt.figure(figsize = (8,6))\n",
        "\n",
        "sns.boxplot(x=\"overall\",y=word_count,data=products,showfliers=False)\n",
        "plt.xlabel('overall')\n",
        "plt.ylabel('overall Length')\n",
        "\n",
        "plt.show()"
      ],
      "execution_count": 393,
      "outputs": [
        {
          "output_type": "display_data",
          "data": {
            "image/png": "[encoded data removed]",
            "text/plain": [
              "<Figure size 576x432 with 1 Axes>"
            ]
          },
          "metadata": {
            "tags": [],
            "needs_background": "light"
          }
        }
      ]
    },
    {
      "cell_type": "code",
      "metadata": {
        "id": "cNGMDSDTkpN4"
      },
      "source": [
        ""
      ],
      "execution_count": 363,
      "outputs": []
    },
    {
      "cell_type": "code",
      "metadata": {
        "colab": {
          "base_uri": "https://localhost:8080/",
          "height": 458
        },
        "id": "_KS0xGHokfGJ",
        "outputId": "83803f22-3ca7-40f0-ab89-79de733f3c05"
      },
      "source": [
        "# Total numbers of ratings product reviews\n",
        "plt.figure(figsize = (8,6))\n",
        "sns.countplot(products['sentiment'])\n",
        "plt.title('Total Review Numbers for Each Rating Class', color='r')\n",
        "plt.xlabel('Rating Class')\n",
        "plt.ylabel('Number of Reviews')\n",
        "plt.show()\n",
        "\n",
        "# Customer totals for each rating class\n",
        "products['sentiment'].value_counts()"
      ],
      "execution_count": 394,
      "outputs": [
        {
          "output_type": "display_data",
          "data": {
            "image/png": "[encoded data removed]",
            "text/plain": [
              "<Figure size 576x432 with 1 Axes>"
            ]
          },
          "metadata": {
            "tags": [],
            "needs_background": "light"
          }
        },
        {
          "output_type": "execute_result",
          "data": {
            "text/plain": [
              "1    148575\n",
              "0     45764\n",
              "Name: sentiment, dtype: int64"
            ]
          },
          "metadata": {
            "tags": []
          },
          "execution_count": 394
        }
      ]
    },
    {
      "cell_type": "code",
      "metadata": {
        "id": "vBSBaWHkkIw1"
      },
      "source": [
        "#Character and word length distribution"
      ],
      "execution_count": 416,
      "outputs": []
    },
    {
      "cell_type": "code",
      "metadata": {
        "id": "QiSG-LUrKkaW"
      },
      "source": [
        "Review_Length=products[['asin','reviewText']]\n"
      ],
      "execution_count": 400,
      "outputs": []
    },
    {
      "cell_type": "code",
      "metadata": {
        "id": "5KDDMTfhKkaW"
      },
      "source": [
        "products['reviewText']=products['reviewText'].apply(str)"
      ],
      "execution_count": 401,
      "outputs": []
    },
    {
      "cell_type": "code",
      "metadata": {
        "id": "jPlJ-0kSKkaX"
      },
      "source": [
        "# Word count\n",
        "Review_Length['Word_Length']=Review_Length['reviewText'].apply(lambda x: len(x.split()))"
      ],
      "execution_count": 402,
      "outputs": []
    },
    {
      "cell_type": "code",
      "metadata": {
        "id": "Wu0Ez4Q2KkaX"
      },
      "source": [
        "# character count\n",
        "Review_Length['Character_Length']=Review_Length['reviewText'].apply(lambda x: len(x))"
      ],
      "execution_count": 403,
      "outputs": []
    },
    {
      "cell_type": "code",
      "metadata": {
        "colab": {
          "base_uri": "https://localhost:8080/",
          "height": 195
        },
        "id": "tL6Vg53_KkaX",
        "outputId": "29b5ad25-f0e1-48fb-b732-bed1ac1c27a5"
      },
      "source": [
        "Review_Length.head()"
      ],
      "execution_count": 404,
      "outputs": [
        {
          "output_type": "execute_result",
          "data": {
            "text/html": [
              "<div>\n",
              "<style scoped>\n",
              "    .dataframe tbody tr th:only-of-type {\n",
              "        vertical-align: middle;\n",
              "    }\n",
              "\n",
              "    .dataframe tbody tr th {\n",
              "        vertical-align: top;\n",
              "    }\n",
              "\n",
              "    .dataframe thead th {\n",
              "        text-align: right;\n",
              "    }\n",
              "</style>\n",
              "<table border=\"1\" class=\"dataframe\">\n",
              "  <thead>\n",
              "    <tr style=\"text-align: right;\">\n",
              "      <th></th>\n",
              "      <th>asin</th>\n",
              "      <th>reviewText</th>\n",
              "      <th>Word_Length</th>\n",
              "      <th>Character_Length</th>\n",
              "    </tr>\n",
              "  </thead>\n",
              "  <tbody>\n",
              "    <tr>\n",
              "      <th>0</th>\n",
              "      <td>120401325X</td>\n",
              "      <td>They look good and stick good! I just don't li...</td>\n",
              "      <td>37</td>\n",
              "      <td>189</td>\n",
              "    </tr>\n",
              "    <tr>\n",
              "      <th>1</th>\n",
              "      <td>120401325X</td>\n",
              "      <td>These stickers work like the review says they ...</td>\n",
              "      <td>32</td>\n",
              "      <td>160</td>\n",
              "    </tr>\n",
              "    <tr>\n",
              "      <th>2</th>\n",
              "      <td>120401325X</td>\n",
              "      <td>These are awesome and make my phone look so st...</td>\n",
              "      <td>34</td>\n",
              "      <td>166</td>\n",
              "    </tr>\n",
              "    <tr>\n",
              "      <th>3</th>\n",
              "      <td>120401325X</td>\n",
              "      <td>Item arrived in great time and was in perfect ...</td>\n",
              "      <td>51</td>\n",
              "      <td>275</td>\n",
              "    </tr>\n",
              "    <tr>\n",
              "      <th>4</th>\n",
              "      <td>120401325X</td>\n",
              "      <td>awesome! stays on, and looks great. can be use...</td>\n",
              "      <td>23</td>\n",
              "      <td>135</td>\n",
              "    </tr>\n",
              "  </tbody>\n",
              "</table>\n",
              "</div>"
            ],
            "text/plain": [
              "         asin  ... Character_Length\n",
              "0  120401325X  ...              189\n",
              "1  120401325X  ...              160\n",
              "2  120401325X  ...              166\n",
              "3  120401325X  ...              275\n",
              "4  120401325X  ...              135\n",
              "\n",
              "[5 rows x 4 columns]"
            ]
          },
          "metadata": {
            "tags": []
          },
          "execution_count": 404
        }
      ]
    },
    {
      "cell_type": "code",
      "metadata": {
        "id": "Oj3QIDdxKkaY"
      },
      "source": [
        "Char_Review_Length=Review_Length.groupby(pd.cut(Review_Length.Character_Length,np.arange(0, 1501, 100))).count()\n",
        "Char_Review_Length=Char_Review_Length.rename(columns={'Character_Length':'Count'})\n",
        "result_Char_Review_Length=Char_Review_Length.reset_index()\n",
        "\n",
        "Word_Review_Length=Review_Length.groupby(pd.cut(Review_Length.Word_Length,np.arange(0, 801, 100))).count()\n",
        "Word_Review_Length=Word_Review_Length.rename(columns={'Word_Length':'Count'})\n",
        "result_Word_Review_Length=Word_Review_Length.reset_index()"
      ],
      "execution_count": 405,
      "outputs": []
    },
    {
      "cell_type": "code",
      "metadata": {
        "colab": {
          "base_uri": "https://localhost:8080/",
          "height": 491
        },
        "id": "GsTYPufrKkaY",
        "outputId": "74f6366a-aee5-4036-aa6d-e07e52afd706"
      },
      "source": [
        "result_Char_Review_Length[[\"Character_Length\",\"Count\"]]"
      ],
      "execution_count": 413,
      "outputs": [
        {
          "output_type": "execute_result",
          "data": {
            "text/html": [
              "<div>\n",
              "<style scoped>\n",
              "    .dataframe tbody tr th:only-of-type {\n",
              "        vertical-align: middle;\n",
              "    }\n",
              "\n",
              "    .dataframe tbody tr th {\n",
              "        vertical-align: top;\n",
              "    }\n",
              "\n",
              "    .dataframe thead th {\n",
              "        text-align: right;\n",
              "    }\n",
              "</style>\n",
              "<table border=\"1\" class=\"dataframe\">\n",
              "  <thead>\n",
              "    <tr style=\"text-align: right;\">\n",
              "      <th></th>\n",
              "      <th>Character_Length</th>\n",
              "      <th>Count</th>\n",
              "    </tr>\n",
              "  </thead>\n",
              "  <tbody>\n",
              "    <tr>\n",
              "      <th>0</th>\n",
              "      <td>(0, 100]</td>\n",
              "      <td>8341</td>\n",
              "    </tr>\n",
              "    <tr>\n",
              "      <th>1</th>\n",
              "      <td>(100, 200]</td>\n",
              "      <td>71714</td>\n",
              "    </tr>\n",
              "    <tr>\n",
              "      <th>2</th>\n",
              "      <td>(200, 300]</td>\n",
              "      <td>31110</td>\n",
              "    </tr>\n",
              "    <tr>\n",
              "      <th>3</th>\n",
              "      <td>(300, 400]</td>\n",
              "      <td>18846</td>\n",
              "    </tr>\n",
              "    <tr>\n",
              "      <th>4</th>\n",
              "      <td>(400, 500]</td>\n",
              "      <td>12519</td>\n",
              "    </tr>\n",
              "    <tr>\n",
              "      <th>5</th>\n",
              "      <td>(500, 600]</td>\n",
              "      <td>8924</td>\n",
              "    </tr>\n",
              "    <tr>\n",
              "      <th>6</th>\n",
              "      <td>(600, 700]</td>\n",
              "      <td>6789</td>\n",
              "    </tr>\n",
              "    <tr>\n",
              "      <th>7</th>\n",
              "      <td>(700, 800]</td>\n",
              "      <td>5379</td>\n",
              "    </tr>\n",
              "    <tr>\n",
              "      <th>8</th>\n",
              "      <td>(800, 900]</td>\n",
              "      <td>4410</td>\n",
              "    </tr>\n",
              "    <tr>\n",
              "      <th>9</th>\n",
              "      <td>(900, 1000]</td>\n",
              "      <td>3586</td>\n",
              "    </tr>\n",
              "    <tr>\n",
              "      <th>10</th>\n",
              "      <td>(1000, 1100]</td>\n",
              "      <td>2965</td>\n",
              "    </tr>\n",
              "    <tr>\n",
              "      <th>11</th>\n",
              "      <td>(1100, 1200]</td>\n",
              "      <td>2484</td>\n",
              "    </tr>\n",
              "    <tr>\n",
              "      <th>12</th>\n",
              "      <td>(1200, 1300]</td>\n",
              "      <td>2048</td>\n",
              "    </tr>\n",
              "    <tr>\n",
              "      <th>13</th>\n",
              "      <td>(1300, 1400]</td>\n",
              "      <td>1769</td>\n",
              "    </tr>\n",
              "    <tr>\n",
              "      <th>14</th>\n",
              "      <td>(1400, 1500]</td>\n",
              "      <td>1545</td>\n",
              "    </tr>\n",
              "  </tbody>\n",
              "</table>\n",
              "</div>"
            ],
            "text/plain": [
              "   Character_Length  Count\n",
              "0          (0, 100]   8341\n",
              "1        (100, 200]  71714\n",
              "2        (200, 300]  31110\n",
              "3        (300, 400]  18846\n",
              "4        (400, 500]  12519\n",
              "5        (500, 600]   8924\n",
              "6        (600, 700]   6789\n",
              "7        (700, 800]   5379\n",
              "8        (800, 900]   4410\n",
              "9       (900, 1000]   3586\n",
              "10     (1000, 1100]   2965\n",
              "11     (1100, 1200]   2484\n",
              "12     (1200, 1300]   2048\n",
              "13     (1300, 1400]   1769\n",
              "14     (1400, 1500]   1545"
            ]
          },
          "metadata": {
            "tags": []
          },
          "execution_count": 413
        }
      ]
    },
    {
      "cell_type": "code",
      "metadata": {
        "colab": {
          "base_uri": "https://localhost:8080/",
          "height": 345
        },
        "id": "dnJWxQuEjuSl",
        "outputId": "7b114057-35d5-43a7-a045-2fbf1842c216"
      },
      "source": [
        "result_Char_Review_Length.plot(x=\"Character_Length\",y=\"Count\",kind=\"bar\",title=\"Distribution of Character Length\",color='r')\n",
        "plt.show()"
      ],
      "execution_count": 414,
      "outputs": [
        {
          "output_type": "display_data",
          "data": {
            "image/png": "[encoded data removed]",
            "text/plain": [
              "<Figure size 432x288 with 1 Axes>"
            ]
          },
          "metadata": {
            "tags": [],
            "needs_background": "light"
          }
        }
      ]
    },
    {
      "cell_type": "code",
      "metadata": {
        "colab": {
          "base_uri": "https://localhost:8080/",
          "height": 284
        },
        "id": "BV3F4lFDKkaZ",
        "outputId": "7a5e84b1-79e6-4976-9e36-e3d009fc544c"
      },
      "source": [
        "result_Word_Review_Length[[\"Word_Length\",\"Count\"]]"
      ],
      "execution_count": 410,
      "outputs": [
        {
          "output_type": "execute_result",
          "data": {
            "text/html": [
              "<div>\n",
              "<style scoped>\n",
              "    .dataframe tbody tr th:only-of-type {\n",
              "        vertical-align: middle;\n",
              "    }\n",
              "\n",
              "    .dataframe tbody tr th {\n",
              "        vertical-align: top;\n",
              "    }\n",
              "\n",
              "    .dataframe thead th {\n",
              "        text-align: right;\n",
              "    }\n",
              "</style>\n",
              "<table border=\"1\" class=\"dataframe\">\n",
              "  <thead>\n",
              "    <tr style=\"text-align: right;\">\n",
              "      <th></th>\n",
              "      <th>Word_Length</th>\n",
              "      <th>Count</th>\n",
              "    </tr>\n",
              "  </thead>\n",
              "  <tbody>\n",
              "    <tr>\n",
              "      <th>0</th>\n",
              "      <td>(0, 100]</td>\n",
              "      <td>145780</td>\n",
              "    </tr>\n",
              "    <tr>\n",
              "      <th>1</th>\n",
              "      <td>(100, 200]</td>\n",
              "      <td>28351</td>\n",
              "    </tr>\n",
              "    <tr>\n",
              "      <th>2</th>\n",
              "      <td>(200, 300]</td>\n",
              "      <td>10133</td>\n",
              "    </tr>\n",
              "    <tr>\n",
              "      <th>3</th>\n",
              "      <td>(300, 400]</td>\n",
              "      <td>4625</td>\n",
              "    </tr>\n",
              "    <tr>\n",
              "      <th>4</th>\n",
              "      <td>(400, 500]</td>\n",
              "      <td>2231</td>\n",
              "    </tr>\n",
              "    <tr>\n",
              "      <th>5</th>\n",
              "      <td>(500, 600]</td>\n",
              "      <td>1161</td>\n",
              "    </tr>\n",
              "    <tr>\n",
              "      <th>6</th>\n",
              "      <td>(600, 700]</td>\n",
              "      <td>682</td>\n",
              "    </tr>\n",
              "    <tr>\n",
              "      <th>7</th>\n",
              "      <td>(700, 800]</td>\n",
              "      <td>393</td>\n",
              "    </tr>\n",
              "  </tbody>\n",
              "</table>\n",
              "</div>"
            ],
            "text/plain": [
              "  Word_Length   Count\n",
              "0    (0, 100]  145780\n",
              "1  (100, 200]   28351\n",
              "2  (200, 300]   10133\n",
              "3  (300, 400]    4625\n",
              "4  (400, 500]    2231\n",
              "5  (500, 600]    1161\n",
              "6  (600, 700]     682\n",
              "7  (700, 800]     393"
            ]
          },
          "metadata": {
            "tags": []
          },
          "execution_count": 410
        }
      ]
    },
    {
      "cell_type": "code",
      "metadata": {
        "colab": {
          "base_uri": "https://localhost:8080/",
          "height": 333
        },
        "id": "antiPEaHKkaZ",
        "outputId": "20a84398-d717-4b44-cd74-5ef3036c08a6"
      },
      "source": [
        "result_Word_Review_Length.plot(x=\"Word_Length\",y=\"Count\",kind=\"bar\",title=\"Distribution of Word Length\",color='y')\n",
        "plt.show()"
      ],
      "execution_count": 421,
      "outputs": [
        {
          "output_type": "display_data",
          "data": {
            "image/png": "[encoded data removed]",
            "text/plain": [
              "<Figure size 432x288 with 1 Axes>"
            ]
          },
          "metadata": {
            "tags": [],
            "needs_background": "light"
          }
        }
      ]
    },
    {
      "cell_type": "code",
      "metadata": {
        "id": "6hm4OwAKi0GM"
      },
      "source": [
        ""
      ],
      "execution_count": 421,
      "outputs": []
    },
    {
      "cell_type": "code",
      "metadata": {
        "id": "29UnznrOKkaa"
      },
      "source": [
        "products['reviewTime']= pd.to_datetime(products['reviewTime'])"
      ],
      "execution_count": 426,
      "outputs": []
    },
    {
      "cell_type": "code",
      "metadata": {
        "id": "bd7Ag-6EKkaa"
      },
      "source": [
        "products['Month']=products['reviewTime'].dt.month"
      ],
      "execution_count": 429,
      "outputs": []
    },
    {
      "cell_type": "code",
      "metadata": {
        "id": "ibM38Y3fKkaa"
      },
      "source": [
        "products['Year']=products['reviewTime'].dt.year"
      ],
      "execution_count": 431,
      "outputs": []
    },
    {
      "cell_type": "code",
      "metadata": {
        "id": "gMwe1DeUKkab"
      },
      "source": [
        "Yearly=products.groupby(['Year'])['asin'].count().reset_index()"
      ],
      "execution_count": 432,
      "outputs": []
    },
    {
      "cell_type": "code",
      "metadata": {
        "colab": {
          "base_uri": "https://localhost:8080/",
          "height": 462
        },
        "id": "3yuoar1ZKkab",
        "outputId": "f182ccc0-8cdd-49c9-a357-220515ca650d"
      },
      "source": [
        "Yearly=Yearly.rename(columns={'asin': 'Number_Of_Reviews'})\n",
        "Yearly"
      ],
      "execution_count": 435,
      "outputs": [
        {
          "output_type": "execute_result",
          "data": {
            "text/html": [
              "<div>\n",
              "<style scoped>\n",
              "    .dataframe tbody tr th:only-of-type {\n",
              "        vertical-align: middle;\n",
              "    }\n",
              "\n",
              "    .dataframe tbody tr th {\n",
              "        vertical-align: top;\n",
              "    }\n",
              "\n",
              "    .dataframe thead th {\n",
              "        text-align: right;\n",
              "    }\n",
              "</style>\n",
              "<table border=\"1\" class=\"dataframe\">\n",
              "  <thead>\n",
              "    <tr style=\"text-align: right;\">\n",
              "      <th></th>\n",
              "      <th>Year</th>\n",
              "      <th>Number_Of_Reviews</th>\n",
              "    </tr>\n",
              "  </thead>\n",
              "  <tbody>\n",
              "    <tr>\n",
              "      <th>0</th>\n",
              "      <td>2001</td>\n",
              "      <td>1</td>\n",
              "    </tr>\n",
              "    <tr>\n",
              "      <th>1</th>\n",
              "      <td>2002</td>\n",
              "      <td>1</td>\n",
              "    </tr>\n",
              "    <tr>\n",
              "      <th>2</th>\n",
              "      <td>2003</td>\n",
              "      <td>2</td>\n",
              "    </tr>\n",
              "    <tr>\n",
              "      <th>3</th>\n",
              "      <td>2004</td>\n",
              "      <td>44</td>\n",
              "    </tr>\n",
              "    <tr>\n",
              "      <th>4</th>\n",
              "      <td>2005</td>\n",
              "      <td>130</td>\n",
              "    </tr>\n",
              "    <tr>\n",
              "      <th>5</th>\n",
              "      <td>2006</td>\n",
              "      <td>240</td>\n",
              "    </tr>\n",
              "    <tr>\n",
              "      <th>6</th>\n",
              "      <td>2007</td>\n",
              "      <td>388</td>\n",
              "    </tr>\n",
              "    <tr>\n",
              "      <th>7</th>\n",
              "      <td>2008</td>\n",
              "      <td>677</td>\n",
              "    </tr>\n",
              "    <tr>\n",
              "      <th>8</th>\n",
              "      <td>2009</td>\n",
              "      <td>1307</td>\n",
              "    </tr>\n",
              "    <tr>\n",
              "      <th>9</th>\n",
              "      <td>2010</td>\n",
              "      <td>3427</td>\n",
              "    </tr>\n",
              "    <tr>\n",
              "      <th>10</th>\n",
              "      <td>2011</td>\n",
              "      <td>9579</td>\n",
              "    </tr>\n",
              "    <tr>\n",
              "      <th>11</th>\n",
              "      <td>2012</td>\n",
              "      <td>30324</td>\n",
              "    </tr>\n",
              "    <tr>\n",
              "      <th>12</th>\n",
              "      <td>2013</td>\n",
              "      <td>93205</td>\n",
              "    </tr>\n",
              "    <tr>\n",
              "      <th>13</th>\n",
              "      <td>2014</td>\n",
              "      <td>55014</td>\n",
              "    </tr>\n",
              "  </tbody>\n",
              "</table>\n",
              "</div>"
            ],
            "text/plain": [
              "    Year  Number_Of_Reviews\n",
              "0   2001                  1\n",
              "1   2002                  1\n",
              "2   2003                  2\n",
              "3   2004                 44\n",
              "4   2005                130\n",
              "5   2006                240\n",
              "6   2007                388\n",
              "7   2008                677\n",
              "8   2009               1307\n",
              "9   2010               3427\n",
              "10  2011               9579\n",
              "11  2012              30324\n",
              "12  2013              93205\n",
              "13  2014              55014"
            ]
          },
          "metadata": {
            "tags": []
          },
          "execution_count": 435
        }
      ]
    },
    {
      "cell_type": "code",
      "metadata": {
        "colab": {
          "base_uri": "https://localhost:8080/",
          "height": 310
        },
        "id": "aa3GCQp1Kkac",
        "outputId": "e5fba74b-c500-4514-d875-631af34a8869"
      },
      "source": [
        "Yearly.plot(x=\"Year\",y=\"Number_Of_Reviews\",kind=\"bar\",title=\"NUMBER OF REVIEWS OVER THE YEARS\",color=\"purple\")\n",
        "plt.show()"
      ],
      "execution_count": 458,
      "outputs": [
        {
          "output_type": "display_data",
          "data": {
            "image/png": "[encoded data removed]",
            "text/plain": [
              "<Figure size 432x288 with 1 Axes>"
            ]
          },
          "metadata": {
            "tags": [],
            "needs_background": "light"
          }
        }
      ]
    },
    {
      "cell_type": "code",
      "metadata": {
        "id": "UadnU_VZKkac"
      },
      "source": [
        "Monthly=products.groupby(['Month'])['asin'].count().reset_index()"
      ],
      "execution_count": 438,
      "outputs": []
    },
    {
      "cell_type": "code",
      "metadata": {
        "id": "EXO-jpbQKkad"
      },
      "source": [
        "# Replacing digits of 'Month' column in 'Monthly' dataframe with words using 'Calendar' library\n",
        "Monthly['Month'] = Monthly['Month'].apply(lambda x: calendar.month_name[x])\n",
        "Monthly=Monthly.rename(columns={'asin':'Number_of_Reviews'})"
      ],
      "execution_count": 439,
      "outputs": []
    },
    {
      "cell_type": "code",
      "metadata": {
        "colab": {
          "base_uri": "https://localhost:8080/",
          "height": 402
        },
        "id": "8sZ8FS7YKkad",
        "outputId": "48de98a8-215d-4d18-daa3-0d4462aee24b"
      },
      "source": [
        "Monthly"
      ],
      "execution_count": 441,
      "outputs": [
        {
          "output_type": "execute_result",
          "data": {
            "text/html": [
              "<div>\n",
              "<style scoped>\n",
              "    .dataframe tbody tr th:only-of-type {\n",
              "        vertical-align: middle;\n",
              "    }\n",
              "\n",
              "    .dataframe tbody tr th {\n",
              "        vertical-align: top;\n",
              "    }\n",
              "\n",
              "    .dataframe thead th {\n",
              "        text-align: right;\n",
              "    }\n",
              "</style>\n",
              "<table border=\"1\" class=\"dataframe\">\n",
              "  <thead>\n",
              "    <tr style=\"text-align: right;\">\n",
              "      <th></th>\n",
              "      <th>Month</th>\n",
              "      <th>Number_of_Reviews</th>\n",
              "    </tr>\n",
              "  </thead>\n",
              "  <tbody>\n",
              "    <tr>\n",
              "      <th>0</th>\n",
              "      <td>January</td>\n",
              "      <td>21132</td>\n",
              "    </tr>\n",
              "    <tr>\n",
              "      <th>1</th>\n",
              "      <td>February</td>\n",
              "      <td>17274</td>\n",
              "    </tr>\n",
              "    <tr>\n",
              "      <th>2</th>\n",
              "      <td>March</td>\n",
              "      <td>17845</td>\n",
              "    </tr>\n",
              "    <tr>\n",
              "      <th>3</th>\n",
              "      <td>April</td>\n",
              "      <td>16821</td>\n",
              "    </tr>\n",
              "    <tr>\n",
              "      <th>4</th>\n",
              "      <td>May</td>\n",
              "      <td>17364</td>\n",
              "    </tr>\n",
              "    <tr>\n",
              "      <th>5</th>\n",
              "      <td>June</td>\n",
              "      <td>17439</td>\n",
              "    </tr>\n",
              "    <tr>\n",
              "      <th>6</th>\n",
              "      <td>July</td>\n",
              "      <td>18305</td>\n",
              "    </tr>\n",
              "    <tr>\n",
              "      <th>7</th>\n",
              "      <td>August</td>\n",
              "      <td>11504</td>\n",
              "    </tr>\n",
              "    <tr>\n",
              "      <th>8</th>\n",
              "      <td>September</td>\n",
              "      <td>9951</td>\n",
              "    </tr>\n",
              "    <tr>\n",
              "      <th>9</th>\n",
              "      <td>October</td>\n",
              "      <td>12227</td>\n",
              "    </tr>\n",
              "    <tr>\n",
              "      <th>10</th>\n",
              "      <td>November</td>\n",
              "      <td>14495</td>\n",
              "    </tr>\n",
              "    <tr>\n",
              "      <th>11</th>\n",
              "      <td>December</td>\n",
              "      <td>19982</td>\n",
              "    </tr>\n",
              "  </tbody>\n",
              "</table>\n",
              "</div>"
            ],
            "text/plain": [
              "        Month  Number_of_Reviews\n",
              "0     January              21132\n",
              "1    February              17274\n",
              "2       March              17845\n",
              "3       April              16821\n",
              "4         May              17364\n",
              "5        June              17439\n",
              "6        July              18305\n",
              "7      August              11504\n",
              "8   September               9951\n",
              "9     October              12227\n",
              "10   November              14495\n",
              "11   December              19982"
            ]
          },
          "metadata": {
            "tags": []
          },
          "execution_count": 441
        }
      ]
    },
    {
      "cell_type": "code",
      "metadata": {
        "colab": {
          "base_uri": "https://localhost:8080/",
          "height": 337
        },
        "id": "VU7w9ob7Kkae",
        "outputId": "73693625-0aee-4ec2-c310-48a495ac4309"
      },
      "source": [
        "Monthly.plot(x=\"Month\",y=\"Number_of_Reviews\",kind=\"bar\",title=\"NUMBER OF REVIEWS OVER THE MONTH\",color=\"g\")\n",
        "plt.show()"
      ],
      "execution_count": 442,
      "outputs": [
        {
          "output_type": "display_data",
          "data": {
            "image/png": "[encoded data removed]",
            "text/plain": [
              "<Figure size 432x288 with 1 Axes>"
            ]
          },
          "metadata": {
            "tags": [],
            "needs_background": "light"
          }
        }
      ]
    },
    {
      "cell_type": "code",
      "metadata": {
        "id": "ISLeddjyKkae"
      },
      "source": [
        "AvgRatingProd=products.groupby('asin')['overall'].mean().reset_index()"
      ],
      "execution_count": 444,
      "outputs": []
    },
    {
      "cell_type": "code",
      "metadata": {
        "id": "i3i_WbVbKkae"
      },
      "source": [
        "result_AvgRatingProd=AvgRatingProd.groupby(pd.cut(AvgRatingProd.overall,np.arange(0, 5.1, 1))).count()\n",
        "result_AvgRatingProd=result_AvgRatingProd.rename(columns={'overall':'Count'})\n",
        "result_AvgRatingProd=result_AvgRatingProd.reset_index()"
      ],
      "execution_count": 445,
      "outputs": []
    },
    {
      "cell_type": "code",
      "metadata": {
        "colab": {
          "base_uri": "https://localhost:8080/",
          "height": 195
        },
        "id": "-fvY-Y93Kkae",
        "outputId": "be5696e3-646d-4c49-bdf1-361f5a43f63e"
      },
      "source": [
        "result_AvgRatingProd[['overall','Count']]"
      ],
      "execution_count": 446,
      "outputs": [
        {
          "output_type": "execute_result",
          "data": {
            "text/html": [
              "<div>\n",
              "<style scoped>\n",
              "    .dataframe tbody tr th:only-of-type {\n",
              "        vertical-align: middle;\n",
              "    }\n",
              "\n",
              "    .dataframe tbody tr th {\n",
              "        vertical-align: top;\n",
              "    }\n",
              "\n",
              "    .dataframe thead th {\n",
              "        text-align: right;\n",
              "    }\n",
              "</style>\n",
              "<table border=\"1\" class=\"dataframe\">\n",
              "  <thead>\n",
              "    <tr style=\"text-align: right;\">\n",
              "      <th></th>\n",
              "      <th>overall</th>\n",
              "      <th>Count</th>\n",
              "    </tr>\n",
              "  </thead>\n",
              "  <tbody>\n",
              "    <tr>\n",
              "      <th>0</th>\n",
              "      <td>(0.0, 1.0]</td>\n",
              "      <td>1</td>\n",
              "    </tr>\n",
              "    <tr>\n",
              "      <th>1</th>\n",
              "      <td>(1.0, 2.0]</td>\n",
              "      <td>31</td>\n",
              "    </tr>\n",
              "    <tr>\n",
              "      <th>2</th>\n",
              "      <td>(2.0, 3.0]</td>\n",
              "      <td>495</td>\n",
              "    </tr>\n",
              "    <tr>\n",
              "      <th>3</th>\n",
              "      <td>(3.0, 4.0]</td>\n",
              "      <td>3892</td>\n",
              "    </tr>\n",
              "    <tr>\n",
              "      <th>4</th>\n",
              "      <td>(4.0, 5.0]</td>\n",
              "      <td>6010</td>\n",
              "    </tr>\n",
              "  </tbody>\n",
              "</table>\n",
              "</div>"
            ],
            "text/plain": [
              "      overall  Count\n",
              "0  (0.0, 1.0]      1\n",
              "1  (1.0, 2.0]     31\n",
              "2  (2.0, 3.0]    495\n",
              "3  (3.0, 4.0]   3892\n",
              "4  (4.0, 5.0]   6010"
            ]
          },
          "metadata": {
            "tags": []
          },
          "execution_count": 446
        }
      ]
    },
    {
      "cell_type": "code",
      "metadata": {
        "colab": {
          "base_uri": "https://localhost:8080/",
          "height": 328
        },
        "id": "3ornPwSQKkaf",
        "outputId": "65ade0b6-c5f6-46c6-ef07-a32609d9146c"
      },
      "source": [
        "result_AvgRatingProd.plot(x=\"overall\",y=\"Count\",kind=\"bar\",title=\"Distribution of Average Rating of Product\",color='pink')\n",
        "plt.show()"
      ],
      "execution_count": 457,
      "outputs": [
        {
          "output_type": "display_data",
          "data": {
            "image/png": "[encoded data removed]",
            "text/plain": [
              "<Figure size 432x288 with 1 Axes>"
            ]
          },
          "metadata": {
            "tags": [],
            "needs_background": "light"
          }
        }
      ]
    },
    {
      "cell_type": "code",
      "metadata": {
        "colab": {
          "base_uri": "https://localhost:8080/"
        },
        "id": "QZnvbv7EKkaf",
        "outputId": "d4c246b6-a34f-4edf-8cbe-1c074eccdb54"
      },
      "source": [
        "# Print number of unique Cell Phone and Accessories products in the dataset\n",
        "print('Number of unique Cell Phone and Accessories products: {}'.format(len(products['asin'].unique())))"
      ],
      "execution_count": 450,
      "outputs": [
        {
          "output_type": "stream",
          "text": [
            "Number of unique Cell Phone and Accessories products: 10429\n"
          ],
          "name": "stdout"
        }
      ]
    },
    {
      "cell_type": "code",
      "metadata": {
        "colab": {
          "base_uri": "https://localhost:8080/",
          "height": 678
        },
        "id": "-sPLBudGKkag",
        "outputId": "e28dd377-e5fc-41ba-b418-ab86f32e3417"
      },
      "source": [
        "# How many unique products in each year?\n",
        "unique_prod = products.groupby('Year')['asin'].nunique()\n",
        "\n",
        "# Plot unique product numbers in each year\n",
        "plt.figure(figsize = (10,6))\n",
        "unique_prod.plot(kind='bar', color = 'b', rot =0)\n",
        "plt.title('Unique Products in Each Year', color = 'black', size = 14)\n",
        "plt.xlabel('Year')\n",
        "plt.ylabel('Unique No. of Products')\n",
        "plt.show()\n",
        "\n",
        "# Print unique product numbers in each year\n",
        "print(unique_prod)"
      ],
      "execution_count": 456,
      "outputs": [
        {
          "output_type": "display_data",
          "data": {
            "image/png": "[encoded data removed]",
            "text/plain": [
              "<Figure size 720x432 with 1 Axes>"
            ]
          },
          "metadata": {
            "tags": [],
            "needs_background": "light"
          }
        },
        {
          "output_type": "stream",
          "text": [
            "Year\n",
            "2001       1\n",
            "2002       1\n",
            "2003       1\n",
            "2004      15\n",
            "2005      34\n",
            "2006      72\n",
            "2007     128\n",
            "2008     214\n",
            "2009     388\n",
            "2010     911\n",
            "2011    2243\n",
            "2012    5380\n",
            "2013    8907\n",
            "2014    7756\n",
            "Name: asin, dtype: int64\n"
          ],
          "name": "stdout"
        }
      ]
    },
    {
      "cell_type": "code",
      "metadata": {
        "colab": {
          "base_uri": "https://localhost:8080/",
          "height": 678
        },
        "id": "umF3pSvHnhI5",
        "outputId": "9f30a0a1-c57c-4cfa-8239-adfd355c5adf"
      },
      "source": [
        "# How many unique reviewers in each year?\n",
        "unique_rev = products.groupby('Year')['reviewerID'].nunique()\n",
        "\n",
        "# Plot unique product numbers in each year\n",
        "plt.figure(figsize = (10,6))\n",
        "unique_prod.plot(kind='bar', color = 'orange', rot =0)\n",
        "plt.title('Unique Reviewers in Each Year', color = 'black', size = 14)\n",
        "plt.xlabel('Year')\n",
        "plt.ylabel('Unique No. of Reviewers')\n",
        "plt.show()\n",
        "\n",
        "# Print unique product numbers in each year\n",
        "print(unique_rev)"
      ],
      "execution_count": 455,
      "outputs": [
        {
          "output_type": "display_data",
          "data": {
            "image/png": "[encoded data removed]",
            "text/plain": [
              "<Figure size 720x432 with 1 Axes>"
            ]
          },
          "metadata": {
            "tags": [],
            "needs_background": "light"
          }
        },
        {
          "output_type": "stream",
          "text": [
            "Year\n",
            "2001        1\n",
            "2002        1\n",
            "2003        2\n",
            "2004       37\n",
            "2005      102\n",
            "2006      182\n",
            "2007      318\n",
            "2008      528\n",
            "2009      950\n",
            "2010     2208\n",
            "2011     5163\n",
            "2012    11776\n",
            "2013    22761\n",
            "2014    16476\n",
            "Name: reviewerID, dtype: int64\n"
          ],
          "name": "stdout"
        }
      ]
    },
    {
      "cell_type": "code",
      "metadata": {
        "id": "czuu6vlgKkah"
      },
      "source": [
        ""
      ],
      "execution_count": null,
      "outputs": []
    }
  ]
}