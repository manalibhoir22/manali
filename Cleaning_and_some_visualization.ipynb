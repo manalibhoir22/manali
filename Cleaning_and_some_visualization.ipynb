{
  "nbformat": 4,
  "nbformat_minor": 0,
  "metadata": {
    "kernelspec": {
      "display_name": "Python 3",
      "language": "python",
      "name": "python3"
    },
    "language_info": {
      "codemirror_mode": {
        "name": "ipython",
        "version": 3
      },
      "file_extension": ".py",
      "mimetype": "text/x-python",
      "name": "python",
      "nbconvert_exporter": "python",
      "pygments_lexer": "ipython3",
      "version": "3.8.5"
    },
    "colab": {
      "name": "Cleaning and some visualization.ipynb",
      "provenance": [],
      "collapsed_sections": [],
      "toc_visible": true,
      "include_colab_link": true
    }
  },
  "cells": [
    {
      "cell_type": "markdown",
      "metadata": {
        "id": "view-in-github",
        "colab_type": "text"
      },
      "source": [
        "<a href=\"https://colab.research.google.com/github/manalibhoir22/manali/blob/master/Cleaning_and_some_visualization.ipynb\" target=\"_parent\"><img src=\"https://colab.research.google.com/assets/colab-badge.svg\" alt=\"Open In Colab\"/></a>"
      ]
    },
    {
      "cell_type": "markdown",
      "metadata": {
        "id": "zgFVkpKdT4Ui"
      },
      "source": [
        "# Load the data"
      ]
    },
    {
      "cell_type": "code",
      "metadata": {
        "colab": {
          "base_uri": "https://localhost:8080/",
          "height": 330
        },
        "id": "LmY8lbuuT4Uu",
        "outputId": "25f0dbe5-b40f-495c-98ff-e3fd972e3aaa"
      },
      "source": [
        "import numpy as np\n",
        "import pandas as pd\n",
        "df = pd.read_excel('data.xlsx')\n",
        "df.head()"
      ],
      "execution_count": 4,
      "outputs": [
        {
          "output_type": "execute_result",
          "data": {
            "text/html": [
              "<div>\n",
              "<style scoped>\n",
              "    .dataframe tbody tr th:only-of-type {\n",
              "        vertical-align: middle;\n",
              "    }\n",
              "\n",
              "    .dataframe tbody tr th {\n",
              "        vertical-align: top;\n",
              "    }\n",
              "\n",
              "    .dataframe thead th {\n",
              "        text-align: right;\n",
              "    }\n",
              "</style>\n",
              "<table border=\"1\" class=\"dataframe\">\n",
              "  <thead>\n",
              "    <tr style=\"text-align: right;\">\n",
              "      <th></th>\n",
              "      <th>Unnamed: 0</th>\n",
              "      <th>reviewerID</th>\n",
              "      <th>asin</th>\n",
              "      <th>reviewerName</th>\n",
              "      <th>helpful</th>\n",
              "      <th>reviewText</th>\n",
              "      <th>overall</th>\n",
              "      <th>summary</th>\n",
              "      <th>unixReviewTime</th>\n",
              "      <th>reviewTime</th>\n",
              "    </tr>\n",
              "  </thead>\n",
              "  <tbody>\n",
              "    <tr>\n",
              "      <th>0</th>\n",
              "      <td>1</td>\n",
              "      <td>A30TL5EWN6DFXT</td>\n",
              "      <td>120401325X</td>\n",
              "      <td>christina</td>\n",
              "      <td>[0, 0]</td>\n",
              "      <td>They look good and stick good! I just don't li...</td>\n",
              "      <td>4</td>\n",
              "      <td>Looks Good</td>\n",
              "      <td>1400630400</td>\n",
              "      <td>05 21, 2014</td>\n",
              "    </tr>\n",
              "    <tr>\n",
              "      <th>1</th>\n",
              "      <td>2</td>\n",
              "      <td>ASY55RVNIL0UD</td>\n",
              "      <td>120401325X</td>\n",
              "      <td>emily l.</td>\n",
              "      <td>[0, 0]</td>\n",
              "      <td>These stickers work like the review says they ...</td>\n",
              "      <td>5</td>\n",
              "      <td>Really great product.</td>\n",
              "      <td>1389657600</td>\n",
              "      <td>01 14, 2014</td>\n",
              "    </tr>\n",
              "    <tr>\n",
              "      <th>2</th>\n",
              "      <td>3</td>\n",
              "      <td>A2TMXE2AFO7ONB</td>\n",
              "      <td>120401325X</td>\n",
              "      <td>Erica</td>\n",
              "      <td>[0, 0]</td>\n",
              "      <td>These are awesome and make my phone look so st...</td>\n",
              "      <td>5</td>\n",
              "      <td>LOVE LOVE LOVE</td>\n",
              "      <td>1403740800</td>\n",
              "      <td>06 26, 2014</td>\n",
              "    </tr>\n",
              "    <tr>\n",
              "      <th>3</th>\n",
              "      <td>4</td>\n",
              "      <td>AWJ0WZQYMYFQ4</td>\n",
              "      <td>120401325X</td>\n",
              "      <td>JM</td>\n",
              "      <td>[4, 4]</td>\n",
              "      <td>Item arrived in great time and was in perfect ...</td>\n",
              "      <td>4</td>\n",
              "      <td>Cute!</td>\n",
              "      <td>1382313600</td>\n",
              "      <td>10 21, 2013</td>\n",
              "    </tr>\n",
              "    <tr>\n",
              "      <th>4</th>\n",
              "      <td>5</td>\n",
              "      <td>ATX7CZYFXI1KW</td>\n",
              "      <td>120401325X</td>\n",
              "      <td>patrice m rogoza</td>\n",
              "      <td>[2, 3]</td>\n",
              "      <td>awesome! stays on, and looks great. can be use...</td>\n",
              "      <td>5</td>\n",
              "      <td>leopard home button sticker for iphone 4s</td>\n",
              "      <td>1359849600</td>\n",
              "      <td>02 3, 2013</td>\n",
              "    </tr>\n",
              "  </tbody>\n",
              "</table>\n",
              "</div>"
            ],
            "text/plain": [
              "   Unnamed: 0      reviewerID  ... unixReviewTime   reviewTime\n",
              "0           1  A30TL5EWN6DFXT  ...     1400630400  05 21, 2014\n",
              "1           2   ASY55RVNIL0UD  ...     1389657600  01 14, 2014\n",
              "2           3  A2TMXE2AFO7ONB  ...     1403740800  06 26, 2014\n",
              "3           4   AWJ0WZQYMYFQ4  ...     1382313600  10 21, 2013\n",
              "4           5   ATX7CZYFXI1KW  ...     1359849600   02 3, 2013\n",
              "\n",
              "[5 rows x 10 columns]"
            ]
          },
          "metadata": {
            "tags": []
          },
          "execution_count": 4
        }
      ]
    },
    {
      "cell_type": "markdown",
      "metadata": {
        "id": "lo4duFHLT4Ux"
      },
      "source": [
        "# Dropping unnecessary columns"
      ]
    },
    {
      "cell_type": "code",
      "metadata": {
        "id": "DPjk7keyT4Uy",
        "colab": {
          "base_uri": "https://localhost:8080/",
          "height": 195
        },
        "outputId": "7d8ea50f-b4e0-458c-a9d1-6423dcc3e7c0"
      },
      "source": [
        "df.drop(df.columns[[3]],axis=1,inplace=True)\n",
        "df.head()"
      ],
      "execution_count": 6,
      "outputs": [
        {
          "output_type": "execute_result",
          "data": {
            "text/html": [
              "<div>\n",
              "<style scoped>\n",
              "    .dataframe tbody tr th:only-of-type {\n",
              "        vertical-align: middle;\n",
              "    }\n",
              "\n",
              "    .dataframe tbody tr th {\n",
              "        vertical-align: top;\n",
              "    }\n",
              "\n",
              "    .dataframe thead th {\n",
              "        text-align: right;\n",
              "    }\n",
              "</style>\n",
              "<table border=\"1\" class=\"dataframe\">\n",
              "  <thead>\n",
              "    <tr style=\"text-align: right;\">\n",
              "      <th></th>\n",
              "      <th>asin</th>\n",
              "      <th>reviewText</th>\n",
              "      <th>overall</th>\n",
              "    </tr>\n",
              "  </thead>\n",
              "  <tbody>\n",
              "    <tr>\n",
              "      <th>0</th>\n",
              "      <td>120401325X</td>\n",
              "      <td>They look good and stick good! I just don't li...</td>\n",
              "      <td>4</td>\n",
              "    </tr>\n",
              "    <tr>\n",
              "      <th>1</th>\n",
              "      <td>120401325X</td>\n",
              "      <td>These stickers work like the review says they ...</td>\n",
              "      <td>5</td>\n",
              "    </tr>\n",
              "    <tr>\n",
              "      <th>2</th>\n",
              "      <td>120401325X</td>\n",
              "      <td>These are awesome and make my phone look so st...</td>\n",
              "      <td>5</td>\n",
              "    </tr>\n",
              "    <tr>\n",
              "      <th>3</th>\n",
              "      <td>120401325X</td>\n",
              "      <td>Item arrived in great time and was in perfect ...</td>\n",
              "      <td>4</td>\n",
              "    </tr>\n",
              "    <tr>\n",
              "      <th>4</th>\n",
              "      <td>120401325X</td>\n",
              "      <td>awesome! stays on, and looks great. can be use...</td>\n",
              "      <td>5</td>\n",
              "    </tr>\n",
              "  </tbody>\n",
              "</table>\n",
              "</div>"
            ],
            "text/plain": [
              "         asin                                         reviewText  overall\n",
              "0  120401325X  They look good and stick good! I just don't li...        4\n",
              "1  120401325X  These stickers work like the review says they ...        5\n",
              "2  120401325X  These are awesome and make my phone look so st...        5\n",
              "3  120401325X  Item arrived in great time and was in perfect ...        4\n",
              "4  120401325X  awesome! stays on, and looks great. can be use...        5"
            ]
          },
          "metadata": {
            "tags": []
          },
          "execution_count": 6
        }
      ]
    },
    {
      "cell_type": "markdown",
      "metadata": {
        "id": "Gx9vw9Q0T4Uz"
      },
      "source": [
        "# Remove Blank Records and null values"
      ]
    },
    {
      "cell_type": "code",
      "metadata": {
        "id": "479htTtrT4U0",
        "colab": {
          "base_uri": "https://localhost:8080/"
        },
        "outputId": "0921a013-636e-45eb-e19f-7d7ca710961d"
      },
      "source": [
        "df.isnull().sum()"
      ],
      "execution_count": 7,
      "outputs": [
        {
          "output_type": "execute_result",
          "data": {
            "text/plain": [
              "asin           0\n",
              "reviewText    99\n",
              "overall        0\n",
              "dtype: int64"
            ]
          },
          "metadata": {
            "tags": []
          },
          "execution_count": 7
        }
      ]
    },
    {
      "cell_type": "code",
      "metadata": {
        "id": "sVJYo79yT4U1",
        "colab": {
          "base_uri": "https://localhost:8080/"
        },
        "outputId": "3af2bb25-391e-4772-e1ff-607ba6e13602"
      },
      "source": [
        "# Check for whitespace strings (it's OK if there aren't any!):\n",
        "blanks = []  # start with an empty list\n",
        "\n",
        "for i,asin,rv,ov in df.itertuples():  # iterate over the DataFrame\n",
        "    if type(rv)==str:            # avoid NaN values\n",
        "        if rv.isspace():         # test 'review' for whitespace\n",
        "            blanks.append(i)     # add matching index numbers to the list\n",
        "        \n",
        "len(blanks)"
      ],
      "execution_count": 8,
      "outputs": [
        {
          "output_type": "execute_result",
          "data": {
            "text/plain": [
              "0"
            ]
          },
          "metadata": {
            "tags": []
          },
          "execution_count": 8
        }
      ]
    },
    {
      "cell_type": "code",
      "metadata": {
        "id": "Ueer7qOoT4U2"
      },
      "source": [
        "df.dropna(inplace=True)"
      ],
      "execution_count": 9,
      "outputs": []
    },
    {
      "cell_type": "markdown",
      "metadata": {
        "id": "4vhYl1t9T4U2"
      },
      "source": [
        "#### Convert reviewText to the string "
      ]
    },
    {
      "cell_type": "code",
      "metadata": {
        "id": "HGJq7_QBT4U3",
        "colab": {
          "base_uri": "https://localhost:8080/",
          "height": 195
        },
        "outputId": "fea590db-710b-4677-83bf-10bd1538ba97"
      },
      "source": [
        "df['reviewText']=df['reviewText'].apply(str)\n",
        "df.head()"
      ],
      "execution_count": 10,
      "outputs": [
        {
          "output_type": "execute_result",
          "data": {
            "text/html": [
              "<div>\n",
              "<style scoped>\n",
              "    .dataframe tbody tr th:only-of-type {\n",
              "        vertical-align: middle;\n",
              "    }\n",
              "\n",
              "    .dataframe tbody tr th {\n",
              "        vertical-align: top;\n",
              "    }\n",
              "\n",
              "    .dataframe thead th {\n",
              "        text-align: right;\n",
              "    }\n",
              "</style>\n",
              "<table border=\"1\" class=\"dataframe\">\n",
              "  <thead>\n",
              "    <tr style=\"text-align: right;\">\n",
              "      <th></th>\n",
              "      <th>asin</th>\n",
              "      <th>reviewText</th>\n",
              "      <th>overall</th>\n",
              "    </tr>\n",
              "  </thead>\n",
              "  <tbody>\n",
              "    <tr>\n",
              "      <th>0</th>\n",
              "      <td>120401325X</td>\n",
              "      <td>They look good and stick good! I just don't li...</td>\n",
              "      <td>4</td>\n",
              "    </tr>\n",
              "    <tr>\n",
              "      <th>1</th>\n",
              "      <td>120401325X</td>\n",
              "      <td>These stickers work like the review says they ...</td>\n",
              "      <td>5</td>\n",
              "    </tr>\n",
              "    <tr>\n",
              "      <th>2</th>\n",
              "      <td>120401325X</td>\n",
              "      <td>These are awesome and make my phone look so st...</td>\n",
              "      <td>5</td>\n",
              "    </tr>\n",
              "    <tr>\n",
              "      <th>3</th>\n",
              "      <td>120401325X</td>\n",
              "      <td>Item arrived in great time and was in perfect ...</td>\n",
              "      <td>4</td>\n",
              "    </tr>\n",
              "    <tr>\n",
              "      <th>4</th>\n",
              "      <td>120401325X</td>\n",
              "      <td>awesome! stays on, and looks great. can be use...</td>\n",
              "      <td>5</td>\n",
              "    </tr>\n",
              "  </tbody>\n",
              "</table>\n",
              "</div>"
            ],
            "text/plain": [
              "         asin                                         reviewText  overall\n",
              "0  120401325X  They look good and stick good! I just don't li...        4\n",
              "1  120401325X  These stickers work like the review says they ...        5\n",
              "2  120401325X  These are awesome and make my phone look so st...        5\n",
              "3  120401325X  Item arrived in great time and was in perfect ...        4\n",
              "4  120401325X  awesome! stays on, and looks great. can be use...        5"
            ]
          },
          "metadata": {
            "tags": []
          },
          "execution_count": 10
        }
      ]
    },
    {
      "cell_type": "code",
      "metadata": {
        "id": "3Z5fBbCiT4U3",
        "colab": {
          "base_uri": "https://localhost:8080/",
          "height": 35
        },
        "outputId": "a2421ecd-4ee3-4d1b-8910-98d9aa1522ea"
      },
      "source": [
        "(df['reviewText'])[194434]"
      ],
      "execution_count": 11,
      "outputs": [
        {
          "output_type": "execute_result",
          "data": {
            "application/vnd.google.colaboratory.intrinsic+json": {
              "type": "string"
            },
            "text/plain": [
              "'Works great just like my original one. I really need extras of these for the car and house so love this and the price!'"
            ]
          },
          "metadata": {
            "tags": []
          },
          "execution_count": 11
        }
      ]
    },
    {
      "cell_type": "code",
      "metadata": {
        "id": "dkD9Hci0T4U3",
        "colab": {
          "base_uri": "https://localhost:8080/"
        },
        "outputId": "c03bdd83-1d94-4a2b-ca44-cfe75ed2e0c0"
      },
      "source": [
        "len(df)"
      ],
      "execution_count": 12,
      "outputs": [
        {
          "output_type": "execute_result",
          "data": {
            "text/plain": [
              "194340"
            ]
          },
          "metadata": {
            "tags": []
          },
          "execution_count": 12
        }
      ]
    },
    {
      "cell_type": "markdown",
      "metadata": {
        "id": "XsykMNohT4U4"
      },
      "source": [
        "### Cleaning the data \n",
        "Remove ‘\\n’\n",
        "\n",
        "Remove emojis if any\n",
        "\n",
        "Remove punctuation marks\n",
        "\n",
        "Remove extra spaces\n",
        "\n",
        "Remove stopwords — Stopwords are those words which occur very frequently but are not required for analysis as they provide no insights. Removing them will reduce computational load. They include words like I, me, myself, that, him, etc."
      ]
    },
    {
      "cell_type": "code",
      "metadata": {
        "id": "0kY6QZaFT4U4"
      },
      "source": [
        "import string\n",
        "import nltk \n",
        "from nltk.corpus import stopwords\n",
        "from nltk import PorterStemmer\n",
        "import re\n",
        "from nltk.tokenize import word_tokenize"
      ],
      "execution_count": 13,
      "outputs": []
    },
    {
      "cell_type": "code",
      "metadata": {
        "id": "zK0v1oibT4U5"
      },
      "source": [
        "def deEmojify(text):\n",
        "    regrex_pattern = re.compile(pattern = \"[\"\n",
        "        u\"\\U0001F600-\\U0001F64F\"  # emoticons\n",
        "        u\"\\U0001F300-\\U0001F5FF\"  # symbols & pictographs\n",
        "        u\"\\U0001F680-\\U0001F6FF\"  # transport & map symbols\n",
        "        u\"\\U0001F1E0-\\U0001F1FF\"  # flags (iOS)\n",
        "                           \"]+\", flags = re.UNICODE)\n",
        "    return regrex_pattern.sub(r'',text)"
      ],
      "execution_count": 14,
      "outputs": []
    },
    {
      "cell_type": "code",
      "metadata": {
        "id": "BRgqFAC9T4U5"
      },
      "source": [
        "stop_words = ['in','of','at','a','the','and','is','on','an','they','was','it','i','them','to','these','this','for']"
      ],
      "execution_count": 15,
      "outputs": []
    },
    {
      "cell_type": "code",
      "metadata": {
        "id": "adAoj6U6T4U5"
      },
      "source": [
        "def decontracted(phrase):\n",
        "    phrase=re.sub(r\"won't\",\"will not\",phrase)\n",
        "    phrase=re.sub(r\"can't\",\"can not\",phrase)\n",
        "    phrase=re.sub(r\"n\\'t\",\" not\",phrase)\n",
        "    phrase=re.sub(r\"\\'re\",\" are\",phrase)\n",
        "    phrase=re.sub(r\"\\'s\",\" is\",phrase)\n",
        "    phrase=re.sub(r\"\\'d\",\" would\",phrase)\n",
        "    phrase=re.sub(r\"\\'ll\",\" will\",phrase)    \n",
        "    phrase=re.sub(r\"\\'t\",\" not\",phrase)\n",
        "    phrase=re.sub(r\"\\'ve\",\" have\",phrase)\n",
        "    phrase=re.sub(r\"\\'m\",\" am\",phrase)\n",
        "    return phrase"
      ],
      "execution_count": 16,
      "outputs": []
    },
    {
      "cell_type": "markdown",
      "metadata": {
        "id": "flr0iTaFT4U6"
      },
      "source": [
        "#### USING SNOWBALL"
      ]
    },
    {
      "cell_type": "code",
      "metadata": {
        "id": "gKXOo_V1T4U6"
      },
      "source": [
        "import nltk\n",
        "from nltk.stem.snowball import SnowballStemmer\n",
        "from nltk.stem import WordNetLemmatizer \n",
        "from nltk.corpus import wordnet\n",
        "\n",
        "##STEMMING USING SNOWBALL\n",
        "snow_stemmer = SnowballStemmer(language='english')\n",
        "\n",
        "#LEMMATIZATION\n",
        "lemmatizer = WordNetLemmatizer()"
      ],
      "execution_count": 17,
      "outputs": []
    },
    {
      "cell_type": "code",
      "metadata": {
        "id": "T32NfXATT4U7"
      },
      "source": [
        "lemmatizer = WordNetLemmatizer()\n",
        "wordnet_map = {\"N\":wordnet.NOUN, \"V\":wordnet.VERB, \"J\":wordnet.ADJ, \"R\":wordnet.ADV} \n",
        "# Pos tag, used Noun, Verb, Adjective and Adverb"
      ],
      "execution_count": null,
      "outputs": []
    },
    {
      "cell_type": "code",
      "metadata": {
        "id": "LgJD8Z4aT4U7"
      },
      "source": [
        "def lemmatize_words(text):\n",
        "    pos_tagged_text = nltk.pos_tag(text.split())\n",
        "    return \" \".join([lemmatizer.lemmatize(word, wordnet_map.get(pos[0], wordnet.NOUN)) for word, pos in pos_tagged_text])"
      ],
      "execution_count": null,
      "outputs": []
    },
    {
      "cell_type": "code",
      "metadata": {
        "id": "1H9JTPQST4U7"
      },
      "source": [
        "def clean_text(text):\n",
        "    \n",
        "    snow_stemmer = SnowballStemmer(language='english')\n",
        "    \n",
        "    text = decontracted(text)\n",
        "    \n",
        "    text = deEmojify(text) #remove Emojis\n",
        "    \n",
        "    text_cleaned = \"\".join([x for x in text if x not in string.punctuation]) #remove punctuation\n",
        "    \n",
        "    text_cleaned = re.sub(' +', ' ',text_cleaned) #remove extra spaces\n",
        "    \n",
        "    text_cleaned = text_cleaned.lower() #converting into lower case\n",
        "    \n",
        "    tokens = text_cleaned.split(\" \")\n",
        "    \n",
        "    tokens = [token for token in tokens if token not in stop_words] #taking only those words which are not stop words \n",
        "    \n",
        "    text_cleaned = \" \".join([snow_stemmer.stem(token) for token in tokens])\n",
        "    \n",
        "    text_cleaned = \" \".join([lemmatizer.lemmatize(token) for token in tokens])\n",
        "    \n",
        "    return text_cleaned"
      ],
      "execution_count": 20,
      "outputs": []
    },
    {
      "cell_type": "code",
      "metadata": {
        "id": "aTZvYxdDT4U8",
        "colab": {
          "base_uri": "https://localhost:8080/"
        },
        "outputId": "742d036f-46c2-40a8-932c-2bcb22967f93"
      },
      "source": [
        "import nltk\n",
        "nltk.download('wordnet')"
      ],
      "execution_count": 22,
      "outputs": [
        {
          "output_type": "stream",
          "text": [
            "[nltk_data] Downloading package wordnet to /root/nltk_data...\n",
            "[nltk_data]   Unzipping corpora/wordnet.zip.\n"
          ],
          "name": "stdout"
        },
        {
          "output_type": "execute_result",
          "data": {
            "text/plain": [
              "True"
            ]
          },
          "metadata": {
            "tags": []
          },
          "execution_count": 22
        }
      ]
    },
    {
      "cell_type": "markdown",
      "metadata": {
        "id": "ThvRFnhyT4U8"
      },
      "source": [
        "\n",
        "\n",
        "Apply this on reviews column"
      ]
    },
    {
      "cell_type": "code",
      "metadata": {
        "scrolled": true,
        "id": "dTzjNFIJT4U9",
        "colab": {
          "base_uri": "https://localhost:8080/",
          "height": 195
        },
        "outputId": "13e3574d-2507-4d28-a824-24d13e09059c"
      },
      "source": [
        "df['cleaned_reviews']=df['reviewText'].apply(lambda x:clean_text(x))\n",
        "df.head()"
      ],
      "execution_count": 23,
      "outputs": [
        {
          "output_type": "execute_result",
          "data": {
            "text/html": [
              "<div>\n",
              "<style scoped>\n",
              "    .dataframe tbody tr th:only-of-type {\n",
              "        vertical-align: middle;\n",
              "    }\n",
              "\n",
              "    .dataframe tbody tr th {\n",
              "        vertical-align: top;\n",
              "    }\n",
              "\n",
              "    .dataframe thead th {\n",
              "        text-align: right;\n",
              "    }\n",
              "</style>\n",
              "<table border=\"1\" class=\"dataframe\">\n",
              "  <thead>\n",
              "    <tr style=\"text-align: right;\">\n",
              "      <th></th>\n",
              "      <th>asin</th>\n",
              "      <th>reviewText</th>\n",
              "      <th>overall</th>\n",
              "      <th>cleaned_reviews</th>\n",
              "    </tr>\n",
              "  </thead>\n",
              "  <tbody>\n",
              "    <tr>\n",
              "      <th>0</th>\n",
              "      <td>120401325X</td>\n",
              "      <td>They look good and stick good! I just don't li...</td>\n",
              "      <td>4</td>\n",
              "      <td>look good stick good just do not like rounded ...</td>\n",
              "    </tr>\n",
              "    <tr>\n",
              "      <th>1</th>\n",
              "      <td>120401325X</td>\n",
              "      <td>These stickers work like the review says they ...</td>\n",
              "      <td>5</td>\n",
              "      <td>sticker work like review say do stick great st...</td>\n",
              "    </tr>\n",
              "    <tr>\n",
              "      <th>2</th>\n",
              "      <td>120401325X</td>\n",
              "      <td>These are awesome and make my phone look so st...</td>\n",
              "      <td>5</td>\n",
              "      <td>are awesome make my phone look so stylish have...</td>\n",
              "    </tr>\n",
              "    <tr>\n",
              "      <th>3</th>\n",
              "      <td>120401325X</td>\n",
              "      <td>Item arrived in great time and was in perfect ...</td>\n",
              "      <td>4</td>\n",
              "      <td>item arrived great time perfect condition howe...</td>\n",
              "    </tr>\n",
              "    <tr>\n",
              "      <th>4</th>\n",
              "      <td>120401325X</td>\n",
              "      <td>awesome! stays on, and looks great. can be use...</td>\n",
              "      <td>5</td>\n",
              "      <td>awesome stay look great can be used multiple a...</td>\n",
              "    </tr>\n",
              "  </tbody>\n",
              "</table>\n",
              "</div>"
            ],
            "text/plain": [
              "         asin  ...                                    cleaned_reviews\n",
              "0  120401325X  ...  look good stick good just do not like rounded ...\n",
              "1  120401325X  ...  sticker work like review say do stick great st...\n",
              "2  120401325X  ...  are awesome make my phone look so stylish have...\n",
              "3  120401325X  ...  item arrived great time perfect condition howe...\n",
              "4  120401325X  ...  awesome stay look great can be used multiple a...\n",
              "\n",
              "[5 rows x 4 columns]"
            ]
          },
          "metadata": {
            "tags": []
          },
          "execution_count": 23
        }
      ]
    },
    {
      "cell_type": "code",
      "metadata": {
        "id": "YQYHw8sST4VA",
        "colab": {
          "base_uri": "https://localhost:8080/",
          "height": 195
        },
        "outputId": "30a554b8-2e44-4a6c-dd37-717038fb9b93"
      },
      "source": [
        "def sentiment(n):\n",
        "    return 1 if n >= 4 else 0\n",
        "df['sentiment'] = df['overall'].apply(sentiment)\n",
        "df.head()"
      ],
      "execution_count": 27,
      "outputs": [
        {
          "output_type": "execute_result",
          "data": {
            "text/html": [
              "<div>\n",
              "<style scoped>\n",
              "    .dataframe tbody tr th:only-of-type {\n",
              "        vertical-align: middle;\n",
              "    }\n",
              "\n",
              "    .dataframe tbody tr th {\n",
              "        vertical-align: top;\n",
              "    }\n",
              "\n",
              "    .dataframe thead th {\n",
              "        text-align: right;\n",
              "    }\n",
              "</style>\n",
              "<table border=\"1\" class=\"dataframe\">\n",
              "  <thead>\n",
              "    <tr style=\"text-align: right;\">\n",
              "      <th></th>\n",
              "      <th>asin</th>\n",
              "      <th>reviewText</th>\n",
              "      <th>overall</th>\n",
              "      <th>cleaned_reviews</th>\n",
              "      <th>sentiment</th>\n",
              "    </tr>\n",
              "  </thead>\n",
              "  <tbody>\n",
              "    <tr>\n",
              "      <th>0</th>\n",
              "      <td>120401325X</td>\n",
              "      <td>They look good and stick good! I just don't li...</td>\n",
              "      <td>4</td>\n",
              "      <td>look good stick good just do not like rounded ...</td>\n",
              "      <td>1</td>\n",
              "    </tr>\n",
              "    <tr>\n",
              "      <th>1</th>\n",
              "      <td>120401325X</td>\n",
              "      <td>These stickers work like the review says they ...</td>\n",
              "      <td>5</td>\n",
              "      <td>sticker work like review say do stick great st...</td>\n",
              "      <td>1</td>\n",
              "    </tr>\n",
              "    <tr>\n",
              "      <th>2</th>\n",
              "      <td>120401325X</td>\n",
              "      <td>These are awesome and make my phone look so st...</td>\n",
              "      <td>5</td>\n",
              "      <td>are awesome make my phone look so stylish have...</td>\n",
              "      <td>1</td>\n",
              "    </tr>\n",
              "    <tr>\n",
              "      <th>3</th>\n",
              "      <td>120401325X</td>\n",
              "      <td>Item arrived in great time and was in perfect ...</td>\n",
              "      <td>4</td>\n",
              "      <td>item arrived great time perfect condition howe...</td>\n",
              "      <td>1</td>\n",
              "    </tr>\n",
              "    <tr>\n",
              "      <th>4</th>\n",
              "      <td>120401325X</td>\n",
              "      <td>awesome! stays on, and looks great. can be use...</td>\n",
              "      <td>5</td>\n",
              "      <td>awesome stay look great can be used multiple a...</td>\n",
              "      <td>1</td>\n",
              "    </tr>\n",
              "  </tbody>\n",
              "</table>\n",
              "</div>"
            ],
            "text/plain": [
              "         asin  ... sentiment\n",
              "0  120401325X  ...         1\n",
              "1  120401325X  ...         1\n",
              "2  120401325X  ...         1\n",
              "3  120401325X  ...         1\n",
              "4  120401325X  ...         1\n",
              "\n",
              "[5 rows x 5 columns]"
            ]
          },
          "metadata": {
            "tags": []
          },
          "execution_count": 27
        }
      ]
    },
    {
      "cell_type": "code",
      "metadata": {
        "id": "NfS5JKLgT4VB",
        "colab": {
          "base_uri": "https://localhost:8080/"
        },
        "outputId": "d474b6d9-ab0a-442a-87f1-f2cd76dfa9ea"
      },
      "source": [
        "df['sentiment'].value_counts()"
      ],
      "execution_count": 28,
      "outputs": [
        {
          "output_type": "execute_result",
          "data": {
            "text/plain": [
              "1    148576\n",
              "0     45764\n",
              "Name: sentiment, dtype: int64"
            ]
          },
          "metadata": {
            "tags": []
          },
          "execution_count": 28
        }
      ]
    },
    {
      "cell_type": "markdown",
      "metadata": {
        "id": "lOMT7UJ7T4VB"
      },
      "source": [
        "# Splitting into train and test"
      ]
    },
    {
      "cell_type": "code",
      "metadata": {
        "id": "DELyITElT4VC",
        "colab": {
          "base_uri": "https://localhost:8080/"
        },
        "outputId": "434469c7-12ab-4821-e692-e1279c64ee24"
      },
      "source": [
        "from sklearn.model_selection import train_test_split\n",
        "\n",
        "X = df['cleaned_reviews']  # this time we want to look at the text\n",
        "y = df['sentiment']\n",
        "\n",
        "X_train, X_test, y_train, y_test = train_test_split(X, y, test_size=0.33, random_state=42)\n",
        "print('Training Data Shape:', X_train.shape)\n",
        "print('Testing Data Shape: ', X_test.shape)"
      ],
      "execution_count": 29,
      "outputs": [
        {
          "output_type": "stream",
          "text": [
            "Training Data Shape: (130207,)\n",
            "Testing Data Shape:  (64133,)\n"
          ],
          "name": "stdout"
        }
      ]
    },
    {
      "cell_type": "markdown",
      "metadata": {
        "id": "eggt_xyvT4VF"
      },
      "source": [
        "# TRAIN DIFFERENT CLASSIFIERS"
      ]
    },
    {
      "cell_type": "code",
      "metadata": {
        "id": "Iwp09kLUT4VF"
      },
      "source": [
        "from sklearn.pipeline import Pipeline\n",
        "from sklearn.naive_bayes import MultinomialNB\n",
        "from sklearn.svm import LinearSVC\n",
        "from sklearn.linear_model import LogisticRegression\n",
        "from sklearn.feature_extraction.text import TfidfVectorizer\n",
        "from sklearn.feature_extraction.text import CountVectorizer\n",
        "\n",
        "\n",
        "\n",
        "## Modeling\n",
        "from sklearn.model_selection import cross_validate\n",
        "from sklearn.model_selection import train_test_split\n",
        "from sklearn.model_selection import StratifiedKFold\n",
        "from sklearn.model_selection import GridSearchCV\n",
        "from sklearn.model_selection import cross_val_predict\n",
        "from sklearn.model_selection import cross_val_score\n",
        "from sklearn.linear_model import LogisticRegression\n",
        "from sklearn.model_selection import learning_curve\n",
        "from sklearn.ensemble import ExtraTreesClassifier\n",
        "from sklearn.decomposition import TruncatedSVD\n",
        "from sklearn.feature_extraction.text import TfidfVectorizer, CountVectorizer, HashingVectorizer\n",
        "from sklearn.pipeline import Pipeline\n",
        "from sklearn.naive_bayes import MultinomialNB\n",
        "from sklearn.svm import SVC\n",
        "from sklearn import metrics\n",
        "from sklearn.metrics import classification_report\n",
        "from sklearn.metrics import confusion_matrix\n",
        "from  sklearn.metrics import precision_recall_fscore_support\n",
        "from sklearn.ensemble import RandomForestClassifier\n",
        "from sklearn.tree import DecisionTreeClassifier\n",
        "from sklearn.metrics import f1_score\n",
        "from sklearn.metrics import recall_score\n",
        "from gensim.models import Word2Vec\n",
        "from tqdm import tqdm\n",
        "import xgboost as xgb\n",
        "from xgboost import XGBClassifier\n",
        "from sklearn.dummy import DummyClassifier"
      ],
      "execution_count": 31,
      "outputs": []
    },
    {
      "cell_type": "markdown",
      "metadata": {
        "id": "UVpc5w9VT4VH"
      },
      "source": [
        "# USING TFIDF VECTORIZER"
      ]
    },
    {
      "cell_type": "code",
      "metadata": {
        "id": "tuuUBvGgT4VU"
      },
      "source": [
        "from sklearn.datasets import make_hastie_10_2\n",
        "from sklearn.ensemble import GradientBoostingClassifier"
      ],
      "execution_count": 34,
      "outputs": []
    },
    {
      "cell_type": "code",
      "metadata": {
        "id": "DcvKqEBCT4VU",
        "colab": {
          "base_uri": "https://localhost:8080/"
        },
        "outputId": "699063f1-605a-4787-8bbb-91748bb3e564"
      },
      "source": [
        "#XGB and TFIDF VECTORIZER:\n",
        "text_clf_xgb_tfidf = Pipeline([('xgb',TfidfVectorizer(binary=True,ngram_range=(1,2))),\n",
        "                    ('clf',XGBClassifier(learning_rate=0.3,n_estimators=2000)),\n",
        "])\n",
        "\n",
        "text_clf_xgb_tfidf.fit(X_train, y_train) \n",
        "predictions_xgb_tfidf = text_clf_xgb_tfidf.predict(X_test)\n",
        "print(f\"The Final accuracy using XGB and TFIDF vectorizer is : {metrics.accuracy_score(y_test,predictions_xgb_tfidf)}\")"
      ],
      "execution_count": 52,
      "outputs": [
        {
          "output_type": "stream",
          "text": [
            "The Final accuracy using XGB and TFIDF vectorizer is : 0.8793444872374596\n"
          ],
          "name": "stdout"
        }
      ]
    },
    {
      "cell_type": "code",
      "metadata": {
        "id": "Z1pmLN8bjxYF"
      },
      "source": [
        ""
      ],
      "execution_count": null,
      "outputs": []
    }
  ]
}