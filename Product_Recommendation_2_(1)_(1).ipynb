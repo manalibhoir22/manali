{
  "nbformat": 4,
  "nbformat_minor": 0,
  "metadata": {
    "kernelspec": {
      "display_name": "Python 3",
      "language": "python",
      "name": "python3"
    },
    "language_info": {
      "codemirror_mode": {
        "name": "ipython",
        "version": 3
      },
      "file_extension": ".py",
      "mimetype": "text/x-python",
      "name": "python",
      "nbconvert_exporter": "python",
      "pygments_lexer": "ipython3",
      "version": "3.8.3"
    },
    "colab": {
      "name": "Product_Recommendation_2 (1) (1).ipynb",
      "provenance": [],
      "include_colab_link": true
    }
  },
  "cells": [
    {
      "cell_type": "markdown",
      "metadata": {
        "id": "view-in-github",
        "colab_type": "text"
      },
      "source": [
        "<a href=\"https://colab.research.google.com/github/manalibhoir22/manali/blob/master/Product_Recommendation_2_(1)_(1).ipynb\" target=\"_parent\"><img src=\"https://colab.research.google.com/assets/colab-badge.svg\" alt=\"Open In Colab\"/></a>"
      ]
    },
    {
      "cell_type": "code",
      "metadata": {
        "id": "5MpcFUYQad92",
        "colab": {
          "base_uri": "https://localhost:8080/"
        },
        "outputId": "969bca21-4097-4513-dd99-f97affb4cfea"
      },
      "source": [
        "import pandas as pd\n",
        "import gzip\n",
        "import json\n",
        "import re\n",
        "import bs4\n",
        "import openpyxl\n",
        "import lxml\n",
        "%matplotlib inline\n",
        "import numpy as np\n",
        "import matplotlib.pyplot as plt\n",
        "import time\n",
        "import os\n",
        "import seaborn as sns\n",
        "from sklearn.externals import joblib\n",
        "from sklearn.model_selection import train_test_split\n",
        "import gzip"
      ],
      "execution_count": null,
      "outputs": [
        {
          "output_type": "stream",
          "text": [
            "/usr/local/lib/python3.7/dist-packages/sklearn/externals/joblib/__init__.py:15: FutureWarning: sklearn.externals.joblib is deprecated in 0.21 and will be removed in 0.23. Please import this functionality directly from joblib, which can be installed with: pip install joblib. If this warning is raised when loading pickled models, you may need to re-serialize those models with scikit-learn 0.21+.\n",
            "  warnings.warn(msg, category=FutureWarning)\n"
          ],
          "name": "stderr"
        }
      ]
    },
    {
      "cell_type": "code",
      "metadata": {
        "colab": {
          "base_uri": "https://localhost:8080/",
          "height": 1000
        },
        "id": "msp9udl7ad9-",
        "outputId": "575f9c5c-e7e7-4f02-e675-dd83e944f587"
      },
      "source": [
        "def parse(path):\n",
        "        g = gzip.open(path, 'rb')\n",
        "        for l in g:\n",
        "            yield json.loads(l)\n",
        "\n",
        "def getDF(path):\n",
        "    i = 0\n",
        "    df = {}\n",
        "    for d in parse(path):\n",
        "        df[i] = d\n",
        "        i += 1\n",
        "    return pd.DataFrame.from_dict(df, orient='index')\n",
        "\n",
        "df = getDF('meta_Cell_Phones_and_Accessories.json.gz')\n",
        "df"
      ],
      "execution_count": null,
      "outputs": [
        {
          "output_type": "execute_result",
          "data": {
            "text/html": [
              "<div>\n",
              "<style scoped>\n",
              "    .dataframe tbody tr th:only-of-type {\n",
              "        vertical-align: middle;\n",
              "    }\n",
              "\n",
              "    .dataframe tbody tr th {\n",
              "        vertical-align: top;\n",
              "    }\n",
              "\n",
              "    .dataframe thead th {\n",
              "        text-align: right;\n",
              "    }\n",
              "</style>\n",
              "<table border=\"1\" class=\"dataframe\">\n",
              "  <thead>\n",
              "    <tr style=\"text-align: right;\">\n",
              "      <th></th>\n",
              "      <th>category</th>\n",
              "      <th>tech1</th>\n",
              "      <th>description</th>\n",
              "      <th>fit</th>\n",
              "      <th>title</th>\n",
              "      <th>also_buy</th>\n",
              "      <th>image</th>\n",
              "      <th>tech2</th>\n",
              "      <th>brand</th>\n",
              "      <th>feature</th>\n",
              "      <th>rank</th>\n",
              "      <th>also_view</th>\n",
              "      <th>details</th>\n",
              "      <th>main_cat</th>\n",
              "      <th>similar_item</th>\n",
              "      <th>date</th>\n",
              "      <th>price</th>\n",
              "      <th>asin</th>\n",
              "    </tr>\n",
              "  </thead>\n",
              "  <tbody>\n",
              "    <tr>\n",
              "      <th>0</th>\n",
              "      <td>[Cell Phones &amp; Accessories, Accessories, Scree...</td>\n",
              "      <td></td>\n",
              "      <td>[]</td>\n",
              "      <td></td>\n",
              "      <td>Trollies Sing a Long Party VHS</td>\n",
              "      <td>[]</td>\n",
              "      <td>[]</td>\n",
              "      <td></td>\n",
              "      <td></td>\n",
              "      <td>[]</td>\n",
              "      <td>557,379 in Movies &amp; TV (</td>\n",
              "      <td>[]</td>\n",
              "      <td>{'ASIN: ': '6303195164'}</td>\n",
              "      <td>Movies &amp; TV</td>\n",
              "      <td></td>\n",
              "      <td></td>\n",
              "      <td></td>\n",
              "      <td>6303195164</td>\n",
              "    </tr>\n",
              "    <tr>\n",
              "      <th>1</th>\n",
              "      <td>[Cell Phones &amp; Accessories, Accessories, Car A...</td>\n",
              "      <td></td>\n",
              "      <td>[]</td>\n",
              "      <td></td>\n",
              "      <td>La Pura VHS</td>\n",
              "      <td>[]</td>\n",
              "      <td>[]</td>\n",
              "      <td></td>\n",
              "      <td>Maribel Guardia</td>\n",
              "      <td>[]</td>\n",
              "      <td>1,024,449 in Movies &amp; TV (</td>\n",
              "      <td>[]</td>\n",
              "      <td>{'ASIN: ': '630524412X'}</td>\n",
              "      <td>Movies &amp; TV</td>\n",
              "      <td></td>\n",
              "      <td></td>\n",
              "      <td></td>\n",
              "      <td>630524412X</td>\n",
              "    </tr>\n",
              "    <tr>\n",
              "      <th>2</th>\n",
              "      <td>[Cell Phones &amp; Accessories, Cases, Holsters &amp; ...</td>\n",
              "      <td></td>\n",
              "      <td>[New items to give you a new good mood, welcom...</td>\n",
              "      <td></td>\n",
              "      <td>Leopard Thanksgiving Easter PC Black Case for ...</td>\n",
              "      <td>[]</td>\n",
              "      <td>[]</td>\n",
              "      <td></td>\n",
              "      <td></td>\n",
              "      <td>[]</td>\n",
              "      <td>5,315,017 in Books (</td>\n",
              "      <td>[]</td>\n",
              "      <td>{'Publisher:': 'juduiou', 'ASIN:': '6310200240...</td>\n",
              "      <td>Books</td>\n",
              "      <td></td>\n",
              "      <td></td>\n",
              "      <td></td>\n",
              "      <td>6310200240</td>\n",
              "    </tr>\n",
              "    <tr>\n",
              "      <th>3</th>\n",
              "      <td>[Cell Phones &amp; Accessories, Cases, Holsters &amp; ...</td>\n",
              "      <td></td>\n",
              "      <td>[A brand-new, unused, unopened, undamaged item...</td>\n",
              "      <td></td>\n",
              "      <td>Puppies Faceplate Hard Case Protector for Net1...</td>\n",
              "      <td>[]</td>\n",
              "      <td>[]</td>\n",
              "      <td></td>\n",
              "      <td>Live2Pedal</td>\n",
              "      <td>[Protect your phone with style through this At...</td>\n",
              "      <td>[&gt;#6,368,825 in Cell Phones &amp; Accessories (See...</td>\n",
              "      <td>[]</td>\n",
              "      <td>{}</td>\n",
              "      <td>Cell Phones &amp; Accessories</td>\n",
              "      <td></td>\n",
              "      <td></td>\n",
              "      <td></td>\n",
              "      <td>6786501710</td>\n",
              "    </tr>\n",
              "    <tr>\n",
              "      <th>4</th>\n",
              "      <td>[Cell Phones &amp; Accessories, Cases, Holsters &amp; ...</td>\n",
              "      <td></td>\n",
              "      <td>[A brand-new, unused, unopened, undamaged item...</td>\n",
              "      <td></td>\n",
              "      <td>White Wolf Faceplate Protector Hard Case for S...</td>\n",
              "      <td>[]</td>\n",
              "      <td>[]</td>\n",
              "      <td></td>\n",
              "      <td>wirelessoutletusa</td>\n",
              "      <td>[Protect your phone with style through this At...</td>\n",
              "      <td>[&gt;#2,672,454 in Cell Phones &amp; Accessories (See...</td>\n",
              "      <td>[]</td>\n",
              "      <td>{}</td>\n",
              "      <td>Cell Phones &amp; Accessories</td>\n",
              "      <td></td>\n",
              "      <td></td>\n",
              "      <td></td>\n",
              "      <td>6786501273</td>\n",
              "    </tr>\n",
              "    <tr>\n",
              "      <th>...</th>\n",
              "      <td>...</td>\n",
              "      <td>...</td>\n",
              "      <td>...</td>\n",
              "      <td>...</td>\n",
              "      <td>...</td>\n",
              "      <td>...</td>\n",
              "      <td>...</td>\n",
              "      <td>...</td>\n",
              "      <td>...</td>\n",
              "      <td>...</td>\n",
              "      <td>...</td>\n",
              "      <td>...</td>\n",
              "      <td>...</td>\n",
              "      <td>...</td>\n",
              "      <td>...</td>\n",
              "      <td>...</td>\n",
              "      <td>...</td>\n",
              "      <td>...</td>\n",
              "    </tr>\n",
              "    <tr>\n",
              "      <th>590066</th>\n",
              "      <td>[Cell Phones &amp; Accessories, Accessories, Repla...</td>\n",
              "      <td></td>\n",
              "      <td>[Compatible with:Motorola Moto G3 XT1552 G(201...</td>\n",
              "      <td></td>\n",
              "      <td>Full LCD Touch Screen Digitizer Assembly Repla...</td>\n",
              "      <td>[]</td>\n",
              "      <td>[https://images-na.ssl-images-amazon.com/image...</td>\n",
              "      <td></td>\n",
              "      <td>hongkongruly</td>\n",
              "      <td>[Compatible with:Motorola Moto G3 XT1552 G(201...</td>\n",
              "      <td>[&gt;#1,179,531 in Cell Phones &amp; Accessories (See...</td>\n",
              "      <td>[]</td>\n",
              "      <td>{}</td>\n",
              "      <td>Cell Phones &amp; Accessories</td>\n",
              "      <td></td>\n",
              "      <td></td>\n",
              "      <td></td>\n",
              "      <td>B01HJH76J4</td>\n",
              "    </tr>\n",
              "    <tr>\n",
              "      <th>590067</th>\n",
              "      <td>[Cell Phones &amp; Accessories, Cases, Holsters &amp; ...</td>\n",
              "      <td></td>\n",
              "      <td>[]</td>\n",
              "      <td></td>\n",
              "      <td>Universal Sports Armband Casehigh Shop Easy Fi...</td>\n",
              "      <td>[B01MDPWI5V]</td>\n",
              "      <td>[https://images-na.ssl-images-amazon.com/image...</td>\n",
              "      <td></td>\n",
              "      <td>CaseHQ</td>\n",
              "      <td>[Universal Designed: Up to 5.7\" diagonal size....</td>\n",
              "      <td>663,487 in Cell Phones &amp; Accessories (</td>\n",
              "      <td>[]</td>\n",
              "      <td>{'ASIN: ': 'B01HJGI3VK'}</td>\n",
              "      <td>Cell Phones &amp; Accessories</td>\n",
              "      <td></td>\n",
              "      <td></td>\n",
              "      <td>$0.01</td>\n",
              "      <td>B01HJGI3VK</td>\n",
              "    </tr>\n",
              "    <tr>\n",
              "      <th>590068</th>\n",
              "      <td>[Cell Phones &amp; Accessories, Cases, Holsters &amp; ...</td>\n",
              "      <td></td>\n",
              "      <td>[&lt;b&gt;Brand Aim of LoHi:&lt;/b&gt; &lt;br /&gt; LoHi is dedi...</td>\n",
              "      <td></td>\n",
              "      <td>iPhone 6 Plus Case, LoHi iPhone 6s Plus Case [...</td>\n",
              "      <td>[]</td>\n",
              "      <td>[https://images-na.ssl-images-amazon.com/image...</td>\n",
              "      <td></td>\n",
              "      <td>LoHi</td>\n",
              "      <td>[UNIQUE DESIGNED for Apple iPhone 6/6s Plus 5....</td>\n",
              "      <td>[&gt;#323,452 in Cell Phones &amp; Accessories (See T...</td>\n",
              "      <td>[]</td>\n",
              "      <td>{}</td>\n",
              "      <td>Cell Phones &amp; Accessories</td>\n",
              "      <td></td>\n",
              "      <td></td>\n",
              "      <td></td>\n",
              "      <td>B01HJH9IN6</td>\n",
              "    </tr>\n",
              "    <tr>\n",
              "      <th>590069</th>\n",
              "      <td>[Cell Phones &amp; Accessories, Cases, Holsters &amp; ...</td>\n",
              "      <td></td>\n",
              "      <td>[]</td>\n",
              "      <td></td>\n",
              "      <td>Universal Sports Armband Casehigh Shop Easy Fi...</td>\n",
              "      <td>[]</td>\n",
              "      <td>[https://images-na.ssl-images-amazon.com/image...</td>\n",
              "      <td></td>\n",
              "      <td>CaseHQ</td>\n",
              "      <td>[Universal Designed: Up to 5.7\" diagonal size....</td>\n",
              "      <td>1,662,046 in Cell Phones &amp; Accessories (</td>\n",
              "      <td>[B00SXRXUFE]</td>\n",
              "      <td>{'ASIN: ': 'B01HJFFF1W', 'Item model number:':...</td>\n",
              "      <td>Cell Phones &amp; Accessories</td>\n",
              "      <td>class=\"a-bordered a-horizontal-stripes  a-spa...</td>\n",
              "      <td></td>\n",
              "      <td>$3.99</td>\n",
              "      <td>B01HJFFF1W</td>\n",
              "    </tr>\n",
              "    <tr>\n",
              "      <th>590070</th>\n",
              "      <td>[Cell Phones &amp; Accessories, Cases, Holsters &amp; ...</td>\n",
              "      <td></td>\n",
              "      <td>[]</td>\n",
              "      <td></td>\n",
              "      <td>Case For Samsung Galaxy S7 Edge, CoverProof Ti...</td>\n",
              "      <td>[]</td>\n",
              "      <td>[https://images-na.ssl-images-amazon.com/image...</td>\n",
              "      <td></td>\n",
              "      <td>CoverProof</td>\n",
              "      <td>[]</td>\n",
              "      <td>[&gt;#3,789,048 in Cell Phones &amp; Accessories (See...</td>\n",
              "      <td>[]</td>\n",
              "      <td>{}</td>\n",
              "      <td>Cell Phones &amp; Accessories</td>\n",
              "      <td></td>\n",
              "      <td></td>\n",
              "      <td></td>\n",
              "      <td>B01HJHMQXU</td>\n",
              "    </tr>\n",
              "  </tbody>\n",
              "</table>\n",
              "<p>590071 rows × 18 columns</p>\n",
              "</div>"
            ],
            "text/plain": [
              "                                                 category  ...        asin\n",
              "0       [Cell Phones & Accessories, Accessories, Scree...  ...  6303195164\n",
              "1       [Cell Phones & Accessories, Accessories, Car A...  ...  630524412X\n",
              "2       [Cell Phones & Accessories, Cases, Holsters & ...  ...  6310200240\n",
              "3       [Cell Phones & Accessories, Cases, Holsters & ...  ...  6786501710\n",
              "4       [Cell Phones & Accessories, Cases, Holsters & ...  ...  6786501273\n",
              "...                                                   ...  ...         ...\n",
              "590066  [Cell Phones & Accessories, Accessories, Repla...  ...  B01HJH76J4\n",
              "590067  [Cell Phones & Accessories, Cases, Holsters & ...  ...  B01HJGI3VK\n",
              "590068  [Cell Phones & Accessories, Cases, Holsters & ...  ...  B01HJH9IN6\n",
              "590069  [Cell Phones & Accessories, Cases, Holsters & ...  ...  B01HJFFF1W\n",
              "590070  [Cell Phones & Accessories, Cases, Holsters & ...  ...  B01HJHMQXU\n",
              "\n",
              "[590071 rows x 18 columns]"
            ]
          },
          "metadata": {
            "tags": []
          },
          "execution_count": 8
        }
      ]
    },
    {
      "cell_type": "code",
      "metadata": {
        "colab": {
          "base_uri": "https://localhost:8080/"
        },
        "id": "t7gjYImz7X3m",
        "outputId": "62a69182-48bf-4771-e7c1-6bb6e2cf0c9e"
      },
      "source": [
        "df.shape"
      ],
      "execution_count": null,
      "outputs": [
        {
          "output_type": "execute_result",
          "data": {
            "text/plain": [
              "(590071, 18)"
            ]
          },
          "metadata": {
            "tags": []
          },
          "execution_count": 9
        }
      ]
    },
    {
      "cell_type": "code",
      "metadata": {
        "colab": {
          "base_uri": "https://localhost:8080/",
          "height": 330
        },
        "id": "7L0dUxzChUqJ",
        "outputId": "c96807c6-bba1-4584-a2c0-16a7c2ecf3ac"
      },
      "source": [
        "products = pd.read_excel(\"data.xlsx\")\n",
        "products.head()"
      ],
      "execution_count": null,
      "outputs": [
        {
          "output_type": "execute_result",
          "data": {
            "text/html": [
              "<div>\n",
              "<style scoped>\n",
              "    .dataframe tbody tr th:only-of-type {\n",
              "        vertical-align: middle;\n",
              "    }\n",
              "\n",
              "    .dataframe tbody tr th {\n",
              "        vertical-align: top;\n",
              "    }\n",
              "\n",
              "    .dataframe thead th {\n",
              "        text-align: right;\n",
              "    }\n",
              "</style>\n",
              "<table border=\"1\" class=\"dataframe\">\n",
              "  <thead>\n",
              "    <tr style=\"text-align: right;\">\n",
              "      <th></th>\n",
              "      <th>Unnamed: 0</th>\n",
              "      <th>reviewerID</th>\n",
              "      <th>asin</th>\n",
              "      <th>reviewerName</th>\n",
              "      <th>helpful</th>\n",
              "      <th>reviewText</th>\n",
              "      <th>overall</th>\n",
              "      <th>summary</th>\n",
              "      <th>unixReviewTime</th>\n",
              "      <th>reviewTime</th>\n",
              "    </tr>\n",
              "  </thead>\n",
              "  <tbody>\n",
              "    <tr>\n",
              "      <th>0</th>\n",
              "      <td>1</td>\n",
              "      <td>A30TL5EWN6DFXT</td>\n",
              "      <td>120401325X</td>\n",
              "      <td>christina</td>\n",
              "      <td>[0, 0]</td>\n",
              "      <td>They look good and stick good! I just don't li...</td>\n",
              "      <td>4</td>\n",
              "      <td>Looks Good</td>\n",
              "      <td>1400630400</td>\n",
              "      <td>05 21, 2014</td>\n",
              "    </tr>\n",
              "    <tr>\n",
              "      <th>1</th>\n",
              "      <td>2</td>\n",
              "      <td>ASY55RVNIL0UD</td>\n",
              "      <td>120401325X</td>\n",
              "      <td>emily l.</td>\n",
              "      <td>[0, 0]</td>\n",
              "      <td>These stickers work like the review says they ...</td>\n",
              "      <td>5</td>\n",
              "      <td>Really great product.</td>\n",
              "      <td>1389657600</td>\n",
              "      <td>01 14, 2014</td>\n",
              "    </tr>\n",
              "    <tr>\n",
              "      <th>2</th>\n",
              "      <td>3</td>\n",
              "      <td>A2TMXE2AFO7ONB</td>\n",
              "      <td>120401325X</td>\n",
              "      <td>Erica</td>\n",
              "      <td>[0, 0]</td>\n",
              "      <td>These are awesome and make my phone look so st...</td>\n",
              "      <td>5</td>\n",
              "      <td>LOVE LOVE LOVE</td>\n",
              "      <td>1403740800</td>\n",
              "      <td>06 26, 2014</td>\n",
              "    </tr>\n",
              "    <tr>\n",
              "      <th>3</th>\n",
              "      <td>4</td>\n",
              "      <td>AWJ0WZQYMYFQ4</td>\n",
              "      <td>120401325X</td>\n",
              "      <td>JM</td>\n",
              "      <td>[4, 4]</td>\n",
              "      <td>Item arrived in great time and was in perfect ...</td>\n",
              "      <td>4</td>\n",
              "      <td>Cute!</td>\n",
              "      <td>1382313600</td>\n",
              "      <td>10 21, 2013</td>\n",
              "    </tr>\n",
              "    <tr>\n",
              "      <th>4</th>\n",
              "      <td>5</td>\n",
              "      <td>ATX7CZYFXI1KW</td>\n",
              "      <td>120401325X</td>\n",
              "      <td>patrice m rogoza</td>\n",
              "      <td>[2, 3]</td>\n",
              "      <td>awesome! stays on, and looks great. can be use...</td>\n",
              "      <td>5</td>\n",
              "      <td>leopard home button sticker for iphone 4s</td>\n",
              "      <td>1359849600</td>\n",
              "      <td>02 3, 2013</td>\n",
              "    </tr>\n",
              "  </tbody>\n",
              "</table>\n",
              "</div>"
            ],
            "text/plain": [
              "   Unnamed: 0      reviewerID  ... unixReviewTime   reviewTime\n",
              "0           1  A30TL5EWN6DFXT  ...     1400630400  05 21, 2014\n",
              "1           2   ASY55RVNIL0UD  ...     1389657600  01 14, 2014\n",
              "2           3  A2TMXE2AFO7ONB  ...     1403740800  06 26, 2014\n",
              "3           4   AWJ0WZQYMYFQ4  ...     1382313600  10 21, 2013\n",
              "4           5   ATX7CZYFXI1KW  ...     1359849600   02 3, 2013\n",
              "\n",
              "[5 rows x 10 columns]"
            ]
          },
          "metadata": {
            "tags": []
          },
          "execution_count": 10
        }
      ]
    },
    {
      "cell_type": "code",
      "metadata": {
        "colab": {
          "base_uri": "https://localhost:8080/",
          "height": 652
        },
        "id": "CBkEE6L_eKQ0",
        "outputId": "8aa4904a-7f09-4178-d452-74ebd3bc815e"
      },
      "source": [
        "product_ratings=pd.merge(products,df,on='asin',how='inner')\n",
        "product_ratings.head()\n"
      ],
      "execution_count": null,
      "outputs": [
        {
          "output_type": "execute_result",
          "data": {
            "text/html": [
              "<div>\n",
              "<style scoped>\n",
              "    .dataframe tbody tr th:only-of-type {\n",
              "        vertical-align: middle;\n",
              "    }\n",
              "\n",
              "    .dataframe tbody tr th {\n",
              "        vertical-align: top;\n",
              "    }\n",
              "\n",
              "    .dataframe thead th {\n",
              "        text-align: right;\n",
              "    }\n",
              "</style>\n",
              "<table border=\"1\" class=\"dataframe\">\n",
              "  <thead>\n",
              "    <tr style=\"text-align: right;\">\n",
              "      <th></th>\n",
              "      <th>Unnamed: 0</th>\n",
              "      <th>reviewerID</th>\n",
              "      <th>asin</th>\n",
              "      <th>reviewerName</th>\n",
              "      <th>helpful</th>\n",
              "      <th>reviewText</th>\n",
              "      <th>overall</th>\n",
              "      <th>summary</th>\n",
              "      <th>unixReviewTime</th>\n",
              "      <th>reviewTime</th>\n",
              "      <th>category</th>\n",
              "      <th>tech1</th>\n",
              "      <th>description</th>\n",
              "      <th>fit</th>\n",
              "      <th>title</th>\n",
              "      <th>also_buy</th>\n",
              "      <th>image</th>\n",
              "      <th>tech2</th>\n",
              "      <th>brand</th>\n",
              "      <th>feature</th>\n",
              "      <th>rank</th>\n",
              "      <th>also_view</th>\n",
              "      <th>details</th>\n",
              "      <th>main_cat</th>\n",
              "      <th>similar_item</th>\n",
              "      <th>date</th>\n",
              "      <th>price</th>\n",
              "    </tr>\n",
              "  </thead>\n",
              "  <tbody>\n",
              "    <tr>\n",
              "      <th>0</th>\n",
              "      <td>55</td>\n",
              "      <td>A2G38P52ZF5TTH</td>\n",
              "      <td>7532385086</td>\n",
              "      <td>Allana</td>\n",
              "      <td>[3, 3]</td>\n",
              "      <td>I love this case! It's so pretty.And I love th...</td>\n",
              "      <td>5</td>\n",
              "      <td>I recommend</td>\n",
              "      <td>1296604800</td>\n",
              "      <td>02 2, 2011</td>\n",
              "      <td>[Cell Phones &amp; Accessories, Cases, Holsters &amp; ...</td>\n",
              "      <td></td>\n",
              "      <td>[Product Description\\nHTC EVO 4G, Rubberized P...</td>\n",
              "      <td></td>\n",
              "      <td>Rubberized Purple Wave Flower Snap on Design C...</td>\n",
              "      <td>[]</td>\n",
              "      <td>[]</td>\n",
              "      <td></td>\n",
              "      <td>Generic</td>\n",
              "      <td>[Rubberized Purple Wave Flower Snap on Design ...</td>\n",
              "      <td>[&gt;#553,803 in Cell Phones &amp; Accessories (See T...</td>\n",
              "      <td>[]</td>\n",
              "      <td>{}</td>\n",
              "      <td>Cell Phones &amp; Accessories</td>\n",
              "      <td></td>\n",
              "      <td></td>\n",
              "      <td></td>\n",
              "    </tr>\n",
              "    <tr>\n",
              "      <th>1</th>\n",
              "      <td>56</td>\n",
              "      <td>A3Q6C95EFP4FEX</td>\n",
              "      <td>7532385086</td>\n",
              "      <td>Brittany</td>\n",
              "      <td>[0, 0]</td>\n",
              "      <td>The idea of the design is a sweet idea but it ...</td>\n",
              "      <td>3</td>\n",
              "      <td>Nice</td>\n",
              "      <td>1328140800</td>\n",
              "      <td>02 2, 2012</td>\n",
              "      <td>[Cell Phones &amp; Accessories, Cases, Holsters &amp; ...</td>\n",
              "      <td></td>\n",
              "      <td>[Product Description\\nHTC EVO 4G, Rubberized P...</td>\n",
              "      <td></td>\n",
              "      <td>Rubberized Purple Wave Flower Snap on Design C...</td>\n",
              "      <td>[]</td>\n",
              "      <td>[]</td>\n",
              "      <td></td>\n",
              "      <td>Generic</td>\n",
              "      <td>[Rubberized Purple Wave Flower Snap on Design ...</td>\n",
              "      <td>[&gt;#553,803 in Cell Phones &amp; Accessories (See T...</td>\n",
              "      <td>[]</td>\n",
              "      <td>{}</td>\n",
              "      <td>Cell Phones &amp; Accessories</td>\n",
              "      <td></td>\n",
              "      <td></td>\n",
              "      <td></td>\n",
              "    </tr>\n",
              "    <tr>\n",
              "      <th>2</th>\n",
              "      <td>57</td>\n",
              "      <td>A2GHDKZBYXGAPY</td>\n",
              "      <td>7532385086</td>\n",
              "      <td>C. Groves \"~The Connie\"</td>\n",
              "      <td>[0, 0]</td>\n",
              "      <td>I was worried about this order because the pic...</td>\n",
              "      <td>5</td>\n",
              "      <td>Perfect!</td>\n",
              "      <td>1342569600</td>\n",
              "      <td>07 18, 2012</td>\n",
              "      <td>[Cell Phones &amp; Accessories, Cases, Holsters &amp; ...</td>\n",
              "      <td></td>\n",
              "      <td>[Product Description\\nHTC EVO 4G, Rubberized P...</td>\n",
              "      <td></td>\n",
              "      <td>Rubberized Purple Wave Flower Snap on Design C...</td>\n",
              "      <td>[]</td>\n",
              "      <td>[]</td>\n",
              "      <td></td>\n",
              "      <td>Generic</td>\n",
              "      <td>[Rubberized Purple Wave Flower Snap on Design ...</td>\n",
              "      <td>[&gt;#553,803 in Cell Phones &amp; Accessories (See T...</td>\n",
              "      <td>[]</td>\n",
              "      <td>{}</td>\n",
              "      <td>Cell Phones &amp; Accessories</td>\n",
              "      <td></td>\n",
              "      <td></td>\n",
              "      <td></td>\n",
              "    </tr>\n",
              "    <tr>\n",
              "      <th>3</th>\n",
              "      <td>58</td>\n",
              "      <td>A2Y33PMFKII0VR</td>\n",
              "      <td>7532385086</td>\n",
              "      <td>Grandma in NH</td>\n",
              "      <td>[0, 0]</td>\n",
              "      <td>Another pretty phone case that I really love. ...</td>\n",
              "      <td>5</td>\n",
              "      <td>Pretty</td>\n",
              "      <td>1360886400</td>\n",
              "      <td>02 15, 2013</td>\n",
              "      <td>[Cell Phones &amp; Accessories, Cases, Holsters &amp; ...</td>\n",
              "      <td></td>\n",
              "      <td>[Product Description\\nHTC EVO 4G, Rubberized P...</td>\n",
              "      <td></td>\n",
              "      <td>Rubberized Purple Wave Flower Snap on Design C...</td>\n",
              "      <td>[]</td>\n",
              "      <td>[]</td>\n",
              "      <td></td>\n",
              "      <td>Generic</td>\n",
              "      <td>[Rubberized Purple Wave Flower Snap on Design ...</td>\n",
              "      <td>[&gt;#553,803 in Cell Phones &amp; Accessories (See T...</td>\n",
              "      <td>[]</td>\n",
              "      <td>{}</td>\n",
              "      <td>Cell Phones &amp; Accessories</td>\n",
              "      <td></td>\n",
              "      <td></td>\n",
              "      <td></td>\n",
              "    </tr>\n",
              "    <tr>\n",
              "      <th>4</th>\n",
              "      <td>59</td>\n",
              "      <td>A3S8BPAUQQLDKU</td>\n",
              "      <td>7532385086</td>\n",
              "      <td>Krystal</td>\n",
              "      <td>[0, 0]</td>\n",
              "      <td>The case is not white, its more of a silver. I...</td>\n",
              "      <td>4</td>\n",
              "      <td>Not what I expected.</td>\n",
              "      <td>1354924800</td>\n",
              "      <td>12 8, 2012</td>\n",
              "      <td>[Cell Phones &amp; Accessories, Cases, Holsters &amp; ...</td>\n",
              "      <td></td>\n",
              "      <td>[Product Description\\nHTC EVO 4G, Rubberized P...</td>\n",
              "      <td></td>\n",
              "      <td>Rubberized Purple Wave Flower Snap on Design C...</td>\n",
              "      <td>[]</td>\n",
              "      <td>[]</td>\n",
              "      <td></td>\n",
              "      <td>Generic</td>\n",
              "      <td>[Rubberized Purple Wave Flower Snap on Design ...</td>\n",
              "      <td>[&gt;#553,803 in Cell Phones &amp; Accessories (See T...</td>\n",
              "      <td>[]</td>\n",
              "      <td>{}</td>\n",
              "      <td>Cell Phones &amp; Accessories</td>\n",
              "      <td></td>\n",
              "      <td></td>\n",
              "      <td></td>\n",
              "    </tr>\n",
              "  </tbody>\n",
              "</table>\n",
              "</div>"
            ],
            "text/plain": [
              "   Unnamed: 0      reviewerID        asin  ... similar_item date price\n",
              "0          55  A2G38P52ZF5TTH  7532385086  ...                        \n",
              "1          56  A3Q6C95EFP4FEX  7532385086  ...                        \n",
              "2          57  A2GHDKZBYXGAPY  7532385086  ...                        \n",
              "3          58  A2Y33PMFKII0VR  7532385086  ...                        \n",
              "4          59  A3S8BPAUQQLDKU  7532385086  ...                        \n",
              "\n",
              "[5 rows x 27 columns]"
            ]
          },
          "metadata": {
            "tags": []
          },
          "execution_count": 12
        }
      ]
    },
    {
      "cell_type": "code",
      "metadata": {
        "colab": {
          "base_uri": "https://localhost:8080/"
        },
        "id": "IopCWW5hekgr",
        "outputId": "8cbbebc8-101e-42fc-cb27-13c49034a8a7"
      },
      "source": [
        "product_ratings.shape"
      ],
      "execution_count": null,
      "outputs": [
        {
          "output_type": "execute_result",
          "data": {
            "text/plain": [
              "(87746, 27)"
            ]
          },
          "metadata": {
            "tags": []
          },
          "execution_count": 13
        }
      ]
    },
    {
      "cell_type": "code",
      "metadata": {
        "id": "PSYUUNmLtM0F"
      },
      "source": [
        ""
      ],
      "execution_count": null,
      "outputs": []
    },
    {
      "cell_type": "code",
      "metadata": {
        "id": "cb903Cfra-H6",
        "colab": {
          "base_uri": "https://localhost:8080/"
        },
        "outputId": "d9a1437d-7752-4cb8-e6a6-682284ae48a3"
      },
      "source": [
        "##total reviews\n",
        "total=len(product_ratings)\n",
        "print(\"Number of review:\",total)\n",
        "print()\n",
        "\n",
        "\n",
        "## How many unique products?\n",
        "print(\"Number of unique products:\",len(product_ratings.asin.unique()))\n",
        "asin_prop = float(len(product_ratings.asin.unique())/total)\n",
        "print(\"Prop of unique products:\",round(asin_prop,3))\n",
        "\n"
      ],
      "execution_count": null,
      "outputs": [
        {
          "output_type": "stream",
          "text": [
            "Number of review: 87746\n",
            "\n",
            "Number of unique products: 5109\n",
            "Prop of unique products: 0.058\n"
          ],
          "name": "stdout"
        }
      ]
    },
    {
      "cell_type": "code",
      "metadata": {
        "colab": {
          "base_uri": "https://localhost:8080/"
        },
        "id": "X-F8ylIRw0N0",
        "outputId": "066210be-26a8-429a-9d6a-fbb6cae10a86"
      },
      "source": [
        "counts=product_ratings['asin'].value_counts()\n",
        "(counts>50).value_counts()"
      ],
      "execution_count": null,
      "outputs": [
        {
          "output_type": "execute_result",
          "data": {
            "text/plain": [
              "False    4830\n",
              "True      279\n",
              "Name: asin, dtype: int64"
            ]
          },
          "metadata": {
            "tags": []
          },
          "execution_count": 15
        }
      ]
    },
    {
      "cell_type": "code",
      "metadata": {
        "id": "9eUchIuocvcD"
      },
      "source": [
        ""
      ],
      "execution_count": null,
      "outputs": []
    },
    {
      "cell_type": "code",
      "metadata": {
        "colab": {
          "base_uri": "https://localhost:8080/"
        },
        "id": "P-uy-z61eaDY",
        "outputId": "9143d1ac-8ae7-4cd8-d2d0-43790e15ab95"
      },
      "source": [
        "(counts[counts>=50].index)"
      ],
      "execution_count": null,
      "outputs": [
        {
          "output_type": "execute_result",
          "data": {
            "text/plain": [
              "Index(['B005SUHPO6', 'B0090YGJ4I', 'B00BT7RAPG', 'B005SUHRVC', 'B008LFTCAK',\n",
              "       'B00ANALDWQ', 'B0059DLLJC', 'B00974L0EA', 'B001XXUOQI', 'B004G1L52Q',\n",
              "       ...\n",
              "       'B00B78MT44', 'B00AANQLRI', 'B006WU4CQK', 'B006EEIBWU', 'B005G22I9S',\n",
              "       'B0093IHX7I', 'B004LJ8N78', 'B009WDWBH6', 'B005STVU2K', 'B0054EQQXC'],\n",
              "      dtype='object', length=290)"
            ]
          },
          "metadata": {
            "tags": []
          },
          "execution_count": 16
        }
      ]
    },
    {
      "cell_type": "code",
      "metadata": {
        "id": "PQ_dZHt5kar4"
      },
      "source": [
        "\n",
        "product_ratings.drop(['reviewerName','helpful','reviewText','summary','unixReviewTime','reviewTime','tech1','description','fit','also_buy','image','tech2','brand','feature','rank','also_view','details','main_cat','similar_item','date','price'], axis=1, inplace=True)\n"
      ],
      "execution_count": null,
      "outputs": []
    },
    {
      "cell_type": "code",
      "metadata": {
        "id": "efrHrC6c2vvK"
      },
      "source": [
        "product_ratings.drop(product_ratings.columns[[0]],axis=1,inplace=True)"
      ],
      "execution_count": null,
      "outputs": []
    },
    {
      "cell_type": "code",
      "metadata": {
        "colab": {
          "base_uri": "https://localhost:8080/",
          "height": 195
        },
        "id": "vD3hfU9n3ONo",
        "outputId": "0c117af7-4ac7-4cab-9167-ad1f338c8458"
      },
      "source": [
        "product_ratings.head()"
      ],
      "execution_count": null,
      "outputs": [
        {
          "output_type": "execute_result",
          "data": {
            "text/html": [
              "<div>\n",
              "<style scoped>\n",
              "    .dataframe tbody tr th:only-of-type {\n",
              "        vertical-align: middle;\n",
              "    }\n",
              "\n",
              "    .dataframe tbody tr th {\n",
              "        vertical-align: top;\n",
              "    }\n",
              "\n",
              "    .dataframe thead th {\n",
              "        text-align: right;\n",
              "    }\n",
              "</style>\n",
              "<table border=\"1\" class=\"dataframe\">\n",
              "  <thead>\n",
              "    <tr style=\"text-align: right;\">\n",
              "      <th></th>\n",
              "      <th>reviewerID</th>\n",
              "      <th>asin</th>\n",
              "      <th>overall</th>\n",
              "      <th>category</th>\n",
              "      <th>title</th>\n",
              "    </tr>\n",
              "  </thead>\n",
              "  <tbody>\n",
              "    <tr>\n",
              "      <th>0</th>\n",
              "      <td>A2G38P52ZF5TTH</td>\n",
              "      <td>7532385086</td>\n",
              "      <td>5</td>\n",
              "      <td>[Cell Phones &amp; Accessories, Cases, Holsters &amp; ...</td>\n",
              "      <td>Rubberized Purple Wave Flower Snap on Design C...</td>\n",
              "    </tr>\n",
              "    <tr>\n",
              "      <th>1</th>\n",
              "      <td>A3Q6C95EFP4FEX</td>\n",
              "      <td>7532385086</td>\n",
              "      <td>3</td>\n",
              "      <td>[Cell Phones &amp; Accessories, Cases, Holsters &amp; ...</td>\n",
              "      <td>Rubberized Purple Wave Flower Snap on Design C...</td>\n",
              "    </tr>\n",
              "    <tr>\n",
              "      <th>2</th>\n",
              "      <td>A2GHDKZBYXGAPY</td>\n",
              "      <td>7532385086</td>\n",
              "      <td>5</td>\n",
              "      <td>[Cell Phones &amp; Accessories, Cases, Holsters &amp; ...</td>\n",
              "      <td>Rubberized Purple Wave Flower Snap on Design C...</td>\n",
              "    </tr>\n",
              "    <tr>\n",
              "      <th>3</th>\n",
              "      <td>A2Y33PMFKII0VR</td>\n",
              "      <td>7532385086</td>\n",
              "      <td>5</td>\n",
              "      <td>[Cell Phones &amp; Accessories, Cases, Holsters &amp; ...</td>\n",
              "      <td>Rubberized Purple Wave Flower Snap on Design C...</td>\n",
              "    </tr>\n",
              "    <tr>\n",
              "      <th>4</th>\n",
              "      <td>A3S8BPAUQQLDKU</td>\n",
              "      <td>7532385086</td>\n",
              "      <td>4</td>\n",
              "      <td>[Cell Phones &amp; Accessories, Cases, Holsters &amp; ...</td>\n",
              "      <td>Rubberized Purple Wave Flower Snap on Design C...</td>\n",
              "    </tr>\n",
              "  </tbody>\n",
              "</table>\n",
              "</div>"
            ],
            "text/plain": [
              "       reviewerID  ...                                              title\n",
              "0  A2G38P52ZF5TTH  ...  Rubberized Purple Wave Flower Snap on Design C...\n",
              "1  A3Q6C95EFP4FEX  ...  Rubberized Purple Wave Flower Snap on Design C...\n",
              "2  A2GHDKZBYXGAPY  ...  Rubberized Purple Wave Flower Snap on Design C...\n",
              "3  A2Y33PMFKII0VR  ...  Rubberized Purple Wave Flower Snap on Design C...\n",
              "4  A3S8BPAUQQLDKU  ...  Rubberized Purple Wave Flower Snap on Design C...\n",
              "\n",
              "[5 rows x 5 columns]"
            ]
          },
          "metadata": {
            "tags": []
          },
          "execution_count": 20
        }
      ]
    },
    {
      "cell_type": "code",
      "metadata": {
        "id": "epxflofY3Zqa"
      },
      "source": [
        "df=product_ratings"
      ],
      "execution_count": null,
      "outputs": []
    },
    {
      "cell_type": "code",
      "metadata": {
        "colab": {
          "base_uri": "https://localhost:8080/"
        },
        "id": "9ZhMYXtj3npd",
        "outputId": "8f3651b2-cf9a-4ac9-bcf8-df03703142af"
      },
      "source": [
        "df.isnull().sum().sum()"
      ],
      "execution_count": null,
      "outputs": [
        {
          "output_type": "execute_result",
          "data": {
            "text/plain": [
              "0"
            ]
          },
          "metadata": {
            "tags": []
          },
          "execution_count": 22
        }
      ]
    },
    {
      "cell_type": "code",
      "metadata": {
        "colab": {
          "base_uri": "https://localhost:8080/"
        },
        "id": "zB5lc3r93vp3",
        "outputId": "2fe5a0ae-a791-4740-85c6-9a77e72d4951"
      },
      "source": [
        "len(df['asin'].unique())"
      ],
      "execution_count": null,
      "outputs": [
        {
          "output_type": "execute_result",
          "data": {
            "text/plain": [
              "5109"
            ]
          },
          "metadata": {
            "tags": []
          },
          "execution_count": 23
        }
      ]
    },
    {
      "cell_type": "code",
      "metadata": {
        "colab": {
          "base_uri": "https://localhost:8080/"
        },
        "id": "kqFGp6f638CC",
        "outputId": "d91be708-f99f-4345-f883-c93ff7a2db8d"
      },
      "source": [
        "df.info()"
      ],
      "execution_count": null,
      "outputs": [
        {
          "output_type": "stream",
          "text": [
            "<class 'pandas.core.frame.DataFrame'>\n",
            "Int64Index: 87746 entries, 0 to 87745\n",
            "Data columns (total 5 columns):\n",
            " #   Column      Non-Null Count  Dtype \n",
            "---  ------      --------------  ----- \n",
            " 0   reviewerID  87746 non-null  object\n",
            " 1   asin        87746 non-null  object\n",
            " 2   overall     87746 non-null  int64 \n",
            " 3   category    87746 non-null  object\n",
            " 4   title       87746 non-null  object\n",
            "dtypes: int64(1), object(4)\n",
            "memory usage: 4.0+ MB\n"
          ],
          "name": "stdout"
        }
      ]
    },
    {
      "cell_type": "code",
      "metadata": {
        "colab": {
          "base_uri": "https://localhost:8080/"
        },
        "id": "kNsJbh5m4YrY",
        "outputId": "56aad8f9-3a77-48a0-f6f3-f382344ec31d"
      },
      "source": [
        "counts1=df['asin'].value_counts() \n",
        "counts=df['reviewerID'].value_counts()\n",
        "counts1\n"
      ],
      "execution_count": null,
      "outputs": [
        {
          "output_type": "execute_result",
          "data": {
            "text/plain": [
              "B005SUHPO6    837\n",
              "B0090YGJ4I    448\n",
              "B00BT7RAPG    431\n",
              "B005SUHRVC    421\n",
              "B008LFTCAK    416\n",
              "             ... \n",
              "B000VVDEJ2      5\n",
              "B0050OV01O      5\n",
              "B00BLSUUMS      5\n",
              "B003MVYV2C      5\n",
              "B0082C24F2      5\n",
              "Name: asin, Length: 5109, dtype: int64"
            ]
          },
          "metadata": {
            "tags": []
          },
          "execution_count": 25
        }
      ]
    },
    {
      "cell_type": "code",
      "metadata": {
        "colab": {
          "base_uri": "https://localhost:8080/"
        },
        "id": "jHASGvkZ42mR",
        "outputId": "14228182-2b2a-4d1a-cea4-779c3266827a"
      },
      "source": [
        "counts"
      ],
      "execution_count": null,
      "outputs": [
        {
          "output_type": "execute_result",
          "data": {
            "text/plain": [
              "A36K2N527TXXJN    61\n",
              "A1EVV74UQYVKRY    61\n",
              "A1ODOGXEYECQQ8    59\n",
              "A2NOW4U7W3F7RI    57\n",
              "A22CW0ZHY3NJH8    56\n",
              "                  ..\n",
              "A2UD5EG63WWTUR     1\n",
              "A2THWT0MVX5LZR     1\n",
              "A1YORC7ZXY0K33     1\n",
              "A3L8JOQRY8I27L     1\n",
              "AEDN1IUU0RRBJ      1\n",
              "Name: reviewerID, Length: 26691, dtype: int64"
            ]
          },
          "metadata": {
            "tags": []
          },
          "execution_count": 26
        }
      ]
    },
    {
      "cell_type": "code",
      "metadata": {
        "colab": {
          "base_uri": "https://localhost:8080/"
        },
        "id": "F-n-u-b745-k",
        "outputId": "420704d5-cb42-41a7-b6fb-1d9a704ac504"
      },
      "source": [
        "len(counts1[counts1>=50].index)"
      ],
      "execution_count": null,
      "outputs": [
        {
          "output_type": "execute_result",
          "data": {
            "text/plain": [
              "290"
            ]
          },
          "metadata": {
            "tags": []
          },
          "execution_count": 27
        }
      ]
    },
    {
      "cell_type": "code",
      "metadata": {
        "colab": {
          "base_uri": "https://localhost:8080/"
        },
        "id": "U1qo-bTL4_RT",
        "outputId": "810700dc-07aa-4199-be1b-f8e7d7ec9a9a"
      },
      "source": [
        "len(counts[counts>=50].index)"
      ],
      "execution_count": null,
      "outputs": [
        {
          "output_type": "execute_result",
          "data": {
            "text/plain": [
              "6"
            ]
          },
          "metadata": {
            "tags": []
          },
          "execution_count": 28
        }
      ]
    },
    {
      "cell_type": "code",
      "metadata": {
        "colab": {
          "base_uri": "https://localhost:8080/"
        },
        "id": "AeX5-tCB5IGM",
        "outputId": "c22c3596-641b-4930-8af6-7779682d9883"
      },
      "source": [
        "df1=df[df['asin'].isin(counts1[counts1 >=50].index)]\n",
        "df1.shape"
      ],
      "execution_count": null,
      "outputs": [
        {
          "output_type": "execute_result",
          "data": {
            "text/plain": [
              "(29167, 5)"
            ]
          },
          "metadata": {
            "tags": []
          },
          "execution_count": 29
        }
      ]
    },
    {
      "cell_type": "code",
      "metadata": {
        "colab": {
          "base_uri": "https://localhost:8080/"
        },
        "id": "Y2N856SM5Tf7",
        "outputId": "7577d586-f356-4248-9cd2-ce8c4d6397e2"
      },
      "source": [
        "df2=df1[df1['reviewerID'].isin(counts[counts >=50].index)]\n",
        "df2.shape"
      ],
      "execution_count": null,
      "outputs": [
        {
          "output_type": "execute_result",
          "data": {
            "text/plain": [
              "(57, 5)"
            ]
          },
          "metadata": {
            "tags": []
          },
          "execution_count": 30
        }
      ]
    },
    {
      "cell_type": "code",
      "metadata": {
        "colab": {
          "base_uri": "https://localhost:8080/",
          "height": 195
        },
        "id": "MnHR2oWn5XUp",
        "outputId": "2630e098-4f60-49d4-d777-c5112eee31a3"
      },
      "source": [
        "df1.head()"
      ],
      "execution_count": null,
      "outputs": [
        {
          "output_type": "execute_result",
          "data": {
            "text/html": [
              "<div>\n",
              "<style scoped>\n",
              "    .dataframe tbody tr th:only-of-type {\n",
              "        vertical-align: middle;\n",
              "    }\n",
              "\n",
              "    .dataframe tbody tr th {\n",
              "        vertical-align: top;\n",
              "    }\n",
              "\n",
              "    .dataframe thead th {\n",
              "        text-align: right;\n",
              "    }\n",
              "</style>\n",
              "<table border=\"1\" class=\"dataframe\">\n",
              "  <thead>\n",
              "    <tr style=\"text-align: right;\">\n",
              "      <th></th>\n",
              "      <th>reviewerID</th>\n",
              "      <th>asin</th>\n",
              "      <th>overall</th>\n",
              "      <th>category</th>\n",
              "      <th>title</th>\n",
              "    </tr>\n",
              "  </thead>\n",
              "  <tbody>\n",
              "    <tr>\n",
              "      <th>379</th>\n",
              "      <td>A3CW0ZLUO5X2B1</td>\n",
              "      <td>B0009B0IX4</td>\n",
              "      <td>5</td>\n",
              "      <td>[]</td>\n",
              "      <td>Plantronics Voyager 510 Bluetooth Headset [Ret...</td>\n",
              "    </tr>\n",
              "    <tr>\n",
              "      <th>380</th>\n",
              "      <td>ASVZC9DBNE92O</td>\n",
              "      <td>B0009B0IX4</td>\n",
              "      <td>5</td>\n",
              "      <td>[]</td>\n",
              "      <td>Plantronics Voyager 510 Bluetooth Headset [Ret...</td>\n",
              "    </tr>\n",
              "    <tr>\n",
              "      <th>381</th>\n",
              "      <td>A3PLIXRZ6HWVTQ</td>\n",
              "      <td>B0009B0IX4</td>\n",
              "      <td>5</td>\n",
              "      <td>[]</td>\n",
              "      <td>Plantronics Voyager 510 Bluetooth Headset [Ret...</td>\n",
              "    </tr>\n",
              "    <tr>\n",
              "      <th>382</th>\n",
              "      <td>A19RW25Q6206I3</td>\n",
              "      <td>B0009B0IX4</td>\n",
              "      <td>5</td>\n",
              "      <td>[]</td>\n",
              "      <td>Plantronics Voyager 510 Bluetooth Headset [Ret...</td>\n",
              "    </tr>\n",
              "    <tr>\n",
              "      <th>383</th>\n",
              "      <td>AUG0C084W05KI</td>\n",
              "      <td>B0009B0IX4</td>\n",
              "      <td>4</td>\n",
              "      <td>[]</td>\n",
              "      <td>Plantronics Voyager 510 Bluetooth Headset [Ret...</td>\n",
              "    </tr>\n",
              "  </tbody>\n",
              "</table>\n",
              "</div>"
            ],
            "text/plain": [
              "         reviewerID  ...                                              title\n",
              "379  A3CW0ZLUO5X2B1  ...  Plantronics Voyager 510 Bluetooth Headset [Ret...\n",
              "380   ASVZC9DBNE92O  ...  Plantronics Voyager 510 Bluetooth Headset [Ret...\n",
              "381  A3PLIXRZ6HWVTQ  ...  Plantronics Voyager 510 Bluetooth Headset [Ret...\n",
              "382  A19RW25Q6206I3  ...  Plantronics Voyager 510 Bluetooth Headset [Ret...\n",
              "383   AUG0C084W05KI  ...  Plantronics Voyager 510 Bluetooth Headset [Ret...\n",
              "\n",
              "[5 rows x 5 columns]"
            ]
          },
          "metadata": {
            "tags": []
          },
          "execution_count": 31
        }
      ]
    },
    {
      "cell_type": "code",
      "metadata": {
        "colab": {
          "base_uri": "https://localhost:8080/",
          "height": 195
        },
        "id": "qXgzv4bw5zFg",
        "outputId": "08342c87-1fdc-4e50-c222-634534cfc611"
      },
      "source": [
        "df2.head()"
      ],
      "execution_count": null,
      "outputs": [
        {
          "output_type": "execute_result",
          "data": {
            "text/html": [
              "<div>\n",
              "<style scoped>\n",
              "    .dataframe tbody tr th:only-of-type {\n",
              "        vertical-align: middle;\n",
              "    }\n",
              "\n",
              "    .dataframe tbody tr th {\n",
              "        vertical-align: top;\n",
              "    }\n",
              "\n",
              "    .dataframe thead th {\n",
              "        text-align: right;\n",
              "    }\n",
              "</style>\n",
              "<table border=\"1\" class=\"dataframe\">\n",
              "  <thead>\n",
              "    <tr style=\"text-align: right;\">\n",
              "      <th></th>\n",
              "      <th>reviewerID</th>\n",
              "      <th>asin</th>\n",
              "      <th>overall</th>\n",
              "      <th>category</th>\n",
              "      <th>title</th>\n",
              "    </tr>\n",
              "  </thead>\n",
              "  <tbody>\n",
              "    <tr>\n",
              "      <th>2027</th>\n",
              "      <td>A36K2N527TXXJN</td>\n",
              "      <td>B0013G8PTS</td>\n",
              "      <td>5</td>\n",
              "      <td>[Cell Phones &amp; Accessories, Accessories, Batte...</td>\n",
              "      <td>New Trent: iTorch 5200mAh Ultra Portable USB P...</td>\n",
              "    </tr>\n",
              "    <tr>\n",
              "      <th>3265</th>\n",
              "      <td>A1ODOGXEYECQQ8</td>\n",
              "      <td>B001FVPU9O</td>\n",
              "      <td>5</td>\n",
              "      <td>[Cell Phones &amp; Accessories, Cases, Holsters &amp; ...</td>\n",
              "      <td>OtterBox Defender Case for iPhone 3G, 3GS (Bla...</td>\n",
              "    </tr>\n",
              "    <tr>\n",
              "      <th>17123</th>\n",
              "      <td>A1ODOGXEYECQQ8</td>\n",
              "      <td>B004XZHY34</td>\n",
              "      <td>4</td>\n",
              "      <td>[Cell Phones &amp; Accessories, Accessories, Car A...</td>\n",
              "      <td>Jabra Freeway Bluetooth In-Car Speakerphone (U...</td>\n",
              "    </tr>\n",
              "    <tr>\n",
              "      <th>23012</th>\n",
              "      <td>A2NOW4U7W3F7RI</td>\n",
              "      <td>B005GGBYJ4</td>\n",
              "      <td>5</td>\n",
              "      <td>[Cell Phones &amp; Accessories, Accessories, Cables]</td>\n",
              "      <td>T &amp;amp; S Electronics Micro USB OTG Cable - Mi...</td>\n",
              "    </tr>\n",
              "    <tr>\n",
              "      <th>24459</th>\n",
              "      <td>A22CW0ZHY3NJH8</td>\n",
              "      <td>B005LFXBJG</td>\n",
              "      <td>4</td>\n",
              "      <td>[Cell Phones &amp; Accessories, Accessories]</td>\n",
              "      <td>Motorola SJ1446A USB Wall Charger with Micro U...</td>\n",
              "    </tr>\n",
              "  </tbody>\n",
              "</table>\n",
              "</div>"
            ],
            "text/plain": [
              "           reviewerID  ...                                              title\n",
              "2027   A36K2N527TXXJN  ...  New Trent: iTorch 5200mAh Ultra Portable USB P...\n",
              "3265   A1ODOGXEYECQQ8  ...  OtterBox Defender Case for iPhone 3G, 3GS (Bla...\n",
              "17123  A1ODOGXEYECQQ8  ...  Jabra Freeway Bluetooth In-Car Speakerphone (U...\n",
              "23012  A2NOW4U7W3F7RI  ...  T &amp; S Electronics Micro USB OTG Cable - Mi...\n",
              "24459  A22CW0ZHY3NJH8  ...  Motorola SJ1446A USB Wall Charger with Micro U...\n",
              "\n",
              "[5 rows x 5 columns]"
            ]
          },
          "metadata": {
            "tags": []
          },
          "execution_count": 32
        }
      ]
    },
    {
      "cell_type": "code",
      "metadata": {
        "colab": {
          "base_uri": "https://localhost:8080/",
          "height": 373
        },
        "id": "K3H_N7WA53nF",
        "outputId": "25d19a39-18b3-48fb-9a92-d55179473e48"
      },
      "source": [
        "ratings_sum = pd.DataFrame(df1.groupby(['asin'])['overall'].sum()).rename(columns = {'overall': 'overall_sum'})\n",
        "top10 = ratings_sum.sort_values('overall_sum', ascending = False).head(10)\n",
        "top10"
      ],
      "execution_count": null,
      "outputs": [
        {
          "output_type": "execute_result",
          "data": {
            "text/html": [
              "<div>\n",
              "<style scoped>\n",
              "    .dataframe tbody tr th:only-of-type {\n",
              "        vertical-align: middle;\n",
              "    }\n",
              "\n",
              "    .dataframe tbody tr th {\n",
              "        vertical-align: top;\n",
              "    }\n",
              "\n",
              "    .dataframe thead th {\n",
              "        text-align: right;\n",
              "    }\n",
              "</style>\n",
              "<table border=\"1\" class=\"dataframe\">\n",
              "  <thead>\n",
              "    <tr style=\"text-align: right;\">\n",
              "      <th></th>\n",
              "      <th>overall_sum</th>\n",
              "    </tr>\n",
              "    <tr>\n",
              "      <th>asin</th>\n",
              "      <th></th>\n",
              "    </tr>\n",
              "  </thead>\n",
              "  <tbody>\n",
              "    <tr>\n",
              "      <th>B005SUHPO6</th>\n",
              "      <td>3656</td>\n",
              "    </tr>\n",
              "    <tr>\n",
              "      <th>B0090YGJ4I</th>\n",
              "      <td>1962</td>\n",
              "    </tr>\n",
              "    <tr>\n",
              "      <th>B00BT7RAPG</th>\n",
              "      <td>1889</td>\n",
              "    </tr>\n",
              "    <tr>\n",
              "      <th>B005SUHRVC</th>\n",
              "      <td>1745</td>\n",
              "    </tr>\n",
              "    <tr>\n",
              "      <th>B008LFTCAK</th>\n",
              "      <td>1736</td>\n",
              "    </tr>\n",
              "    <tr>\n",
              "      <th>B00ANALDWQ</th>\n",
              "      <td>1548</td>\n",
              "    </tr>\n",
              "    <tr>\n",
              "      <th>B00974L0EA</th>\n",
              "      <td>1447</td>\n",
              "    </tr>\n",
              "    <tr>\n",
              "      <th>B0059DLLJC</th>\n",
              "      <td>1396</td>\n",
              "    </tr>\n",
              "    <tr>\n",
              "      <th>B0013G8PTS</th>\n",
              "      <td>1391</td>\n",
              "    </tr>\n",
              "    <tr>\n",
              "      <th>B004G1L52Q</th>\n",
              "      <td>1380</td>\n",
              "    </tr>\n",
              "  </tbody>\n",
              "</table>\n",
              "</div>"
            ],
            "text/plain": [
              "            overall_sum\n",
              "asin                   \n",
              "B005SUHPO6         3656\n",
              "B0090YGJ4I         1962\n",
              "B00BT7RAPG         1889\n",
              "B005SUHRVC         1745\n",
              "B008LFTCAK         1736\n",
              "B00ANALDWQ         1548\n",
              "B00974L0EA         1447\n",
              "B0059DLLJC         1396\n",
              "B0013G8PTS         1391\n",
              "B004G1L52Q         1380"
            ]
          },
          "metadata": {
            "tags": []
          },
          "execution_count": 33
        }
      ]
    },
    {
      "cell_type": "code",
      "metadata": {
        "id": "hJnOKwlk6cct"
      },
      "source": [
        "top10_popular=top10.merge(df1,left_index = True, right_on = 'asin').drop_duplicates(\n",
        "    ['asin', 'title'])[['asin', 'title','overall_sum']]"
      ],
      "execution_count": null,
      "outputs": []
    },
    {
      "cell_type": "code",
      "metadata": {
        "colab": {
          "base_uri": "https://localhost:8080/",
          "height": 377
        },
        "id": "8_eEN3_y7gOX",
        "outputId": "efa823b1-e8a6-4e4b-950c-e7594059c019"
      },
      "source": [
        "print ('Top 10 Popular Products by sum user ratings\\n')\n",
        "top10_popular"
      ],
      "execution_count": null,
      "outputs": [
        {
          "output_type": "stream",
          "text": [
            "Top 10 Popular Products by sum user ratings\n",
            "\n"
          ],
          "name": "stdout"
        },
        {
          "output_type": "execute_result",
          "data": {
            "text/html": [
              "<div>\n",
              "<style scoped>\n",
              "    .dataframe tbody tr th:only-of-type {\n",
              "        vertical-align: middle;\n",
              "    }\n",
              "\n",
              "    .dataframe tbody tr th {\n",
              "        vertical-align: top;\n",
              "    }\n",
              "\n",
              "    .dataframe thead th {\n",
              "        text-align: right;\n",
              "    }\n",
              "</style>\n",
              "<table border=\"1\" class=\"dataframe\">\n",
              "  <thead>\n",
              "    <tr style=\"text-align: right;\">\n",
              "      <th></th>\n",
              "      <th>asin</th>\n",
              "      <th>title</th>\n",
              "      <th>overall_sum</th>\n",
              "    </tr>\n",
              "  </thead>\n",
              "  <tbody>\n",
              "    <tr>\n",
              "      <th>26890</th>\n",
              "      <td>B005SUHPO6</td>\n",
              "      <td>Otterbox Defender Series Hybrid Case &amp;amp; Hol...</td>\n",
              "      <td>3656</td>\n",
              "    </tr>\n",
              "    <tr>\n",
              "      <th>46409</th>\n",
              "      <td>B0090YGJ4I</td>\n",
              "      <td>OtterBox Defender Series Case for iPhone 5 (Di...</td>\n",
              "      <td>1962</td>\n",
              "    </tr>\n",
              "    <tr>\n",
              "      <th>66980</th>\n",
              "      <td>B00BT7RAPG</td>\n",
              "      <td>Tech Armor Samsung Samsung Galaxy S4 (Not S4 A...</td>\n",
              "      <td>1889</td>\n",
              "    </tr>\n",
              "    <tr>\n",
              "      <th>27780</th>\n",
              "      <td>B005SUHRVC</td>\n",
              "      <td>OtterBox Commuter Series Case for iPhone 4/4S&amp;...</td>\n",
              "      <td>1745</td>\n",
              "    </tr>\n",
              "    <tr>\n",
              "      <th>44474</th>\n",
              "      <td>B008LFTCAK</td>\n",
              "      <td>Generic Clear Screen Protector Shield for the ...</td>\n",
              "      <td>1736</td>\n",
              "    </tr>\n",
              "    <tr>\n",
              "      <th>61238</th>\n",
              "      <td>B00ANALDWQ</td>\n",
              "      <td>iPhone 5s Case, Spigen Slim Armor Case for iPh...</td>\n",
              "      <td>1548</td>\n",
              "    </tr>\n",
              "    <tr>\n",
              "      <th>49928</th>\n",
              "      <td>B00974L0EA</td>\n",
              "      <td>OtterBox COMMUTER SERIES Case for iPhone 5/5s/...</td>\n",
              "      <td>1447</td>\n",
              "    </tr>\n",
              "    <tr>\n",
              "      <th>20241</th>\n",
              "      <td>B0059DLLJC</td>\n",
              "      <td>Snap-on Rubber Coated Case for Apple&amp;reg; iPho...</td>\n",
              "      <td>1396</td>\n",
              "    </tr>\n",
              "    <tr>\n",
              "      <th>1934</th>\n",
              "      <td>B0013G8PTS</td>\n",
              "      <td>New Trent: iTorch 5200mAh Ultra Portable USB P...</td>\n",
              "      <td>1391</td>\n",
              "    </tr>\n",
              "    <tr>\n",
              "      <th>12640</th>\n",
              "      <td>B004G1L52Q</td>\n",
              "      <td>Mountek nGroove Universal CD Slot Mount for Ce...</td>\n",
              "      <td>1380</td>\n",
              "    </tr>\n",
              "  </tbody>\n",
              "</table>\n",
              "</div>"
            ],
            "text/plain": [
              "             asin  ... overall_sum\n",
              "26890  B005SUHPO6  ...        3656\n",
              "46409  B0090YGJ4I  ...        1962\n",
              "66980  B00BT7RAPG  ...        1889\n",
              "27780  B005SUHRVC  ...        1745\n",
              "44474  B008LFTCAK  ...        1736\n",
              "61238  B00ANALDWQ  ...        1548\n",
              "49928  B00974L0EA  ...        1447\n",
              "20241  B0059DLLJC  ...        1396\n",
              "1934   B0013G8PTS  ...        1391\n",
              "12640  B004G1L52Q  ...        1380\n",
              "\n",
              "[10 rows x 3 columns]"
            ]
          },
          "metadata": {
            "tags": []
          },
          "execution_count": 35
        }
      ]
    },
    {
      "cell_type": "code",
      "metadata": {
        "colab": {
          "base_uri": "https://localhost:8080/",
          "height": 274
        },
        "id": "9jcfHzfX7gRx",
        "outputId": "d4fd46d3-b159-4595-aa63-3ad5ab488070"
      },
      "source": [
        "ratingsd=df1.pivot(index='asin',columns= 'reviewerID',values='overall').fillna(0)\n",
        "ratingsd.head()"
      ],
      "execution_count": null,
      "outputs": [
        {
          "output_type": "execute_result",
          "data": {
            "text/html": [
              "<div>\n",
              "<style scoped>\n",
              "    .dataframe tbody tr th:only-of-type {\n",
              "        vertical-align: middle;\n",
              "    }\n",
              "\n",
              "    .dataframe tbody tr th {\n",
              "        vertical-align: top;\n",
              "    }\n",
              "\n",
              "    .dataframe thead th {\n",
              "        text-align: right;\n",
              "    }\n",
              "</style>\n",
              "<table border=\"1\" class=\"dataframe\">\n",
              "  <thead>\n",
              "    <tr style=\"text-align: right;\">\n",
              "      <th>reviewerID</th>\n",
              "      <th>A01038432MVI9JXYTTK5T</th>\n",
              "      <th>A01335502AS0LP3ASV1Z7</th>\n",
              "      <th>A01410041ZE038XXVXLBB</th>\n",
              "      <th>A01534622D57NTXSH2WBR</th>\n",
              "      <th>A01566963M68G4TMRL8YP</th>\n",
              "      <th>A025531519P5C6VNP05FT</th>\n",
              "      <th>A0260105268IXGY2H11N2</th>\n",
              "      <th>A027168223K80PQU4IP35</th>\n",
              "      <th>A02914441KN9I9HCGIYGD</th>\n",
              "      <th>A0388397363MZHRU6ALSX</th>\n",
              "      <th>A0464351OZXPUPKGI6HO</th>\n",
              "      <th>A04896451D6BHVAUTD75W</th>\n",
              "      <th>A05470662LAYR9LN1QIKW</th>\n",
              "      <th>A059899119L7CHCKBYQRD</th>\n",
              "      <th>A0611551KU79JNSC7JJV</th>\n",
              "      <th>A06170512LLXAS5ND7UQB</th>\n",
              "      <th>A0712184E2Z0T1Z4V4ZN</th>\n",
              "      <th>A0718784TOWF9DX1DOFD</th>\n",
              "      <th>A07961442OVXEW0GVNUET</th>\n",
              "      <th>A08699911833RNLMSSUKC</th>\n",
              "      <th>A09254782VJKWIDD9QUZM</th>\n",
              "      <th>A0954586PW98I9TNZXJP</th>\n",
              "      <th>A1000SVLSFZ8S6</th>\n",
              "      <th>A10063PJ5C9WQQ</th>\n",
              "      <th>A101577718CATXNFEYBQR</th>\n",
              "      <th>A10169B1F7EQ9T</th>\n",
              "      <th>A1018D502E27E6</th>\n",
              "      <th>A101UMMRGQJJ7X</th>\n",
              "      <th>A10204DEPQA929</th>\n",
              "      <th>A10214432MOS74F92C9QW</th>\n",
              "      <th>A10276293VA68AYD25VIZ</th>\n",
              "      <th>A102R6G6WVWF23</th>\n",
              "      <th>A102XBFOWJT4K</th>\n",
              "      <th>A103CDLPIN70O9</th>\n",
              "      <th>A103CVD599R8QA</th>\n",
              "      <th>A103D3GYGFHS96</th>\n",
              "      <th>A103EFN0LE0PPT</th>\n",
              "      <th>A1047EDJ84IMAS</th>\n",
              "      <th>A1047HEENF4C0C</th>\n",
              "      <th>A104G4NLBF3HY3</th>\n",
              "      <th>...</th>\n",
              "      <th>AZLE2XFH3JUNG</th>\n",
              "      <th>AZLFA2L5KHF3N</th>\n",
              "      <th>AZLWQV9SEZ1SS</th>\n",
              "      <th>AZMMFZKJB8PV6</th>\n",
              "      <th>AZMOM619PTO5B</th>\n",
              "      <th>AZMY6E8B52L2T</th>\n",
              "      <th>AZNQF5GS3X6CR</th>\n",
              "      <th>AZNUNL2GIX0AP</th>\n",
              "      <th>AZO17Q5R3XLYA</th>\n",
              "      <th>AZOFNVDHKYKNL</th>\n",
              "      <th>AZOJOJH5AF4TE</th>\n",
              "      <th>AZOK5STV85FBJ</th>\n",
              "      <th>AZORJBW9TZUWO</th>\n",
              "      <th>AZOW9BV7LC3SP</th>\n",
              "      <th>AZPZROZJIKBE8</th>\n",
              "      <th>AZQ8PGVNCKXJ</th>\n",
              "      <th>AZQGJ5CEAJGXB</th>\n",
              "      <th>AZQWH5DUZQIZ7</th>\n",
              "      <th>AZQYPTZWZVI18</th>\n",
              "      <th>AZR0H4PD8U0CG</th>\n",
              "      <th>AZRAGVPSIS3MN</th>\n",
              "      <th>AZRDBRM4H6333</th>\n",
              "      <th>AZSLYXFYF05R</th>\n",
              "      <th>AZT5LAAL450FN</th>\n",
              "      <th>AZTF4394JEP2Y</th>\n",
              "      <th>AZUBZF1FK4C0F</th>\n",
              "      <th>AZUR8PYQ9LFFE</th>\n",
              "      <th>AZV9TQDZU7306</th>\n",
              "      <th>AZVEABJEV1TQN</th>\n",
              "      <th>AZW6WE7UXAMU0</th>\n",
              "      <th>AZW9ENHHISX6A</th>\n",
              "      <th>AZWQEM8GKXQ5Y</th>\n",
              "      <th>AZWVLJM3958OD</th>\n",
              "      <th>AZXQ9HFT8OQZ9</th>\n",
              "      <th>AZXXVMQWISPH6</th>\n",
              "      <th>AZYA6NBTF2843</th>\n",
              "      <th>AZYJTD9J82V5I</th>\n",
              "      <th>AZZ1QIEWIUC1G</th>\n",
              "      <th>AZZVYHVJ8BDUZ</th>\n",
              "      <th>AZZYW4YOE1B6E</th>\n",
              "    </tr>\n",
              "    <tr>\n",
              "      <th>asin</th>\n",
              "      <th></th>\n",
              "      <th></th>\n",
              "      <th></th>\n",
              "      <th></th>\n",
              "      <th></th>\n",
              "      <th></th>\n",
              "      <th></th>\n",
              "      <th></th>\n",
              "      <th></th>\n",
              "      <th></th>\n",
              "      <th></th>\n",
              "      <th></th>\n",
              "      <th></th>\n",
              "      <th></th>\n",
              "      <th></th>\n",
              "      <th></th>\n",
              "      <th></th>\n",
              "      <th></th>\n",
              "      <th></th>\n",
              "      <th></th>\n",
              "      <th></th>\n",
              "      <th></th>\n",
              "      <th></th>\n",
              "      <th></th>\n",
              "      <th></th>\n",
              "      <th></th>\n",
              "      <th></th>\n",
              "      <th></th>\n",
              "      <th></th>\n",
              "      <th></th>\n",
              "      <th></th>\n",
              "      <th></th>\n",
              "      <th></th>\n",
              "      <th></th>\n",
              "      <th></th>\n",
              "      <th></th>\n",
              "      <th></th>\n",
              "      <th></th>\n",
              "      <th></th>\n",
              "      <th></th>\n",
              "      <th></th>\n",
              "      <th></th>\n",
              "      <th></th>\n",
              "      <th></th>\n",
              "      <th></th>\n",
              "      <th></th>\n",
              "      <th></th>\n",
              "      <th></th>\n",
              "      <th></th>\n",
              "      <th></th>\n",
              "      <th></th>\n",
              "      <th></th>\n",
              "      <th></th>\n",
              "      <th></th>\n",
              "      <th></th>\n",
              "      <th></th>\n",
              "      <th></th>\n",
              "      <th></th>\n",
              "      <th></th>\n",
              "      <th></th>\n",
              "      <th></th>\n",
              "      <th></th>\n",
              "      <th></th>\n",
              "      <th></th>\n",
              "      <th></th>\n",
              "      <th></th>\n",
              "      <th></th>\n",
              "      <th></th>\n",
              "      <th></th>\n",
              "      <th></th>\n",
              "      <th></th>\n",
              "      <th></th>\n",
              "      <th></th>\n",
              "      <th></th>\n",
              "      <th></th>\n",
              "      <th></th>\n",
              "      <th></th>\n",
              "      <th></th>\n",
              "      <th></th>\n",
              "      <th></th>\n",
              "      <th></th>\n",
              "    </tr>\n",
              "  </thead>\n",
              "  <tbody>\n",
              "    <tr>\n",
              "      <th>B0009B0IX4</th>\n",
              "      <td>0.0</td>\n",
              "      <td>0.0</td>\n",
              "      <td>0.0</td>\n",
              "      <td>0.0</td>\n",
              "      <td>0.0</td>\n",
              "      <td>0.0</td>\n",
              "      <td>0.0</td>\n",
              "      <td>0.0</td>\n",
              "      <td>0.0</td>\n",
              "      <td>0.0</td>\n",
              "      <td>0.0</td>\n",
              "      <td>0.0</td>\n",
              "      <td>0.0</td>\n",
              "      <td>0.0</td>\n",
              "      <td>0.0</td>\n",
              "      <td>0.0</td>\n",
              "      <td>0.0</td>\n",
              "      <td>0.0</td>\n",
              "      <td>0.0</td>\n",
              "      <td>0.0</td>\n",
              "      <td>0.0</td>\n",
              "      <td>0.0</td>\n",
              "      <td>0.0</td>\n",
              "      <td>0.0</td>\n",
              "      <td>0.0</td>\n",
              "      <td>0.0</td>\n",
              "      <td>0.0</td>\n",
              "      <td>0.0</td>\n",
              "      <td>0.0</td>\n",
              "      <td>0.0</td>\n",
              "      <td>0.0</td>\n",
              "      <td>0.0</td>\n",
              "      <td>0.0</td>\n",
              "      <td>0.0</td>\n",
              "      <td>0.0</td>\n",
              "      <td>0.0</td>\n",
              "      <td>0.0</td>\n",
              "      <td>0.0</td>\n",
              "      <td>0.0</td>\n",
              "      <td>0.0</td>\n",
              "      <td>...</td>\n",
              "      <td>0.0</td>\n",
              "      <td>0.0</td>\n",
              "      <td>0.0</td>\n",
              "      <td>0.0</td>\n",
              "      <td>0.0</td>\n",
              "      <td>0.0</td>\n",
              "      <td>0.0</td>\n",
              "      <td>0.0</td>\n",
              "      <td>0.0</td>\n",
              "      <td>0.0</td>\n",
              "      <td>0.0</td>\n",
              "      <td>0.0</td>\n",
              "      <td>0.0</td>\n",
              "      <td>0.0</td>\n",
              "      <td>0.0</td>\n",
              "      <td>0.0</td>\n",
              "      <td>0.0</td>\n",
              "      <td>0.0</td>\n",
              "      <td>0.0</td>\n",
              "      <td>0.0</td>\n",
              "      <td>0.0</td>\n",
              "      <td>0.0</td>\n",
              "      <td>0.0</td>\n",
              "      <td>0.0</td>\n",
              "      <td>0.0</td>\n",
              "      <td>0.0</td>\n",
              "      <td>0.0</td>\n",
              "      <td>0.0</td>\n",
              "      <td>0.0</td>\n",
              "      <td>0.0</td>\n",
              "      <td>0.0</td>\n",
              "      <td>0.0</td>\n",
              "      <td>0.0</td>\n",
              "      <td>0.0</td>\n",
              "      <td>0.0</td>\n",
              "      <td>0.0</td>\n",
              "      <td>0.0</td>\n",
              "      <td>0.0</td>\n",
              "      <td>0.0</td>\n",
              "      <td>0.0</td>\n",
              "    </tr>\n",
              "    <tr>\n",
              "      <th>B000GAO9T2</th>\n",
              "      <td>0.0</td>\n",
              "      <td>0.0</td>\n",
              "      <td>0.0</td>\n",
              "      <td>0.0</td>\n",
              "      <td>0.0</td>\n",
              "      <td>0.0</td>\n",
              "      <td>0.0</td>\n",
              "      <td>0.0</td>\n",
              "      <td>0.0</td>\n",
              "      <td>0.0</td>\n",
              "      <td>0.0</td>\n",
              "      <td>0.0</td>\n",
              "      <td>0.0</td>\n",
              "      <td>0.0</td>\n",
              "      <td>0.0</td>\n",
              "      <td>0.0</td>\n",
              "      <td>0.0</td>\n",
              "      <td>0.0</td>\n",
              "      <td>0.0</td>\n",
              "      <td>0.0</td>\n",
              "      <td>0.0</td>\n",
              "      <td>0.0</td>\n",
              "      <td>0.0</td>\n",
              "      <td>0.0</td>\n",
              "      <td>0.0</td>\n",
              "      <td>0.0</td>\n",
              "      <td>0.0</td>\n",
              "      <td>0.0</td>\n",
              "      <td>0.0</td>\n",
              "      <td>0.0</td>\n",
              "      <td>0.0</td>\n",
              "      <td>0.0</td>\n",
              "      <td>0.0</td>\n",
              "      <td>0.0</td>\n",
              "      <td>0.0</td>\n",
              "      <td>0.0</td>\n",
              "      <td>0.0</td>\n",
              "      <td>0.0</td>\n",
              "      <td>0.0</td>\n",
              "      <td>0.0</td>\n",
              "      <td>...</td>\n",
              "      <td>0.0</td>\n",
              "      <td>0.0</td>\n",
              "      <td>0.0</td>\n",
              "      <td>0.0</td>\n",
              "      <td>5.0</td>\n",
              "      <td>0.0</td>\n",
              "      <td>0.0</td>\n",
              "      <td>0.0</td>\n",
              "      <td>0.0</td>\n",
              "      <td>0.0</td>\n",
              "      <td>0.0</td>\n",
              "      <td>0.0</td>\n",
              "      <td>0.0</td>\n",
              "      <td>0.0</td>\n",
              "      <td>0.0</td>\n",
              "      <td>0.0</td>\n",
              "      <td>0.0</td>\n",
              "      <td>0.0</td>\n",
              "      <td>0.0</td>\n",
              "      <td>0.0</td>\n",
              "      <td>0.0</td>\n",
              "      <td>0.0</td>\n",
              "      <td>0.0</td>\n",
              "      <td>0.0</td>\n",
              "      <td>0.0</td>\n",
              "      <td>0.0</td>\n",
              "      <td>0.0</td>\n",
              "      <td>0.0</td>\n",
              "      <td>0.0</td>\n",
              "      <td>0.0</td>\n",
              "      <td>0.0</td>\n",
              "      <td>0.0</td>\n",
              "      <td>0.0</td>\n",
              "      <td>0.0</td>\n",
              "      <td>0.0</td>\n",
              "      <td>0.0</td>\n",
              "      <td>0.0</td>\n",
              "      <td>0.0</td>\n",
              "      <td>0.0</td>\n",
              "      <td>0.0</td>\n",
              "    </tr>\n",
              "    <tr>\n",
              "      <th>B000I8ACMU</th>\n",
              "      <td>0.0</td>\n",
              "      <td>0.0</td>\n",
              "      <td>0.0</td>\n",
              "      <td>0.0</td>\n",
              "      <td>0.0</td>\n",
              "      <td>0.0</td>\n",
              "      <td>0.0</td>\n",
              "      <td>0.0</td>\n",
              "      <td>0.0</td>\n",
              "      <td>0.0</td>\n",
              "      <td>0.0</td>\n",
              "      <td>0.0</td>\n",
              "      <td>0.0</td>\n",
              "      <td>0.0</td>\n",
              "      <td>0.0</td>\n",
              "      <td>0.0</td>\n",
              "      <td>0.0</td>\n",
              "      <td>0.0</td>\n",
              "      <td>0.0</td>\n",
              "      <td>0.0</td>\n",
              "      <td>0.0</td>\n",
              "      <td>0.0</td>\n",
              "      <td>0.0</td>\n",
              "      <td>0.0</td>\n",
              "      <td>0.0</td>\n",
              "      <td>0.0</td>\n",
              "      <td>0.0</td>\n",
              "      <td>0.0</td>\n",
              "      <td>0.0</td>\n",
              "      <td>0.0</td>\n",
              "      <td>0.0</td>\n",
              "      <td>0.0</td>\n",
              "      <td>0.0</td>\n",
              "      <td>0.0</td>\n",
              "      <td>0.0</td>\n",
              "      <td>0.0</td>\n",
              "      <td>0.0</td>\n",
              "      <td>0.0</td>\n",
              "      <td>0.0</td>\n",
              "      <td>0.0</td>\n",
              "      <td>...</td>\n",
              "      <td>0.0</td>\n",
              "      <td>0.0</td>\n",
              "      <td>0.0</td>\n",
              "      <td>0.0</td>\n",
              "      <td>0.0</td>\n",
              "      <td>0.0</td>\n",
              "      <td>0.0</td>\n",
              "      <td>0.0</td>\n",
              "      <td>0.0</td>\n",
              "      <td>0.0</td>\n",
              "      <td>0.0</td>\n",
              "      <td>0.0</td>\n",
              "      <td>0.0</td>\n",
              "      <td>0.0</td>\n",
              "      <td>0.0</td>\n",
              "      <td>0.0</td>\n",
              "      <td>0.0</td>\n",
              "      <td>0.0</td>\n",
              "      <td>0.0</td>\n",
              "      <td>0.0</td>\n",
              "      <td>0.0</td>\n",
              "      <td>0.0</td>\n",
              "      <td>0.0</td>\n",
              "      <td>0.0</td>\n",
              "      <td>0.0</td>\n",
              "      <td>0.0</td>\n",
              "      <td>0.0</td>\n",
              "      <td>0.0</td>\n",
              "      <td>0.0</td>\n",
              "      <td>0.0</td>\n",
              "      <td>0.0</td>\n",
              "      <td>0.0</td>\n",
              "      <td>0.0</td>\n",
              "      <td>0.0</td>\n",
              "      <td>0.0</td>\n",
              "      <td>0.0</td>\n",
              "      <td>0.0</td>\n",
              "      <td>0.0</td>\n",
              "      <td>0.0</td>\n",
              "      <td>0.0</td>\n",
              "    </tr>\n",
              "    <tr>\n",
              "      <th>B000IEB00W</th>\n",
              "      <td>0.0</td>\n",
              "      <td>0.0</td>\n",
              "      <td>0.0</td>\n",
              "      <td>0.0</td>\n",
              "      <td>0.0</td>\n",
              "      <td>0.0</td>\n",
              "      <td>0.0</td>\n",
              "      <td>0.0</td>\n",
              "      <td>0.0</td>\n",
              "      <td>0.0</td>\n",
              "      <td>0.0</td>\n",
              "      <td>0.0</td>\n",
              "      <td>0.0</td>\n",
              "      <td>0.0</td>\n",
              "      <td>0.0</td>\n",
              "      <td>0.0</td>\n",
              "      <td>0.0</td>\n",
              "      <td>0.0</td>\n",
              "      <td>0.0</td>\n",
              "      <td>0.0</td>\n",
              "      <td>0.0</td>\n",
              "      <td>0.0</td>\n",
              "      <td>0.0</td>\n",
              "      <td>0.0</td>\n",
              "      <td>0.0</td>\n",
              "      <td>0.0</td>\n",
              "      <td>0.0</td>\n",
              "      <td>0.0</td>\n",
              "      <td>0.0</td>\n",
              "      <td>0.0</td>\n",
              "      <td>0.0</td>\n",
              "      <td>0.0</td>\n",
              "      <td>0.0</td>\n",
              "      <td>0.0</td>\n",
              "      <td>0.0</td>\n",
              "      <td>0.0</td>\n",
              "      <td>0.0</td>\n",
              "      <td>0.0</td>\n",
              "      <td>0.0</td>\n",
              "      <td>0.0</td>\n",
              "      <td>...</td>\n",
              "      <td>0.0</td>\n",
              "      <td>0.0</td>\n",
              "      <td>0.0</td>\n",
              "      <td>0.0</td>\n",
              "      <td>0.0</td>\n",
              "      <td>0.0</td>\n",
              "      <td>0.0</td>\n",
              "      <td>0.0</td>\n",
              "      <td>0.0</td>\n",
              "      <td>0.0</td>\n",
              "      <td>0.0</td>\n",
              "      <td>0.0</td>\n",
              "      <td>0.0</td>\n",
              "      <td>0.0</td>\n",
              "      <td>0.0</td>\n",
              "      <td>0.0</td>\n",
              "      <td>0.0</td>\n",
              "      <td>0.0</td>\n",
              "      <td>0.0</td>\n",
              "      <td>0.0</td>\n",
              "      <td>0.0</td>\n",
              "      <td>0.0</td>\n",
              "      <td>0.0</td>\n",
              "      <td>0.0</td>\n",
              "      <td>0.0</td>\n",
              "      <td>0.0</td>\n",
              "      <td>0.0</td>\n",
              "      <td>0.0</td>\n",
              "      <td>0.0</td>\n",
              "      <td>0.0</td>\n",
              "      <td>0.0</td>\n",
              "      <td>0.0</td>\n",
              "      <td>0.0</td>\n",
              "      <td>0.0</td>\n",
              "      <td>0.0</td>\n",
              "      <td>0.0</td>\n",
              "      <td>0.0</td>\n",
              "      <td>0.0</td>\n",
              "      <td>0.0</td>\n",
              "      <td>0.0</td>\n",
              "    </tr>\n",
              "    <tr>\n",
              "      <th>B0013G8PTS</th>\n",
              "      <td>0.0</td>\n",
              "      <td>0.0</td>\n",
              "      <td>0.0</td>\n",
              "      <td>0.0</td>\n",
              "      <td>0.0</td>\n",
              "      <td>0.0</td>\n",
              "      <td>0.0</td>\n",
              "      <td>0.0</td>\n",
              "      <td>0.0</td>\n",
              "      <td>0.0</td>\n",
              "      <td>0.0</td>\n",
              "      <td>0.0</td>\n",
              "      <td>0.0</td>\n",
              "      <td>0.0</td>\n",
              "      <td>0.0</td>\n",
              "      <td>0.0</td>\n",
              "      <td>0.0</td>\n",
              "      <td>0.0</td>\n",
              "      <td>0.0</td>\n",
              "      <td>0.0</td>\n",
              "      <td>0.0</td>\n",
              "      <td>0.0</td>\n",
              "      <td>0.0</td>\n",
              "      <td>0.0</td>\n",
              "      <td>0.0</td>\n",
              "      <td>0.0</td>\n",
              "      <td>0.0</td>\n",
              "      <td>0.0</td>\n",
              "      <td>0.0</td>\n",
              "      <td>0.0</td>\n",
              "      <td>0.0</td>\n",
              "      <td>0.0</td>\n",
              "      <td>0.0</td>\n",
              "      <td>0.0</td>\n",
              "      <td>0.0</td>\n",
              "      <td>0.0</td>\n",
              "      <td>0.0</td>\n",
              "      <td>0.0</td>\n",
              "      <td>0.0</td>\n",
              "      <td>0.0</td>\n",
              "      <td>...</td>\n",
              "      <td>0.0</td>\n",
              "      <td>0.0</td>\n",
              "      <td>0.0</td>\n",
              "      <td>0.0</td>\n",
              "      <td>0.0</td>\n",
              "      <td>0.0</td>\n",
              "      <td>0.0</td>\n",
              "      <td>0.0</td>\n",
              "      <td>0.0</td>\n",
              "      <td>0.0</td>\n",
              "      <td>0.0</td>\n",
              "      <td>0.0</td>\n",
              "      <td>0.0</td>\n",
              "      <td>0.0</td>\n",
              "      <td>0.0</td>\n",
              "      <td>0.0</td>\n",
              "      <td>0.0</td>\n",
              "      <td>0.0</td>\n",
              "      <td>0.0</td>\n",
              "      <td>0.0</td>\n",
              "      <td>0.0</td>\n",
              "      <td>0.0</td>\n",
              "      <td>0.0</td>\n",
              "      <td>0.0</td>\n",
              "      <td>0.0</td>\n",
              "      <td>0.0</td>\n",
              "      <td>0.0</td>\n",
              "      <td>0.0</td>\n",
              "      <td>0.0</td>\n",
              "      <td>0.0</td>\n",
              "      <td>0.0</td>\n",
              "      <td>0.0</td>\n",
              "      <td>0.0</td>\n",
              "      <td>0.0</td>\n",
              "      <td>0.0</td>\n",
              "      <td>0.0</td>\n",
              "      <td>0.0</td>\n",
              "      <td>0.0</td>\n",
              "      <td>0.0</td>\n",
              "      <td>0.0</td>\n",
              "    </tr>\n",
              "  </tbody>\n",
              "</table>\n",
              "<p>5 rows × 17234 columns</p>\n",
              "</div>"
            ],
            "text/plain": [
              "reviewerID  A01038432MVI9JXYTTK5T  ...  AZZYW4YOE1B6E\n",
              "asin                               ...               \n",
              "B0009B0IX4                    0.0  ...            0.0\n",
              "B000GAO9T2                    0.0  ...            0.0\n",
              "B000I8ACMU                    0.0  ...            0.0\n",
              "B000IEB00W                    0.0  ...            0.0\n",
              "B0013G8PTS                    0.0  ...            0.0\n",
              "\n",
              "[5 rows x 17234 columns]"
            ]
          },
          "metadata": {
            "tags": []
          },
          "execution_count": 36
        }
      ]
    },
    {
      "cell_type": "code",
      "metadata": {
        "colab": {
          "base_uri": "https://localhost:8080/"
        },
        "id": "U-LK2lPX53ye",
        "outputId": "23962c68-663d-4a4e-c7c1-692c1405c078"
      },
      "source": [
        "ratingsd.shape"
      ],
      "execution_count": null,
      "outputs": [
        {
          "output_type": "execute_result",
          "data": {
            "text/plain": [
              "(290, 17234)"
            ]
          },
          "metadata": {
            "tags": []
          },
          "execution_count": 37
        }
      ]
    },
    {
      "cell_type": "code",
      "metadata": {
        "id": "F13-r1KiE1C9"
      },
      "source": [
        "from sklearn.model_selection import train_test_split\n",
        "from sklearn.metrics import mean_absolute_error\n",
        "traind, testd = train_test_split(ratingsd, test_size=0.30,random_state=42)"
      ],
      "execution_count": null,
      "outputs": []
    },
    {
      "cell_type": "code",
      "metadata": {
        "id": "5xuTh112E0jL"
      },
      "source": [
        "train = traind.to_numpy()\n",
        "test = testd.to_numpy()"
      ],
      "execution_count": null,
      "outputs": []
    },
    {
      "cell_type": "code",
      "metadata": {
        "colab": {
          "base_uri": "https://localhost:8080/"
        },
        "id": "gaRe4x1uFNE6",
        "outputId": "b9802bd7-9c42-4338-c578-62ddd8cae468"
      },
      "source": [
        "sparsity = float(len(train.nonzero()[0]))\n",
        "sparsity /= (train.shape[0] * train.shape[1])\n",
        "sparsity *= 100\n",
        "print ('Sparsity: {:5.2f}%'.format(sparsity))"
      ],
      "execution_count": null,
      "outputs": [
        {
          "output_type": "stream",
          "text": [
            "Sparsity:  0.59%\n"
          ],
          "name": "stdout"
        }
      ]
    },
    {
      "cell_type": "code",
      "metadata": {
        "id": "SsCiHx6KFUdS"
      },
      "source": [
        "def item_similarity(ratings, epsilon=1e-9):\n",
        "    # epsilon -> for handling dived-by-zero errors\n",
        "    sim = ratings.T.dot(ratings) + epsilon\n",
        "    norms = np.array([np.sqrt(np.diagonal(sim))])\n",
        "    return (sim / norms / norms.T)"
      ],
      "execution_count": null,
      "outputs": []
    },
    {
      "cell_type": "code",
      "metadata": {
        "id": "54osL0vJFUgF"
      },
      "source": [
        "\n",
        "item_sim = item_similarity(train)"
      ],
      "execution_count": null,
      "outputs": []
    },
    {
      "cell_type": "code",
      "metadata": {
        "id": "Zi7J20daFUjk"
      },
      "source": [
        "def predict_item(ratings, similarity):\n",
        "    return ratings.dot(similarity) / np.array([np.abs(similarity).sum(axis=1)])"
      ],
      "execution_count": null,
      "outputs": []
    },
    {
      "cell_type": "code",
      "metadata": {
        "id": "heFcp9r0FUmZ"
      },
      "source": [
        "item_prediction = predict_item(train, item_sim)"
      ],
      "execution_count": null,
      "outputs": []
    },
    {
      "cell_type": "code",
      "metadata": {
        "colab": {
          "base_uri": "https://localhost:8080/"
        },
        "id": "iGPFWnPJFUpp",
        "outputId": "c04ed1e0-597f-413e-d873-34e4baf2704b"
      },
      "source": [
        "item_prediction[:4, :4]"
      ],
      "execution_count": null,
      "outputs": [
        {
          "output_type": "execute_result",
          "data": {
            "text/plain": [
              "array([[1.04978498e-02, 1.38526865e-01, 7.64447423e-03, 1.04631164e-02],\n",
              "       [2.69156938e-03, 1.13553339e-10, 1.95998545e-03, 3.82641594e-11],\n",
              "       [1.67390036e-02, 4.44130306e-02, 1.71591332e-02, 8.38915649e-03],\n",
              "       [7.91290549e-03, 2.30600993e-10, 9.05891217e-03, 2.44365759e-03]])"
            ]
          },
          "metadata": {
            "tags": []
          },
          "execution_count": 46
        }
      ]
    },
    {
      "cell_type": "code",
      "metadata": {
        "id": "F8aPNANlFUrv"
      },
      "source": [
        "from sklearn.metrics import mean_squared_error\n",
        "\n",
        "def get_mse(pred, actual):\n",
        "    # Ignore nonzero terms.\n",
        "    pred = pred[actual.nonzero()].flatten()\n",
        "    actual = actual[actual.nonzero()].flatten()\n",
        "    return mean_squared_error(pred, actual)"
      ],
      "execution_count": null,
      "outputs": []
    },
    {
      "cell_type": "code",
      "metadata": {
        "colab": {
          "base_uri": "https://localhost:8080/"
        },
        "id": "tLFBNounFUtm",
        "outputId": "d2668a81-e245-4749-b35c-b6506aaa8beb"
      },
      "source": [
        "print ('Item-based CF MSE: ' + str(get_mse(item_prediction, test)))"
      ],
      "execution_count": null,
      "outputs": [
        {
          "output_type": "stream",
          "text": [
            "Item-based CF MSE: 18.550991865684374\n"
          ],
          "name": "stdout"
        }
      ]
    },
    {
      "cell_type": "code",
      "metadata": {
        "colab": {
          "base_uri": "https://localhost:8080/"
        },
        "id": "q79GmTPrFUve",
        "outputId": "f1fd90fb-2c3c-4e28-c7dc-710bdeddbf1f"
      },
      "source": [
        "from sklearn.decomposition import TruncatedSVD\n",
        "from sklearn.metrics.pairwise import cosine_similarity\n",
        "\n",
        "svd = TruncatedSVD(n_components=50, n_iter=7, random_state=42)\n",
        "r_mat_tr=svd.fit_transform(traind) \n",
        "print(svd.explained_variance_ratio_)  \n",
        "print(svd.explained_variance_ratio_.sum())\n",
        "\n",
        "#pm=pd.DataFrame(cosine_similarity(r_mat_tr))\n",
        "#pm.head()\n",
        "ctrain = cosine_similarity(r_mat_tr)\n"
      ],
      "execution_count": null,
      "outputs": [
        {
          "output_type": "stream",
          "text": [
            "[0.0444643  0.02349345 0.01776265 0.01757378 0.01775221 0.01686932\n",
            " 0.01620957 0.01499802 0.01488605 0.01141899 0.0112713  0.01116964\n",
            " 0.0108935  0.01031012 0.01017654 0.01009798 0.00951854 0.00963973\n",
            " 0.0091539  0.00933332 0.00930415 0.00896018 0.00833648 0.00842297\n",
            " 0.00832996 0.00820888 0.00820571 0.00793285 0.00780983 0.00737966\n",
            " 0.00733475 0.00690053 0.00707393 0.00687504 0.00678373 0.00657981\n",
            " 0.00651143 0.00650772 0.00648156 0.00632685 0.0062967  0.00589503\n",
            " 0.00587839 0.00547108 0.00553978 0.00548993 0.00546542 0.00533141\n",
            " 0.00525879 0.00513267]\n",
            "0.5030181333838422\n"
          ],
          "name": "stdout"
        }
      ]
    },
    {
      "cell_type": "code",
      "metadata": {
        "colab": {
          "base_uri": "https://localhost:8080/"
        },
        "id": "2xaKP9qeGAKM",
        "outputId": "c03a90af-da46-47e1-c0ff-62e52d6d4009"
      },
      "source": [
        "from sklearn.decomposition import TruncatedSVD\n",
        "from sklearn.metrics.pairwise import cosine_similarity\n",
        "\n",
        "svd = TruncatedSVD(n_components=50, n_iter=7, random_state=42)\n",
        "r_mat_tr=svd.fit_transform(testd) \n",
        "print(svd.explained_variance_ratio_)  \n",
        "print(svd.explained_variance_ratio_.sum())\n",
        "\n",
        "#pmtt=pd.DataFrame(cosine_similarity(r_mat_tr))\n",
        "#print (pmtt[:2])\n",
        "#pmtt.head()\n",
        "ctest = cosine_similarity(r_mat_tr)"
      ],
      "execution_count": null,
      "outputs": [
        {
          "output_type": "stream",
          "text": [
            "[0.05382399 0.04783327 0.04837764 0.03635407 0.02647748 0.02225534\n",
            " 0.01999909 0.02050899 0.01973338 0.01882333 0.01881439 0.01668118\n",
            " 0.01645692 0.01650472 0.01607021 0.01604763 0.01566951 0.01369147\n",
            " 0.01298814 0.01264341 0.01261496 0.01215978 0.011942   0.01146232\n",
            " 0.01154127 0.01115682 0.01039123 0.01051502 0.01070081 0.01030295\n",
            " 0.01030903 0.00991172 0.00976845 0.0094579  0.00964448 0.00953174\n",
            " 0.00915143 0.00905646 0.0088877  0.00854731 0.00862895 0.00831478\n",
            " 0.00849652 0.00841647 0.00830525 0.00823068 0.00819722 0.00806327\n",
            " 0.00794774 0.00792961]\n",
            "0.7593380170113238\n"
          ],
          "name": "stdout"
        }
      ]
    },
    {
      "cell_type": "code",
      "metadata": {
        "colab": {
          "base_uri": "https://localhost:8080/"
        },
        "id": "4t2kqxRDGAND",
        "outputId": "8951ba29-cef9-45f1-ecfb-3c4fcbb89be0"
      },
      "source": [
        "print (' CF MSE: ' + str(get_mse(ctrain, ctest)))"
      ],
      "execution_count": null,
      "outputs": [
        {
          "output_type": "stream",
          "text": [
            " CF MSE: 0.04280465084217405\n"
          ],
          "name": "stdout"
        }
      ]
    },
    {
      "cell_type": "code",
      "metadata": {
        "id": "4hG8qWp3FUy5"
      },
      "source": [
        "\n",
        "df1 = df1.sort_values(by='overall')\n",
        "df1 = df1.reset_index(drop=True)\n",
        "count_users = df1.groupby(\"reviewerID\", as_index=False).count()"
      ],
      "execution_count": null,
      "outputs": []
    },
    {
      "cell_type": "code",
      "metadata": {
        "id": "Wm2I3S-OFU2D"
      },
      "source": [
        "count = df1.groupby(\"asin\", as_index=False).mean()"
      ],
      "execution_count": null,
      "outputs": []
    },
    {
      "cell_type": "code",
      "metadata": {
        "colab": {
          "base_uri": "https://localhost:8080/"
        },
        "id": "Gc2n8clDGQR1",
        "outputId": "a8e509bd-5c47-4252-d658-2702029e061c"
      },
      "source": [
        "items_df = count[['asin']]\n",
        "items_df.head()\n",
        "print(len(items_df))"
      ],
      "execution_count": null,
      "outputs": [
        {
          "output_type": "stream",
          "text": [
            "290\n"
          ],
          "name": "stdout"
        }
      ]
    },
    {
      "cell_type": "code",
      "metadata": {
        "colab": {
          "base_uri": "https://localhost:8080/"
        },
        "id": "USlwHDzOGUJs",
        "outputId": "e91f4dd2-f78e-4c7a-e95b-6dca5b15eaf8"
      },
      "source": [
        "users_df = count_users[['reviewerID']]\n",
        "users_df.head()\n",
        "print(len(users_df))"
      ],
      "execution_count": null,
      "outputs": [
        {
          "output_type": "stream",
          "text": [
            "17234\n"
          ],
          "name": "stdout"
        }
      ]
    },
    {
      "cell_type": "code",
      "metadata": {
        "colab": {
          "base_uri": "https://localhost:8080/"
        },
        "id": "AIsKgo0lGUfo",
        "outputId": "86c6e1a5-55ca-4c2f-9d72-caebbefeafbc"
      },
      "source": [
        "\n",
        "users_list = users_df.values\n",
        "len(users_list)"
      ],
      "execution_count": null,
      "outputs": [
        {
          "output_type": "execute_result",
          "data": {
            "text/plain": [
              "17234"
            ]
          },
          "metadata": {
            "tags": []
          },
          "execution_count": 57
        }
      ]
    },
    {
      "cell_type": "code",
      "metadata": {
        "colab": {
          "base_uri": "https://localhost:8080/"
        },
        "id": "yccfwAvdGUig",
        "outputId": "fdf30fa6-88c7-4c8a-f5ca-44d0bf7d2a86"
      },
      "source": [
        "df_clean_matrix = df1.pivot(index='asin', columns='reviewerID', values='overall').fillna(0)\n",
        "df_clean_matrix = df_clean_matrix.T\n",
        "R = (df_clean_matrix).to_numpy()\n",
        "R"
      ],
      "execution_count": null,
      "outputs": [
        {
          "output_type": "execute_result",
          "data": {
            "text/plain": [
              "array([[0., 0., 0., ..., 0., 0., 0.],\n",
              "       [0., 0., 0., ..., 0., 0., 0.],\n",
              "       [0., 0., 0., ..., 0., 0., 0.],\n",
              "       ...,\n",
              "       [0., 0., 0., ..., 0., 0., 0.],\n",
              "       [0., 0., 0., ..., 0., 0., 0.],\n",
              "       [0., 0., 0., ..., 0., 0., 0.]])"
            ]
          },
          "metadata": {
            "tags": []
          },
          "execution_count": 58
        }
      ]
    },
    {
      "cell_type": "code",
      "metadata": {
        "colab": {
          "base_uri": "https://localhost:8080/"
        },
        "id": "5nTAorJfGb_U",
        "outputId": "6dbf9cdc-b320-4c61-f264-2cc574fe0c7d"
      },
      "source": [
        "user_ratings_mean = np.mean(R, axis = 1)\n",
        "R_demeaned = R - user_ratings_mean.reshape(-1, 1)\n",
        "R_demeaned"
      ],
      "execution_count": null,
      "outputs": [
        {
          "output_type": "execute_result",
          "data": {
            "text/plain": [
              "array([[-0.03448276, -0.03448276, -0.03448276, ..., -0.03448276,\n",
              "        -0.03448276, -0.03448276],\n",
              "       [-0.01034483, -0.01034483, -0.01034483, ..., -0.01034483,\n",
              "        -0.01034483, -0.01034483],\n",
              "       [-0.03448276, -0.03448276, -0.03448276, ..., -0.03448276,\n",
              "        -0.03448276, -0.03448276],\n",
              "       ...,\n",
              "       [-0.03103448, -0.03103448, -0.03103448, ..., -0.03103448,\n",
              "        -0.03103448, -0.03103448],\n",
              "       [-0.01724138, -0.01724138, -0.01724138, ..., -0.01724138,\n",
              "        -0.01724138, -0.01724138],\n",
              "       [-0.03448276, -0.03448276, -0.03448276, ..., -0.03448276,\n",
              "        -0.03448276, -0.03448276]])"
            ]
          },
          "metadata": {
            "tags": []
          },
          "execution_count": 59
        }
      ]
    },
    {
      "cell_type": "code",
      "metadata": {
        "id": "WlJdyGg2GcKk"
      },
      "source": [
        "from scipy.sparse.linalg import svds\n",
        "U, sigma, Vt = svds(R_demeaned)"
      ],
      "execution_count": null,
      "outputs": []
    },
    {
      "cell_type": "code",
      "metadata": {
        "id": "Hirq6JSdGcRQ"
      },
      "source": [
        "sigma = np.diag(sigma)\n"
      ],
      "execution_count": null,
      "outputs": []
    },
    {
      "cell_type": "code",
      "metadata": {
        "colab": {
          "base_uri": "https://localhost:8080/",
          "height": 274
        },
        "id": "5TxBhkhbGtM9",
        "outputId": "8b3cf83a-7c1c-4c1c-e02f-0315bd652d15"
      },
      "source": [
        "\n",
        "all_user_predicted_ratings = np.dot(np.dot(U, sigma), Vt) + user_ratings_mean.reshape(-1, 1)\n",
        "preds_df = pd.DataFrame(all_user_predicted_ratings, columns = df_clean_matrix.columns)\n",
        "preds_df['userID'] = users_df\n",
        "preds_df.set_index('userID', inplace=True)\n",
        "preds_df.head()"
      ],
      "execution_count": null,
      "outputs": [
        {
          "output_type": "execute_result",
          "data": {
            "text/html": [
              "<div>\n",
              "<style scoped>\n",
              "    .dataframe tbody tr th:only-of-type {\n",
              "        vertical-align: middle;\n",
              "    }\n",
              "\n",
              "    .dataframe tbody tr th {\n",
              "        vertical-align: top;\n",
              "    }\n",
              "\n",
              "    .dataframe thead th {\n",
              "        text-align: right;\n",
              "    }\n",
              "</style>\n",
              "<table border=\"1\" class=\"dataframe\">\n",
              "  <thead>\n",
              "    <tr style=\"text-align: right;\">\n",
              "      <th>asin</th>\n",
              "      <th>B0009B0IX4</th>\n",
              "      <th>B000GAO9T2</th>\n",
              "      <th>B000I8ACMU</th>\n",
              "      <th>B000IEB00W</th>\n",
              "      <th>B0013G8PTS</th>\n",
              "      <th>B001CJTE0K</th>\n",
              "      <th>B001CL2CKW</th>\n",
              "      <th>B001DETCUG</th>\n",
              "      <th>B001FVPU9O</th>\n",
              "      <th>B001GD87QO</th>\n",
              "      <th>B001XXUOQI</th>\n",
              "      <th>B0027FFZEW</th>\n",
              "      <th>B002D4IHYM</th>\n",
              "      <th>B002M3TLLC</th>\n",
              "      <th>B0030C4K8I</th>\n",
              "      <th>B003QSYK2C</th>\n",
              "      <th>B003RDV0VU</th>\n",
              "      <th>B003RZTCWC</th>\n",
              "      <th>B003SHM08W</th>\n",
              "      <th>B003SX0P1A</th>\n",
              "      <th>B003TM5AJM</th>\n",
              "      <th>B003UC8RVE</th>\n",
              "      <th>B003UC93WQ</th>\n",
              "      <th>B003X5OBYU</th>\n",
              "      <th>B00400VOJ2</th>\n",
              "      <th>B0042TY68C</th>\n",
              "      <th>B0047EM82I</th>\n",
              "      <th>B004877KOK</th>\n",
              "      <th>B004AJ8PG8</th>\n",
              "      <th>B004CU1VW0</th>\n",
              "      <th>B004FSKVIE</th>\n",
              "      <th>B004G1L52Q</th>\n",
              "      <th>B004I58ZVY</th>\n",
              "      <th>B004I6F3E0</th>\n",
              "      <th>B004I8WD6E</th>\n",
              "      <th>B004I8WD7S</th>\n",
              "      <th>B004IAJIHE</th>\n",
              "      <th>B004LJ8N78</th>\n",
              "      <th>B004LSN0GS</th>\n",
              "      <th>B004M5KV3A</th>\n",
              "      <th>...</th>\n",
              "      <th>B00DQCUVPI</th>\n",
              "      <th>B00DRJTY44</th>\n",
              "      <th>B00DWKK6PE</th>\n",
              "      <th>B00E24KTYM</th>\n",
              "      <th>B00E2TT8W6</th>\n",
              "      <th>B00E2YI052</th>\n",
              "      <th>B00E327OIM</th>\n",
              "      <th>B00E45043A</th>\n",
              "      <th>B00E486Q9I</th>\n",
              "      <th>B00EB1BY36</th>\n",
              "      <th>B00EDB938C</th>\n",
              "      <th>B00EF1OGOG</th>\n",
              "      <th>B00ENOAYVY</th>\n",
              "      <th>B00EPLTC1I</th>\n",
              "      <th>B00ESJGILE</th>\n",
              "      <th>B00EV8Y50S</th>\n",
              "      <th>B00F3SISYO</th>\n",
              "      <th>B00F3YSN5M</th>\n",
              "      <th>B00F4A8FQM</th>\n",
              "      <th>B00F8OYPUO</th>\n",
              "      <th>B00F8P9UFS</th>\n",
              "      <th>B00FH669I4</th>\n",
              "      <th>B00FH66AW4</th>\n",
              "      <th>B00FH6QTJ8</th>\n",
              "      <th>B00FJJ38HY</th>\n",
              "      <th>B00FK0ECYA</th>\n",
              "      <th>B00FME4NAW</th>\n",
              "      <th>B00FQPGAHG</th>\n",
              "      <th>B00FZ14E3S</th>\n",
              "      <th>B00GBFQWEG</th>\n",
              "      <th>B00GG5IHJY</th>\n",
              "      <th>B00GH0JXAK</th>\n",
              "      <th>B00GWR36F6</th>\n",
              "      <th>B00GYD782A</th>\n",
              "      <th>B00H2RP6W6</th>\n",
              "      <th>B00I3ULLNO</th>\n",
              "      <th>B00I3ULVLQ</th>\n",
              "      <th>B00I3UWD40</th>\n",
              "      <th>B00I3UWD7C</th>\n",
              "      <th>B00KB9AWEE</th>\n",
              "    </tr>\n",
              "    <tr>\n",
              "      <th>userID</th>\n",
              "      <th></th>\n",
              "      <th></th>\n",
              "      <th></th>\n",
              "      <th></th>\n",
              "      <th></th>\n",
              "      <th></th>\n",
              "      <th></th>\n",
              "      <th></th>\n",
              "      <th></th>\n",
              "      <th></th>\n",
              "      <th></th>\n",
              "      <th></th>\n",
              "      <th></th>\n",
              "      <th></th>\n",
              "      <th></th>\n",
              "      <th></th>\n",
              "      <th></th>\n",
              "      <th></th>\n",
              "      <th></th>\n",
              "      <th></th>\n",
              "      <th></th>\n",
              "      <th></th>\n",
              "      <th></th>\n",
              "      <th></th>\n",
              "      <th></th>\n",
              "      <th></th>\n",
              "      <th></th>\n",
              "      <th></th>\n",
              "      <th></th>\n",
              "      <th></th>\n",
              "      <th></th>\n",
              "      <th></th>\n",
              "      <th></th>\n",
              "      <th></th>\n",
              "      <th></th>\n",
              "      <th></th>\n",
              "      <th></th>\n",
              "      <th></th>\n",
              "      <th></th>\n",
              "      <th></th>\n",
              "      <th></th>\n",
              "      <th></th>\n",
              "      <th></th>\n",
              "      <th></th>\n",
              "      <th></th>\n",
              "      <th></th>\n",
              "      <th></th>\n",
              "      <th></th>\n",
              "      <th></th>\n",
              "      <th></th>\n",
              "      <th></th>\n",
              "      <th></th>\n",
              "      <th></th>\n",
              "      <th></th>\n",
              "      <th></th>\n",
              "      <th></th>\n",
              "      <th></th>\n",
              "      <th></th>\n",
              "      <th></th>\n",
              "      <th></th>\n",
              "      <th></th>\n",
              "      <th></th>\n",
              "      <th></th>\n",
              "      <th></th>\n",
              "      <th></th>\n",
              "      <th></th>\n",
              "      <th></th>\n",
              "      <th></th>\n",
              "      <th></th>\n",
              "      <th></th>\n",
              "      <th></th>\n",
              "      <th></th>\n",
              "      <th></th>\n",
              "      <th></th>\n",
              "      <th></th>\n",
              "      <th></th>\n",
              "      <th></th>\n",
              "      <th></th>\n",
              "      <th></th>\n",
              "      <th></th>\n",
              "      <th></th>\n",
              "    </tr>\n",
              "  </thead>\n",
              "  <tbody>\n",
              "    <tr>\n",
              "      <th>A01038432MVI9JXYTTK5T</th>\n",
              "      <td>0.031854</td>\n",
              "      <td>0.003863</td>\n",
              "      <td>0.007371</td>\n",
              "      <td>0.013102</td>\n",
              "      <td>0.037893</td>\n",
              "      <td>0.013138</td>\n",
              "      <td>0.016339</td>\n",
              "      <td>0.014480</td>\n",
              "      <td>0.033188</td>\n",
              "      <td>0.004608</td>\n",
              "      <td>0.003897</td>\n",
              "      <td>0.034018</td>\n",
              "      <td>0.012675</td>\n",
              "      <td>0.011763</td>\n",
              "      <td>0.064593</td>\n",
              "      <td>0.023531</td>\n",
              "      <td>0.022153</td>\n",
              "      <td>0.040938</td>\n",
              "      <td>0.022411</td>\n",
              "      <td>0.010089</td>\n",
              "      <td>0.062937</td>\n",
              "      <td>0.051884</td>\n",
              "      <td>0.048939</td>\n",
              "      <td>0.054329</td>\n",
              "      <td>0.029818</td>\n",
              "      <td>0.032491</td>\n",
              "      <td>0.015812</td>\n",
              "      <td>0.010824</td>\n",
              "      <td>0.004584</td>\n",
              "      <td>0.015893</td>\n",
              "      <td>0.033682</td>\n",
              "      <td>-0.003689</td>\n",
              "      <td>0.003232</td>\n",
              "      <td>0.013459</td>\n",
              "      <td>0.018987</td>\n",
              "      <td>0.023802</td>\n",
              "      <td>0.017161</td>\n",
              "      <td>0.012465</td>\n",
              "      <td>0.051678</td>\n",
              "      <td>0.207300</td>\n",
              "      <td>...</td>\n",
              "      <td>0.006478</td>\n",
              "      <td>0.018677</td>\n",
              "      <td>0.011102</td>\n",
              "      <td>0.005690</td>\n",
              "      <td>0.019916</td>\n",
              "      <td>0.023363</td>\n",
              "      <td>0.026218</td>\n",
              "      <td>0.001093</td>\n",
              "      <td>0.032898</td>\n",
              "      <td>0.008531</td>\n",
              "      <td>0.057782</td>\n",
              "      <td>0.018508</td>\n",
              "      <td>0.014731</td>\n",
              "      <td>0.006145</td>\n",
              "      <td>0.022553</td>\n",
              "      <td>0.003744</td>\n",
              "      <td>0.048834</td>\n",
              "      <td>0.040747</td>\n",
              "      <td>0.004313</td>\n",
              "      <td>0.009044</td>\n",
              "      <td>0.020364</td>\n",
              "      <td>0.022372</td>\n",
              "      <td>0.016601</td>\n",
              "      <td>0.016105</td>\n",
              "      <td>0.001373</td>\n",
              "      <td>0.011728</td>\n",
              "      <td>0.014315</td>\n",
              "      <td>0.004180</td>\n",
              "      <td>0.003368</td>\n",
              "      <td>0.001313</td>\n",
              "      <td>0.021290</td>\n",
              "      <td>0.016370</td>\n",
              "      <td>0.011687</td>\n",
              "      <td>0.012833</td>\n",
              "      <td>0.012138</td>\n",
              "      <td>0.004313</td>\n",
              "      <td>0.004277</td>\n",
              "      <td>0.012557</td>\n",
              "      <td>0.003936</td>\n",
              "      <td>0.000094</td>\n",
              "    </tr>\n",
              "    <tr>\n",
              "      <th>A01335502AS0LP3ASV1Z7</th>\n",
              "      <td>0.010564</td>\n",
              "      <td>0.010749</td>\n",
              "      <td>0.011162</td>\n",
              "      <td>0.010795</td>\n",
              "      <td>0.029655</td>\n",
              "      <td>0.011490</td>\n",
              "      <td>0.010931</td>\n",
              "      <td>0.011111</td>\n",
              "      <td>0.010798</td>\n",
              "      <td>0.008683</td>\n",
              "      <td>0.014475</td>\n",
              "      <td>0.009390</td>\n",
              "      <td>0.012930</td>\n",
              "      <td>0.008131</td>\n",
              "      <td>0.011333</td>\n",
              "      <td>0.011739</td>\n",
              "      <td>0.011273</td>\n",
              "      <td>0.011709</td>\n",
              "      <td>0.011906</td>\n",
              "      <td>0.011006</td>\n",
              "      <td>0.013903</td>\n",
              "      <td>0.010993</td>\n",
              "      <td>0.012492</td>\n",
              "      <td>0.012325</td>\n",
              "      <td>0.012010</td>\n",
              "      <td>0.011429</td>\n",
              "      <td>0.011659</td>\n",
              "      <td>0.010628</td>\n",
              "      <td>0.010406</td>\n",
              "      <td>0.011399</td>\n",
              "      <td>0.013188</td>\n",
              "      <td>0.014940</td>\n",
              "      <td>0.011675</td>\n",
              "      <td>0.011567</td>\n",
              "      <td>0.009318</td>\n",
              "      <td>0.009206</td>\n",
              "      <td>0.011486</td>\n",
              "      <td>0.011109</td>\n",
              "      <td>0.012974</td>\n",
              "      <td>0.010826</td>\n",
              "      <td>...</td>\n",
              "      <td>0.011307</td>\n",
              "      <td>0.009574</td>\n",
              "      <td>0.009710</td>\n",
              "      <td>0.011449</td>\n",
              "      <td>0.008101</td>\n",
              "      <td>0.009870</td>\n",
              "      <td>0.007959</td>\n",
              "      <td>0.011400</td>\n",
              "      <td>0.009033</td>\n",
              "      <td>0.011320</td>\n",
              "      <td>0.012242</td>\n",
              "      <td>0.011714</td>\n",
              "      <td>0.011803</td>\n",
              "      <td>0.011108</td>\n",
              "      <td>0.001939</td>\n",
              "      <td>0.011379</td>\n",
              "      <td>0.009168</td>\n",
              "      <td>0.012574</td>\n",
              "      <td>0.010922</td>\n",
              "      <td>0.003866</td>\n",
              "      <td>0.011775</td>\n",
              "      <td>0.009545</td>\n",
              "      <td>0.007835</td>\n",
              "      <td>0.008851</td>\n",
              "      <td>0.012000</td>\n",
              "      <td>0.009539</td>\n",
              "      <td>0.015666</td>\n",
              "      <td>0.011120</td>\n",
              "      <td>0.011923</td>\n",
              "      <td>0.009544</td>\n",
              "      <td>0.012026</td>\n",
              "      <td>0.012185</td>\n",
              "      <td>0.011904</td>\n",
              "      <td>0.011279</td>\n",
              "      <td>0.009898</td>\n",
              "      <td>0.011127</td>\n",
              "      <td>0.011383</td>\n",
              "      <td>0.011414</td>\n",
              "      <td>0.011234</td>\n",
              "      <td>0.012632</td>\n",
              "    </tr>\n",
              "    <tr>\n",
              "      <th>A01410041ZE038XXVXLBB</th>\n",
              "      <td>0.007715</td>\n",
              "      <td>-0.006255</td>\n",
              "      <td>-0.012576</td>\n",
              "      <td>-0.006274</td>\n",
              "      <td>-0.035302</td>\n",
              "      <td>-0.004423</td>\n",
              "      <td>-0.000724</td>\n",
              "      <td>-0.005869</td>\n",
              "      <td>0.030840</td>\n",
              "      <td>-0.001848</td>\n",
              "      <td>-0.038231</td>\n",
              "      <td>0.019570</td>\n",
              "      <td>-0.006849</td>\n",
              "      <td>0.013307</td>\n",
              "      <td>0.049173</td>\n",
              "      <td>0.000801</td>\n",
              "      <td>0.005221</td>\n",
              "      <td>0.025106</td>\n",
              "      <td>0.006906</td>\n",
              "      <td>0.015862</td>\n",
              "      <td>0.023203</td>\n",
              "      <td>0.048136</td>\n",
              "      <td>0.065107</td>\n",
              "      <td>0.035571</td>\n",
              "      <td>0.011489</td>\n",
              "      <td>0.008322</td>\n",
              "      <td>-0.005575</td>\n",
              "      <td>-0.003682</td>\n",
              "      <td>0.033320</td>\n",
              "      <td>-0.001041</td>\n",
              "      <td>0.023027</td>\n",
              "      <td>-0.002284</td>\n",
              "      <td>-0.010214</td>\n",
              "      <td>-0.008856</td>\n",
              "      <td>0.011621</td>\n",
              "      <td>0.020836</td>\n",
              "      <td>0.013859</td>\n",
              "      <td>-0.001115</td>\n",
              "      <td>0.031716</td>\n",
              "      <td>0.278857</td>\n",
              "      <td>...</td>\n",
              "      <td>-0.016466</td>\n",
              "      <td>0.050899</td>\n",
              "      <td>-0.000307</td>\n",
              "      <td>-0.016327</td>\n",
              "      <td>0.010712</td>\n",
              "      <td>0.006856</td>\n",
              "      <td>0.020539</td>\n",
              "      <td>-0.011364</td>\n",
              "      <td>0.048081</td>\n",
              "      <td>-0.008218</td>\n",
              "      <td>0.043479</td>\n",
              "      <td>-0.006482</td>\n",
              "      <td>-0.015135</td>\n",
              "      <td>-0.014152</td>\n",
              "      <td>0.057989</td>\n",
              "      <td>-0.017623</td>\n",
              "      <td>0.085957</td>\n",
              "      <td>0.010880</td>\n",
              "      <td>-0.018879</td>\n",
              "      <td>0.031135</td>\n",
              "      <td>-0.006870</td>\n",
              "      <td>0.013411</td>\n",
              "      <td>0.030719</td>\n",
              "      <td>0.022857</td>\n",
              "      <td>-0.028932</td>\n",
              "      <td>0.004271</td>\n",
              "      <td>-0.022602</td>\n",
              "      <td>-0.016191</td>\n",
              "      <td>-0.021488</td>\n",
              "      <td>-0.004969</td>\n",
              "      <td>-0.004592</td>\n",
              "      <td>-0.005685</td>\n",
              "      <td>-0.020934</td>\n",
              "      <td>-0.010484</td>\n",
              "      <td>0.001531</td>\n",
              "      <td>-0.014764</td>\n",
              "      <td>-0.012873</td>\n",
              "      <td>-0.010604</td>\n",
              "      <td>-0.015721</td>\n",
              "      <td>-0.020667</td>\n",
              "    </tr>\n",
              "    <tr>\n",
              "      <th>A01534622D57NTXSH2WBR</th>\n",
              "      <td>0.046009</td>\n",
              "      <td>0.049383</td>\n",
              "      <td>0.051768</td>\n",
              "      <td>0.050105</td>\n",
              "      <td>0.191139</td>\n",
              "      <td>0.053958</td>\n",
              "      <td>0.049673</td>\n",
              "      <td>0.050678</td>\n",
              "      <td>0.050734</td>\n",
              "      <td>0.033530</td>\n",
              "      <td>0.074794</td>\n",
              "      <td>0.037967</td>\n",
              "      <td>0.066266</td>\n",
              "      <td>0.030539</td>\n",
              "      <td>0.053027</td>\n",
              "      <td>0.055307</td>\n",
              "      <td>0.053430</td>\n",
              "      <td>0.055842</td>\n",
              "      <td>0.057526</td>\n",
              "      <td>0.054102</td>\n",
              "      <td>0.068936</td>\n",
              "      <td>0.051981</td>\n",
              "      <td>0.066691</td>\n",
              "      <td>0.060217</td>\n",
              "      <td>0.057866</td>\n",
              "      <td>0.052789</td>\n",
              "      <td>0.054806</td>\n",
              "      <td>0.047768</td>\n",
              "      <td>0.052436</td>\n",
              "      <td>0.053757</td>\n",
              "      <td>0.067651</td>\n",
              "      <td>0.084515</td>\n",
              "      <td>0.056174</td>\n",
              "      <td>0.054161</td>\n",
              "      <td>0.039110</td>\n",
              "      <td>0.038534</td>\n",
              "      <td>0.056094</td>\n",
              "      <td>0.051729</td>\n",
              "      <td>0.065008</td>\n",
              "      <td>0.061732</td>\n",
              "      <td>...</td>\n",
              "      <td>0.051983</td>\n",
              "      <td>0.047106</td>\n",
              "      <td>0.040942</td>\n",
              "      <td>0.053173</td>\n",
              "      <td>0.028808</td>\n",
              "      <td>0.041194</td>\n",
              "      <td>0.028086</td>\n",
              "      <td>0.054174</td>\n",
              "      <td>0.040291</td>\n",
              "      <td>0.053072</td>\n",
              "      <td>0.060470</td>\n",
              "      <td>0.054999</td>\n",
              "      <td>0.054998</td>\n",
              "      <td>0.050755</td>\n",
              "      <td>-0.012891</td>\n",
              "      <td>0.052626</td>\n",
              "      <td>0.044127</td>\n",
              "      <td>0.060496</td>\n",
              "      <td>0.050502</td>\n",
              "      <td>-0.000038</td>\n",
              "      <td>0.054891</td>\n",
              "      <td>0.040048</td>\n",
              "      <td>0.030112</td>\n",
              "      <td>0.037007</td>\n",
              "      <td>0.056152</td>\n",
              "      <td>0.040271</td>\n",
              "      <td>0.084060</td>\n",
              "      <td>0.051200</td>\n",
              "      <td>0.056287</td>\n",
              "      <td>0.040255</td>\n",
              "      <td>0.056945</td>\n",
              "      <td>0.058875</td>\n",
              "      <td>0.055346</td>\n",
              "      <td>0.052143</td>\n",
              "      <td>0.042679</td>\n",
              "      <td>0.051361</td>\n",
              "      <td>0.053482</td>\n",
              "      <td>0.052907</td>\n",
              "      <td>0.051848</td>\n",
              "      <td>0.062612</td>\n",
              "    </tr>\n",
              "    <tr>\n",
              "      <th>A01566963M68G4TMRL8YP</th>\n",
              "      <td>0.035001</td>\n",
              "      <td>0.035117</td>\n",
              "      <td>0.036541</td>\n",
              "      <td>0.036154</td>\n",
              "      <td>0.075241</td>\n",
              "      <td>0.036859</td>\n",
              "      <td>0.035839</td>\n",
              "      <td>0.035977</td>\n",
              "      <td>0.035006</td>\n",
              "      <td>0.032028</td>\n",
              "      <td>0.040754</td>\n",
              "      <td>0.032670</td>\n",
              "      <td>0.041064</td>\n",
              "      <td>0.030822</td>\n",
              "      <td>0.035522</td>\n",
              "      <td>0.036626</td>\n",
              "      <td>0.036142</td>\n",
              "      <td>0.036671</td>\n",
              "      <td>0.037028</td>\n",
              "      <td>0.035326</td>\n",
              "      <td>0.039594</td>\n",
              "      <td>0.035607</td>\n",
              "      <td>0.036163</td>\n",
              "      <td>0.037196</td>\n",
              "      <td>0.037123</td>\n",
              "      <td>0.036254</td>\n",
              "      <td>0.036470</td>\n",
              "      <td>0.035168</td>\n",
              "      <td>0.033908</td>\n",
              "      <td>0.036436</td>\n",
              "      <td>0.038311</td>\n",
              "      <td>0.047369</td>\n",
              "      <td>0.036802</td>\n",
              "      <td>0.037072</td>\n",
              "      <td>0.032955</td>\n",
              "      <td>0.032603</td>\n",
              "      <td>0.035712</td>\n",
              "      <td>0.035745</td>\n",
              "      <td>0.038269</td>\n",
              "      <td>0.031929</td>\n",
              "      <td>...</td>\n",
              "      <td>0.036612</td>\n",
              "      <td>0.032569</td>\n",
              "      <td>0.033502</td>\n",
              "      <td>0.036815</td>\n",
              "      <td>0.031016</td>\n",
              "      <td>0.034117</td>\n",
              "      <td>0.030299</td>\n",
              "      <td>0.036362</td>\n",
              "      <td>0.032601</td>\n",
              "      <td>0.036915</td>\n",
              "      <td>0.037625</td>\n",
              "      <td>0.037129</td>\n",
              "      <td>0.037319</td>\n",
              "      <td>0.036154</td>\n",
              "      <td>0.019643</td>\n",
              "      <td>0.036757</td>\n",
              "      <td>0.031782</td>\n",
              "      <td>0.038030</td>\n",
              "      <td>0.036862</td>\n",
              "      <td>0.023468</td>\n",
              "      <td>0.037222</td>\n",
              "      <td>0.032884</td>\n",
              "      <td>0.029373</td>\n",
              "      <td>0.031261</td>\n",
              "      <td>0.038022</td>\n",
              "      <td>0.033187</td>\n",
              "      <td>0.046313</td>\n",
              "      <td>0.036489</td>\n",
              "      <td>0.037602</td>\n",
              "      <td>0.033781</td>\n",
              "      <td>0.037416</td>\n",
              "      <td>0.038725</td>\n",
              "      <td>0.037796</td>\n",
              "      <td>0.036643</td>\n",
              "      <td>0.033787</td>\n",
              "      <td>0.036507</td>\n",
              "      <td>0.036611</td>\n",
              "      <td>0.036699</td>\n",
              "      <td>0.036080</td>\n",
              "      <td>0.039398</td>\n",
              "    </tr>\n",
              "  </tbody>\n",
              "</table>\n",
              "<p>5 rows × 290 columns</p>\n",
              "</div>"
            ],
            "text/plain": [
              "asin                   B0009B0IX4  B000GAO9T2  ...  B00I3UWD7C  B00KB9AWEE\n",
              "userID                                         ...                        \n",
              "A01038432MVI9JXYTTK5T    0.031854    0.003863  ...    0.003936    0.000094\n",
              "A01335502AS0LP3ASV1Z7    0.010564    0.010749  ...    0.011234    0.012632\n",
              "A01410041ZE038XXVXLBB    0.007715   -0.006255  ...   -0.015721   -0.020667\n",
              "A01534622D57NTXSH2WBR    0.046009    0.049383  ...    0.051848    0.062612\n",
              "A01566963M68G4TMRL8YP    0.035001    0.035117  ...    0.036080    0.039398\n",
              "\n",
              "[5 rows x 290 columns]"
            ]
          },
          "metadata": {
            "tags": []
          },
          "execution_count": 62
        }
      ]
    },
    {
      "cell_type": "code",
      "metadata": {
        "colab": {
          "base_uri": "https://localhost:8080/"
        },
        "id": "j8mJMS1HJjZO",
        "outputId": "ce19d210-80a6-452c-9f90-4abdb4e1f767"
      },
      "source": [
        "preds_df.shape"
      ],
      "execution_count": null,
      "outputs": [
        {
          "output_type": "execute_result",
          "data": {
            "text/plain": [
              "(17234, 290)"
            ]
          },
          "metadata": {
            "tags": []
          },
          "execution_count": 63
        }
      ]
    },
    {
      "cell_type": "code",
      "metadata": {
        "id": "BOBZKThvJkhX"
      },
      "source": [
        "def recommend_it(predictions_df, itm_df, original_ratings_df, num_recommendations=10,rreviewerID='A01038432MVI9JXYTTK5T'):\n",
        "    \n",
        "    # Get and sort the user's predictions\n",
        "    sorted_user_predictions = predictions_df.loc[rreviewerID].sort_values(ascending=False)\n",
        "    \n",
        "    # Get the user's data and merge in the item information.\n",
        "    user_data = original_ratings_df[original_ratings_df.reviewerID == rreviewerID]\n",
        "    user_full = (user_data.merge(itm_df, how = 'left', left_on = 'asin', right_on = 'asin').\n",
        "                     sort_values(['overall'], ascending=False)\n",
        "                 )\n",
        "\n",
        "    print ('User {0} has already purchased {1} items.'.format(rreviewerID, user_full.shape[0]))\n",
        "    print ('Recommending the highest {0} predicted  items not already purchased.'.format(num_recommendations))\n",
        "    \n",
        "    # Recommend the highest predicted rating items that the user hasn't bought yet.\n",
        "    recommendations = (itm_df[~itm_df['asin'].isin(user_full['asin'])].\n",
        "         merge(pd.DataFrame(sorted_user_predictions).reset_index(), how = 'left',\n",
        "               left_on = 'asin',\n",
        "               right_on = 'asin').\n",
        "         rename(columns = {rreviewerID: 'Predictions'}).\n",
        "         sort_values('Predictions', ascending = False).\n",
        "                       iloc[:num_recommendations, :-1]\n",
        "                      )\n",
        "    topk=recommendations.merge(original_ratings_df,left_index = True, right_on = 'asin',left_on='asin').drop_duplicates(\n",
        "    ['asin', 'title'])[['asin', 'title']]\n",
        "\n",
        "    return topk"
      ],
      "execution_count": null,
      "outputs": []
    },
    {
      "cell_type": "code",
      "metadata": {
        "colab": {
          "base_uri": "https://localhost:8080/",
          "height": 229
        },
        "id": "Lgj59QtaJkoj",
        "outputId": "d6759feb-89e1-4dbf-dc4b-c39c493acbcc"
      },
      "source": [
        "recommend_it(preds_df, items_df, df1, 5)"
      ],
      "execution_count": null,
      "outputs": [
        {
          "output_type": "stream",
          "text": [
            "User A01038432MVI9JXYTTK5T has already purchased 2 items.\n",
            "Recommending the highest 5 predicted  items not already purchased.\n"
          ],
          "name": "stdout"
        },
        {
          "output_type": "execute_result",
          "data": {
            "text/html": [
              "<div>\n",
              "<style scoped>\n",
              "    .dataframe tbody tr th:only-of-type {\n",
              "        vertical-align: middle;\n",
              "    }\n",
              "\n",
              "    .dataframe tbody tr th {\n",
              "        vertical-align: top;\n",
              "    }\n",
              "\n",
              "    .dataframe thead th {\n",
              "        text-align: right;\n",
              "    }\n",
              "</style>\n",
              "<table border=\"1\" class=\"dataframe\">\n",
              "  <thead>\n",
              "    <tr style=\"text-align: right;\">\n",
              "      <th></th>\n",
              "      <th>asin</th>\n",
              "      <th>title</th>\n",
              "    </tr>\n",
              "  </thead>\n",
              "  <tbody>\n",
              "    <tr>\n",
              "      <th>1046</th>\n",
              "      <td>B0059DLLJC</td>\n",
              "      <td>Snap-on Rubber Coated Case for Apple&amp;reg; iPho...</td>\n",
              "    </tr>\n",
              "    <tr>\n",
              "      <th>1541</th>\n",
              "      <td>B004M5KV3A</td>\n",
              "      <td>OtterBox Universal Defender Case for iPhone 4 ...</td>\n",
              "    </tr>\n",
              "    <tr>\n",
              "      <th>532</th>\n",
              "      <td>B005JHIYLG</td>\n",
              "      <td>Aimo Wireless Ip-case Premium Chrome Aluminum ...</td>\n",
              "    </tr>\n",
              "    <tr>\n",
              "      <th>542</th>\n",
              "      <td>B005LUBUT4</td>\n",
              "      <td>Carrying Case for iPhone 4 - Non-Retail Packag...</td>\n",
              "    </tr>\n",
              "    <tr>\n",
              "      <th>154</th>\n",
              "      <td>B0030C4K8I</td>\n",
              "      <td>Motorola H720 Black Bluetooth Headset - Retail...</td>\n",
              "    </tr>\n",
              "  </tbody>\n",
              "</table>\n",
              "</div>"
            ],
            "text/plain": [
              "            asin                                              title\n",
              "1046  B0059DLLJC  Snap-on Rubber Coated Case for Apple&reg; iPho...\n",
              "1541  B004M5KV3A  OtterBox Universal Defender Case for iPhone 4 ...\n",
              "532   B005JHIYLG  Aimo Wireless Ip-case Premium Chrome Aluminum ...\n",
              "542   B005LUBUT4  Carrying Case for iPhone 4 - Non-Retail Packag...\n",
              "154   B0030C4K8I  Motorola H720 Black Bluetooth Headset - Retail..."
            ]
          },
          "metadata": {
            "tags": []
          },
          "execution_count": 70
        }
      ]
    },
    {
      "cell_type": "code",
      "metadata": {
        "colab": {
          "base_uri": "https://localhost:8080/",
          "height": 229
        },
        "id": "EclriMrJJkw1",
        "outputId": "814abecb-258a-4474-ee5b-de063367097c"
      },
      "source": [
        "#recommend for any user\n",
        "recommend_it(preds_df, items_df, df1, 5,'A01038432MVI9JXYTTK5T')"
      ],
      "execution_count": null,
      "outputs": [
        {
          "output_type": "stream",
          "text": [
            "User A01038432MVI9JXYTTK5T has already purchased 2 items.\n",
            "Recommending the highest 5 predicted  items not already purchased.\n"
          ],
          "name": "stdout"
        },
        {
          "output_type": "execute_result",
          "data": {
            "text/html": [
              "<div>\n",
              "<style scoped>\n",
              "    .dataframe tbody tr th:only-of-type {\n",
              "        vertical-align: middle;\n",
              "    }\n",
              "\n",
              "    .dataframe tbody tr th {\n",
              "        vertical-align: top;\n",
              "    }\n",
              "\n",
              "    .dataframe thead th {\n",
              "        text-align: right;\n",
              "    }\n",
              "</style>\n",
              "<table border=\"1\" class=\"dataframe\">\n",
              "  <thead>\n",
              "    <tr style=\"text-align: right;\">\n",
              "      <th></th>\n",
              "      <th>asin</th>\n",
              "      <th>title</th>\n",
              "    </tr>\n",
              "  </thead>\n",
              "  <tbody>\n",
              "    <tr>\n",
              "      <th>1046</th>\n",
              "      <td>B0059DLLJC</td>\n",
              "      <td>Snap-on Rubber Coated Case for Apple&amp;reg; iPho...</td>\n",
              "    </tr>\n",
              "    <tr>\n",
              "      <th>1541</th>\n",
              "      <td>B004M5KV3A</td>\n",
              "      <td>OtterBox Universal Defender Case for iPhone 4 ...</td>\n",
              "    </tr>\n",
              "    <tr>\n",
              "      <th>532</th>\n",
              "      <td>B005JHIYLG</td>\n",
              "      <td>Aimo Wireless Ip-case Premium Chrome Aluminum ...</td>\n",
              "    </tr>\n",
              "    <tr>\n",
              "      <th>542</th>\n",
              "      <td>B005LUBUT4</td>\n",
              "      <td>Carrying Case for iPhone 4 - Non-Retail Packag...</td>\n",
              "    </tr>\n",
              "    <tr>\n",
              "      <th>154</th>\n",
              "      <td>B0030C4K8I</td>\n",
              "      <td>Motorola H720 Black Bluetooth Headset - Retail...</td>\n",
              "    </tr>\n",
              "  </tbody>\n",
              "</table>\n",
              "</div>"
            ],
            "text/plain": [
              "            asin                                              title\n",
              "1046  B0059DLLJC  Snap-on Rubber Coated Case for Apple&reg; iPho...\n",
              "1541  B004M5KV3A  OtterBox Universal Defender Case for iPhone 4 ...\n",
              "532   B005JHIYLG  Aimo Wireless Ip-case Premium Chrome Aluminum ...\n",
              "542   B005LUBUT4  Carrying Case for iPhone 4 - Non-Retail Packag...\n",
              "154   B0030C4K8I  Motorola H720 Black Bluetooth Headset - Retail..."
            ]
          },
          "metadata": {
            "tags": []
          },
          "execution_count": 71
        }
      ]
    }
  ]
}